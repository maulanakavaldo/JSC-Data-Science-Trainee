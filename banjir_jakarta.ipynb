{
 "cells": [
  {
   "attachments": {},
   "cell_type": "markdown",
   "metadata": {},
   "source": [
    "#                            Bencana Banjir di Provinsi DKI Jakarta Tahun 2020\n",
    "\n",
    "Maulana Kavaldo | September 2023\n",
    "\n",
    "https://maulanakavaldo.github.io\n",
    "\n",
    "https://linkedin.com/in/maulana-kavaldo\n",
    "\n",
    "https://www.datascienceportfol.io/maulana_kavaldo\n",
    "\n",
    "PRESENTASI:\n",
    "https://gamma.app/docs/Banjir-di-Jakarta-2020-4tz1pw2cmf29gto\n",
    "\n",
    "TABLEAU PUBLIC:\n",
    "https://public.tableau.com/app/profile/maulana.kavaldo/viz/DashboardBanjirJakartaTahun2020/DashboardBanjirJakarta?publish=yes\n",
    "\n",
    "<!-- <p><img alt=\"Insight logo\" src=\"images/sm-ig.png\" align=\"left\" width=\"25px\" height=\"25px\"></p> -->\n",
    "_______"
   ]
  },
  {
   "attachments": {},
   "cell_type": "markdown",
   "metadata": {},
   "source": [
    "# Dataset\n",
    "\n",
    "### Data Kejadian Bencana Banjir di Provinsi DKI Jakarta Tahun 2020\n",
    "Sumber: https://data.jakarta.go.id/dataset/data-kejadian-bencana-banjir-di-provinsi-dki-jakarta-tahun-2020\n",
    "\n",
    "**Penjelasan mengenai variabel pada dataset ini:**\n",
    "\n",
    "|No | Kolom                       | Keterangan                                                |\n",
    "|---|-----------------------------|-----------------------------------------------------------|\n",
    "|1  | kota_administrasi           | nama kota di Provinsi DKI Jakarta yang terkena dampak banjir |\n",
    "|2  | kecamatan                   | nama kecamatan yang terkena dampak banjir                    |\n",
    "|3  | kelurahan                   | nama kelurahan yang terkena dampak banjir                    |\n",
    "|4  | rw                          | nama RW yang terkena dampak banjir                           |\n",
    "|5  | jumlah_terdampak_rw         | jumlah RW yang terkena dampak banjir                         |\n",
    "|6  | jumlah_terdampak_rt         | jumlah RT yang terkena dampak banjir                         |\n",
    "|7  | jumlah_terdampak_kk         | jumlah kepala keluarga yang terkena dampak banjir            |\n",
    "|8  | jumlah_terdampak_jiwa       | jumlah orang yang terkena dampak banjir                      |\n",
    "|9  | ketinggian_air              | ketinggian air pada saat kejadian banjir (cm)                |\n",
    "|10 | tanggal_kejadian            | tanggal kejadian banjir                                      |\n",
    "|11 | lama_genangan               | lama genangan saat banjir (hari)                             |\n",
    "|12 | jumlah_meninggal            | jumlah korban meninggal saat kejadian banjir                 |\n",
    "|13 | jumlah_hilang               | jumlah korban hilang saat kejadian banjir                    |\n",
    "|14 | jumlah_luka_berat           | jumlah korban luka berat saat kejadian banjir                |\n",
    "|15 | jumlah_luka_ringan          | jumlah korban luka ringan saat kejadian banjir               |\n",
    "|16 | jumlah_pengungsi_tertinggi  | jumlah pengungsi banjir                                      |\n",
    "|17 | jumlah_tempat_pengungsian   | jumlah tempat pengungsian korban banjir                      |\n",
    "|18 | nilai_kerugian              | jumlah nilai kerugian akibat kejadian banjir                 |"
   ]
  },
  {
   "attachments": {},
   "cell_type": "markdown",
   "metadata": {},
   "source": [
    "## Library"
   ]
  },
  {
   "cell_type": "code",
   "execution_count": 233,
   "metadata": {},
   "outputs": [],
   "source": [
    "import pandas as pd\n",
    "import re\n",
    "import numpy as np\n",
    "import plotly.express as px\n",
    "import matplotlib.pyplot as plt\n",
    "import plotly.express as px\n",
    "import plotly.graph_objects as go\n",
    "\n",
    "from sklearn.metrics import r2_score\n",
    "from sklearn.preprocessing import MinMaxScaler, StandardScaler\n",
    "from sklearn.linear_model import LinearRegression\n",
    "from sklearn.cluster import KMeans\n",
    "from sklearn.model_selection import train_test_split\n",
    "from sklearn.metrics import mean_squared_error, r2_score"
   ]
  },
  {
   "attachments": {},
   "cell_type": "markdown",
   "metadata": {},
   "source": [
    "## Import Data"
   ]
  },
  {
   "cell_type": "code",
   "execution_count": 234,
   "metadata": {},
   "outputs": [],
   "source": [
    "df_2020_1 = pd.read_csv('dataset_2020/data-kejadian-bencana-banjir-di-provinsi-dki-jakarta-tahun-2020-bulan-januari.csv') \n",
    "df_2020_2 = pd.read_csv('dataset_2020/data-kejadian-bencana-banjir-di-provinsi-dki-jakarta-tahun-2020-bulan-februari.csv') \n",
    "df_2020_3 = pd.read_csv('dataset_2020/data-kejadian-bencana-banjir-di-provinsi-dki-jakarta-tahun-2020-bulan-maret.csv')\n",
    "df_2020_4 = pd.read_csv('dataset_2020/data-kejadian-bencana-banjir-di-provinsi-dki-jakarta-tahun-2020-bulan-april.csv') \n",
    "df_2020_5 = pd.read_csv('dataset_2020/data-kejadian-bencana-banjir-di-provinsi-dki-jakarta-tahun-2020-bulan-mei.csv') \n",
    "df_2020_6 = pd.read_csv('dataset_2020/data-kejadian-bencana-banjir-di-provinsi-dki-jakarta-tahun-2020-bulan-juni.csv') \n",
    "df_2020_7 = pd.read_csv('dataset_2020/data-kejadian-bencana-banjir-di-provinsi-dki-jakarta-tahun-2020-bulan-juli.csv') \n",
    "df_2020_8 = pd.read_csv('dataset_2020/data-kejadian-bencana-banjir-di-provinsi-dki-jakarta-tahun-2020-bulan-agustus.csv') \n",
    "df_2020_9 = pd.read_csv('dataset_2020/data-kejadian-bencana-banjir-di-provinsi-dki-jakarta-tahun-2020-bulan-september.csv') \n",
    "df_2020_10 = pd.read_csv('dataset_2020/data-kejadian-bencana-banjir-di-provinsi-dki-jakarta-tahun-2020-bulan-oktober.csv') \n",
    "df_2020_11 = pd.read_csv('dataset_2020/data-kejadian-bencana-banjir-di-provinsi-dki-jakarta-tahun-2020-bulan-november.csv') \n",
    "df_2020_12 = pd.read_csv('dataset_2020/data-kejadian-bencana-banjir-di-provinsi-dki-jakarta-tahun-2020-bulan-desember.csv') "
   ]
  },
  {
   "cell_type": "code",
   "execution_count": 235,
   "metadata": {},
   "outputs": [],
   "source": [
    "# # List nama bulan\n",
    "# bulan = ['januari', 'februari', 'maret', 'april', 'mei', 'juni', 'juli', 'agustus', 'september', 'oktober', 'november', 'desember']\n",
    "\n",
    "# # Dictionary untuk menyimpan DataFrames\n",
    "# dataframes = {}\n",
    "\n",
    "# # Loop untuk mengimport data\n",
    "# for i, nama_bulan in enumerate(bulan):\n",
    "#     file_path = f'dataset_2020/data-kejadian-bencana-banjir-di-provinsi-dki-jakarta-tahun-2020-bulan-{nama_bulan}.csv'\n",
    "#     df_key = f'df_2020_{i + 1}'\n",
    "#     dataframes[df_key] = pd.read_csv(file_path)\n"
   ]
  },
  {
   "cell_type": "code",
   "execution_count": 236,
   "metadata": {},
   "outputs": [
    {
     "data": {
      "text/html": [
       "<div>\n",
       "<style scoped>\n",
       "    .dataframe tbody tr th:only-of-type {\n",
       "        vertical-align: middle;\n",
       "    }\n",
       "\n",
       "    .dataframe tbody tr th {\n",
       "        vertical-align: top;\n",
       "    }\n",
       "\n",
       "    .dataframe thead th {\n",
       "        text-align: right;\n",
       "    }\n",
       "</style>\n",
       "<table border=\"1\" class=\"dataframe\">\n",
       "  <thead>\n",
       "    <tr style=\"text-align: right;\">\n",
       "      <th></th>\n",
       "      <th>kota_administrasi</th>\n",
       "      <th>kecamatan</th>\n",
       "      <th>kelurahan</th>\n",
       "      <th>rw</th>\n",
       "      <th>jumlah_terdampak_rw</th>\n",
       "      <th>jumlah_terdampak_rt</th>\n",
       "      <th>jumlah_terdampak_kk</th>\n",
       "      <th>jumlah_terdampak_jiwa</th>\n",
       "      <th>ketinggian_air</th>\n",
       "      <th>tanggal_kejadian</th>\n",
       "      <th>lama_genangan</th>\n",
       "      <th>jumlah_meninggal</th>\n",
       "      <th>jumlah_hilang</th>\n",
       "      <th>jumlah_luka_berat</th>\n",
       "      <th>jumlah_luka_ringan</th>\n",
       "      <th>jumlah_pengungsi_tertinggi</th>\n",
       "      <th>jumlah_tempat_pengungsian</th>\n",
       "      <th>nilai_kerugian</th>\n",
       "    </tr>\n",
       "  </thead>\n",
       "  <tbody>\n",
       "    <tr>\n",
       "      <th>0</th>\n",
       "      <td>Jakarta Pusat</td>\n",
       "      <td>JOHAR BARU</td>\n",
       "      <td>JOHAR BARU</td>\n",
       "      <td>RW 01, 02, 06, 08</td>\n",
       "      <td>4</td>\n",
       "      <td>4</td>\n",
       "      <td>35</td>\n",
       "      <td>140</td>\n",
       "      <td>10 s/d 30 cm</td>\n",
       "      <td>tgl. 01 Januari</td>\n",
       "      <td>0</td>\n",
       "      <td>0</td>\n",
       "      <td>0</td>\n",
       "      <td>0</td>\n",
       "      <td>140</td>\n",
       "      <td>1</td>\n",
       "      <td>0</td>\n",
       "      <td>0</td>\n",
       "    </tr>\n",
       "    <tr>\n",
       "      <th>1</th>\n",
       "      <td>Jakarta Pusat</td>\n",
       "      <td>KEMAYORAN</td>\n",
       "      <td>GUNUNG SAHARI SELATAN</td>\n",
       "      <td>RW 01, 02, 07, 08</td>\n",
       "      <td>4</td>\n",
       "      <td>4</td>\n",
       "      <td>0</td>\n",
       "      <td>0</td>\n",
       "      <td>10 s/d 70 cm</td>\n",
       "      <td>tgl. 01 Januari</td>\n",
       "      <td>0</td>\n",
       "      <td>0</td>\n",
       "      <td>0</td>\n",
       "      <td>0</td>\n",
       "      <td>0</td>\n",
       "      <td>0</td>\n",
       "      <td>0</td>\n",
       "      <td>0</td>\n",
       "    </tr>\n",
       "    <tr>\n",
       "      <th>2</th>\n",
       "      <td>Jakarta Pusat</td>\n",
       "      <td>KEMAYORAN</td>\n",
       "      <td>SERDANG</td>\n",
       "      <td>RW 01, 02, 06, 07</td>\n",
       "      <td>4</td>\n",
       "      <td>4</td>\n",
       "      <td>0</td>\n",
       "      <td>0</td>\n",
       "      <td>10 s/d 30 cm</td>\n",
       "      <td>tgl. 01 Januari</td>\n",
       "      <td>1</td>\n",
       "      <td>0</td>\n",
       "      <td>0</td>\n",
       "      <td>0</td>\n",
       "      <td>0</td>\n",
       "      <td>0</td>\n",
       "      <td>0</td>\n",
       "      <td>0</td>\n",
       "    </tr>\n",
       "    <tr>\n",
       "      <th>3</th>\n",
       "      <td>Jakarta Pusat</td>\n",
       "      <td>SAWAH BESAR</td>\n",
       "      <td>PASAR BARU</td>\n",
       "      <td>RW 02, 03, 04, 05, 06, 07, 08</td>\n",
       "      <td>7</td>\n",
       "      <td>7</td>\n",
       "      <td>155</td>\n",
       "      <td>625</td>\n",
       "      <td>10 s/d 70 cm</td>\n",
       "      <td>tgl. 01 Januari</td>\n",
       "      <td>0</td>\n",
       "      <td>0</td>\n",
       "      <td>0</td>\n",
       "      <td>0</td>\n",
       "      <td>625</td>\n",
       "      <td>5</td>\n",
       "      <td>0</td>\n",
       "      <td>0</td>\n",
       "    </tr>\n",
       "    <tr>\n",
       "      <th>4</th>\n",
       "      <td>Jakarta Pusat</td>\n",
       "      <td>TANAH ABANG</td>\n",
       "      <td>BENDUNGAN HILIR</td>\n",
       "      <td>RW 07, 09</td>\n",
       "      <td>2</td>\n",
       "      <td>2</td>\n",
       "      <td>52</td>\n",
       "      <td>195</td>\n",
       "      <td>31 s/d 70 cm</td>\n",
       "      <td>tgl. 01 Januari</td>\n",
       "      <td>0</td>\n",
       "      <td>0</td>\n",
       "      <td>0</td>\n",
       "      <td>0</td>\n",
       "      <td>195</td>\n",
       "      <td>6</td>\n",
       "      <td>0</td>\n",
       "      <td>0</td>\n",
       "    </tr>\n",
       "  </tbody>\n",
       "</table>\n",
       "</div>"
      ],
      "text/plain": [
       "  kota_administrasi    kecamatan              kelurahan  \\\n",
       "0     Jakarta Pusat   JOHAR BARU             JOHAR BARU   \n",
       "1     Jakarta Pusat    KEMAYORAN  GUNUNG SAHARI SELATAN   \n",
       "2     Jakarta Pusat    KEMAYORAN                SERDANG   \n",
       "3     Jakarta Pusat  SAWAH BESAR             PASAR BARU   \n",
       "4     Jakarta Pusat  TANAH ABANG        BENDUNGAN HILIR   \n",
       "\n",
       "                              rw  jumlah_terdampak_rw  jumlah_terdampak_rt  \\\n",
       "0              RW 01, 02, 06, 08                    4                    4   \n",
       "1              RW 01, 02, 07, 08                    4                    4   \n",
       "2              RW 01, 02, 06, 07                    4                    4   \n",
       "3  RW 02, 03, 04, 05, 06, 07, 08                    7                    7   \n",
       "4                      RW 07, 09                    2                    2   \n",
       "\n",
       "   jumlah_terdampak_kk  jumlah_terdampak_jiwa ketinggian_air tanggal_kejadian  \\\n",
       "0                   35                    140   10 s/d 30 cm  tgl. 01 Januari   \n",
       "1                    0                      0   10 s/d 70 cm  tgl. 01 Januari   \n",
       "2                    0                      0   10 s/d 30 cm  tgl. 01 Januari   \n",
       "3                  155                    625   10 s/d 70 cm  tgl. 01 Januari   \n",
       "4                   52                    195   31 s/d 70 cm  tgl. 01 Januari   \n",
       "\n",
       "   lama_genangan  jumlah_meninggal  jumlah_hilang  jumlah_luka_berat  \\\n",
       "0              0                 0              0                  0   \n",
       "1              0                 0              0                  0   \n",
       "2              1                 0              0                  0   \n",
       "3              0                 0              0                  0   \n",
       "4              0                 0              0                  0   \n",
       "\n",
       "   jumlah_luka_ringan  jumlah_pengungsi_tertinggi  jumlah_tempat_pengungsian  \\\n",
       "0                 140                           1                          0   \n",
       "1                   0                           0                          0   \n",
       "2                   0                           0                          0   \n",
       "3                 625                           5                          0   \n",
       "4                 195                           6                          0   \n",
       "\n",
       "   nilai_kerugian  \n",
       "0               0  \n",
       "1               0  \n",
       "2               0  \n",
       "3               0  \n",
       "4               0  "
      ]
     },
     "execution_count": 236,
     "metadata": {},
     "output_type": "execute_result"
    }
   ],
   "source": [
    "df_2020_1.head()"
   ]
  },
  {
   "cell_type": "code",
   "execution_count": 237,
   "metadata": {},
   "outputs": [
    {
     "name": "stdout",
     "output_type": "stream",
     "text": [
      "<class 'pandas.core.frame.DataFrame'>\n",
      "RangeIndex: 150 entries, 0 to 149\n",
      "Data columns (total 18 columns):\n",
      " #   Column                      Non-Null Count  Dtype \n",
      "---  ------                      --------------  ----- \n",
      " 0   kota_administrasi           150 non-null    object\n",
      " 1   kecamatan                   150 non-null    object\n",
      " 2   kelurahan                   150 non-null    object\n",
      " 3   rw                          150 non-null    object\n",
      " 4   jumlah_terdampak_rw         150 non-null    int64 \n",
      " 5   jumlah_terdampak_rt         150 non-null    int64 \n",
      " 6   jumlah_terdampak_kk         150 non-null    int64 \n",
      " 7   jumlah_terdampak_jiwa       150 non-null    int64 \n",
      " 8   ketinggian_air              150 non-null    object\n",
      " 9   tanggal_kejadian            150 non-null    object\n",
      " 10  lama_genangan               150 non-null    int64 \n",
      " 11  jumlah_meninggal            150 non-null    int64 \n",
      " 12  jumlah_hilang               150 non-null    int64 \n",
      " 13  jumlah_luka_berat           150 non-null    int64 \n",
      " 14  jumlah_luka_ringan          150 non-null    int64 \n",
      " 15  jumlah_pengungsi_tertinggi  150 non-null    int64 \n",
      " 16  jumlah_tempat_pengungsian   150 non-null    int64 \n",
      " 17  nilai_kerugian              150 non-null    int64 \n",
      "dtypes: int64(12), object(6)\n",
      "memory usage: 21.2+ KB\n"
     ]
    }
   ],
   "source": [
    "df_2020_1.info()"
   ]
  },
  {
   "cell_type": "code",
   "execution_count": 238,
   "metadata": {},
   "outputs": [
    {
     "data": {
      "text/html": [
       "<div>\n",
       "<style scoped>\n",
       "    .dataframe tbody tr th:only-of-type {\n",
       "        vertical-align: middle;\n",
       "    }\n",
       "\n",
       "    .dataframe tbody tr th {\n",
       "        vertical-align: top;\n",
       "    }\n",
       "\n",
       "    .dataframe thead th {\n",
       "        text-align: right;\n",
       "    }\n",
       "</style>\n",
       "<table border=\"1\" class=\"dataframe\">\n",
       "  <thead>\n",
       "    <tr style=\"text-align: right;\">\n",
       "      <th></th>\n",
       "      <th>jumlah_terdampak_rw</th>\n",
       "      <th>jumlah_terdampak_rt</th>\n",
       "      <th>jumlah_terdampak_kk</th>\n",
       "      <th>jumlah_terdampak_jiwa</th>\n",
       "      <th>lama_genangan</th>\n",
       "      <th>jumlah_meninggal</th>\n",
       "      <th>jumlah_hilang</th>\n",
       "      <th>jumlah_luka_berat</th>\n",
       "      <th>jumlah_luka_ringan</th>\n",
       "      <th>jumlah_pengungsi_tertinggi</th>\n",
       "      <th>jumlah_tempat_pengungsian</th>\n",
       "      <th>nilai_kerugian</th>\n",
       "    </tr>\n",
       "  </thead>\n",
       "  <tbody>\n",
       "    <tr>\n",
       "      <th>count</th>\n",
       "      <td>150.000000</td>\n",
       "      <td>150.000000</td>\n",
       "      <td>150.000000</td>\n",
       "      <td>150.000000</td>\n",
       "      <td>150.000000</td>\n",
       "      <td>150.0</td>\n",
       "      <td>150.0</td>\n",
       "      <td>150.0</td>\n",
       "      <td>150.000000</td>\n",
       "      <td>150.000000</td>\n",
       "      <td>150.0</td>\n",
       "      <td>150.0</td>\n",
       "    </tr>\n",
       "    <tr>\n",
       "      <th>mean</th>\n",
       "      <td>4.340000</td>\n",
       "      <td>6.693333</td>\n",
       "      <td>147.300000</td>\n",
       "      <td>553.960000</td>\n",
       "      <td>0.086667</td>\n",
       "      <td>0.0</td>\n",
       "      <td>0.0</td>\n",
       "      <td>0.0</td>\n",
       "      <td>481.666667</td>\n",
       "      <td>3.173333</td>\n",
       "      <td>0.0</td>\n",
       "      <td>0.0</td>\n",
       "    </tr>\n",
       "    <tr>\n",
       "      <th>std</th>\n",
       "      <td>2.976034</td>\n",
       "      <td>7.268528</td>\n",
       "      <td>240.698696</td>\n",
       "      <td>881.477846</td>\n",
       "      <td>0.305139</td>\n",
       "      <td>0.0</td>\n",
       "      <td>0.0</td>\n",
       "      <td>0.0</td>\n",
       "      <td>764.574380</td>\n",
       "      <td>4.346945</td>\n",
       "      <td>0.0</td>\n",
       "      <td>0.0</td>\n",
       "    </tr>\n",
       "    <tr>\n",
       "      <th>min</th>\n",
       "      <td>1.000000</td>\n",
       "      <td>1.000000</td>\n",
       "      <td>0.000000</td>\n",
       "      <td>0.000000</td>\n",
       "      <td>0.000000</td>\n",
       "      <td>0.0</td>\n",
       "      <td>0.0</td>\n",
       "      <td>0.0</td>\n",
       "      <td>0.000000</td>\n",
       "      <td>0.000000</td>\n",
       "      <td>0.0</td>\n",
       "      <td>0.0</td>\n",
       "    </tr>\n",
       "    <tr>\n",
       "      <th>25%</th>\n",
       "      <td>2.000000</td>\n",
       "      <td>2.000000</td>\n",
       "      <td>4.250000</td>\n",
       "      <td>17.000000</td>\n",
       "      <td>0.000000</td>\n",
       "      <td>0.0</td>\n",
       "      <td>0.0</td>\n",
       "      <td>0.0</td>\n",
       "      <td>0.000000</td>\n",
       "      <td>0.000000</td>\n",
       "      <td>0.0</td>\n",
       "      <td>0.0</td>\n",
       "    </tr>\n",
       "    <tr>\n",
       "      <th>50%</th>\n",
       "      <td>4.000000</td>\n",
       "      <td>5.000000</td>\n",
       "      <td>51.000000</td>\n",
       "      <td>192.500000</td>\n",
       "      <td>0.000000</td>\n",
       "      <td>0.0</td>\n",
       "      <td>0.0</td>\n",
       "      <td>0.0</td>\n",
       "      <td>150.000000</td>\n",
       "      <td>2.000000</td>\n",
       "      <td>0.0</td>\n",
       "      <td>0.0</td>\n",
       "    </tr>\n",
       "    <tr>\n",
       "      <th>75%</th>\n",
       "      <td>6.000000</td>\n",
       "      <td>7.000000</td>\n",
       "      <td>167.500000</td>\n",
       "      <td>693.750000</td>\n",
       "      <td>0.000000</td>\n",
       "      <td>0.0</td>\n",
       "      <td>0.0</td>\n",
       "      <td>0.0</td>\n",
       "      <td>572.000000</td>\n",
       "      <td>5.000000</td>\n",
       "      <td>0.0</td>\n",
       "      <td>0.0</td>\n",
       "    </tr>\n",
       "    <tr>\n",
       "      <th>max</th>\n",
       "      <td>15.000000</td>\n",
       "      <td>38.000000</td>\n",
       "      <td>1140.000000</td>\n",
       "      <td>4560.000000</td>\n",
       "      <td>2.000000</td>\n",
       "      <td>0.0</td>\n",
       "      <td>0.0</td>\n",
       "      <td>0.0</td>\n",
       "      <td>4461.000000</td>\n",
       "      <td>31.000000</td>\n",
       "      <td>0.0</td>\n",
       "      <td>0.0</td>\n",
       "    </tr>\n",
       "  </tbody>\n",
       "</table>\n",
       "</div>"
      ],
      "text/plain": [
       "       jumlah_terdampak_rw  jumlah_terdampak_rt  jumlah_terdampak_kk  \\\n",
       "count           150.000000           150.000000           150.000000   \n",
       "mean              4.340000             6.693333           147.300000   \n",
       "std               2.976034             7.268528           240.698696   \n",
       "min               1.000000             1.000000             0.000000   \n",
       "25%               2.000000             2.000000             4.250000   \n",
       "50%               4.000000             5.000000            51.000000   \n",
       "75%               6.000000             7.000000           167.500000   \n",
       "max              15.000000            38.000000          1140.000000   \n",
       "\n",
       "       jumlah_terdampak_jiwa  lama_genangan  jumlah_meninggal  jumlah_hilang  \\\n",
       "count             150.000000     150.000000             150.0          150.0   \n",
       "mean              553.960000       0.086667               0.0            0.0   \n",
       "std               881.477846       0.305139               0.0            0.0   \n",
       "min                 0.000000       0.000000               0.0            0.0   \n",
       "25%                17.000000       0.000000               0.0            0.0   \n",
       "50%               192.500000       0.000000               0.0            0.0   \n",
       "75%               693.750000       0.000000               0.0            0.0   \n",
       "max              4560.000000       2.000000               0.0            0.0   \n",
       "\n",
       "       jumlah_luka_berat  jumlah_luka_ringan  jumlah_pengungsi_tertinggi  \\\n",
       "count              150.0          150.000000                  150.000000   \n",
       "mean                 0.0          481.666667                    3.173333   \n",
       "std                  0.0          764.574380                    4.346945   \n",
       "min                  0.0            0.000000                    0.000000   \n",
       "25%                  0.0            0.000000                    0.000000   \n",
       "50%                  0.0          150.000000                    2.000000   \n",
       "75%                  0.0          572.000000                    5.000000   \n",
       "max                  0.0         4461.000000                   31.000000   \n",
       "\n",
       "       jumlah_tempat_pengungsian  nilai_kerugian  \n",
       "count                      150.0           150.0  \n",
       "mean                         0.0             0.0  \n",
       "std                          0.0             0.0  \n",
       "min                          0.0             0.0  \n",
       "25%                          0.0             0.0  \n",
       "50%                          0.0             0.0  \n",
       "75%                          0.0             0.0  \n",
       "max                          0.0             0.0  "
      ]
     },
     "execution_count": 238,
     "metadata": {},
     "output_type": "execute_result"
    }
   ],
   "source": [
    "df_2020_1.describe()"
   ]
  },
  {
   "attachments": {},
   "cell_type": "markdown",
   "metadata": {},
   "source": [
    "**Menambahkan kolom tanggal untuk membedakan data banjir setiap bulannya**"
   ]
  },
  {
   "cell_type": "code",
   "execution_count": 239,
   "metadata": {},
   "outputs": [],
   "source": [
    "# df_2020_1.insert(0, 'tanggal', '2020-01-30') \n",
    "\n",
    "for month in range(1, 13):\n",
    "    if month == 2:\n",
    "        date_str = f'2020-02-28'  # Untuk bulan Februari\n",
    "    else:\n",
    "        month_str = str(month).zfill(2)\n",
    "        date_str = f'2020-{month_str}-30'\n",
    "    \n",
    "    df_name = f'df_2020_{month}'\n",
    "    df = globals()[df_name]\n",
    "    df.insert(0, 'tanggal', date_str)"
   ]
  },
  {
   "cell_type": "code",
   "execution_count": 240,
   "metadata": {},
   "outputs": [
    {
     "data": {
      "text/html": [
       "<div>\n",
       "<style scoped>\n",
       "    .dataframe tbody tr th:only-of-type {\n",
       "        vertical-align: middle;\n",
       "    }\n",
       "\n",
       "    .dataframe tbody tr th {\n",
       "        vertical-align: top;\n",
       "    }\n",
       "\n",
       "    .dataframe thead th {\n",
       "        text-align: right;\n",
       "    }\n",
       "</style>\n",
       "<table border=\"1\" class=\"dataframe\">\n",
       "  <thead>\n",
       "    <tr style=\"text-align: right;\">\n",
       "      <th></th>\n",
       "      <th>tanggal</th>\n",
       "      <th>kota_administrasi</th>\n",
       "      <th>kecamatan</th>\n",
       "      <th>kelurahan</th>\n",
       "      <th>rw</th>\n",
       "      <th>jumlah_terdampak_rw</th>\n",
       "      <th>jumlah_terdampak_rt</th>\n",
       "      <th>jumlah_terdampak_kk</th>\n",
       "      <th>jumlah_terdampak_jiwa</th>\n",
       "      <th>ketinggian_air</th>\n",
       "      <th>tanggal_kejadian</th>\n",
       "      <th>lama_genangan</th>\n",
       "      <th>jumlah_meninggal</th>\n",
       "      <th>jumlah_hilang</th>\n",
       "      <th>jumlah_luka_berat</th>\n",
       "      <th>jumlah_luka_ringan</th>\n",
       "      <th>jumlah_pengungsi_tertinggi</th>\n",
       "      <th>jumlah_tempat_pengungsian</th>\n",
       "      <th>nilai_kerugian</th>\n",
       "    </tr>\n",
       "  </thead>\n",
       "  <tbody>\n",
       "    <tr>\n",
       "      <th>0</th>\n",
       "      <td>2020-01-30</td>\n",
       "      <td>Jakarta Pusat</td>\n",
       "      <td>JOHAR BARU</td>\n",
       "      <td>JOHAR BARU</td>\n",
       "      <td>RW 01, 02, 06, 08</td>\n",
       "      <td>4</td>\n",
       "      <td>4</td>\n",
       "      <td>35</td>\n",
       "      <td>140</td>\n",
       "      <td>10 s/d 30 cm</td>\n",
       "      <td>tgl. 01 Januari</td>\n",
       "      <td>0</td>\n",
       "      <td>0</td>\n",
       "      <td>0</td>\n",
       "      <td>0</td>\n",
       "      <td>140</td>\n",
       "      <td>1</td>\n",
       "      <td>0</td>\n",
       "      <td>0</td>\n",
       "    </tr>\n",
       "    <tr>\n",
       "      <th>1</th>\n",
       "      <td>2020-01-30</td>\n",
       "      <td>Jakarta Pusat</td>\n",
       "      <td>KEMAYORAN</td>\n",
       "      <td>GUNUNG SAHARI SELATAN</td>\n",
       "      <td>RW 01, 02, 07, 08</td>\n",
       "      <td>4</td>\n",
       "      <td>4</td>\n",
       "      <td>0</td>\n",
       "      <td>0</td>\n",
       "      <td>10 s/d 70 cm</td>\n",
       "      <td>tgl. 01 Januari</td>\n",
       "      <td>0</td>\n",
       "      <td>0</td>\n",
       "      <td>0</td>\n",
       "      <td>0</td>\n",
       "      <td>0</td>\n",
       "      <td>0</td>\n",
       "      <td>0</td>\n",
       "      <td>0</td>\n",
       "    </tr>\n",
       "    <tr>\n",
       "      <th>2</th>\n",
       "      <td>2020-01-30</td>\n",
       "      <td>Jakarta Pusat</td>\n",
       "      <td>KEMAYORAN</td>\n",
       "      <td>SERDANG</td>\n",
       "      <td>RW 01, 02, 06, 07</td>\n",
       "      <td>4</td>\n",
       "      <td>4</td>\n",
       "      <td>0</td>\n",
       "      <td>0</td>\n",
       "      <td>10 s/d 30 cm</td>\n",
       "      <td>tgl. 01 Januari</td>\n",
       "      <td>1</td>\n",
       "      <td>0</td>\n",
       "      <td>0</td>\n",
       "      <td>0</td>\n",
       "      <td>0</td>\n",
       "      <td>0</td>\n",
       "      <td>0</td>\n",
       "      <td>0</td>\n",
       "    </tr>\n",
       "    <tr>\n",
       "      <th>3</th>\n",
       "      <td>2020-01-30</td>\n",
       "      <td>Jakarta Pusat</td>\n",
       "      <td>SAWAH BESAR</td>\n",
       "      <td>PASAR BARU</td>\n",
       "      <td>RW 02, 03, 04, 05, 06, 07, 08</td>\n",
       "      <td>7</td>\n",
       "      <td>7</td>\n",
       "      <td>155</td>\n",
       "      <td>625</td>\n",
       "      <td>10 s/d 70 cm</td>\n",
       "      <td>tgl. 01 Januari</td>\n",
       "      <td>0</td>\n",
       "      <td>0</td>\n",
       "      <td>0</td>\n",
       "      <td>0</td>\n",
       "      <td>625</td>\n",
       "      <td>5</td>\n",
       "      <td>0</td>\n",
       "      <td>0</td>\n",
       "    </tr>\n",
       "    <tr>\n",
       "      <th>4</th>\n",
       "      <td>2020-01-30</td>\n",
       "      <td>Jakarta Pusat</td>\n",
       "      <td>TANAH ABANG</td>\n",
       "      <td>BENDUNGAN HILIR</td>\n",
       "      <td>RW 07, 09</td>\n",
       "      <td>2</td>\n",
       "      <td>2</td>\n",
       "      <td>52</td>\n",
       "      <td>195</td>\n",
       "      <td>31 s/d 70 cm</td>\n",
       "      <td>tgl. 01 Januari</td>\n",
       "      <td>0</td>\n",
       "      <td>0</td>\n",
       "      <td>0</td>\n",
       "      <td>0</td>\n",
       "      <td>195</td>\n",
       "      <td>6</td>\n",
       "      <td>0</td>\n",
       "      <td>0</td>\n",
       "    </tr>\n",
       "  </tbody>\n",
       "</table>\n",
       "</div>"
      ],
      "text/plain": [
       "      tanggal kota_administrasi    kecamatan              kelurahan  \\\n",
       "0  2020-01-30     Jakarta Pusat   JOHAR BARU             JOHAR BARU   \n",
       "1  2020-01-30     Jakarta Pusat    KEMAYORAN  GUNUNG SAHARI SELATAN   \n",
       "2  2020-01-30     Jakarta Pusat    KEMAYORAN                SERDANG   \n",
       "3  2020-01-30     Jakarta Pusat  SAWAH BESAR             PASAR BARU   \n",
       "4  2020-01-30     Jakarta Pusat  TANAH ABANG        BENDUNGAN HILIR   \n",
       "\n",
       "                              rw  jumlah_terdampak_rw  jumlah_terdampak_rt  \\\n",
       "0              RW 01, 02, 06, 08                    4                    4   \n",
       "1              RW 01, 02, 07, 08                    4                    4   \n",
       "2              RW 01, 02, 06, 07                    4                    4   \n",
       "3  RW 02, 03, 04, 05, 06, 07, 08                    7                    7   \n",
       "4                      RW 07, 09                    2                    2   \n",
       "\n",
       "   jumlah_terdampak_kk  jumlah_terdampak_jiwa ketinggian_air tanggal_kejadian  \\\n",
       "0                   35                    140   10 s/d 30 cm  tgl. 01 Januari   \n",
       "1                    0                      0   10 s/d 70 cm  tgl. 01 Januari   \n",
       "2                    0                      0   10 s/d 30 cm  tgl. 01 Januari   \n",
       "3                  155                    625   10 s/d 70 cm  tgl. 01 Januari   \n",
       "4                   52                    195   31 s/d 70 cm  tgl. 01 Januari   \n",
       "\n",
       "   lama_genangan  jumlah_meninggal  jumlah_hilang  jumlah_luka_berat  \\\n",
       "0              0                 0              0                  0   \n",
       "1              0                 0              0                  0   \n",
       "2              1                 0              0                  0   \n",
       "3              0                 0              0                  0   \n",
       "4              0                 0              0                  0   \n",
       "\n",
       "   jumlah_luka_ringan  jumlah_pengungsi_tertinggi  jumlah_tempat_pengungsian  \\\n",
       "0                 140                           1                          0   \n",
       "1                   0                           0                          0   \n",
       "2                   0                           0                          0   \n",
       "3                 625                           5                          0   \n",
       "4                 195                           6                          0   \n",
       "\n",
       "   nilai_kerugian  \n",
       "0               0  \n",
       "1               0  \n",
       "2               0  \n",
       "3               0  \n",
       "4               0  "
      ]
     },
     "execution_count": 240,
     "metadata": {},
     "output_type": "execute_result"
    }
   ],
   "source": [
    "df_2020_1.head()"
   ]
  },
  {
   "cell_type": "code",
   "execution_count": 241,
   "metadata": {},
   "outputs": [
    {
     "data": {
      "text/html": [
       "<div>\n",
       "<style scoped>\n",
       "    .dataframe tbody tr th:only-of-type {\n",
       "        vertical-align: middle;\n",
       "    }\n",
       "\n",
       "    .dataframe tbody tr th {\n",
       "        vertical-align: top;\n",
       "    }\n",
       "\n",
       "    .dataframe thead th {\n",
       "        text-align: right;\n",
       "    }\n",
       "</style>\n",
       "<table border=\"1\" class=\"dataframe\">\n",
       "  <thead>\n",
       "    <tr style=\"text-align: right;\">\n",
       "      <th></th>\n",
       "      <th>tanggal</th>\n",
       "      <th>kota_administrasi</th>\n",
       "      <th>kecamatan</th>\n",
       "      <th>kelurahan</th>\n",
       "      <th>rw</th>\n",
       "      <th>jumlah_terdampak_rw</th>\n",
       "      <th>jumlah_terdampak_rt</th>\n",
       "      <th>jumlah_terdampak_kk</th>\n",
       "      <th>jumlah_terdampak_jiwa</th>\n",
       "      <th>ketinggian_air</th>\n",
       "      <th>tanggal_kejadian</th>\n",
       "      <th>lama_genangan</th>\n",
       "      <th>jumlah_meninggal</th>\n",
       "      <th>jumlah_hilang</th>\n",
       "      <th>jumlah_luka_berat</th>\n",
       "      <th>jumlah_luka_ringan</th>\n",
       "      <th>jumlah_pengungsi_tertinggi</th>\n",
       "      <th>jumlah_tempat_pengungsian</th>\n",
       "      <th>nilai_kerugian</th>\n",
       "    </tr>\n",
       "  </thead>\n",
       "  <tbody>\n",
       "    <tr>\n",
       "      <th>0</th>\n",
       "      <td>2020-02-28</td>\n",
       "      <td>Jakarta Pusat</td>\n",
       "      <td>JOHAR BARU</td>\n",
       "      <td>JOHAR BARU</td>\n",
       "      <td>rw 05, 09,</td>\n",
       "      <td>2</td>\n",
       "      <td>2</td>\n",
       "      <td>0</td>\n",
       "      <td>0</td>\n",
       "      <td>30 s/d 50 cm</td>\n",
       "      <td>23, 25  februari</td>\n",
       "      <td>0</td>\n",
       "      <td>0</td>\n",
       "      <td>0</td>\n",
       "      <td>0</td>\n",
       "      <td>0</td>\n",
       "      <td>0</td>\n",
       "      <td>0</td>\n",
       "      <td>0</td>\n",
       "    </tr>\n",
       "    <tr>\n",
       "      <th>1</th>\n",
       "      <td>2020-02-28</td>\n",
       "      <td>Jakarta Pusat</td>\n",
       "      <td>JOHAR BARU</td>\n",
       "      <td>KAMPUNG RAWA</td>\n",
       "      <td>rw 06</td>\n",
       "      <td>1</td>\n",
       "      <td>2</td>\n",
       "      <td>0</td>\n",
       "      <td>0</td>\n",
       "      <td>20 cm</td>\n",
       "      <td>23 februari</td>\n",
       "      <td>0</td>\n",
       "      <td>0</td>\n",
       "      <td>0</td>\n",
       "      <td>0</td>\n",
       "      <td>0</td>\n",
       "      <td>0</td>\n",
       "      <td>0</td>\n",
       "      <td>0</td>\n",
       "    </tr>\n",
       "    <tr>\n",
       "      <th>2</th>\n",
       "      <td>2020-02-28</td>\n",
       "      <td>Jakarta Pusat</td>\n",
       "      <td>JOHAR BARU</td>\n",
       "      <td>TANAH TINGGI</td>\n",
       "      <td>rw 05</td>\n",
       "      <td>1</td>\n",
       "      <td>1</td>\n",
       "      <td>0</td>\n",
       "      <td>0</td>\n",
       "      <td>30 cm</td>\n",
       "      <td>23 februari</td>\n",
       "      <td>0</td>\n",
       "      <td>0</td>\n",
       "      <td>0</td>\n",
       "      <td>0</td>\n",
       "      <td>0</td>\n",
       "      <td>0</td>\n",
       "      <td>0</td>\n",
       "      <td>0</td>\n",
       "    </tr>\n",
       "    <tr>\n",
       "      <th>3</th>\n",
       "      <td>2020-02-28</td>\n",
       "      <td>Jakarta Pusat</td>\n",
       "      <td>KEMAYORAN</td>\n",
       "      <td>GUNUNG SAHARI SELATAN</td>\n",
       "      <td>rw 04, 09,</td>\n",
       "      <td>2</td>\n",
       "      <td>2</td>\n",
       "      <td>0</td>\n",
       "      <td>0</td>\n",
       "      <td>20 s/d 100 cm</td>\n",
       "      <td>2, 8, 23 februari</td>\n",
       "      <td>0</td>\n",
       "      <td>0</td>\n",
       "      <td>0</td>\n",
       "      <td>0</td>\n",
       "      <td>0</td>\n",
       "      <td>0</td>\n",
       "      <td>0</td>\n",
       "      <td>0</td>\n",
       "    </tr>\n",
       "    <tr>\n",
       "      <th>4</th>\n",
       "      <td>2020-02-28</td>\n",
       "      <td>Jakarta Pusat</td>\n",
       "      <td>KEMAYORAN</td>\n",
       "      <td>SERDANG</td>\n",
       "      <td>rw 06, 01</td>\n",
       "      <td>2</td>\n",
       "      <td>2</td>\n",
       "      <td>0</td>\n",
       "      <td>0</td>\n",
       "      <td>30 cm</td>\n",
       "      <td>23 februari</td>\n",
       "      <td>0</td>\n",
       "      <td>0</td>\n",
       "      <td>0</td>\n",
       "      <td>0</td>\n",
       "      <td>0</td>\n",
       "      <td>0</td>\n",
       "      <td>0</td>\n",
       "      <td>0</td>\n",
       "    </tr>\n",
       "  </tbody>\n",
       "</table>\n",
       "</div>"
      ],
      "text/plain": [
       "      tanggal kota_administrasi   kecamatan              kelurahan  \\\n",
       "0  2020-02-28     Jakarta Pusat  JOHAR BARU             JOHAR BARU   \n",
       "1  2020-02-28     Jakarta Pusat  JOHAR BARU           KAMPUNG RAWA   \n",
       "2  2020-02-28     Jakarta Pusat  JOHAR BARU           TANAH TINGGI   \n",
       "3  2020-02-28     Jakarta Pusat   KEMAYORAN  GUNUNG SAHARI SELATAN   \n",
       "4  2020-02-28     Jakarta Pusat   KEMAYORAN                SERDANG   \n",
       "\n",
       "            rw  jumlah_terdampak_rw  jumlah_terdampak_rt  jumlah_terdampak_kk  \\\n",
       "0  rw 05, 09,                     2                    2                    0   \n",
       "1        rw 06                    1                    2                    0   \n",
       "2        rw 05                    1                    1                    0   \n",
       "3  rw 04, 09,                     2                    2                    0   \n",
       "4    rw 06, 01                    2                    2                    0   \n",
       "\n",
       "   jumlah_terdampak_jiwa ketinggian_air   tanggal_kejadian  lama_genangan  \\\n",
       "0                      0   30 s/d 50 cm   23, 25  februari              0   \n",
       "1                      0          20 cm        23 februari              0   \n",
       "2                      0          30 cm        23 februari              0   \n",
       "3                      0  20 s/d 100 cm  2, 8, 23 februari              0   \n",
       "4                      0          30 cm        23 februari              0   \n",
       "\n",
       "   jumlah_meninggal  jumlah_hilang  jumlah_luka_berat  jumlah_luka_ringan  \\\n",
       "0                 0              0                  0                   0   \n",
       "1                 0              0                  0                   0   \n",
       "2                 0              0                  0                   0   \n",
       "3                 0              0                  0                   0   \n",
       "4                 0              0                  0                   0   \n",
       "\n",
       "   jumlah_pengungsi_tertinggi  jumlah_tempat_pengungsian  nilai_kerugian  \n",
       "0                           0                          0               0  \n",
       "1                           0                          0               0  \n",
       "2                           0                          0               0  \n",
       "3                           0                          0               0  \n",
       "4                           0                          0               0  "
      ]
     },
     "execution_count": 241,
     "metadata": {},
     "output_type": "execute_result"
    }
   ],
   "source": [
    "df_2020_2.head()"
   ]
  },
  {
   "cell_type": "code",
   "execution_count": 242,
   "metadata": {},
   "outputs": [
    {
     "data": {
      "text/html": [
       "<div>\n",
       "<style scoped>\n",
       "    .dataframe tbody tr th:only-of-type {\n",
       "        vertical-align: middle;\n",
       "    }\n",
       "\n",
       "    .dataframe tbody tr th {\n",
       "        vertical-align: top;\n",
       "    }\n",
       "\n",
       "    .dataframe thead th {\n",
       "        text-align: right;\n",
       "    }\n",
       "</style>\n",
       "<table border=\"1\" class=\"dataframe\">\n",
       "  <thead>\n",
       "    <tr style=\"text-align: right;\">\n",
       "      <th></th>\n",
       "      <th>tanggal</th>\n",
       "      <th>kota_administrasi</th>\n",
       "      <th>kecamatan</th>\n",
       "      <th>kelurahan</th>\n",
       "      <th>rw</th>\n",
       "      <th>jumlah_terdampak_rw</th>\n",
       "      <th>jumlah_terdampak_rt</th>\n",
       "      <th>jumlah_terdampak_kk</th>\n",
       "      <th>jumlah_terdampak_jiwa</th>\n",
       "      <th>ketinggian_air</th>\n",
       "      <th>tanggal_kejadian</th>\n",
       "      <th>lama_genangan</th>\n",
       "      <th>jumlah_meninggal</th>\n",
       "      <th>jumlah_hilang</th>\n",
       "      <th>jumlah_luka_berat</th>\n",
       "      <th>jumlah_luka_ringan</th>\n",
       "      <th>jumlah_pengungsi_tertinggi</th>\n",
       "      <th>jumlah_tempat_pengungsian</th>\n",
       "      <th>nilai_kerugian</th>\n",
       "    </tr>\n",
       "  </thead>\n",
       "  <tbody>\n",
       "    <tr>\n",
       "      <th>0</th>\n",
       "      <td>2020-12-30</td>\n",
       "      <td>Jakarta Barat</td>\n",
       "      <td>KEBON JERUK</td>\n",
       "      <td>KEDOYA UTARA</td>\n",
       "      <td>RW : 002</td>\n",
       "      <td>1</td>\n",
       "      <td>1</td>\n",
       "      <td>0</td>\n",
       "      <td>0</td>\n",
       "      <td>20 cm</td>\n",
       "      <td>2020-12-07</td>\n",
       "      <td>0</td>\n",
       "      <td>0</td>\n",
       "      <td>0</td>\n",
       "      <td>0</td>\n",
       "      <td>0</td>\n",
       "      <td>0</td>\n",
       "      <td>0</td>\n",
       "      <td>0</td>\n",
       "    </tr>\n",
       "    <tr>\n",
       "      <th>1</th>\n",
       "      <td>2020-12-30</td>\n",
       "      <td>Jakarta Barat</td>\n",
       "      <td>KEMBANGAN</td>\n",
       "      <td>SRENGSENG</td>\n",
       "      <td>RW : 008</td>\n",
       "      <td>1</td>\n",
       "      <td>1</td>\n",
       "      <td>0</td>\n",
       "      <td>0</td>\n",
       "      <td>25 cm</td>\n",
       "      <td>2020-12-31</td>\n",
       "      <td>0</td>\n",
       "      <td>0</td>\n",
       "      <td>0</td>\n",
       "      <td>0</td>\n",
       "      <td>0</td>\n",
       "      <td>0</td>\n",
       "      <td>0</td>\n",
       "      <td>0</td>\n",
       "    </tr>\n",
       "    <tr>\n",
       "      <th>2</th>\n",
       "      <td>2020-12-30</td>\n",
       "      <td>Jakarta Barat</td>\n",
       "      <td>KEMBANGAN</td>\n",
       "      <td>SRENGSENG</td>\n",
       "      <td>0</td>\n",
       "      <td>0</td>\n",
       "      <td>1</td>\n",
       "      <td>0</td>\n",
       "      <td>0</td>\n",
       "      <td>30 cm</td>\n",
       "      <td>2020-12-31</td>\n",
       "      <td>0</td>\n",
       "      <td>0</td>\n",
       "      <td>0</td>\n",
       "      <td>0</td>\n",
       "      <td>0</td>\n",
       "      <td>0</td>\n",
       "      <td>0</td>\n",
       "      <td>0</td>\n",
       "    </tr>\n",
       "    <tr>\n",
       "      <th>3</th>\n",
       "      <td>2020-12-30</td>\n",
       "      <td>Jakarta Barat</td>\n",
       "      <td>KEMBANGAN</td>\n",
       "      <td>SRENGSENG</td>\n",
       "      <td>0</td>\n",
       "      <td>0</td>\n",
       "      <td>1</td>\n",
       "      <td>0</td>\n",
       "      <td>0</td>\n",
       "      <td>30 cm</td>\n",
       "      <td>2020-12-31</td>\n",
       "      <td>0</td>\n",
       "      <td>0</td>\n",
       "      <td>0</td>\n",
       "      <td>0</td>\n",
       "      <td>0</td>\n",
       "      <td>0</td>\n",
       "      <td>0</td>\n",
       "      <td>0</td>\n",
       "    </tr>\n",
       "    <tr>\n",
       "      <th>4</th>\n",
       "      <td>2020-12-30</td>\n",
       "      <td>Jakarta Selatan</td>\n",
       "      <td>PASAR MINGGU</td>\n",
       "      <td>PEJATEN TIMUR</td>\n",
       "      <td>RW : 005</td>\n",
       "      <td>1</td>\n",
       "      <td>1</td>\n",
       "      <td>25</td>\n",
       "      <td>70</td>\n",
       "      <td>40 cm</td>\n",
       "      <td>2020-12-06</td>\n",
       "      <td>0</td>\n",
       "      <td>0</td>\n",
       "      <td>0</td>\n",
       "      <td>0</td>\n",
       "      <td>0</td>\n",
       "      <td>0</td>\n",
       "      <td>0</td>\n",
       "      <td>0</td>\n",
       "    </tr>\n",
       "  </tbody>\n",
       "</table>\n",
       "</div>"
      ],
      "text/plain": [
       "      tanggal kota_administrasi     kecamatan      kelurahan        rw  \\\n",
       "0  2020-12-30     Jakarta Barat   KEBON JERUK   KEDOYA UTARA  RW : 002   \n",
       "1  2020-12-30     Jakarta Barat     KEMBANGAN      SRENGSENG  RW : 008   \n",
       "2  2020-12-30     Jakarta Barat     KEMBANGAN      SRENGSENG         0   \n",
       "3  2020-12-30     Jakarta Barat     KEMBANGAN      SRENGSENG         0   \n",
       "4  2020-12-30   Jakarta Selatan  PASAR MINGGU  PEJATEN TIMUR  RW : 005   \n",
       "\n",
       "   jumlah_terdampak_rw  jumlah_terdampak_rt  jumlah_terdampak_kk  \\\n",
       "0                    1                    1                    0   \n",
       "1                    1                    1                    0   \n",
       "2                    0                    1                    0   \n",
       "3                    0                    1                    0   \n",
       "4                    1                    1                   25   \n",
       "\n",
       "   jumlah_terdampak_jiwa ketinggian_air tanggal_kejadian  lama_genangan  \\\n",
       "0                      0          20 cm       2020-12-07              0   \n",
       "1                      0          25 cm       2020-12-31              0   \n",
       "2                      0          30 cm       2020-12-31              0   \n",
       "3                      0          30 cm       2020-12-31              0   \n",
       "4                     70          40 cm       2020-12-06              0   \n",
       "\n",
       "   jumlah_meninggal  jumlah_hilang  jumlah_luka_berat  jumlah_luka_ringan  \\\n",
       "0                 0              0                  0                   0   \n",
       "1                 0              0                  0                   0   \n",
       "2                 0              0                  0                   0   \n",
       "3                 0              0                  0                   0   \n",
       "4                 0              0                  0                   0   \n",
       "\n",
       "   jumlah_pengungsi_tertinggi  jumlah_tempat_pengungsian  nilai_kerugian  \n",
       "0                           0                          0               0  \n",
       "1                           0                          0               0  \n",
       "2                           0                          0               0  \n",
       "3                           0                          0               0  \n",
       "4                           0                          0               0  "
      ]
     },
     "execution_count": 242,
     "metadata": {},
     "output_type": "execute_result"
    }
   ],
   "source": [
    "df_2020_12.head()"
   ]
  },
  {
   "attachments": {},
   "cell_type": "markdown",
   "metadata": {},
   "source": [
    "# MERGE DATA"
   ]
  },
  {
   "cell_type": "code",
   "execution_count": 243,
   "metadata": {},
   "outputs": [],
   "source": [
    "data_frames = [df_2020_1, df_2020_2, df_2020_3, df_2020_4, df_2020_5, df_2020_6, df_2020_7, df_2020_8, df_2020_9, df_2020_10, df_2020_11, df_2020_12]\n",
    "\n",
    "\n",
    "merged_df = pd.concat(data_frames, ignore_index=True)"
   ]
  },
  {
   "cell_type": "code",
   "execution_count": 244,
   "metadata": {},
   "outputs": [
    {
     "data": {
      "text/html": [
       "<div>\n",
       "<style scoped>\n",
       "    .dataframe tbody tr th:only-of-type {\n",
       "        vertical-align: middle;\n",
       "    }\n",
       "\n",
       "    .dataframe tbody tr th {\n",
       "        vertical-align: top;\n",
       "    }\n",
       "\n",
       "    .dataframe thead th {\n",
       "        text-align: right;\n",
       "    }\n",
       "</style>\n",
       "<table border=\"1\" class=\"dataframe\">\n",
       "  <thead>\n",
       "    <tr style=\"text-align: right;\">\n",
       "      <th></th>\n",
       "      <th>tanggal</th>\n",
       "      <th>kota_administrasi</th>\n",
       "      <th>kecamatan</th>\n",
       "      <th>kelurahan</th>\n",
       "      <th>rw</th>\n",
       "      <th>jumlah_terdampak_rw</th>\n",
       "      <th>jumlah_terdampak_rt</th>\n",
       "      <th>jumlah_terdampak_kk</th>\n",
       "      <th>jumlah_terdampak_jiwa</th>\n",
       "      <th>ketinggian_air</th>\n",
       "      <th>tanggal_kejadian</th>\n",
       "      <th>lama_genangan</th>\n",
       "      <th>jumlah_meninggal</th>\n",
       "      <th>jumlah_hilang</th>\n",
       "      <th>jumlah_luka_berat</th>\n",
       "      <th>jumlah_luka_ringan</th>\n",
       "      <th>jumlah_pengungsi_tertinggi</th>\n",
       "      <th>jumlah_tempat_pengungsian</th>\n",
       "      <th>nilai_kerugian</th>\n",
       "    </tr>\n",
       "  </thead>\n",
       "  <tbody>\n",
       "    <tr>\n",
       "      <th>0</th>\n",
       "      <td>2020-01-30</td>\n",
       "      <td>Jakarta Pusat</td>\n",
       "      <td>JOHAR BARU</td>\n",
       "      <td>JOHAR BARU</td>\n",
       "      <td>RW 01, 02, 06, 08</td>\n",
       "      <td>4</td>\n",
       "      <td>4</td>\n",
       "      <td>35</td>\n",
       "      <td>140</td>\n",
       "      <td>10 s/d 30 cm</td>\n",
       "      <td>tgl. 01 Januari</td>\n",
       "      <td>0</td>\n",
       "      <td>0</td>\n",
       "      <td>0</td>\n",
       "      <td>0</td>\n",
       "      <td>140</td>\n",
       "      <td>1</td>\n",
       "      <td>0</td>\n",
       "      <td>0</td>\n",
       "    </tr>\n",
       "    <tr>\n",
       "      <th>1</th>\n",
       "      <td>2020-01-30</td>\n",
       "      <td>Jakarta Pusat</td>\n",
       "      <td>KEMAYORAN</td>\n",
       "      <td>GUNUNG SAHARI SELATAN</td>\n",
       "      <td>RW 01, 02, 07, 08</td>\n",
       "      <td>4</td>\n",
       "      <td>4</td>\n",
       "      <td>0</td>\n",
       "      <td>0</td>\n",
       "      <td>10 s/d 70 cm</td>\n",
       "      <td>tgl. 01 Januari</td>\n",
       "      <td>0</td>\n",
       "      <td>0</td>\n",
       "      <td>0</td>\n",
       "      <td>0</td>\n",
       "      <td>0</td>\n",
       "      <td>0</td>\n",
       "      <td>0</td>\n",
       "      <td>0</td>\n",
       "    </tr>\n",
       "    <tr>\n",
       "      <th>2</th>\n",
       "      <td>2020-01-30</td>\n",
       "      <td>Jakarta Pusat</td>\n",
       "      <td>KEMAYORAN</td>\n",
       "      <td>SERDANG</td>\n",
       "      <td>RW 01, 02, 06, 07</td>\n",
       "      <td>4</td>\n",
       "      <td>4</td>\n",
       "      <td>0</td>\n",
       "      <td>0</td>\n",
       "      <td>10 s/d 30 cm</td>\n",
       "      <td>tgl. 01 Januari</td>\n",
       "      <td>1</td>\n",
       "      <td>0</td>\n",
       "      <td>0</td>\n",
       "      <td>0</td>\n",
       "      <td>0</td>\n",
       "      <td>0</td>\n",
       "      <td>0</td>\n",
       "      <td>0</td>\n",
       "    </tr>\n",
       "    <tr>\n",
       "      <th>3</th>\n",
       "      <td>2020-01-30</td>\n",
       "      <td>Jakarta Pusat</td>\n",
       "      <td>SAWAH BESAR</td>\n",
       "      <td>PASAR BARU</td>\n",
       "      <td>RW 02, 03, 04, 05, 06, 07, 08</td>\n",
       "      <td>7</td>\n",
       "      <td>7</td>\n",
       "      <td>155</td>\n",
       "      <td>625</td>\n",
       "      <td>10 s/d 70 cm</td>\n",
       "      <td>tgl. 01 Januari</td>\n",
       "      <td>0</td>\n",
       "      <td>0</td>\n",
       "      <td>0</td>\n",
       "      <td>0</td>\n",
       "      <td>625</td>\n",
       "      <td>5</td>\n",
       "      <td>0</td>\n",
       "      <td>0</td>\n",
       "    </tr>\n",
       "    <tr>\n",
       "      <th>4</th>\n",
       "      <td>2020-01-30</td>\n",
       "      <td>Jakarta Pusat</td>\n",
       "      <td>TANAH ABANG</td>\n",
       "      <td>BENDUNGAN HILIR</td>\n",
       "      <td>RW 07, 09</td>\n",
       "      <td>2</td>\n",
       "      <td>2</td>\n",
       "      <td>52</td>\n",
       "      <td>195</td>\n",
       "      <td>31 s/d 70 cm</td>\n",
       "      <td>tgl. 01 Januari</td>\n",
       "      <td>0</td>\n",
       "      <td>0</td>\n",
       "      <td>0</td>\n",
       "      <td>0</td>\n",
       "      <td>195</td>\n",
       "      <td>6</td>\n",
       "      <td>0</td>\n",
       "      <td>0</td>\n",
       "    </tr>\n",
       "  </tbody>\n",
       "</table>\n",
       "</div>"
      ],
      "text/plain": [
       "      tanggal kota_administrasi    kecamatan              kelurahan  \\\n",
       "0  2020-01-30     Jakarta Pusat   JOHAR BARU             JOHAR BARU   \n",
       "1  2020-01-30     Jakarta Pusat    KEMAYORAN  GUNUNG SAHARI SELATAN   \n",
       "2  2020-01-30     Jakarta Pusat    KEMAYORAN                SERDANG   \n",
       "3  2020-01-30     Jakarta Pusat  SAWAH BESAR             PASAR BARU   \n",
       "4  2020-01-30     Jakarta Pusat  TANAH ABANG        BENDUNGAN HILIR   \n",
       "\n",
       "                              rw  jumlah_terdampak_rw  jumlah_terdampak_rt  \\\n",
       "0              RW 01, 02, 06, 08                    4                    4   \n",
       "1              RW 01, 02, 07, 08                    4                    4   \n",
       "2              RW 01, 02, 06, 07                    4                    4   \n",
       "3  RW 02, 03, 04, 05, 06, 07, 08                    7                    7   \n",
       "4                      RW 07, 09                    2                    2   \n",
       "\n",
       "   jumlah_terdampak_kk  jumlah_terdampak_jiwa ketinggian_air tanggal_kejadian  \\\n",
       "0                   35                    140   10 s/d 30 cm  tgl. 01 Januari   \n",
       "1                    0                      0   10 s/d 70 cm  tgl. 01 Januari   \n",
       "2                    0                      0   10 s/d 30 cm  tgl. 01 Januari   \n",
       "3                  155                    625   10 s/d 70 cm  tgl. 01 Januari   \n",
       "4                   52                    195   31 s/d 70 cm  tgl. 01 Januari   \n",
       "\n",
       "   lama_genangan  jumlah_meninggal  jumlah_hilang  jumlah_luka_berat  \\\n",
       "0              0                 0              0                  0   \n",
       "1              0                 0              0                  0   \n",
       "2              1                 0              0                  0   \n",
       "3              0                 0              0                  0   \n",
       "4              0                 0              0                  0   \n",
       "\n",
       "   jumlah_luka_ringan  jumlah_pengungsi_tertinggi  jumlah_tempat_pengungsian  \\\n",
       "0                 140                           1                          0   \n",
       "1                   0                           0                          0   \n",
       "2                   0                           0                          0   \n",
       "3                 625                           5                          0   \n",
       "4                 195                           6                          0   \n",
       "\n",
       "   nilai_kerugian  \n",
       "0               0  \n",
       "1               0  \n",
       "2               0  \n",
       "3               0  \n",
       "4               0  "
      ]
     },
     "execution_count": 244,
     "metadata": {},
     "output_type": "execute_result"
    }
   ],
   "source": [
    "merged_df.head()"
   ]
  },
  {
   "cell_type": "code",
   "execution_count": 245,
   "metadata": {},
   "outputs": [
    {
     "data": {
      "text/html": [
       "<div>\n",
       "<style scoped>\n",
       "    .dataframe tbody tr th:only-of-type {\n",
       "        vertical-align: middle;\n",
       "    }\n",
       "\n",
       "    .dataframe tbody tr th {\n",
       "        vertical-align: top;\n",
       "    }\n",
       "\n",
       "    .dataframe thead th {\n",
       "        text-align: right;\n",
       "    }\n",
       "</style>\n",
       "<table border=\"1\" class=\"dataframe\">\n",
       "  <thead>\n",
       "    <tr style=\"text-align: right;\">\n",
       "      <th></th>\n",
       "      <th>tanggal</th>\n",
       "      <th>kota_administrasi</th>\n",
       "      <th>kecamatan</th>\n",
       "      <th>kelurahan</th>\n",
       "      <th>rw</th>\n",
       "      <th>jumlah_terdampak_rw</th>\n",
       "      <th>jumlah_terdampak_rt</th>\n",
       "      <th>jumlah_terdampak_kk</th>\n",
       "      <th>jumlah_terdampak_jiwa</th>\n",
       "      <th>ketinggian_air</th>\n",
       "      <th>tanggal_kejadian</th>\n",
       "      <th>lama_genangan</th>\n",
       "      <th>jumlah_meninggal</th>\n",
       "      <th>jumlah_hilang</th>\n",
       "      <th>jumlah_luka_berat</th>\n",
       "      <th>jumlah_luka_ringan</th>\n",
       "      <th>jumlah_pengungsi_tertinggi</th>\n",
       "      <th>jumlah_tempat_pengungsian</th>\n",
       "      <th>nilai_kerugian</th>\n",
       "    </tr>\n",
       "  </thead>\n",
       "  <tbody>\n",
       "    <tr>\n",
       "      <th>1001</th>\n",
       "      <td>2020-12-30</td>\n",
       "      <td>Kepulauan Seribu</td>\n",
       "      <td>KEPULAUAN SERIBU UTARA</td>\n",
       "      <td>PULAU HARAPAN</td>\n",
       "      <td>0</td>\n",
       "      <td>0</td>\n",
       "      <td>1</td>\n",
       "      <td>0</td>\n",
       "      <td>0</td>\n",
       "      <td>10 s/d 15 cm</td>\n",
       "      <td>2020-12-15</td>\n",
       "      <td>0</td>\n",
       "      <td>0</td>\n",
       "      <td>0</td>\n",
       "      <td>0</td>\n",
       "      <td>0</td>\n",
       "      <td>0</td>\n",
       "      <td>0</td>\n",
       "      <td>0</td>\n",
       "    </tr>\n",
       "    <tr>\n",
       "      <th>1002</th>\n",
       "      <td>2020-12-30</td>\n",
       "      <td>Kepulauan Seribu</td>\n",
       "      <td>KEPULAUAN SERIBU UTARA</td>\n",
       "      <td>PULAU HARAPAN</td>\n",
       "      <td>0</td>\n",
       "      <td>0</td>\n",
       "      <td>1</td>\n",
       "      <td>0</td>\n",
       "      <td>0</td>\n",
       "      <td>5 s/d 20 cm</td>\n",
       "      <td>2020-12-15</td>\n",
       "      <td>0</td>\n",
       "      <td>0</td>\n",
       "      <td>0</td>\n",
       "      <td>0</td>\n",
       "      <td>0</td>\n",
       "      <td>0</td>\n",
       "      <td>0</td>\n",
       "      <td>0</td>\n",
       "    </tr>\n",
       "    <tr>\n",
       "      <th>1003</th>\n",
       "      <td>2020-12-30</td>\n",
       "      <td>Kepulauan Seribu</td>\n",
       "      <td>KEPULAUAN SERIBU UTARA</td>\n",
       "      <td>PULAU HARAPAN</td>\n",
       "      <td>0</td>\n",
       "      <td>0</td>\n",
       "      <td>1</td>\n",
       "      <td>0</td>\n",
       "      <td>0</td>\n",
       "      <td>15 cm</td>\n",
       "      <td>2020-12-15</td>\n",
       "      <td>0</td>\n",
       "      <td>0</td>\n",
       "      <td>0</td>\n",
       "      <td>0</td>\n",
       "      <td>0</td>\n",
       "      <td>0</td>\n",
       "      <td>0</td>\n",
       "      <td>0</td>\n",
       "    </tr>\n",
       "    <tr>\n",
       "      <th>1004</th>\n",
       "      <td>2020-12-30</td>\n",
       "      <td>Kepulauan Seribu</td>\n",
       "      <td>KEPULAUAN SERIBU UTARA</td>\n",
       "      <td>PULAU HARAPAN</td>\n",
       "      <td>RW : 02</td>\n",
       "      <td>1</td>\n",
       "      <td>1</td>\n",
       "      <td>0</td>\n",
       "      <td>0</td>\n",
       "      <td>5 cm</td>\n",
       "      <td>2020-12-15</td>\n",
       "      <td>0</td>\n",
       "      <td>0</td>\n",
       "      <td>0</td>\n",
       "      <td>0</td>\n",
       "      <td>0</td>\n",
       "      <td>0</td>\n",
       "      <td>0</td>\n",
       "      <td>0</td>\n",
       "    </tr>\n",
       "    <tr>\n",
       "      <th>1005</th>\n",
       "      <td>2020-12-30</td>\n",
       "      <td>Kepulauan Seribu</td>\n",
       "      <td>KEPULAUAN SERIBU UTARA</td>\n",
       "      <td>PULAU HARAPAN</td>\n",
       "      <td>0</td>\n",
       "      <td>0</td>\n",
       "      <td>1</td>\n",
       "      <td>0</td>\n",
       "      <td>0</td>\n",
       "      <td>5 s/d 20 cm</td>\n",
       "      <td>2020-12-15</td>\n",
       "      <td>0</td>\n",
       "      <td>0</td>\n",
       "      <td>0</td>\n",
       "      <td>0</td>\n",
       "      <td>0</td>\n",
       "      <td>0</td>\n",
       "      <td>0</td>\n",
       "      <td>0</td>\n",
       "    </tr>\n",
       "  </tbody>\n",
       "</table>\n",
       "</div>"
      ],
      "text/plain": [
       "         tanggal kota_administrasi               kecamatan      kelurahan  \\\n",
       "1001  2020-12-30  Kepulauan Seribu  KEPULAUAN SERIBU UTARA  PULAU HARAPAN   \n",
       "1002  2020-12-30  Kepulauan Seribu  KEPULAUAN SERIBU UTARA  PULAU HARAPAN   \n",
       "1003  2020-12-30  Kepulauan Seribu  KEPULAUAN SERIBU UTARA  PULAU HARAPAN   \n",
       "1004  2020-12-30  Kepulauan Seribu  KEPULAUAN SERIBU UTARA  PULAU HARAPAN   \n",
       "1005  2020-12-30  Kepulauan Seribu  KEPULAUAN SERIBU UTARA  PULAU HARAPAN   \n",
       "\n",
       "           rw  jumlah_terdampak_rw  jumlah_terdampak_rt  jumlah_terdampak_kk  \\\n",
       "1001        0                    0                    1                    0   \n",
       "1002        0                    0                    1                    0   \n",
       "1003        0                    0                    1                    0   \n",
       "1004  RW : 02                    1                    1                    0   \n",
       "1005        0                    0                    1                    0   \n",
       "\n",
       "      jumlah_terdampak_jiwa ketinggian_air tanggal_kejadian  lama_genangan  \\\n",
       "1001                      0   10 s/d 15 cm       2020-12-15              0   \n",
       "1002                      0    5 s/d 20 cm       2020-12-15              0   \n",
       "1003                      0          15 cm       2020-12-15              0   \n",
       "1004                      0           5 cm       2020-12-15              0   \n",
       "1005                      0    5 s/d 20 cm       2020-12-15              0   \n",
       "\n",
       "      jumlah_meninggal  jumlah_hilang  jumlah_luka_berat  jumlah_luka_ringan  \\\n",
       "1001                 0              0                  0                   0   \n",
       "1002                 0              0                  0                   0   \n",
       "1003                 0              0                  0                   0   \n",
       "1004                 0              0                  0                   0   \n",
       "1005                 0              0                  0                   0   \n",
       "\n",
       "      jumlah_pengungsi_tertinggi  jumlah_tempat_pengungsian  nilai_kerugian  \n",
       "1001                           0                          0               0  \n",
       "1002                           0                          0               0  \n",
       "1003                           0                          0               0  \n",
       "1004                           0                          0               0  \n",
       "1005                           0                          0               0  "
      ]
     },
     "execution_count": 245,
     "metadata": {},
     "output_type": "execute_result"
    }
   ],
   "source": [
    "merged_df.tail()"
   ]
  },
  {
   "cell_type": "code",
   "execution_count": 246,
   "metadata": {},
   "outputs": [
    {
     "name": "stdout",
     "output_type": "stream",
     "text": [
      "<class 'pandas.core.frame.DataFrame'>\n",
      "RangeIndex: 1006 entries, 0 to 1005\n",
      "Data columns (total 19 columns):\n",
      " #   Column                      Non-Null Count  Dtype \n",
      "---  ------                      --------------  ----- \n",
      " 0   tanggal                     1006 non-null   object\n",
      " 1   kota_administrasi           1006 non-null   object\n",
      " 2   kecamatan                   1006 non-null   object\n",
      " 3   kelurahan                   1006 non-null   object\n",
      " 4   rw                          1006 non-null   object\n",
      " 5   jumlah_terdampak_rw         1006 non-null   int64 \n",
      " 6   jumlah_terdampak_rt         1006 non-null   int64 \n",
      " 7   jumlah_terdampak_kk         1006 non-null   int64 \n",
      " 8   jumlah_terdampak_jiwa       1006 non-null   int64 \n",
      " 9   ketinggian_air              1006 non-null   object\n",
      " 10  tanggal_kejadian            1006 non-null   object\n",
      " 11  lama_genangan               1006 non-null   int64 \n",
      " 12  jumlah_meninggal            1006 non-null   int64 \n",
      " 13  jumlah_hilang               1006 non-null   int64 \n",
      " 14  jumlah_luka_berat           1006 non-null   int64 \n",
      " 15  jumlah_luka_ringan          1006 non-null   int64 \n",
      " 16  jumlah_pengungsi_tertinggi  1006 non-null   int64 \n",
      " 17  jumlah_tempat_pengungsian   1006 non-null   int64 \n",
      " 18  nilai_kerugian              1006 non-null   int64 \n",
      "dtypes: int64(12), object(7)\n",
      "memory usage: 149.5+ KB\n"
     ]
    }
   ],
   "source": [
    "merged_df.info()"
   ]
  },
  {
   "attachments": {},
   "cell_type": "markdown",
   "metadata": {},
   "source": [
    "**Mengubah Format Pada Kolom Tanggal**"
   ]
  },
  {
   "cell_type": "code",
   "execution_count": 247,
   "metadata": {},
   "outputs": [],
   "source": [
    "merged_df['tanggal'] = pd.to_datetime(merged_df['tanggal'])\n",
    "# merged_df['tanggal'] = pd.to_datetime(merged_df['tanggal'], errors='coerce')\n"
   ]
  },
  {
   "attachments": {},
   "cell_type": "markdown",
   "metadata": {},
   "source": [
    "**Melihat Data Unik Pada Kota Administrasi**"
   ]
  },
  {
   "cell_type": "code",
   "execution_count": 248,
   "metadata": {},
   "outputs": [
    {
     "data": {
      "text/plain": [
       "array(['Jakarta Pusat', 'Jakarta Utara', 'Jakarta Barat',\n",
       "       'Jakarta Selatan', 'Jakarta Timur', 'Kepulauan Seribu',\n",
       "       'Jakarta Urata'], dtype=object)"
      ]
     },
     "execution_count": 248,
     "metadata": {},
     "output_type": "execute_result"
    }
   ],
   "source": [
    "merged_df['kota_administrasi'].unique()"
   ]
  },
  {
   "attachments": {},
   "cell_type": "markdown",
   "metadata": {},
   "source": [
    "**Terdapat kesalahan penulisan nama Kota Administrasi, sehingga dilakukan penggantian nama**\n",
    "\n",
    "Jakarta Urata = Jakarta Utara"
   ]
  },
  {
   "cell_type": "code",
   "execution_count": 249,
   "metadata": {},
   "outputs": [],
   "source": [
    "merged_df['kota_administrasi'] = merged_df['kota_administrasi'].replace('Jakarta Urata', 'Jakarta Utara')"
   ]
  },
  {
   "cell_type": "code",
   "execution_count": 250,
   "metadata": {},
   "outputs": [
    {
     "data": {
      "text/plain": [
       "array(['Jakarta Pusat', 'Jakarta Utara', 'Jakarta Barat',\n",
       "       'Jakarta Selatan', 'Jakarta Timur', 'Kepulauan Seribu'],\n",
       "      dtype=object)"
      ]
     },
     "execution_count": 250,
     "metadata": {},
     "output_type": "execute_result"
    }
   ],
   "source": [
    "merged_df['kota_administrasi'].unique()"
   ]
  },
  {
   "cell_type": "code",
   "execution_count": 251,
   "metadata": {},
   "outputs": [],
   "source": [
    "# merged_df.to_csv('merged_data_2020.csv', index=False)"
   ]
  },
  {
   "cell_type": "code",
   "execution_count": 252,
   "metadata": {},
   "outputs": [
    {
     "name": "stdout",
     "output_type": "stream",
     "text": [
      "<class 'pandas.core.frame.DataFrame'>\n",
      "RangeIndex: 1006 entries, 0 to 1005\n",
      "Data columns (total 19 columns):\n",
      " #   Column                      Non-Null Count  Dtype         \n",
      "---  ------                      --------------  -----         \n",
      " 0   tanggal                     1006 non-null   datetime64[ns]\n",
      " 1   kota_administrasi           1006 non-null   object        \n",
      " 2   kecamatan                   1006 non-null   object        \n",
      " 3   kelurahan                   1006 non-null   object        \n",
      " 4   rw                          1006 non-null   object        \n",
      " 5   jumlah_terdampak_rw         1006 non-null   int64         \n",
      " 6   jumlah_terdampak_rt         1006 non-null   int64         \n",
      " 7   jumlah_terdampak_kk         1006 non-null   int64         \n",
      " 8   jumlah_terdampak_jiwa       1006 non-null   int64         \n",
      " 9   ketinggian_air              1006 non-null   object        \n",
      " 10  tanggal_kejadian            1006 non-null   object        \n",
      " 11  lama_genangan               1006 non-null   int64         \n",
      " 12  jumlah_meninggal            1006 non-null   int64         \n",
      " 13  jumlah_hilang               1006 non-null   int64         \n",
      " 14  jumlah_luka_berat           1006 non-null   int64         \n",
      " 15  jumlah_luka_ringan          1006 non-null   int64         \n",
      " 16  jumlah_pengungsi_tertinggi  1006 non-null   int64         \n",
      " 17  jumlah_tempat_pengungsian   1006 non-null   int64         \n",
      " 18  nilai_kerugian              1006 non-null   int64         \n",
      "dtypes: datetime64[ns](1), int64(12), object(6)\n",
      "memory usage: 149.5+ KB\n"
     ]
    }
   ],
   "source": [
    "merged_df.info()"
   ]
  },
  {
   "cell_type": "code",
   "execution_count": 253,
   "metadata": {},
   "outputs": [
    {
     "data": {
      "text/html": [
       "<div>\n",
       "<style scoped>\n",
       "    .dataframe tbody tr th:only-of-type {\n",
       "        vertical-align: middle;\n",
       "    }\n",
       "\n",
       "    .dataframe tbody tr th {\n",
       "        vertical-align: top;\n",
       "    }\n",
       "\n",
       "    .dataframe thead th {\n",
       "        text-align: right;\n",
       "    }\n",
       "</style>\n",
       "<table border=\"1\" class=\"dataframe\">\n",
       "  <thead>\n",
       "    <tr style=\"text-align: right;\">\n",
       "      <th></th>\n",
       "      <th>count</th>\n",
       "      <th>mean</th>\n",
       "      <th>std</th>\n",
       "      <th>min</th>\n",
       "      <th>25%</th>\n",
       "      <th>50%</th>\n",
       "      <th>75%</th>\n",
       "      <th>max</th>\n",
       "    </tr>\n",
       "  </thead>\n",
       "  <tbody>\n",
       "    <tr>\n",
       "      <th>jumlah_terdampak_rw</th>\n",
       "      <td>1006.0</td>\n",
       "      <td>1.854871</td>\n",
       "      <td>2.352687</td>\n",
       "      <td>0.0</td>\n",
       "      <td>0.0</td>\n",
       "      <td>1.0</td>\n",
       "      <td>2.00</td>\n",
       "      <td>15.0</td>\n",
       "    </tr>\n",
       "    <tr>\n",
       "      <th>jumlah_terdampak_rt</th>\n",
       "      <td>1006.0</td>\n",
       "      <td>3.394632</td>\n",
       "      <td>5.357315</td>\n",
       "      <td>1.0</td>\n",
       "      <td>1.0</td>\n",
       "      <td>1.0</td>\n",
       "      <td>3.00</td>\n",
       "      <td>46.0</td>\n",
       "    </tr>\n",
       "    <tr>\n",
       "      <th>jumlah_terdampak_kk</th>\n",
       "      <td>1006.0</td>\n",
       "      <td>42.152087</td>\n",
       "      <td>197.782120</td>\n",
       "      <td>0.0</td>\n",
       "      <td>0.0</td>\n",
       "      <td>0.0</td>\n",
       "      <td>6.00</td>\n",
       "      <td>3762.0</td>\n",
       "    </tr>\n",
       "    <tr>\n",
       "      <th>jumlah_terdampak_jiwa</th>\n",
       "      <td>1006.0</td>\n",
       "      <td>150.362823</td>\n",
       "      <td>680.570810</td>\n",
       "      <td>0.0</td>\n",
       "      <td>0.0</td>\n",
       "      <td>0.0</td>\n",
       "      <td>20.75</td>\n",
       "      <td>13450.0</td>\n",
       "    </tr>\n",
       "    <tr>\n",
       "      <th>lama_genangan</th>\n",
       "      <td>1006.0</td>\n",
       "      <td>0.018887</td>\n",
       "      <td>0.150095</td>\n",
       "      <td>0.0</td>\n",
       "      <td>0.0</td>\n",
       "      <td>0.0</td>\n",
       "      <td>0.00</td>\n",
       "      <td>2.0</td>\n",
       "    </tr>\n",
       "    <tr>\n",
       "      <th>jumlah_meninggal</th>\n",
       "      <td>1006.0</td>\n",
       "      <td>0.000000</td>\n",
       "      <td>0.000000</td>\n",
       "      <td>0.0</td>\n",
       "      <td>0.0</td>\n",
       "      <td>0.0</td>\n",
       "      <td>0.00</td>\n",
       "      <td>0.0</td>\n",
       "    </tr>\n",
       "    <tr>\n",
       "      <th>jumlah_hilang</th>\n",
       "      <td>1006.0</td>\n",
       "      <td>0.000000</td>\n",
       "      <td>0.000000</td>\n",
       "      <td>0.0</td>\n",
       "      <td>0.0</td>\n",
       "      <td>0.0</td>\n",
       "      <td>0.00</td>\n",
       "      <td>0.0</td>\n",
       "    </tr>\n",
       "    <tr>\n",
       "      <th>jumlah_luka_berat</th>\n",
       "      <td>1006.0</td>\n",
       "      <td>0.000000</td>\n",
       "      <td>0.000000</td>\n",
       "      <td>0.0</td>\n",
       "      <td>0.0</td>\n",
       "      <td>0.0</td>\n",
       "      <td>0.00</td>\n",
       "      <td>0.0</td>\n",
       "    </tr>\n",
       "    <tr>\n",
       "      <th>jumlah_luka_ringan</th>\n",
       "      <td>1006.0</td>\n",
       "      <td>89.715706</td>\n",
       "      <td>359.003816</td>\n",
       "      <td>0.0</td>\n",
       "      <td>0.0</td>\n",
       "      <td>0.0</td>\n",
       "      <td>0.00</td>\n",
       "      <td>4461.0</td>\n",
       "    </tr>\n",
       "    <tr>\n",
       "      <th>jumlah_pengungsi_tertinggi</th>\n",
       "      <td>1006.0</td>\n",
       "      <td>1.324056</td>\n",
       "      <td>10.636292</td>\n",
       "      <td>0.0</td>\n",
       "      <td>0.0</td>\n",
       "      <td>0.0</td>\n",
       "      <td>0.00</td>\n",
       "      <td>271.0</td>\n",
       "    </tr>\n",
       "    <tr>\n",
       "      <th>jumlah_tempat_pengungsian</th>\n",
       "      <td>1006.0</td>\n",
       "      <td>0.011928</td>\n",
       "      <td>0.140563</td>\n",
       "      <td>0.0</td>\n",
       "      <td>0.0</td>\n",
       "      <td>0.0</td>\n",
       "      <td>0.00</td>\n",
       "      <td>3.0</td>\n",
       "    </tr>\n",
       "    <tr>\n",
       "      <th>nilai_kerugian</th>\n",
       "      <td>1006.0</td>\n",
       "      <td>0.000000</td>\n",
       "      <td>0.000000</td>\n",
       "      <td>0.0</td>\n",
       "      <td>0.0</td>\n",
       "      <td>0.0</td>\n",
       "      <td>0.00</td>\n",
       "      <td>0.0</td>\n",
       "    </tr>\n",
       "  </tbody>\n",
       "</table>\n",
       "</div>"
      ],
      "text/plain": [
       "                             count        mean         std  min  25%  50%  \\\n",
       "jumlah_terdampak_rw         1006.0    1.854871    2.352687  0.0  0.0  1.0   \n",
       "jumlah_terdampak_rt         1006.0    3.394632    5.357315  1.0  1.0  1.0   \n",
       "jumlah_terdampak_kk         1006.0   42.152087  197.782120  0.0  0.0  0.0   \n",
       "jumlah_terdampak_jiwa       1006.0  150.362823  680.570810  0.0  0.0  0.0   \n",
       "lama_genangan               1006.0    0.018887    0.150095  0.0  0.0  0.0   \n",
       "jumlah_meninggal            1006.0    0.000000    0.000000  0.0  0.0  0.0   \n",
       "jumlah_hilang               1006.0    0.000000    0.000000  0.0  0.0  0.0   \n",
       "jumlah_luka_berat           1006.0    0.000000    0.000000  0.0  0.0  0.0   \n",
       "jumlah_luka_ringan          1006.0   89.715706  359.003816  0.0  0.0  0.0   \n",
       "jumlah_pengungsi_tertinggi  1006.0    1.324056   10.636292  0.0  0.0  0.0   \n",
       "jumlah_tempat_pengungsian   1006.0    0.011928    0.140563  0.0  0.0  0.0   \n",
       "nilai_kerugian              1006.0    0.000000    0.000000  0.0  0.0  0.0   \n",
       "\n",
       "                              75%      max  \n",
       "jumlah_terdampak_rw          2.00     15.0  \n",
       "jumlah_terdampak_rt          3.00     46.0  \n",
       "jumlah_terdampak_kk          6.00   3762.0  \n",
       "jumlah_terdampak_jiwa       20.75  13450.0  \n",
       "lama_genangan                0.00      2.0  \n",
       "jumlah_meninggal             0.00      0.0  \n",
       "jumlah_hilang                0.00      0.0  \n",
       "jumlah_luka_berat            0.00      0.0  \n",
       "jumlah_luka_ringan           0.00   4461.0  \n",
       "jumlah_pengungsi_tertinggi   0.00    271.0  \n",
       "jumlah_tempat_pengungsian    0.00      3.0  \n",
       "nilai_kerugian               0.00      0.0  "
      ]
     },
     "execution_count": 253,
     "metadata": {},
     "output_type": "execute_result"
    }
   ],
   "source": [
    "merged_df.describe().T"
   ]
  },
  {
   "attachments": {},
   "cell_type": "markdown",
   "metadata": {},
   "source": [
    "**Data duplikat**"
   ]
  },
  {
   "cell_type": "code",
   "execution_count": 254,
   "metadata": {},
   "outputs": [
    {
     "name": "stdout",
     "output_type": "stream",
     "text": [
      "Jumlah data duplikat: 84\n"
     ]
    }
   ],
   "source": [
    "duplicate_rows = merged_df[merged_df.duplicated()]\n",
    "jumlah_data_duplikat = len(duplicate_rows)\n",
    "\n",
    "print(\"Jumlah data duplikat:\", jumlah_data_duplikat)"
   ]
  },
  {
   "cell_type": "code",
   "execution_count": 255,
   "metadata": {},
   "outputs": [
    {
     "data": {
      "text/html": [
       "<div>\n",
       "<style scoped>\n",
       "    .dataframe tbody tr th:only-of-type {\n",
       "        vertical-align: middle;\n",
       "    }\n",
       "\n",
       "    .dataframe tbody tr th {\n",
       "        vertical-align: top;\n",
       "    }\n",
       "\n",
       "    .dataframe thead th {\n",
       "        text-align: right;\n",
       "    }\n",
       "</style>\n",
       "<table border=\"1\" class=\"dataframe\">\n",
       "  <thead>\n",
       "    <tr style=\"text-align: right;\">\n",
       "      <th></th>\n",
       "      <th>tanggal</th>\n",
       "      <th>kota_administrasi</th>\n",
       "      <th>kecamatan</th>\n",
       "      <th>kelurahan</th>\n",
       "      <th>rw</th>\n",
       "      <th>jumlah_terdampak_rw</th>\n",
       "      <th>jumlah_terdampak_rt</th>\n",
       "      <th>jumlah_terdampak_kk</th>\n",
       "      <th>jumlah_terdampak_jiwa</th>\n",
       "      <th>ketinggian_air</th>\n",
       "      <th>tanggal_kejadian</th>\n",
       "      <th>lama_genangan</th>\n",
       "      <th>jumlah_meninggal</th>\n",
       "      <th>jumlah_hilang</th>\n",
       "      <th>jumlah_luka_berat</th>\n",
       "      <th>jumlah_luka_ringan</th>\n",
       "      <th>jumlah_pengungsi_tertinggi</th>\n",
       "      <th>jumlah_tempat_pengungsian</th>\n",
       "      <th>nilai_kerugian</th>\n",
       "    </tr>\n",
       "  </thead>\n",
       "  <tbody>\n",
       "    <tr>\n",
       "      <th>521</th>\n",
       "      <td>2020-10-30</td>\n",
       "      <td>Jakarta Barat</td>\n",
       "      <td>KEBON JERUK</td>\n",
       "      <td>KEDOYA UTARA</td>\n",
       "      <td>0</td>\n",
       "      <td>0</td>\n",
       "      <td>1</td>\n",
       "      <td>0</td>\n",
       "      <td>0</td>\n",
       "      <td>10 s/d 60 cm</td>\n",
       "      <td>09,10,11 Oktober</td>\n",
       "      <td>0</td>\n",
       "      <td>0</td>\n",
       "      <td>0</td>\n",
       "      <td>0</td>\n",
       "      <td>0</td>\n",
       "      <td>0</td>\n",
       "      <td>0</td>\n",
       "      <td>0</td>\n",
       "    </tr>\n",
       "    <tr>\n",
       "      <th>532</th>\n",
       "      <td>2020-10-30</td>\n",
       "      <td>Jakarta Barat</td>\n",
       "      <td>KEBON JERUK</td>\n",
       "      <td>DURI KEPA</td>\n",
       "      <td>0</td>\n",
       "      <td>0</td>\n",
       "      <td>1</td>\n",
       "      <td>0</td>\n",
       "      <td>0</td>\n",
       "      <td>30 cm</td>\n",
       "      <td>16 Oktober</td>\n",
       "      <td>0</td>\n",
       "      <td>0</td>\n",
       "      <td>0</td>\n",
       "      <td>0</td>\n",
       "      <td>0</td>\n",
       "      <td>0</td>\n",
       "      <td>0</td>\n",
       "      <td>0</td>\n",
       "    </tr>\n",
       "    <tr>\n",
       "      <th>546</th>\n",
       "      <td>2020-10-30</td>\n",
       "      <td>Jakarta Barat</td>\n",
       "      <td>KEMBANGAN</td>\n",
       "      <td>KEMBANGAN SELATAN</td>\n",
       "      <td>0</td>\n",
       "      <td>0</td>\n",
       "      <td>1</td>\n",
       "      <td>0</td>\n",
       "      <td>0</td>\n",
       "      <td>90 cm</td>\n",
       "      <td>11 Oktober</td>\n",
       "      <td>0</td>\n",
       "      <td>0</td>\n",
       "      <td>0</td>\n",
       "      <td>0</td>\n",
       "      <td>0</td>\n",
       "      <td>0</td>\n",
       "      <td>0</td>\n",
       "      <td>0</td>\n",
       "    </tr>\n",
       "    <tr>\n",
       "      <th>554</th>\n",
       "      <td>2020-10-30</td>\n",
       "      <td>Jakarta Barat</td>\n",
       "      <td>CENGKARENG</td>\n",
       "      <td>KEDAUNG KALI ANGKE</td>\n",
       "      <td>0</td>\n",
       "      <td>0</td>\n",
       "      <td>1</td>\n",
       "      <td>0</td>\n",
       "      <td>0</td>\n",
       "      <td>20 cm s/d 50 cm</td>\n",
       "      <td>10,11 Oktober</td>\n",
       "      <td>0</td>\n",
       "      <td>0</td>\n",
       "      <td>0</td>\n",
       "      <td>0</td>\n",
       "      <td>0</td>\n",
       "      <td>0</td>\n",
       "      <td>0</td>\n",
       "      <td>0</td>\n",
       "    </tr>\n",
       "    <tr>\n",
       "      <th>559</th>\n",
       "      <td>2020-10-30</td>\n",
       "      <td>Jakarta Barat</td>\n",
       "      <td>CENGKARENG</td>\n",
       "      <td>DURI KOSAMBI</td>\n",
       "      <td>0</td>\n",
       "      <td>0</td>\n",
       "      <td>1</td>\n",
       "      <td>0</td>\n",
       "      <td>0</td>\n",
       "      <td>25 cm</td>\n",
       "      <td>10,11 Oktober</td>\n",
       "      <td>0</td>\n",
       "      <td>0</td>\n",
       "      <td>0</td>\n",
       "      <td>0</td>\n",
       "      <td>0</td>\n",
       "      <td>0</td>\n",
       "      <td>0</td>\n",
       "      <td>0</td>\n",
       "    </tr>\n",
       "    <tr>\n",
       "      <th>...</th>\n",
       "      <td>...</td>\n",
       "      <td>...</td>\n",
       "      <td>...</td>\n",
       "      <td>...</td>\n",
       "      <td>...</td>\n",
       "      <td>...</td>\n",
       "      <td>...</td>\n",
       "      <td>...</td>\n",
       "      <td>...</td>\n",
       "      <td>...</td>\n",
       "      <td>...</td>\n",
       "      <td>...</td>\n",
       "      <td>...</td>\n",
       "      <td>...</td>\n",
       "      <td>...</td>\n",
       "      <td>...</td>\n",
       "      <td>...</td>\n",
       "      <td>...</td>\n",
       "      <td>...</td>\n",
       "    </tr>\n",
       "    <tr>\n",
       "      <th>990</th>\n",
       "      <td>2020-12-30</td>\n",
       "      <td>Jakarta Timur</td>\n",
       "      <td>JATINEGARA</td>\n",
       "      <td>BIDARA CINA</td>\n",
       "      <td>0</td>\n",
       "      <td>0</td>\n",
       "      <td>1</td>\n",
       "      <td>0</td>\n",
       "      <td>0</td>\n",
       "      <td>10 s/d 60 cm</td>\n",
       "      <td>2020-12-06</td>\n",
       "      <td>0</td>\n",
       "      <td>0</td>\n",
       "      <td>0</td>\n",
       "      <td>0</td>\n",
       "      <td>0</td>\n",
       "      <td>0</td>\n",
       "      <td>0</td>\n",
       "      <td>0</td>\n",
       "    </tr>\n",
       "    <tr>\n",
       "      <th>991</th>\n",
       "      <td>2020-12-30</td>\n",
       "      <td>Jakarta Timur</td>\n",
       "      <td>JATINEGARA</td>\n",
       "      <td>BIDARA CINA</td>\n",
       "      <td>0</td>\n",
       "      <td>0</td>\n",
       "      <td>1</td>\n",
       "      <td>0</td>\n",
       "      <td>0</td>\n",
       "      <td>10 s/d 60 cm</td>\n",
       "      <td>2020-12-06</td>\n",
       "      <td>0</td>\n",
       "      <td>0</td>\n",
       "      <td>0</td>\n",
       "      <td>0</td>\n",
       "      <td>0</td>\n",
       "      <td>0</td>\n",
       "      <td>0</td>\n",
       "      <td>0</td>\n",
       "    </tr>\n",
       "    <tr>\n",
       "      <th>992</th>\n",
       "      <td>2020-12-30</td>\n",
       "      <td>Jakarta Timur</td>\n",
       "      <td>JATINEGARA</td>\n",
       "      <td>BIDARA CINA</td>\n",
       "      <td>0</td>\n",
       "      <td>0</td>\n",
       "      <td>1</td>\n",
       "      <td>0</td>\n",
       "      <td>0</td>\n",
       "      <td>10 s/d 60 cm</td>\n",
       "      <td>2020-12-06</td>\n",
       "      <td>0</td>\n",
       "      <td>0</td>\n",
       "      <td>0</td>\n",
       "      <td>0</td>\n",
       "      <td>0</td>\n",
       "      <td>0</td>\n",
       "      <td>0</td>\n",
       "      <td>0</td>\n",
       "    </tr>\n",
       "    <tr>\n",
       "      <th>996</th>\n",
       "      <td>2020-12-30</td>\n",
       "      <td>Jakarta Timur</td>\n",
       "      <td>KRAMAT JATI</td>\n",
       "      <td>CAWANG</td>\n",
       "      <td>0</td>\n",
       "      <td>0</td>\n",
       "      <td>1</td>\n",
       "      <td>0</td>\n",
       "      <td>0</td>\n",
       "      <td>60 cm</td>\n",
       "      <td>2020-12-06</td>\n",
       "      <td>0</td>\n",
       "      <td>0</td>\n",
       "      <td>0</td>\n",
       "      <td>0</td>\n",
       "      <td>0</td>\n",
       "      <td>0</td>\n",
       "      <td>0</td>\n",
       "      <td>0</td>\n",
       "    </tr>\n",
       "    <tr>\n",
       "      <th>1005</th>\n",
       "      <td>2020-12-30</td>\n",
       "      <td>Kepulauan Seribu</td>\n",
       "      <td>KEPULAUAN SERIBU UTARA</td>\n",
       "      <td>PULAU HARAPAN</td>\n",
       "      <td>0</td>\n",
       "      <td>0</td>\n",
       "      <td>1</td>\n",
       "      <td>0</td>\n",
       "      <td>0</td>\n",
       "      <td>5 s/d 20 cm</td>\n",
       "      <td>2020-12-15</td>\n",
       "      <td>0</td>\n",
       "      <td>0</td>\n",
       "      <td>0</td>\n",
       "      <td>0</td>\n",
       "      <td>0</td>\n",
       "      <td>0</td>\n",
       "      <td>0</td>\n",
       "      <td>0</td>\n",
       "    </tr>\n",
       "  </tbody>\n",
       "</table>\n",
       "<p>84 rows × 19 columns</p>\n",
       "</div>"
      ],
      "text/plain": [
       "        tanggal kota_administrasi               kecamatan           kelurahan  \\\n",
       "521  2020-10-30     Jakarta Barat             KEBON JERUK        KEDOYA UTARA   \n",
       "532  2020-10-30     Jakarta Barat             KEBON JERUK           DURI KEPA   \n",
       "546  2020-10-30     Jakarta Barat               KEMBANGAN   KEMBANGAN SELATAN   \n",
       "554  2020-10-30     Jakarta Barat              CENGKARENG  KEDAUNG KALI ANGKE   \n",
       "559  2020-10-30     Jakarta Barat              CENGKARENG        DURI KOSAMBI   \n",
       "...         ...               ...                     ...                 ...   \n",
       "990  2020-12-30     Jakarta Timur              JATINEGARA         BIDARA CINA   \n",
       "991  2020-12-30     Jakarta Timur              JATINEGARA         BIDARA CINA   \n",
       "992  2020-12-30     Jakarta Timur              JATINEGARA         BIDARA CINA   \n",
       "996  2020-12-30     Jakarta Timur             KRAMAT JATI              CAWANG   \n",
       "1005 2020-12-30  Kepulauan Seribu  KEPULAUAN SERIBU UTARA       PULAU HARAPAN   \n",
       "\n",
       "     rw  jumlah_terdampak_rw  jumlah_terdampak_rt  jumlah_terdampak_kk  \\\n",
       "521   0                    0                    1                    0   \n",
       "532   0                    0                    1                    0   \n",
       "546   0                    0                    1                    0   \n",
       "554   0                    0                    1                    0   \n",
       "559   0                    0                    1                    0   \n",
       "...  ..                  ...                  ...                  ...   \n",
       "990   0                    0                    1                    0   \n",
       "991   0                    0                    1                    0   \n",
       "992   0                    0                    1                    0   \n",
       "996   0                    0                    1                    0   \n",
       "1005  0                    0                    1                    0   \n",
       "\n",
       "      jumlah_terdampak_jiwa   ketinggian_air  tanggal_kejadian  lama_genangan  \\\n",
       "521                       0     10 s/d 60 cm  09,10,11 Oktober              0   \n",
       "532                       0            30 cm        16 Oktober              0   \n",
       "546                       0            90 cm        11 Oktober              0   \n",
       "554                       0  20 cm s/d 50 cm     10,11 Oktober              0   \n",
       "559                       0            25 cm     10,11 Oktober              0   \n",
       "...                     ...              ...               ...            ...   \n",
       "990                       0     10 s/d 60 cm        2020-12-06              0   \n",
       "991                       0     10 s/d 60 cm        2020-12-06              0   \n",
       "992                       0     10 s/d 60 cm        2020-12-06              0   \n",
       "996                       0            60 cm        2020-12-06              0   \n",
       "1005                      0      5 s/d 20 cm        2020-12-15              0   \n",
       "\n",
       "      jumlah_meninggal  jumlah_hilang  jumlah_luka_berat  jumlah_luka_ringan  \\\n",
       "521                  0              0                  0                   0   \n",
       "532                  0              0                  0                   0   \n",
       "546                  0              0                  0                   0   \n",
       "554                  0              0                  0                   0   \n",
       "559                  0              0                  0                   0   \n",
       "...                ...            ...                ...                 ...   \n",
       "990                  0              0                  0                   0   \n",
       "991                  0              0                  0                   0   \n",
       "992                  0              0                  0                   0   \n",
       "996                  0              0                  0                   0   \n",
       "1005                 0              0                  0                   0   \n",
       "\n",
       "      jumlah_pengungsi_tertinggi  jumlah_tempat_pengungsian  nilai_kerugian  \n",
       "521                            0                          0               0  \n",
       "532                            0                          0               0  \n",
       "546                            0                          0               0  \n",
       "554                            0                          0               0  \n",
       "559                            0                          0               0  \n",
       "...                          ...                        ...             ...  \n",
       "990                            0                          0               0  \n",
       "991                            0                          0               0  \n",
       "992                            0                          0               0  \n",
       "996                            0                          0               0  \n",
       "1005                           0                          0               0  \n",
       "\n",
       "[84 rows x 19 columns]"
      ]
     },
     "execution_count": 255,
     "metadata": {},
     "output_type": "execute_result"
    }
   ],
   "source": [
    "merged_df[merged_df.duplicated()]"
   ]
  },
  {
   "cell_type": "code",
   "execution_count": 256,
   "metadata": {},
   "outputs": [],
   "source": [
    "merged_df.drop_duplicates(inplace=True)"
   ]
  },
  {
   "cell_type": "code",
   "execution_count": 257,
   "metadata": {},
   "outputs": [
    {
     "data": {
      "text/plain": [
       "(922, 19)"
      ]
     },
     "execution_count": 257,
     "metadata": {},
     "output_type": "execute_result"
    }
   ],
   "source": [
    "merged_df.shape"
   ]
  },
  {
   "attachments": {},
   "cell_type": "markdown",
   "metadata": {},
   "source": [
    "**Membuat kolom baru untuk mendapatkan nilai rata-rata ketinggian air**"
   ]
  },
  {
   "cell_type": "code",
   "execution_count": 258,
   "metadata": {},
   "outputs": [],
   "source": [
    "def extract_mean(entry):\n",
    "    values = [int(val) for val in re.findall(r'\\d+', entry)]\n",
    "    return sum(values) / len(values)\n",
    "\n",
    "merged_df['ketinggian_air_num'] = merged_df['ketinggian_air'].apply(extract_mean)"
   ]
  },
  {
   "cell_type": "code",
   "execution_count": 259,
   "metadata": {},
   "outputs": [
    {
     "name": "stdout",
     "output_type": "stream",
     "text": [
      "<class 'pandas.core.frame.DataFrame'>\n",
      "Int64Index: 922 entries, 0 to 1004\n",
      "Data columns (total 20 columns):\n",
      " #   Column                      Non-Null Count  Dtype         \n",
      "---  ------                      --------------  -----         \n",
      " 0   tanggal                     922 non-null    datetime64[ns]\n",
      " 1   kota_administrasi           922 non-null    object        \n",
      " 2   kecamatan                   922 non-null    object        \n",
      " 3   kelurahan                   922 non-null    object        \n",
      " 4   rw                          922 non-null    object        \n",
      " 5   jumlah_terdampak_rw         922 non-null    int64         \n",
      " 6   jumlah_terdampak_rt         922 non-null    int64         \n",
      " 7   jumlah_terdampak_kk         922 non-null    int64         \n",
      " 8   jumlah_terdampak_jiwa       922 non-null    int64         \n",
      " 9   ketinggian_air              922 non-null    object        \n",
      " 10  tanggal_kejadian            922 non-null    object        \n",
      " 11  lama_genangan               922 non-null    int64         \n",
      " 12  jumlah_meninggal            922 non-null    int64         \n",
      " 13  jumlah_hilang               922 non-null    int64         \n",
      " 14  jumlah_luka_berat           922 non-null    int64         \n",
      " 15  jumlah_luka_ringan          922 non-null    int64         \n",
      " 16  jumlah_pengungsi_tertinggi  922 non-null    int64         \n",
      " 17  jumlah_tempat_pengungsian   922 non-null    int64         \n",
      " 18  nilai_kerugian              922 non-null    int64         \n",
      " 19  ketinggian_air_num          922 non-null    float64       \n",
      "dtypes: datetime64[ns](1), float64(1), int64(12), object(6)\n",
      "memory usage: 151.3+ KB\n"
     ]
    }
   ],
   "source": [
    "merged_df.info()"
   ]
  },
  {
   "cell_type": "code",
   "execution_count": 260,
   "metadata": {},
   "outputs": [
    {
     "data": {
      "text/html": [
       "<div>\n",
       "<style scoped>\n",
       "    .dataframe tbody tr th:only-of-type {\n",
       "        vertical-align: middle;\n",
       "    }\n",
       "\n",
       "    .dataframe tbody tr th {\n",
       "        vertical-align: top;\n",
       "    }\n",
       "\n",
       "    .dataframe thead th {\n",
       "        text-align: right;\n",
       "    }\n",
       "</style>\n",
       "<table border=\"1\" class=\"dataframe\">\n",
       "  <thead>\n",
       "    <tr style=\"text-align: right;\">\n",
       "      <th></th>\n",
       "      <th>count</th>\n",
       "      <th>mean</th>\n",
       "      <th>std</th>\n",
       "      <th>min</th>\n",
       "      <th>25%</th>\n",
       "      <th>50%</th>\n",
       "      <th>75%</th>\n",
       "      <th>max</th>\n",
       "    </tr>\n",
       "  </thead>\n",
       "  <tbody>\n",
       "    <tr>\n",
       "      <th>jumlah_terdampak_rw</th>\n",
       "      <td>922.0</td>\n",
       "      <td>2.023861</td>\n",
       "      <td>2.386961</td>\n",
       "      <td>0.0</td>\n",
       "      <td>1.0</td>\n",
       "      <td>1.0</td>\n",
       "      <td>2.75</td>\n",
       "      <td>15.0</td>\n",
       "    </tr>\n",
       "    <tr>\n",
       "      <th>jumlah_terdampak_rt</th>\n",
       "      <td>922.0</td>\n",
       "      <td>3.612798</td>\n",
       "      <td>5.545074</td>\n",
       "      <td>1.0</td>\n",
       "      <td>1.0</td>\n",
       "      <td>1.0</td>\n",
       "      <td>4.00</td>\n",
       "      <td>46.0</td>\n",
       "    </tr>\n",
       "    <tr>\n",
       "      <th>jumlah_terdampak_kk</th>\n",
       "      <td>922.0</td>\n",
       "      <td>45.992408</td>\n",
       "      <td>206.176366</td>\n",
       "      <td>0.0</td>\n",
       "      <td>0.0</td>\n",
       "      <td>0.0</td>\n",
       "      <td>7.75</td>\n",
       "      <td>3762.0</td>\n",
       "    </tr>\n",
       "    <tr>\n",
       "      <th>jumlah_terdampak_jiwa</th>\n",
       "      <td>922.0</td>\n",
       "      <td>164.061822</td>\n",
       "      <td>709.345351</td>\n",
       "      <td>0.0</td>\n",
       "      <td>0.0</td>\n",
       "      <td>0.0</td>\n",
       "      <td>26.50</td>\n",
       "      <td>13450.0</td>\n",
       "    </tr>\n",
       "    <tr>\n",
       "      <th>lama_genangan</th>\n",
       "      <td>922.0</td>\n",
       "      <td>0.020607</td>\n",
       "      <td>0.156677</td>\n",
       "      <td>0.0</td>\n",
       "      <td>0.0</td>\n",
       "      <td>0.0</td>\n",
       "      <td>0.00</td>\n",
       "      <td>2.0</td>\n",
       "    </tr>\n",
       "    <tr>\n",
       "      <th>jumlah_meninggal</th>\n",
       "      <td>922.0</td>\n",
       "      <td>0.000000</td>\n",
       "      <td>0.000000</td>\n",
       "      <td>0.0</td>\n",
       "      <td>0.0</td>\n",
       "      <td>0.0</td>\n",
       "      <td>0.00</td>\n",
       "      <td>0.0</td>\n",
       "    </tr>\n",
       "    <tr>\n",
       "      <th>jumlah_hilang</th>\n",
       "      <td>922.0</td>\n",
       "      <td>0.000000</td>\n",
       "      <td>0.000000</td>\n",
       "      <td>0.0</td>\n",
       "      <td>0.0</td>\n",
       "      <td>0.0</td>\n",
       "      <td>0.00</td>\n",
       "      <td>0.0</td>\n",
       "    </tr>\n",
       "    <tr>\n",
       "      <th>jumlah_luka_berat</th>\n",
       "      <td>922.0</td>\n",
       "      <td>0.000000</td>\n",
       "      <td>0.000000</td>\n",
       "      <td>0.0</td>\n",
       "      <td>0.0</td>\n",
       "      <td>0.0</td>\n",
       "      <td>0.00</td>\n",
       "      <td>0.0</td>\n",
       "    </tr>\n",
       "    <tr>\n",
       "      <th>jumlah_luka_ringan</th>\n",
       "      <td>922.0</td>\n",
       "      <td>97.889371</td>\n",
       "      <td>373.948693</td>\n",
       "      <td>0.0</td>\n",
       "      <td>0.0</td>\n",
       "      <td>0.0</td>\n",
       "      <td>0.00</td>\n",
       "      <td>4461.0</td>\n",
       "    </tr>\n",
       "    <tr>\n",
       "      <th>jumlah_pengungsi_tertinggi</th>\n",
       "      <td>922.0</td>\n",
       "      <td>1.444685</td>\n",
       "      <td>11.102898</td>\n",
       "      <td>0.0</td>\n",
       "      <td>0.0</td>\n",
       "      <td>0.0</td>\n",
       "      <td>0.00</td>\n",
       "      <td>271.0</td>\n",
       "    </tr>\n",
       "    <tr>\n",
       "      <th>jumlah_tempat_pengungsian</th>\n",
       "      <td>922.0</td>\n",
       "      <td>0.013015</td>\n",
       "      <td>0.146785</td>\n",
       "      <td>0.0</td>\n",
       "      <td>0.0</td>\n",
       "      <td>0.0</td>\n",
       "      <td>0.00</td>\n",
       "      <td>3.0</td>\n",
       "    </tr>\n",
       "    <tr>\n",
       "      <th>nilai_kerugian</th>\n",
       "      <td>922.0</td>\n",
       "      <td>0.000000</td>\n",
       "      <td>0.000000</td>\n",
       "      <td>0.0</td>\n",
       "      <td>0.0</td>\n",
       "      <td>0.0</td>\n",
       "      <td>0.00</td>\n",
       "      <td>0.0</td>\n",
       "    </tr>\n",
       "    <tr>\n",
       "      <th>ketinggian_air_num</th>\n",
       "      <td>922.0</td>\n",
       "      <td>42.055857</td>\n",
       "      <td>27.718697</td>\n",
       "      <td>5.0</td>\n",
       "      <td>20.0</td>\n",
       "      <td>35.0</td>\n",
       "      <td>50.50</td>\n",
       "      <td>200.0</td>\n",
       "    </tr>\n",
       "  </tbody>\n",
       "</table>\n",
       "</div>"
      ],
      "text/plain": [
       "                            count        mean         std  min   25%   50%  \\\n",
       "jumlah_terdampak_rw         922.0    2.023861    2.386961  0.0   1.0   1.0   \n",
       "jumlah_terdampak_rt         922.0    3.612798    5.545074  1.0   1.0   1.0   \n",
       "jumlah_terdampak_kk         922.0   45.992408  206.176366  0.0   0.0   0.0   \n",
       "jumlah_terdampak_jiwa       922.0  164.061822  709.345351  0.0   0.0   0.0   \n",
       "lama_genangan               922.0    0.020607    0.156677  0.0   0.0   0.0   \n",
       "jumlah_meninggal            922.0    0.000000    0.000000  0.0   0.0   0.0   \n",
       "jumlah_hilang               922.0    0.000000    0.000000  0.0   0.0   0.0   \n",
       "jumlah_luka_berat           922.0    0.000000    0.000000  0.0   0.0   0.0   \n",
       "jumlah_luka_ringan          922.0   97.889371  373.948693  0.0   0.0   0.0   \n",
       "jumlah_pengungsi_tertinggi  922.0    1.444685   11.102898  0.0   0.0   0.0   \n",
       "jumlah_tempat_pengungsian   922.0    0.013015    0.146785  0.0   0.0   0.0   \n",
       "nilai_kerugian              922.0    0.000000    0.000000  0.0   0.0   0.0   \n",
       "ketinggian_air_num          922.0   42.055857   27.718697  5.0  20.0  35.0   \n",
       "\n",
       "                              75%      max  \n",
       "jumlah_terdampak_rw          2.75     15.0  \n",
       "jumlah_terdampak_rt          4.00     46.0  \n",
       "jumlah_terdampak_kk          7.75   3762.0  \n",
       "jumlah_terdampak_jiwa       26.50  13450.0  \n",
       "lama_genangan                0.00      2.0  \n",
       "jumlah_meninggal             0.00      0.0  \n",
       "jumlah_hilang                0.00      0.0  \n",
       "jumlah_luka_berat            0.00      0.0  \n",
       "jumlah_luka_ringan           0.00   4461.0  \n",
       "jumlah_pengungsi_tertinggi   0.00    271.0  \n",
       "jumlah_tempat_pengungsian    0.00      3.0  \n",
       "nilai_kerugian               0.00      0.0  \n",
       "ketinggian_air_num          50.50    200.0  "
      ]
     },
     "execution_count": 260,
     "metadata": {},
     "output_type": "execute_result"
    }
   ],
   "source": [
    "merged_df.describe().T"
   ]
  },
  {
   "cell_type": "code",
   "execution_count": 261,
   "metadata": {},
   "outputs": [
    {
     "data": {
      "text/html": [
       "<div>\n",
       "<style scoped>\n",
       "    .dataframe tbody tr th:only-of-type {\n",
       "        vertical-align: middle;\n",
       "    }\n",
       "\n",
       "    .dataframe tbody tr th {\n",
       "        vertical-align: top;\n",
       "    }\n",
       "\n",
       "    .dataframe thead th {\n",
       "        text-align: right;\n",
       "    }\n",
       "</style>\n",
       "<table border=\"1\" class=\"dataframe\">\n",
       "  <thead>\n",
       "    <tr style=\"text-align: right;\">\n",
       "      <th></th>\n",
       "      <th>kota_administrasi</th>\n",
       "      <th>kecamatan</th>\n",
       "      <th>kelurahan</th>\n",
       "      <th>rw</th>\n",
       "      <th>ketinggian_air</th>\n",
       "      <th>tanggal_kejadian</th>\n",
       "    </tr>\n",
       "  </thead>\n",
       "  <tbody>\n",
       "    <tr>\n",
       "      <th>count</th>\n",
       "      <td>922</td>\n",
       "      <td>922</td>\n",
       "      <td>922</td>\n",
       "      <td>922</td>\n",
       "      <td>922</td>\n",
       "      <td>922</td>\n",
       "    </tr>\n",
       "    <tr>\n",
       "      <th>unique</th>\n",
       "      <td>6</td>\n",
       "      <td>47</td>\n",
       "      <td>220</td>\n",
       "      <td>356</td>\n",
       "      <td>183</td>\n",
       "      <td>237</td>\n",
       "    </tr>\n",
       "    <tr>\n",
       "      <th>top</th>\n",
       "      <td>Jakarta Timur</td>\n",
       "      <td>JATINEGARA</td>\n",
       "      <td>KAMPUNG MELAYU</td>\n",
       "      <td>0</td>\n",
       "      <td>20 cm</td>\n",
       "      <td>tgl. 01 Januari</td>\n",
       "    </tr>\n",
       "    <tr>\n",
       "      <th>freq</th>\n",
       "      <td>343</td>\n",
       "      <td>84</td>\n",
       "      <td>57</td>\n",
       "      <td>186</td>\n",
       "      <td>64</td>\n",
       "      <td>104</td>\n",
       "    </tr>\n",
       "  </tbody>\n",
       "</table>\n",
       "</div>"
      ],
      "text/plain": [
       "       kota_administrasi   kecamatan       kelurahan   rw ketinggian_air  \\\n",
       "count                922         922             922  922            922   \n",
       "unique                 6          47             220  356            183   \n",
       "top        Jakarta Timur  JATINEGARA  KAMPUNG MELAYU    0          20 cm   \n",
       "freq                 343          84              57  186             64   \n",
       "\n",
       "       tanggal_kejadian  \n",
       "count               922  \n",
       "unique              237  \n",
       "top     tgl. 01 Januari  \n",
       "freq                104  "
      ]
     },
     "execution_count": 261,
     "metadata": {},
     "output_type": "execute_result"
    }
   ],
   "source": [
    "merged_df.describe(include=['object'])"
   ]
  },
  {
   "attachments": {},
   "cell_type": "markdown",
   "metadata": {},
   "source": [
    "Analisis Deskriptif:\n",
    "\n",
    "1. Jumlah Terdampak RW:\n",
    "    - Rata-rata jumlah terdampak RW adalah sekitar 2.02, dengan nilai minimum 0 dan maksimum 15.\n",
    "    - Kuartil pertama (25%) adalah 1, median (50%) adalah 1, dan kuartil ketiga (75%) adalah 2.75.\n",
    "\n",
    "2. Jumlah Terdampak RT:\n",
    "    - Rata-rata jumlah terdampak RT adalah sekitar 3.61, dengan nilai minimum 1 dan maksimum 46.\n",
    "    - Kuartil pertama (25%) adalah 1, median (50%) adalah 1, dan kuartil ketiga (75%) adalah 4.\n",
    "\n",
    "3. Jumlah Terdampak KK:\n",
    "    - Rata-rata jumlah terdampak KK adalah sekitar 45.99, dengan nilai minimum 0 dan maksimum 3762.\n",
    "    - Kuartil pertama (25%) adalah 0, median (50%) adalah 0, dan kuartil ketiga (75%) adalah 7.75.\n",
    "\n",
    "4. Jumlah Terdampak Jiwa:\n",
    "    - Rata-rata jumlah terdampak jiwa adalah sekitar 164.06, dengan nilai minimum 0 dan maksimum 13450.\n",
    "    - Kuartil pertama (25%) adalah 0, median (50%) adalah 0, dan kuartil ketiga (75%) adalah 26.50.\n",
    "\n",
    "5. Lama Genangan:\n",
    "    - Rata-rata lama genangan adalah sekitar 0.02, dengan nilai minimum 0 dan maksimum 2.0.\n",
    "    - Sebagian besar data memiliki nilai nol, dengan kuartil pertama, median, dan kuartil ketiga semuanya adalah 0.\n",
    "\n",
    "6. Jumlah Meninggal, Hilang Luka Berat, dan nilai kerugian:\n",
    "    - Rata-ratanya adalah 0, dengan semua data memiliki nilai 0.\n",
    "    - Untuk semua variabel ini, rata-rata dan deviasi standar adalah 0, yang mengindikasikan bahwa mayoritas observasi memiliki nilai 0. Hal ini dapat menunjukkan bahwa kebanyakan data adalah nol dan mungkin ada banyak kasus di mana tidak ada kejadian yang tercatat.\n",
    "\n",
    "7. Jumlah Luka Ringan:\n",
    "    - Rata-rata jumlah luka ringan adalah sekitar 97.89, dengan nilai minimum 0 dan maksimum 4461.\n",
    "    - Sebagian besar data memiliki nilai nol, dengan kuartil pertama, median, dan kuartil ketiga semuanya adalah 0.\n",
    "\n",
    "8. Jumlah Pengungsi Tertinggi:\n",
    "    - Rata-rata jumlah pengungsi tertinggi adalah sekitar 1.44, dengan nilai minimum 0 dan maksimum 271.\n",
    "    - Sebagian besar data memiliki nilai nol, dengan kuartil pertama, median, dan kuartil ketiga semuanya adalah 0.\n",
    "\n",
    "9. Jumlah Tempat Pengungsian:\n",
    "    - Jumlah maksimum tempat pengungsian adalah 3.\n",
    "    - Sebagian besar data memiliki nilai nol, dengan kuartil pertama, median, dan kuartil ketiga semuanya adalah 0.\n",
    "\n",
    "10. Ketinggian Air (dalam numerik):\n",
    "    - Rata-rata ketinggian air adalah sekitar 42.06, dengan nilai minimum 5 dan maksimum 200.\n",
    "    - Kuartil pertama (25%) adalah 20, median (50%) adalah 35, dan kuartil ketiga (75%) adalah 50.50.\n"
   ]
  },
  {
   "attachments": {},
   "cell_type": "markdown",
   "metadata": {},
   "source": [
    "Jumlah Unik (unique):\n",
    "- Kota Administrasi: Terdapat 6 kota administrasi yang berbeda dalam dataset.\n",
    "- Kecamatan: Ada 47 kecamatan yang berbeda.\n",
    "- Kelurahan: Terdapat 220 kelurahan yang berbeda.\n",
    "- RW (Rukun Warga): Terdapat 356 nilai yang berbeda.\n",
    "- Ketinggian Air: Ada 183 tingkat ketinggian air yang berbeda.\n",
    "- Tanggal Kejadian: Terdapat 237 tanggal kejadian yang berbeda.\n",
    "\n",
    "Nilai Paling Sering Muncul (top):\n",
    "- Kota Administrasi yang paling sering muncul adalah \"Jakarta Timur\".\n",
    "- Kecamatan yang paling sering muncul adalah \"JATINEGARA\".\n",
    "- Kelurahan yang paling sering muncul adalah \"KAMPUNG MELAYU\".\n",
    "- RW dengan nilai yang paling sering adalah \"0\", data kosong.\n",
    "- Ketinggian Air yang paling sering adalah \"20 cm\".\n",
    "- Tanggal Kejadian yang paling sering adalah \"tgl. 01 Januari\".\n",
    "\n",
    "Frekuensi Nilai Teratas (freq):\n",
    "- \"Jakarta Timur\" muncul sebanyak 343 kali dalam kolom \"kota_administrasi\".\n",
    "- \"JATINEGARA\" muncul sebanyak 84 kali dalam kolom \"kecamatan\".\n",
    "- \"KAMPUNG MELAYU\" muncul sebanyak 57 kali dalam kolom \"kelurahan\".\n",
    "- \"0\" muncul sebanyak 186 kali dalam kolom \"rw\".\n",
    "- \"20 cm\" muncul sebanyak 64 kali dalam kolom \"ketinggian_air\".\n",
    "- \"tgl. 01 Januari\" muncul sebanyak 104 kali dalam kolom \"tanggal_kejadian\"."
   ]
  },
  {
   "attachments": {},
   "cell_type": "markdown",
   "metadata": {},
   "source": [
    "Analisis Inferensial:\n",
    "\n",
    "1. Jumlah terdampak pada tingkat RW dan RT memiliki variasi yang cukup besar, dengan beberapa lokasi memiliki jumlah terdampak yang signifikan.\n",
    "\n",
    "2. Jumlah terdampak KK dan jiwa juga memiliki variasi yang besar.\n",
    "\n",
    "3. Rata-rata lama genangan sangat rendah, dengan sebagian besar lokasi memiliki nilai nol. Ini menunjukkan bahwa genangan air tidak berlangsung lama di sebagian besar tempat.\n",
    "\n",
    "4. Jumlah korban meninggal, hilang, luka berat, dan nilai kerugian semuanya memiliki nilai nol pada sebagian besar lokasi, menunjukkan bahwa beberapa lokasi mungkin tidak mengalami dampak yang signifikan.\n",
    "\n",
    "5. Ketinggian air rata-rata adalah sekitar 42.06, tetapi nilai minimumnya adalah 5, yang berarti beberapa lokasi mungkin mengalami banjir yang lebih parah.\n",
    "\n",
    "6. Jumlah luka ringan memiliki nilai rata-rata yang signifikan (97.8) dengan deviasi standar yang cukup besar.\n"
   ]
  },
  {
   "cell_type": "code",
   "execution_count": 262,
   "metadata": {},
   "outputs": [],
   "source": [
    "# merged_df.to_csv('merged_data_2020.csv', index=False)"
   ]
  },
  {
   "cell_type": "code",
   "execution_count": 263,
   "metadata": {},
   "outputs": [],
   "source": [
    "# merged_df = merged_df[['tanggal', 'kota_administrasi', 'kecamatan', 'kelurahan', 'rw', 'ketinggian_air', 'tanggal_kejadian',                    \n",
    "#                        'jumlah_terdampak_kk', 'jumlah_terdampak_rw', 'jumlah_terdampak_rt', 'jumlah_terdampak_jiwa', 'lama_genangan',\n",
    "#                        'jumlah_luka_ringan', 'jumlah_pengungsi_tertinggi', 'jumlah_tempat_pengungsian']]\n"
   ]
  },
  {
   "cell_type": "code",
   "execution_count": 264,
   "metadata": {},
   "outputs": [
    {
     "data": {
      "text/html": [
       "<div>\n",
       "<style scoped>\n",
       "    .dataframe tbody tr th:only-of-type {\n",
       "        vertical-align: middle;\n",
       "    }\n",
       "\n",
       "    .dataframe tbody tr th {\n",
       "        vertical-align: top;\n",
       "    }\n",
       "\n",
       "    .dataframe thead th {\n",
       "        text-align: right;\n",
       "    }\n",
       "</style>\n",
       "<table border=\"1\" class=\"dataframe\">\n",
       "  <thead>\n",
       "    <tr style=\"text-align: right;\">\n",
       "      <th></th>\n",
       "      <th>tanggal</th>\n",
       "      <th>kota_administrasi</th>\n",
       "      <th>kecamatan</th>\n",
       "      <th>kelurahan</th>\n",
       "      <th>rw</th>\n",
       "      <th>jumlah_terdampak_rw</th>\n",
       "      <th>jumlah_terdampak_rt</th>\n",
       "      <th>jumlah_terdampak_kk</th>\n",
       "      <th>jumlah_terdampak_jiwa</th>\n",
       "      <th>ketinggian_air</th>\n",
       "      <th>tanggal_kejadian</th>\n",
       "      <th>lama_genangan</th>\n",
       "      <th>jumlah_meninggal</th>\n",
       "      <th>jumlah_hilang</th>\n",
       "      <th>jumlah_luka_berat</th>\n",
       "      <th>jumlah_luka_ringan</th>\n",
       "      <th>jumlah_pengungsi_tertinggi</th>\n",
       "      <th>jumlah_tempat_pengungsian</th>\n",
       "      <th>nilai_kerugian</th>\n",
       "      <th>ketinggian_air_num</th>\n",
       "    </tr>\n",
       "  </thead>\n",
       "  <tbody>\n",
       "    <tr>\n",
       "      <th>0</th>\n",
       "      <td>2020-01-30</td>\n",
       "      <td>Jakarta Pusat</td>\n",
       "      <td>JOHAR BARU</td>\n",
       "      <td>JOHAR BARU</td>\n",
       "      <td>RW 01, 02, 06, 08</td>\n",
       "      <td>4</td>\n",
       "      <td>4</td>\n",
       "      <td>35</td>\n",
       "      <td>140</td>\n",
       "      <td>10 s/d 30 cm</td>\n",
       "      <td>tgl. 01 Januari</td>\n",
       "      <td>0</td>\n",
       "      <td>0</td>\n",
       "      <td>0</td>\n",
       "      <td>0</td>\n",
       "      <td>140</td>\n",
       "      <td>1</td>\n",
       "      <td>0</td>\n",
       "      <td>0</td>\n",
       "      <td>20.0</td>\n",
       "    </tr>\n",
       "    <tr>\n",
       "      <th>1</th>\n",
       "      <td>2020-01-30</td>\n",
       "      <td>Jakarta Pusat</td>\n",
       "      <td>KEMAYORAN</td>\n",
       "      <td>GUNUNG SAHARI SELATAN</td>\n",
       "      <td>RW 01, 02, 07, 08</td>\n",
       "      <td>4</td>\n",
       "      <td>4</td>\n",
       "      <td>0</td>\n",
       "      <td>0</td>\n",
       "      <td>10 s/d 70 cm</td>\n",
       "      <td>tgl. 01 Januari</td>\n",
       "      <td>0</td>\n",
       "      <td>0</td>\n",
       "      <td>0</td>\n",
       "      <td>0</td>\n",
       "      <td>0</td>\n",
       "      <td>0</td>\n",
       "      <td>0</td>\n",
       "      <td>0</td>\n",
       "      <td>40.0</td>\n",
       "    </tr>\n",
       "    <tr>\n",
       "      <th>2</th>\n",
       "      <td>2020-01-30</td>\n",
       "      <td>Jakarta Pusat</td>\n",
       "      <td>KEMAYORAN</td>\n",
       "      <td>SERDANG</td>\n",
       "      <td>RW 01, 02, 06, 07</td>\n",
       "      <td>4</td>\n",
       "      <td>4</td>\n",
       "      <td>0</td>\n",
       "      <td>0</td>\n",
       "      <td>10 s/d 30 cm</td>\n",
       "      <td>tgl. 01 Januari</td>\n",
       "      <td>1</td>\n",
       "      <td>0</td>\n",
       "      <td>0</td>\n",
       "      <td>0</td>\n",
       "      <td>0</td>\n",
       "      <td>0</td>\n",
       "      <td>0</td>\n",
       "      <td>0</td>\n",
       "      <td>20.0</td>\n",
       "    </tr>\n",
       "    <tr>\n",
       "      <th>3</th>\n",
       "      <td>2020-01-30</td>\n",
       "      <td>Jakarta Pusat</td>\n",
       "      <td>SAWAH BESAR</td>\n",
       "      <td>PASAR BARU</td>\n",
       "      <td>RW 02, 03, 04, 05, 06, 07, 08</td>\n",
       "      <td>7</td>\n",
       "      <td>7</td>\n",
       "      <td>155</td>\n",
       "      <td>625</td>\n",
       "      <td>10 s/d 70 cm</td>\n",
       "      <td>tgl. 01 Januari</td>\n",
       "      <td>0</td>\n",
       "      <td>0</td>\n",
       "      <td>0</td>\n",
       "      <td>0</td>\n",
       "      <td>625</td>\n",
       "      <td>5</td>\n",
       "      <td>0</td>\n",
       "      <td>0</td>\n",
       "      <td>40.0</td>\n",
       "    </tr>\n",
       "    <tr>\n",
       "      <th>4</th>\n",
       "      <td>2020-01-30</td>\n",
       "      <td>Jakarta Pusat</td>\n",
       "      <td>TANAH ABANG</td>\n",
       "      <td>BENDUNGAN HILIR</td>\n",
       "      <td>RW 07, 09</td>\n",
       "      <td>2</td>\n",
       "      <td>2</td>\n",
       "      <td>52</td>\n",
       "      <td>195</td>\n",
       "      <td>31 s/d 70 cm</td>\n",
       "      <td>tgl. 01 Januari</td>\n",
       "      <td>0</td>\n",
       "      <td>0</td>\n",
       "      <td>0</td>\n",
       "      <td>0</td>\n",
       "      <td>195</td>\n",
       "      <td>6</td>\n",
       "      <td>0</td>\n",
       "      <td>0</td>\n",
       "      <td>50.5</td>\n",
       "    </tr>\n",
       "  </tbody>\n",
       "</table>\n",
       "</div>"
      ],
      "text/plain": [
       "     tanggal kota_administrasi    kecamatan              kelurahan  \\\n",
       "0 2020-01-30     Jakarta Pusat   JOHAR BARU             JOHAR BARU   \n",
       "1 2020-01-30     Jakarta Pusat    KEMAYORAN  GUNUNG SAHARI SELATAN   \n",
       "2 2020-01-30     Jakarta Pusat    KEMAYORAN                SERDANG   \n",
       "3 2020-01-30     Jakarta Pusat  SAWAH BESAR             PASAR BARU   \n",
       "4 2020-01-30     Jakarta Pusat  TANAH ABANG        BENDUNGAN HILIR   \n",
       "\n",
       "                              rw  jumlah_terdampak_rw  jumlah_terdampak_rt  \\\n",
       "0              RW 01, 02, 06, 08                    4                    4   \n",
       "1              RW 01, 02, 07, 08                    4                    4   \n",
       "2              RW 01, 02, 06, 07                    4                    4   \n",
       "3  RW 02, 03, 04, 05, 06, 07, 08                    7                    7   \n",
       "4                      RW 07, 09                    2                    2   \n",
       "\n",
       "   jumlah_terdampak_kk  jumlah_terdampak_jiwa ketinggian_air tanggal_kejadian  \\\n",
       "0                   35                    140   10 s/d 30 cm  tgl. 01 Januari   \n",
       "1                    0                      0   10 s/d 70 cm  tgl. 01 Januari   \n",
       "2                    0                      0   10 s/d 30 cm  tgl. 01 Januari   \n",
       "3                  155                    625   10 s/d 70 cm  tgl. 01 Januari   \n",
       "4                   52                    195   31 s/d 70 cm  tgl. 01 Januari   \n",
       "\n",
       "   lama_genangan  jumlah_meninggal  jumlah_hilang  jumlah_luka_berat  \\\n",
       "0              0                 0              0                  0   \n",
       "1              0                 0              0                  0   \n",
       "2              1                 0              0                  0   \n",
       "3              0                 0              0                  0   \n",
       "4              0                 0              0                  0   \n",
       "\n",
       "   jumlah_luka_ringan  jumlah_pengungsi_tertinggi  jumlah_tempat_pengungsian  \\\n",
       "0                 140                           1                          0   \n",
       "1                   0                           0                          0   \n",
       "2                   0                           0                          0   \n",
       "3                 625                           5                          0   \n",
       "4                 195                           6                          0   \n",
       "\n",
       "   nilai_kerugian  ketinggian_air_num  \n",
       "0               0                20.0  \n",
       "1               0                40.0  \n",
       "2               0                20.0  \n",
       "3               0                40.0  \n",
       "4               0                50.5  "
      ]
     },
     "execution_count": 264,
     "metadata": {},
     "output_type": "execute_result"
    }
   ],
   "source": [
    "merged_df.head()"
   ]
  },
  {
   "cell_type": "code",
   "execution_count": 265,
   "metadata": {},
   "outputs": [
    {
     "data": {
      "text/html": [
       "<div>\n",
       "<style scoped>\n",
       "    .dataframe tbody tr th:only-of-type {\n",
       "        vertical-align: middle;\n",
       "    }\n",
       "\n",
       "    .dataframe tbody tr th {\n",
       "        vertical-align: top;\n",
       "    }\n",
       "\n",
       "    .dataframe thead th {\n",
       "        text-align: right;\n",
       "    }\n",
       "</style>\n",
       "<table border=\"1\" class=\"dataframe\">\n",
       "  <thead>\n",
       "    <tr style=\"text-align: right;\">\n",
       "      <th></th>\n",
       "      <th>ketinggian_air</th>\n",
       "      <th>ketinggian_air_num</th>\n",
       "    </tr>\n",
       "  </thead>\n",
       "  <tbody>\n",
       "    <tr>\n",
       "      <th>0</th>\n",
       "      <td>10 s/d 30 cm</td>\n",
       "      <td>20.0</td>\n",
       "    </tr>\n",
       "    <tr>\n",
       "      <th>1</th>\n",
       "      <td>10 s/d 70 cm</td>\n",
       "      <td>40.0</td>\n",
       "    </tr>\n",
       "    <tr>\n",
       "      <th>2</th>\n",
       "      <td>10 s/d 30 cm</td>\n",
       "      <td>20.0</td>\n",
       "    </tr>\n",
       "    <tr>\n",
       "      <th>3</th>\n",
       "      <td>10 s/d 70 cm</td>\n",
       "      <td>40.0</td>\n",
       "    </tr>\n",
       "    <tr>\n",
       "      <th>4</th>\n",
       "      <td>31 s/d 70 cm</td>\n",
       "      <td>50.5</td>\n",
       "    </tr>\n",
       "    <tr>\n",
       "      <th>...</th>\n",
       "      <td>...</td>\n",
       "      <td>...</td>\n",
       "    </tr>\n",
       "    <tr>\n",
       "      <th>1000</th>\n",
       "      <td>5 s/d 10 cm</td>\n",
       "      <td>7.5</td>\n",
       "    </tr>\n",
       "    <tr>\n",
       "      <th>1001</th>\n",
       "      <td>10 s/d 15 cm</td>\n",
       "      <td>12.5</td>\n",
       "    </tr>\n",
       "    <tr>\n",
       "      <th>1002</th>\n",
       "      <td>5 s/d 20 cm</td>\n",
       "      <td>12.5</td>\n",
       "    </tr>\n",
       "    <tr>\n",
       "      <th>1003</th>\n",
       "      <td>15 cm</td>\n",
       "      <td>15.0</td>\n",
       "    </tr>\n",
       "    <tr>\n",
       "      <th>1004</th>\n",
       "      <td>5 cm</td>\n",
       "      <td>5.0</td>\n",
       "    </tr>\n",
       "  </tbody>\n",
       "</table>\n",
       "<p>922 rows × 2 columns</p>\n",
       "</div>"
      ],
      "text/plain": [
       "     ketinggian_air  ketinggian_air_num\n",
       "0      10 s/d 30 cm                20.0\n",
       "1      10 s/d 70 cm                40.0\n",
       "2      10 s/d 30 cm                20.0\n",
       "3      10 s/d 70 cm                40.0\n",
       "4      31 s/d 70 cm                50.5\n",
       "...             ...                 ...\n",
       "1000    5 s/d 10 cm                 7.5\n",
       "1001   10 s/d 15 cm                12.5\n",
       "1002    5 s/d 20 cm                12.5\n",
       "1003          15 cm                15.0\n",
       "1004           5 cm                 5.0\n",
       "\n",
       "[922 rows x 2 columns]"
      ]
     },
     "execution_count": 265,
     "metadata": {},
     "output_type": "execute_result"
    }
   ],
   "source": [
    "merged_df[['ketinggian_air','ketinggian_air_num']]"
   ]
  },
  {
   "cell_type": "code",
   "execution_count": 266,
   "metadata": {},
   "outputs": [],
   "source": [
    "# merged_df.to_csv('merged_data_2020.csv', index=False)"
   ]
  },
  {
   "cell_type": "code",
   "execution_count": 267,
   "metadata": {},
   "outputs": [
    {
     "data": {
      "text/html": [
       "<div>\n",
       "<style scoped>\n",
       "    .dataframe tbody tr th:only-of-type {\n",
       "        vertical-align: middle;\n",
       "    }\n",
       "\n",
       "    .dataframe tbody tr th {\n",
       "        vertical-align: top;\n",
       "    }\n",
       "\n",
       "    .dataframe thead th {\n",
       "        text-align: right;\n",
       "    }\n",
       "</style>\n",
       "<table border=\"1\" class=\"dataframe\">\n",
       "  <thead>\n",
       "    <tr style=\"text-align: right;\">\n",
       "      <th></th>\n",
       "      <th>kota_administrasi</th>\n",
       "      <th>jumlah_terdampak_jiwa</th>\n",
       "      <th>jumlah_luka_ringan</th>\n",
       "      <th>jumlah_pengungsi_tertinggi</th>\n",
       "    </tr>\n",
       "  </thead>\n",
       "  <tbody>\n",
       "    <tr>\n",
       "      <th>0</th>\n",
       "      <td>Jakarta Barat</td>\n",
       "      <td>20309</td>\n",
       "      <td>21109</td>\n",
       "      <td>192</td>\n",
       "    </tr>\n",
       "    <tr>\n",
       "      <th>1</th>\n",
       "      <td>Jakarta Pusat</td>\n",
       "      <td>3038</td>\n",
       "      <td>5381</td>\n",
       "      <td>32</td>\n",
       "    </tr>\n",
       "    <tr>\n",
       "      <th>2</th>\n",
       "      <td>Jakarta Selatan</td>\n",
       "      <td>25614</td>\n",
       "      <td>22214</td>\n",
       "      <td>712</td>\n",
       "    </tr>\n",
       "    <tr>\n",
       "      <th>3</th>\n",
       "      <td>Jakarta Timur</td>\n",
       "      <td>94387</td>\n",
       "      <td>33519</td>\n",
       "      <td>302</td>\n",
       "    </tr>\n",
       "    <tr>\n",
       "      <th>4</th>\n",
       "      <td>Jakarta Utara</td>\n",
       "      <td>7917</td>\n",
       "      <td>8031</td>\n",
       "      <td>94</td>\n",
       "    </tr>\n",
       "    <tr>\n",
       "      <th>5</th>\n",
       "      <td>Kepulauan Seribu</td>\n",
       "      <td>0</td>\n",
       "      <td>0</td>\n",
       "      <td>0</td>\n",
       "    </tr>\n",
       "  </tbody>\n",
       "</table>\n",
       "</div>"
      ],
      "text/plain": [
       "  kota_administrasi  jumlah_terdampak_jiwa  jumlah_luka_ringan  \\\n",
       "0     Jakarta Barat                  20309               21109   \n",
       "1     Jakarta Pusat                   3038                5381   \n",
       "2   Jakarta Selatan                  25614               22214   \n",
       "3     Jakarta Timur                  94387               33519   \n",
       "4     Jakarta Utara                   7917                8031   \n",
       "5  Kepulauan Seribu                      0                   0   \n",
       "\n",
       "   jumlah_pengungsi_tertinggi  \n",
       "0                         192  \n",
       "1                          32  \n",
       "2                         712  \n",
       "3                         302  \n",
       "4                          94  \n",
       "5                           0  "
      ]
     },
     "execution_count": 267,
     "metadata": {},
     "output_type": "execute_result"
    }
   ],
   "source": [
    "merged_damage = merged_df.groupby('kota_administrasi')[['jumlah_terdampak_jiwa','jumlah_luka_ringan', 'jumlah_pengungsi_tertinggi']].sum().reset_index()\n",
    "merged_damage"
   ]
  },
  {
   "attachments": {},
   "cell_type": "markdown",
   "metadata": {},
   "source": [
    "**Bagaimana distribusi ketinggian air di berbagai Kota Administrasi?**"
   ]
  },
  {
   "cell_type": "code",
   "execution_count": 268,
   "metadata": {},
   "outputs": [
    {
     "data": {
      "application/vnd.plotly.v1+json": {
       "config": {
        "plotlyServerURL": "https://plot.ly"
       },
       "data": [
        {
         "alignmentgroup": "True",
         "hovertemplate": "kota_administrasi=%{x}<br>ketinggian_air_num=%{y}<extra></extra>",
         "legendgroup": "",
         "marker": {
          "color": "#636efa",
          "pattern": {
           "shape": ""
          }
         },
         "name": "",
         "offsetgroup": "",
         "orientation": "v",
         "showlegend": false,
         "textposition": "auto",
         "type": "bar",
         "x": [
          "Jakarta Selatan",
          "Jakarta Timur",
          "Jakarta Barat",
          "Jakarta Pusat",
          "Jakarta Utara",
          "Kepulauan Seribu"
         ],
         "xaxis": "x",
         "y": [
          46.118705035971225,
          45.54081632653061,
          37,
          34.08108108108108,
          30.445205479452056,
          18.958333333333332
         ],
         "yaxis": "y"
        }
       ],
       "layout": {
        "barmode": "relative",
        "legend": {
         "tracegroupgap": 0
        },
        "template": {
         "data": {
          "bar": [
           {
            "error_x": {
             "color": "#f2f5fa"
            },
            "error_y": {
             "color": "#f2f5fa"
            },
            "marker": {
             "line": {
              "color": "rgb(17,17,17)",
              "width": 0.5
             },
             "pattern": {
              "fillmode": "overlay",
              "size": 10,
              "solidity": 0.2
             }
            },
            "type": "bar"
           }
          ],
          "barpolar": [
           {
            "marker": {
             "line": {
              "color": "rgb(17,17,17)",
              "width": 0.5
             },
             "pattern": {
              "fillmode": "overlay",
              "size": 10,
              "solidity": 0.2
             }
            },
            "type": "barpolar"
           }
          ],
          "carpet": [
           {
            "aaxis": {
             "endlinecolor": "#A2B1C6",
             "gridcolor": "#506784",
             "linecolor": "#506784",
             "minorgridcolor": "#506784",
             "startlinecolor": "#A2B1C6"
            },
            "baxis": {
             "endlinecolor": "#A2B1C6",
             "gridcolor": "#506784",
             "linecolor": "#506784",
             "minorgridcolor": "#506784",
             "startlinecolor": "#A2B1C6"
            },
            "type": "carpet"
           }
          ],
          "choropleth": [
           {
            "colorbar": {
             "outlinewidth": 0,
             "ticks": ""
            },
            "type": "choropleth"
           }
          ],
          "contour": [
           {
            "colorbar": {
             "outlinewidth": 0,
             "ticks": ""
            },
            "colorscale": [
             [
              0,
              "#0d0887"
             ],
             [
              0.1111111111111111,
              "#46039f"
             ],
             [
              0.2222222222222222,
              "#7201a8"
             ],
             [
              0.3333333333333333,
              "#9c179e"
             ],
             [
              0.4444444444444444,
              "#bd3786"
             ],
             [
              0.5555555555555556,
              "#d8576b"
             ],
             [
              0.6666666666666666,
              "#ed7953"
             ],
             [
              0.7777777777777778,
              "#fb9f3a"
             ],
             [
              0.8888888888888888,
              "#fdca26"
             ],
             [
              1,
              "#f0f921"
             ]
            ],
            "type": "contour"
           }
          ],
          "contourcarpet": [
           {
            "colorbar": {
             "outlinewidth": 0,
             "ticks": ""
            },
            "type": "contourcarpet"
           }
          ],
          "heatmap": [
           {
            "colorbar": {
             "outlinewidth": 0,
             "ticks": ""
            },
            "colorscale": [
             [
              0,
              "#0d0887"
             ],
             [
              0.1111111111111111,
              "#46039f"
             ],
             [
              0.2222222222222222,
              "#7201a8"
             ],
             [
              0.3333333333333333,
              "#9c179e"
             ],
             [
              0.4444444444444444,
              "#bd3786"
             ],
             [
              0.5555555555555556,
              "#d8576b"
             ],
             [
              0.6666666666666666,
              "#ed7953"
             ],
             [
              0.7777777777777778,
              "#fb9f3a"
             ],
             [
              0.8888888888888888,
              "#fdca26"
             ],
             [
              1,
              "#f0f921"
             ]
            ],
            "type": "heatmap"
           }
          ],
          "heatmapgl": [
           {
            "colorbar": {
             "outlinewidth": 0,
             "ticks": ""
            },
            "colorscale": [
             [
              0,
              "#0d0887"
             ],
             [
              0.1111111111111111,
              "#46039f"
             ],
             [
              0.2222222222222222,
              "#7201a8"
             ],
             [
              0.3333333333333333,
              "#9c179e"
             ],
             [
              0.4444444444444444,
              "#bd3786"
             ],
             [
              0.5555555555555556,
              "#d8576b"
             ],
             [
              0.6666666666666666,
              "#ed7953"
             ],
             [
              0.7777777777777778,
              "#fb9f3a"
             ],
             [
              0.8888888888888888,
              "#fdca26"
             ],
             [
              1,
              "#f0f921"
             ]
            ],
            "type": "heatmapgl"
           }
          ],
          "histogram": [
           {
            "marker": {
             "pattern": {
              "fillmode": "overlay",
              "size": 10,
              "solidity": 0.2
             }
            },
            "type": "histogram"
           }
          ],
          "histogram2d": [
           {
            "colorbar": {
             "outlinewidth": 0,
             "ticks": ""
            },
            "colorscale": [
             [
              0,
              "#0d0887"
             ],
             [
              0.1111111111111111,
              "#46039f"
             ],
             [
              0.2222222222222222,
              "#7201a8"
             ],
             [
              0.3333333333333333,
              "#9c179e"
             ],
             [
              0.4444444444444444,
              "#bd3786"
             ],
             [
              0.5555555555555556,
              "#d8576b"
             ],
             [
              0.6666666666666666,
              "#ed7953"
             ],
             [
              0.7777777777777778,
              "#fb9f3a"
             ],
             [
              0.8888888888888888,
              "#fdca26"
             ],
             [
              1,
              "#f0f921"
             ]
            ],
            "type": "histogram2d"
           }
          ],
          "histogram2dcontour": [
           {
            "colorbar": {
             "outlinewidth": 0,
             "ticks": ""
            },
            "colorscale": [
             [
              0,
              "#0d0887"
             ],
             [
              0.1111111111111111,
              "#46039f"
             ],
             [
              0.2222222222222222,
              "#7201a8"
             ],
             [
              0.3333333333333333,
              "#9c179e"
             ],
             [
              0.4444444444444444,
              "#bd3786"
             ],
             [
              0.5555555555555556,
              "#d8576b"
             ],
             [
              0.6666666666666666,
              "#ed7953"
             ],
             [
              0.7777777777777778,
              "#fb9f3a"
             ],
             [
              0.8888888888888888,
              "#fdca26"
             ],
             [
              1,
              "#f0f921"
             ]
            ],
            "type": "histogram2dcontour"
           }
          ],
          "mesh3d": [
           {
            "colorbar": {
             "outlinewidth": 0,
             "ticks": ""
            },
            "type": "mesh3d"
           }
          ],
          "parcoords": [
           {
            "line": {
             "colorbar": {
              "outlinewidth": 0,
              "ticks": ""
             }
            },
            "type": "parcoords"
           }
          ],
          "pie": [
           {
            "automargin": true,
            "type": "pie"
           }
          ],
          "scatter": [
           {
            "marker": {
             "line": {
              "color": "#283442"
             }
            },
            "type": "scatter"
           }
          ],
          "scatter3d": [
           {
            "line": {
             "colorbar": {
              "outlinewidth": 0,
              "ticks": ""
             }
            },
            "marker": {
             "colorbar": {
              "outlinewidth": 0,
              "ticks": ""
             }
            },
            "type": "scatter3d"
           }
          ],
          "scattercarpet": [
           {
            "marker": {
             "colorbar": {
              "outlinewidth": 0,
              "ticks": ""
             }
            },
            "type": "scattercarpet"
           }
          ],
          "scattergeo": [
           {
            "marker": {
             "colorbar": {
              "outlinewidth": 0,
              "ticks": ""
             }
            },
            "type": "scattergeo"
           }
          ],
          "scattergl": [
           {
            "marker": {
             "line": {
              "color": "#283442"
             }
            },
            "type": "scattergl"
           }
          ],
          "scattermapbox": [
           {
            "marker": {
             "colorbar": {
              "outlinewidth": 0,
              "ticks": ""
             }
            },
            "type": "scattermapbox"
           }
          ],
          "scatterpolar": [
           {
            "marker": {
             "colorbar": {
              "outlinewidth": 0,
              "ticks": ""
             }
            },
            "type": "scatterpolar"
           }
          ],
          "scatterpolargl": [
           {
            "marker": {
             "colorbar": {
              "outlinewidth": 0,
              "ticks": ""
             }
            },
            "type": "scatterpolargl"
           }
          ],
          "scatterternary": [
           {
            "marker": {
             "colorbar": {
              "outlinewidth": 0,
              "ticks": ""
             }
            },
            "type": "scatterternary"
           }
          ],
          "surface": [
           {
            "colorbar": {
             "outlinewidth": 0,
             "ticks": ""
            },
            "colorscale": [
             [
              0,
              "#0d0887"
             ],
             [
              0.1111111111111111,
              "#46039f"
             ],
             [
              0.2222222222222222,
              "#7201a8"
             ],
             [
              0.3333333333333333,
              "#9c179e"
             ],
             [
              0.4444444444444444,
              "#bd3786"
             ],
             [
              0.5555555555555556,
              "#d8576b"
             ],
             [
              0.6666666666666666,
              "#ed7953"
             ],
             [
              0.7777777777777778,
              "#fb9f3a"
             ],
             [
              0.8888888888888888,
              "#fdca26"
             ],
             [
              1,
              "#f0f921"
             ]
            ],
            "type": "surface"
           }
          ],
          "table": [
           {
            "cells": {
             "fill": {
              "color": "#506784"
             },
             "line": {
              "color": "rgb(17,17,17)"
             }
            },
            "header": {
             "fill": {
              "color": "#2a3f5f"
             },
             "line": {
              "color": "rgb(17,17,17)"
             }
            },
            "type": "table"
           }
          ]
         },
         "layout": {
          "annotationdefaults": {
           "arrowcolor": "#f2f5fa",
           "arrowhead": 0,
           "arrowwidth": 1
          },
          "autotypenumbers": "strict",
          "coloraxis": {
           "colorbar": {
            "outlinewidth": 0,
            "ticks": ""
           }
          },
          "colorscale": {
           "diverging": [
            [
             0,
             "#8e0152"
            ],
            [
             0.1,
             "#c51b7d"
            ],
            [
             0.2,
             "#de77ae"
            ],
            [
             0.3,
             "#f1b6da"
            ],
            [
             0.4,
             "#fde0ef"
            ],
            [
             0.5,
             "#f7f7f7"
            ],
            [
             0.6,
             "#e6f5d0"
            ],
            [
             0.7,
             "#b8e186"
            ],
            [
             0.8,
             "#7fbc41"
            ],
            [
             0.9,
             "#4d9221"
            ],
            [
             1,
             "#276419"
            ]
           ],
           "sequential": [
            [
             0,
             "#0d0887"
            ],
            [
             0.1111111111111111,
             "#46039f"
            ],
            [
             0.2222222222222222,
             "#7201a8"
            ],
            [
             0.3333333333333333,
             "#9c179e"
            ],
            [
             0.4444444444444444,
             "#bd3786"
            ],
            [
             0.5555555555555556,
             "#d8576b"
            ],
            [
             0.6666666666666666,
             "#ed7953"
            ],
            [
             0.7777777777777778,
             "#fb9f3a"
            ],
            [
             0.8888888888888888,
             "#fdca26"
            ],
            [
             1,
             "#f0f921"
            ]
           ],
           "sequentialminus": [
            [
             0,
             "#0d0887"
            ],
            [
             0.1111111111111111,
             "#46039f"
            ],
            [
             0.2222222222222222,
             "#7201a8"
            ],
            [
             0.3333333333333333,
             "#9c179e"
            ],
            [
             0.4444444444444444,
             "#bd3786"
            ],
            [
             0.5555555555555556,
             "#d8576b"
            ],
            [
             0.6666666666666666,
             "#ed7953"
            ],
            [
             0.7777777777777778,
             "#fb9f3a"
            ],
            [
             0.8888888888888888,
             "#fdca26"
            ],
            [
             1,
             "#f0f921"
            ]
           ]
          },
          "colorway": [
           "#636efa",
           "#EF553B",
           "#00cc96",
           "#ab63fa",
           "#FFA15A",
           "#19d3f3",
           "#FF6692",
           "#B6E880",
           "#FF97FF",
           "#FECB52"
          ],
          "font": {
           "color": "#f2f5fa"
          },
          "geo": {
           "bgcolor": "rgb(17,17,17)",
           "lakecolor": "rgb(17,17,17)",
           "landcolor": "rgb(17,17,17)",
           "showlakes": true,
           "showland": true,
           "subunitcolor": "#506784"
          },
          "hoverlabel": {
           "align": "left"
          },
          "hovermode": "closest",
          "mapbox": {
           "style": "dark"
          },
          "paper_bgcolor": "rgb(17,17,17)",
          "plot_bgcolor": "rgb(17,17,17)",
          "polar": {
           "angularaxis": {
            "gridcolor": "#506784",
            "linecolor": "#506784",
            "ticks": ""
           },
           "bgcolor": "rgb(17,17,17)",
           "radialaxis": {
            "gridcolor": "#506784",
            "linecolor": "#506784",
            "ticks": ""
           }
          },
          "scene": {
           "xaxis": {
            "backgroundcolor": "rgb(17,17,17)",
            "gridcolor": "#506784",
            "gridwidth": 2,
            "linecolor": "#506784",
            "showbackground": true,
            "ticks": "",
            "zerolinecolor": "#C8D4E3"
           },
           "yaxis": {
            "backgroundcolor": "rgb(17,17,17)",
            "gridcolor": "#506784",
            "gridwidth": 2,
            "linecolor": "#506784",
            "showbackground": true,
            "ticks": "",
            "zerolinecolor": "#C8D4E3"
           },
           "zaxis": {
            "backgroundcolor": "rgb(17,17,17)",
            "gridcolor": "#506784",
            "gridwidth": 2,
            "linecolor": "#506784",
            "showbackground": true,
            "ticks": "",
            "zerolinecolor": "#C8D4E3"
           }
          },
          "shapedefaults": {
           "line": {
            "color": "#f2f5fa"
           }
          },
          "sliderdefaults": {
           "bgcolor": "#C8D4E3",
           "bordercolor": "rgb(17,17,17)",
           "borderwidth": 1,
           "tickwidth": 0
          },
          "ternary": {
           "aaxis": {
            "gridcolor": "#506784",
            "linecolor": "#506784",
            "ticks": ""
           },
           "baxis": {
            "gridcolor": "#506784",
            "linecolor": "#506784",
            "ticks": ""
           },
           "bgcolor": "rgb(17,17,17)",
           "caxis": {
            "gridcolor": "#506784",
            "linecolor": "#506784",
            "ticks": ""
           }
          },
          "title": {
           "x": 0.05
          },
          "updatemenudefaults": {
           "bgcolor": "#506784",
           "borderwidth": 0
          },
          "xaxis": {
           "automargin": true,
           "gridcolor": "#283442",
           "linecolor": "#506784",
           "ticks": "",
           "title": {
            "standoff": 15
           },
           "zerolinecolor": "#283442",
           "zerolinewidth": 2
          },
          "yaxis": {
           "automargin": true,
           "gridcolor": "#283442",
           "linecolor": "#506784",
           "ticks": "",
           "title": {
            "standoff": 15
           },
           "zerolinecolor": "#283442",
           "zerolinewidth": 2
          }
         }
        },
        "title": {
         "text": "Distribusi Ketinggian Air per Kota Administrasi"
        },
        "xaxis": {
         "anchor": "y",
         "domain": [
          0,
          1
         ],
         "title": {
          "text": "Kota Administrasi"
         }
        },
        "yaxis": {
         "anchor": "x",
         "domain": [
          0,
          1
         ],
         "title": {
          "text": "Ketinggian Air (cm)"
         }
        }
       }
      }
     },
     "metadata": {},
     "output_type": "display_data"
    }
   ],
   "source": [
    "kota_data = merged_df.groupby('kota_administrasi')['ketinggian_air_num'].mean().reset_index()\n",
    "kota_data = kota_data.sort_values(by='ketinggian_air_num', ascending=False)\n",
    "\n",
    "fig = px.bar(kota_data, x='kota_administrasi', y='ketinggian_air_num', title='Distribusi Ketinggian Air per Kota Administrasi')\n",
    "fig.update_xaxes(title_text='Kota Administrasi')\n",
    "fig.update_yaxes(title_text='Ketinggian Air (cm)')\n",
    "fig.update_layout(template='plotly_dark')\n",
    "fig.show()"
   ]
  },
  {
   "attachments": {},
   "cell_type": "markdown",
   "metadata": {},
   "source": [
    "**Bagaimana distribusi ketinggian air di berbagai kelurahan?**"
   ]
  },
  {
   "cell_type": "code",
   "execution_count": 269,
   "metadata": {},
   "outputs": [
    {
     "data": {
      "application/vnd.plotly.v1+json": {
       "config": {
        "plotlyServerURL": "https://plot.ly"
       },
       "data": [
        {
         "alignmentgroup": "True",
         "hovertemplate": "kelurahan=%{x}<br>ketinggian_air_num=%{y}<extra></extra>",
         "legendgroup": "",
         "marker": {
          "color": "#636efa",
          "pattern": {
           "shape": ""
          }
         },
         "name": "",
         "offsetgroup": "",
         "orientation": "v",
         "showlegend": false,
         "textposition": "auto",
         "type": "bar",
         "x": [
          "CIPINANG BESAR SELATAN",
          "GUNUNG",
          "PETUKANGAN UTARA",
          "RAWA BARAT",
          "MAMPANG PRAPATAN",
          "CILANDAK BARAT",
          "JOGLO",
          "KRAMAT JATI",
          "PONDOK KELAPA",
          "RAWA TERATE",
          "MALAKA JAYA",
          "KARET TENGSIN",
          "KAYU PUTIH",
          "PENGADEGAN",
          "SUKA PURA",
          "MERUYA SELATAN",
          "KARET SEMANGGI",
          "BALE KAMBANG",
          "BUKIT DURI",
          "PISANGAN TIMUR",
          "CIGANJUR",
          "HALIM PERDANA KUSUMA",
          "MENTENG DALAM",
          "CILANDAK TIMUR",
          "MANGGARAI SELATAN",
          "CIKOKO",
          "SUKABUMI SELATAN",
          "KRAMAT PELA",
          "KLENDER",
          "BAMBU APUS",
          "PONDOK PINANG",
          "KOTA BAMBU SELATAN",
          "KELAPA DUA ",
          "BIDARA CINA",
          "PEJATEN TIMUR",
          "KEMANGGISAN",
          "KEBON MANGGIS",
          "SETU",
          "SEMANAN",
          "CAKUNG BARAT",
          "PULOGADUNG",
          "KEBON SIRIH",
          "GANDARIA SELATAN",
          "SUKAPURA",
          "CAWANG",
          "SUKABUMI UTARA",
          "CIRACAS",
          "KEBAYORAN LAMA SELATAN",
          "GEDONG",
          "TANJUNG BARAT",
          "DUKUH",
          "PULO",
          "CIBUBUR",
          "SEMPER TIMUR",
          "KELAPA DUA WETAN",
          "WIJAYA KUSUMA",
          "GROGOL SELATAN",
          "KUNINGAN TIMUR",
          "CEGER",
          "UJUNG MENTENG",
          "KEBAYORAN LAMA UTARA",
          "SLIPI",
          "LEBAK BULUS",
          "PONDOK RANGGON",
          "GUNUNG SAHARI SELATAN",
          "MALAKA SARI",
          "PEJAGALAN",
          "KEMBANGAN SELATAN",
          "CIPAYUNG",
          "KUNINGAN BARAT",
          "TENGAH",
          "CENGKARENG TIMUR",
          "PETOGOGAN",
          "CIPULIR",
          "KEBON PALA",
          "LUBANG BUAYA",
          "TOMANG",
          "CIPINANG",
          "RAWA BUNGA",
          "GUNTUR",
          "PETUKANGAN SELATAN",
          "KEBAGUSAN",
          "MANGGARAI",
          "TEGAL PARANG",
          "RAMBUTAN",
          "UTAN KAYU SELATAN",
          "BENDUNGAN HILIR",
          "PISANGAN BARU",
          "JATI",
          "PEGANGSAAN DUA",
          "KEBON MELATI",
          "CAKUNG TIMUR",
          "CILILITAN",
          "CIJANTUNG",
          "RAWAJATI",
          "KEMBANGAN UTARA",
          "BANGKA",
          "CIPINANG MELAYU",
          "BATU AMPAR",
          "BALEKAMBANG",
          "KEDOYA SELATAN",
          "TEGAL ALUR",
          "KAMPUNG MELAYU",
          "PEKOJAN",
          "PULAU TIDUNG",
          "TUGU SELATAN",
          "PASAR MANGGIS",
          "TEBET BARAT",
          "0",
          "JATINEGARA KAUM",
          "DURI KEPA",
          "CIPEDAK",
          "KEDOYA UTARA",
          "PONDOK LABU",
          "DURI KOSAMBI",
          "RAWA BADAK SELATAN",
          "ROROTAN",
          "ULUJAMI",
          "SRENGSENG",
          "BINTARO",
          "KEDAUNG KALI ANGKE",
          "TUGU UTARA",
          "MAKASAR",
          "KALIBATA",
          "CIPINANG MUARA",
          "PETAMBURAN",
          "PINANG RANTI",
          "PEKAYON",
          "DUREN TIGA",
          "JAGAKARSA",
          "CEMPAKA BARU",
          "TANJUNG DUREN UTARA",
          "MANGGA BESAR",
          "PAL MERIAM",
          "TANGKI",
          "UTAN KAYU UTARA",
          "MENTENG",
          "CILANGKAP",
          "PLUIT",
          "PASAR BARU",
          "KEBON JERUK",
          "CIPINANG CEMPEDAK",
          "PULO GEBANG",
          "SEMPER BARAT",
          "KEBON BARU",
          "PALMERAH",
          "MERUYA UTARA",
          "PULO GADUNG",
          "KEBON KOSONG",
          "KRENDANG",
          "RAWAMANGUN",
          "CEMPAKA PUTIH TIMUR",
          "PULAU PARI",
          "TANAH TINGGI",
          "KRAMAT",
          "MANGGA DUA SELATAN",
          "GUNUNG SAHARI UTARA",
          "GANDARIA UTARA",
          "GROGOL UTARA",
          "SUMUR BATU",
          "RAGUNAN",
          "JELAMBAR BARU",
          "KALISARI",
          "PEJATEN BARAT",
          "PELA MAMPANG",
          "CIPETE SELATAN",
          "JATI PADANG",
          "PONDOK BAMBU",
          "PULAU KELAPA",
          "MENTENG ATAS",
          "CIPETE UTARA",
          "KELAPA GADING TIMUR",
          "PONDOK KOPI",
          "PULAU UNTUNG JAWA",
          "SUSUKAN",
          "CENGKARENG BARAT",
          "JOHAR BARU",
          "KEBON BAWANG",
          "PENJARINGAN",
          "DUREN SAWIT",
          "PULAU PANGGANG",
          "SERDANG",
          "KAMAL",
          "KARET",
          "RAWASARI",
          "RAWA BUAYA",
          "KELAPA GADING BARAT",
          "KOTA BAMBU UTARA",
          "JATINEGARA",
          "JATI PULO",
          "KALIDERES",
          "ANCOL",
          "PEGADUNGAN",
          "MARUNDA",
          "KAPUK MUARA",
          "TANJUNG DUREN SELATAN",
          "KARANG ANYAR",
          "PADEMANGAN BARAT ",
          "TANJUNG PRIOK",
          "PANCORAN",
          "KEMAYORAN",
          "SUNTER JAYA",
          "WARAKAS",
          "PINANGSIA",
          "KEBON KELAPA",
          "PENGGILINGAN",
          "CEMPAKA PUTIH BARAT",
          "KAMPUNG RAWA",
          "SRENGSENG SAWAH",
          "KENARI",
          "PASEBAN",
          "LENTENG AGUNG",
          "CILINCING",
          "KAPUK",
          "PADEMANGAN TIMUR",
          "JELAMBAR",
          "CIPINANG BESAR UTARA",
          "PASAR MINGGU",
          "PULAU HARAPAN ",
          "PULAU HARAPAN"
         ],
         "xaxis": "x",
         "y": [
          110.5,
          110.5,
          110.5,
          110.5,
          105.25,
          95.25,
          90.5,
          90.5,
          87.75,
          86.66666666666667,
          85.25,
          85.25,
          82.75,
          80.91666666666667,
          80,
          80,
          77.75,
          75.25,
          75.125,
          75,
          73,
          72.75,
          70,
          69.55,
          67.75,
          64,
          63,
          62.75,
          62.5,
          61.1,
          60.5,
          60.25,
          60,
          58.78125,
          58.3125,
          57.75,
          56.833333333333336,
          56.1,
          56,
          55.166666666666664,
          55,
          55,
          55,
          55,
          54.28947368421053,
          54,
          53.75,
          53.5,
          53.333333333333336,
          52.75,
          52.666666666666664,
          52.5,
          51.25,
          51.25,
          51.25,
          50.5,
          50.5,
          50.5,
          50.5,
          50.5,
          50.5,
          50.5,
          50.083333333333336,
          50,
          50,
          50,
          48.333333333333336,
          47.958333333333336,
          47.666666666666664,
          47.625,
          47.5,
          47.5,
          46.3125,
          46.25,
          46.107142857142854,
          45.6,
          45.25,
          45.25,
          45.25,
          45.25,
          45,
          44.5,
          43.642857142857146,
          43.5,
          43.06521739130435,
          42.75,
          42.75,
          42.75,
          42.75,
          42.5,
          42.5,
          42.5,
          42.333333333333336,
          41.833333333333336,
          41.81818181818182,
          41.666666666666664,
          41.53333333333333,
          41.388888888888886,
          41.375,
          41,
          40.921052631578945,
          40.0625,
          40.04385964912281,
          40,
          40,
          40,
          40,
          40,
          40,
          40,
          39.714285714285715,
          39.44444444444444,
          39.357142857142854,
          39.25,
          39.25,
          39.166666666666664,
          39,
          38.8125,
          38.22727272727273,
          37.775,
          37.625,
          37.5,
          37.27777777777778,
          37.214285714285715,
          37,
          36.875,
          36.6,
          36.5625,
          36.25,
          35.166666666666664,
          35,
          35,
          35,
          35,
          35,
          35,
          35,
          34.166666666666664,
          33.214285714285715,
          32.5,
          32.5,
          32.5,
          32.5,
          32.5,
          32.25,
          32.1,
          30.25,
          30,
          30,
          30,
          30,
          30,
          30,
          30,
          30,
          30,
          30,
          30,
          30,
          30,
          29.166666666666668,
          29,
          29,
          28.88888888888889,
          28.833333333333332,
          28.75,
          28,
          27.833333333333332,
          27.5,
          27.5,
          27.5,
          27.5,
          27.5,
          27.5,
          27.142857142857142,
          27.1,
          26.666666666666668,
          26.666666666666668,
          26.666666666666668,
          26.25,
          25,
          25,
          25,
          25,
          25,
          24.136363636363637,
          23.75,
          23.75,
          23.333333333333332,
          22.5,
          21.375,
          21.25,
          21.071428571428573,
          20.357142857142858,
          20.357142857142858,
          20,
          20,
          20,
          20,
          20,
          20,
          20,
          20,
          20,
          20,
          20,
          20,
          20,
          20,
          20,
          20,
          20,
          19.166666666666668,
          17.772727272727273,
          17.5,
          16.666666666666668,
          15,
          15,
          12.5,
          10.833333333333334
         ],
         "yaxis": "y"
        }
       ],
       "layout": {
        "barmode": "relative",
        "legend": {
         "tracegroupgap": 0
        },
        "template": {
         "data": {
          "bar": [
           {
            "error_x": {
             "color": "#f2f5fa"
            },
            "error_y": {
             "color": "#f2f5fa"
            },
            "marker": {
             "line": {
              "color": "rgb(17,17,17)",
              "width": 0.5
             },
             "pattern": {
              "fillmode": "overlay",
              "size": 10,
              "solidity": 0.2
             }
            },
            "type": "bar"
           }
          ],
          "barpolar": [
           {
            "marker": {
             "line": {
              "color": "rgb(17,17,17)",
              "width": 0.5
             },
             "pattern": {
              "fillmode": "overlay",
              "size": 10,
              "solidity": 0.2
             }
            },
            "type": "barpolar"
           }
          ],
          "carpet": [
           {
            "aaxis": {
             "endlinecolor": "#A2B1C6",
             "gridcolor": "#506784",
             "linecolor": "#506784",
             "minorgridcolor": "#506784",
             "startlinecolor": "#A2B1C6"
            },
            "baxis": {
             "endlinecolor": "#A2B1C6",
             "gridcolor": "#506784",
             "linecolor": "#506784",
             "minorgridcolor": "#506784",
             "startlinecolor": "#A2B1C6"
            },
            "type": "carpet"
           }
          ],
          "choropleth": [
           {
            "colorbar": {
             "outlinewidth": 0,
             "ticks": ""
            },
            "type": "choropleth"
           }
          ],
          "contour": [
           {
            "colorbar": {
             "outlinewidth": 0,
             "ticks": ""
            },
            "colorscale": [
             [
              0,
              "#0d0887"
             ],
             [
              0.1111111111111111,
              "#46039f"
             ],
             [
              0.2222222222222222,
              "#7201a8"
             ],
             [
              0.3333333333333333,
              "#9c179e"
             ],
             [
              0.4444444444444444,
              "#bd3786"
             ],
             [
              0.5555555555555556,
              "#d8576b"
             ],
             [
              0.6666666666666666,
              "#ed7953"
             ],
             [
              0.7777777777777778,
              "#fb9f3a"
             ],
             [
              0.8888888888888888,
              "#fdca26"
             ],
             [
              1,
              "#f0f921"
             ]
            ],
            "type": "contour"
           }
          ],
          "contourcarpet": [
           {
            "colorbar": {
             "outlinewidth": 0,
             "ticks": ""
            },
            "type": "contourcarpet"
           }
          ],
          "heatmap": [
           {
            "colorbar": {
             "outlinewidth": 0,
             "ticks": ""
            },
            "colorscale": [
             [
              0,
              "#0d0887"
             ],
             [
              0.1111111111111111,
              "#46039f"
             ],
             [
              0.2222222222222222,
              "#7201a8"
             ],
             [
              0.3333333333333333,
              "#9c179e"
             ],
             [
              0.4444444444444444,
              "#bd3786"
             ],
             [
              0.5555555555555556,
              "#d8576b"
             ],
             [
              0.6666666666666666,
              "#ed7953"
             ],
             [
              0.7777777777777778,
              "#fb9f3a"
             ],
             [
              0.8888888888888888,
              "#fdca26"
             ],
             [
              1,
              "#f0f921"
             ]
            ],
            "type": "heatmap"
           }
          ],
          "heatmapgl": [
           {
            "colorbar": {
             "outlinewidth": 0,
             "ticks": ""
            },
            "colorscale": [
             [
              0,
              "#0d0887"
             ],
             [
              0.1111111111111111,
              "#46039f"
             ],
             [
              0.2222222222222222,
              "#7201a8"
             ],
             [
              0.3333333333333333,
              "#9c179e"
             ],
             [
              0.4444444444444444,
              "#bd3786"
             ],
             [
              0.5555555555555556,
              "#d8576b"
             ],
             [
              0.6666666666666666,
              "#ed7953"
             ],
             [
              0.7777777777777778,
              "#fb9f3a"
             ],
             [
              0.8888888888888888,
              "#fdca26"
             ],
             [
              1,
              "#f0f921"
             ]
            ],
            "type": "heatmapgl"
           }
          ],
          "histogram": [
           {
            "marker": {
             "pattern": {
              "fillmode": "overlay",
              "size": 10,
              "solidity": 0.2
             }
            },
            "type": "histogram"
           }
          ],
          "histogram2d": [
           {
            "colorbar": {
             "outlinewidth": 0,
             "ticks": ""
            },
            "colorscale": [
             [
              0,
              "#0d0887"
             ],
             [
              0.1111111111111111,
              "#46039f"
             ],
             [
              0.2222222222222222,
              "#7201a8"
             ],
             [
              0.3333333333333333,
              "#9c179e"
             ],
             [
              0.4444444444444444,
              "#bd3786"
             ],
             [
              0.5555555555555556,
              "#d8576b"
             ],
             [
              0.6666666666666666,
              "#ed7953"
             ],
             [
              0.7777777777777778,
              "#fb9f3a"
             ],
             [
              0.8888888888888888,
              "#fdca26"
             ],
             [
              1,
              "#f0f921"
             ]
            ],
            "type": "histogram2d"
           }
          ],
          "histogram2dcontour": [
           {
            "colorbar": {
             "outlinewidth": 0,
             "ticks": ""
            },
            "colorscale": [
             [
              0,
              "#0d0887"
             ],
             [
              0.1111111111111111,
              "#46039f"
             ],
             [
              0.2222222222222222,
              "#7201a8"
             ],
             [
              0.3333333333333333,
              "#9c179e"
             ],
             [
              0.4444444444444444,
              "#bd3786"
             ],
             [
              0.5555555555555556,
              "#d8576b"
             ],
             [
              0.6666666666666666,
              "#ed7953"
             ],
             [
              0.7777777777777778,
              "#fb9f3a"
             ],
             [
              0.8888888888888888,
              "#fdca26"
             ],
             [
              1,
              "#f0f921"
             ]
            ],
            "type": "histogram2dcontour"
           }
          ],
          "mesh3d": [
           {
            "colorbar": {
             "outlinewidth": 0,
             "ticks": ""
            },
            "type": "mesh3d"
           }
          ],
          "parcoords": [
           {
            "line": {
             "colorbar": {
              "outlinewidth": 0,
              "ticks": ""
             }
            },
            "type": "parcoords"
           }
          ],
          "pie": [
           {
            "automargin": true,
            "type": "pie"
           }
          ],
          "scatter": [
           {
            "marker": {
             "line": {
              "color": "#283442"
             }
            },
            "type": "scatter"
           }
          ],
          "scatter3d": [
           {
            "line": {
             "colorbar": {
              "outlinewidth": 0,
              "ticks": ""
             }
            },
            "marker": {
             "colorbar": {
              "outlinewidth": 0,
              "ticks": ""
             }
            },
            "type": "scatter3d"
           }
          ],
          "scattercarpet": [
           {
            "marker": {
             "colorbar": {
              "outlinewidth": 0,
              "ticks": ""
             }
            },
            "type": "scattercarpet"
           }
          ],
          "scattergeo": [
           {
            "marker": {
             "colorbar": {
              "outlinewidth": 0,
              "ticks": ""
             }
            },
            "type": "scattergeo"
           }
          ],
          "scattergl": [
           {
            "marker": {
             "line": {
              "color": "#283442"
             }
            },
            "type": "scattergl"
           }
          ],
          "scattermapbox": [
           {
            "marker": {
             "colorbar": {
              "outlinewidth": 0,
              "ticks": ""
             }
            },
            "type": "scattermapbox"
           }
          ],
          "scatterpolar": [
           {
            "marker": {
             "colorbar": {
              "outlinewidth": 0,
              "ticks": ""
             }
            },
            "type": "scatterpolar"
           }
          ],
          "scatterpolargl": [
           {
            "marker": {
             "colorbar": {
              "outlinewidth": 0,
              "ticks": ""
             }
            },
            "type": "scatterpolargl"
           }
          ],
          "scatterternary": [
           {
            "marker": {
             "colorbar": {
              "outlinewidth": 0,
              "ticks": ""
             }
            },
            "type": "scatterternary"
           }
          ],
          "surface": [
           {
            "colorbar": {
             "outlinewidth": 0,
             "ticks": ""
            },
            "colorscale": [
             [
              0,
              "#0d0887"
             ],
             [
              0.1111111111111111,
              "#46039f"
             ],
             [
              0.2222222222222222,
              "#7201a8"
             ],
             [
              0.3333333333333333,
              "#9c179e"
             ],
             [
              0.4444444444444444,
              "#bd3786"
             ],
             [
              0.5555555555555556,
              "#d8576b"
             ],
             [
              0.6666666666666666,
              "#ed7953"
             ],
             [
              0.7777777777777778,
              "#fb9f3a"
             ],
             [
              0.8888888888888888,
              "#fdca26"
             ],
             [
              1,
              "#f0f921"
             ]
            ],
            "type": "surface"
           }
          ],
          "table": [
           {
            "cells": {
             "fill": {
              "color": "#506784"
             },
             "line": {
              "color": "rgb(17,17,17)"
             }
            },
            "header": {
             "fill": {
              "color": "#2a3f5f"
             },
             "line": {
              "color": "rgb(17,17,17)"
             }
            },
            "type": "table"
           }
          ]
         },
         "layout": {
          "annotationdefaults": {
           "arrowcolor": "#f2f5fa",
           "arrowhead": 0,
           "arrowwidth": 1
          },
          "autotypenumbers": "strict",
          "coloraxis": {
           "colorbar": {
            "outlinewidth": 0,
            "ticks": ""
           }
          },
          "colorscale": {
           "diverging": [
            [
             0,
             "#8e0152"
            ],
            [
             0.1,
             "#c51b7d"
            ],
            [
             0.2,
             "#de77ae"
            ],
            [
             0.3,
             "#f1b6da"
            ],
            [
             0.4,
             "#fde0ef"
            ],
            [
             0.5,
             "#f7f7f7"
            ],
            [
             0.6,
             "#e6f5d0"
            ],
            [
             0.7,
             "#b8e186"
            ],
            [
             0.8,
             "#7fbc41"
            ],
            [
             0.9,
             "#4d9221"
            ],
            [
             1,
             "#276419"
            ]
           ],
           "sequential": [
            [
             0,
             "#0d0887"
            ],
            [
             0.1111111111111111,
             "#46039f"
            ],
            [
             0.2222222222222222,
             "#7201a8"
            ],
            [
             0.3333333333333333,
             "#9c179e"
            ],
            [
             0.4444444444444444,
             "#bd3786"
            ],
            [
             0.5555555555555556,
             "#d8576b"
            ],
            [
             0.6666666666666666,
             "#ed7953"
            ],
            [
             0.7777777777777778,
             "#fb9f3a"
            ],
            [
             0.8888888888888888,
             "#fdca26"
            ],
            [
             1,
             "#f0f921"
            ]
           ],
           "sequentialminus": [
            [
             0,
             "#0d0887"
            ],
            [
             0.1111111111111111,
             "#46039f"
            ],
            [
             0.2222222222222222,
             "#7201a8"
            ],
            [
             0.3333333333333333,
             "#9c179e"
            ],
            [
             0.4444444444444444,
             "#bd3786"
            ],
            [
             0.5555555555555556,
             "#d8576b"
            ],
            [
             0.6666666666666666,
             "#ed7953"
            ],
            [
             0.7777777777777778,
             "#fb9f3a"
            ],
            [
             0.8888888888888888,
             "#fdca26"
            ],
            [
             1,
             "#f0f921"
            ]
           ]
          },
          "colorway": [
           "#636efa",
           "#EF553B",
           "#00cc96",
           "#ab63fa",
           "#FFA15A",
           "#19d3f3",
           "#FF6692",
           "#B6E880",
           "#FF97FF",
           "#FECB52"
          ],
          "font": {
           "color": "#f2f5fa"
          },
          "geo": {
           "bgcolor": "rgb(17,17,17)",
           "lakecolor": "rgb(17,17,17)",
           "landcolor": "rgb(17,17,17)",
           "showlakes": true,
           "showland": true,
           "subunitcolor": "#506784"
          },
          "hoverlabel": {
           "align": "left"
          },
          "hovermode": "closest",
          "mapbox": {
           "style": "dark"
          },
          "paper_bgcolor": "rgb(17,17,17)",
          "plot_bgcolor": "rgb(17,17,17)",
          "polar": {
           "angularaxis": {
            "gridcolor": "#506784",
            "linecolor": "#506784",
            "ticks": ""
           },
           "bgcolor": "rgb(17,17,17)",
           "radialaxis": {
            "gridcolor": "#506784",
            "linecolor": "#506784",
            "ticks": ""
           }
          },
          "scene": {
           "xaxis": {
            "backgroundcolor": "rgb(17,17,17)",
            "gridcolor": "#506784",
            "gridwidth": 2,
            "linecolor": "#506784",
            "showbackground": true,
            "ticks": "",
            "zerolinecolor": "#C8D4E3"
           },
           "yaxis": {
            "backgroundcolor": "rgb(17,17,17)",
            "gridcolor": "#506784",
            "gridwidth": 2,
            "linecolor": "#506784",
            "showbackground": true,
            "ticks": "",
            "zerolinecolor": "#C8D4E3"
           },
           "zaxis": {
            "backgroundcolor": "rgb(17,17,17)",
            "gridcolor": "#506784",
            "gridwidth": 2,
            "linecolor": "#506784",
            "showbackground": true,
            "ticks": "",
            "zerolinecolor": "#C8D4E3"
           }
          },
          "shapedefaults": {
           "line": {
            "color": "#f2f5fa"
           }
          },
          "sliderdefaults": {
           "bgcolor": "#C8D4E3",
           "bordercolor": "rgb(17,17,17)",
           "borderwidth": 1,
           "tickwidth": 0
          },
          "ternary": {
           "aaxis": {
            "gridcolor": "#506784",
            "linecolor": "#506784",
            "ticks": ""
           },
           "baxis": {
            "gridcolor": "#506784",
            "linecolor": "#506784",
            "ticks": ""
           },
           "bgcolor": "rgb(17,17,17)",
           "caxis": {
            "gridcolor": "#506784",
            "linecolor": "#506784",
            "ticks": ""
           }
          },
          "title": {
           "x": 0.05
          },
          "updatemenudefaults": {
           "bgcolor": "#506784",
           "borderwidth": 0
          },
          "xaxis": {
           "automargin": true,
           "gridcolor": "#283442",
           "linecolor": "#506784",
           "ticks": "",
           "title": {
            "standoff": 15
           },
           "zerolinecolor": "#283442",
           "zerolinewidth": 2
          },
          "yaxis": {
           "automargin": true,
           "gridcolor": "#283442",
           "linecolor": "#506784",
           "ticks": "",
           "title": {
            "standoff": 15
           },
           "zerolinecolor": "#283442",
           "zerolinewidth": 2
          }
         }
        },
        "title": {
         "text": "Distribusi Ketinggian Air per Kelurahan"
        },
        "xaxis": {
         "anchor": "y",
         "domain": [
          0,
          1
         ],
         "title": {
          "text": "Kelurahan"
         }
        },
        "yaxis": {
         "anchor": "x",
         "domain": [
          0,
          1
         ],
         "title": {
          "text": "Ketinggian Air (cm)"
         }
        }
       }
      }
     },
     "metadata": {},
     "output_type": "display_data"
    }
   ],
   "source": [
    "kelurahan_data = merged_df.groupby('kelurahan')['ketinggian_air_num'].mean().reset_index()\n",
    "\n",
    "# Urutkan data\n",
    "kelurahan_data = kelurahan_data.sort_values(by='ketinggian_air_num', ascending=False)\n",
    "\n",
    "# Buat plot\n",
    "fig = px.bar(kelurahan_data, x='kelurahan', y='ketinggian_air_num', title='Distribusi Ketinggian Air per Kelurahan')\n",
    "fig.update_xaxes(title_text='Kelurahan')\n",
    "fig.update_yaxes(title_text='Ketinggian Air (cm)')\n",
    "fig.update_layout(template='plotly_dark')\n",
    "fig.show()"
   ]
  },
  {
   "attachments": {},
   "cell_type": "markdown",
   "metadata": {},
   "source": [
    "**Berapa lama genangan air biasanya berlangsung?**"
   ]
  },
  {
   "cell_type": "code",
   "execution_count": 270,
   "metadata": {},
   "outputs": [
    {
     "name": "stdout",
     "output_type": "stream",
     "text": [
      "Rata-rata lama genangan air: 0.020607375271149676 hari\n"
     ]
    }
   ],
   "source": [
    "# rata-rata lama genangan air\n",
    "rata_rata_lama_genangan = merged_df['lama_genangan'].mean()\n",
    "\n",
    "print(f'Rata-rata lama genangan air: {rata_rata_lama_genangan} hari')\n"
   ]
  },
  {
   "cell_type": "code",
   "execution_count": 271,
   "metadata": {},
   "outputs": [
    {
     "name": "stdout",
     "output_type": "stream",
     "text": [
      "                kelurahan  lama_genangan\n",
      "202                TANGKI       1.000000\n",
      "149            PETAMBURAN       0.750000\n",
      "19       CENGKARENG TIMUR       0.500000\n",
      "189               SERDANG       0.500000\n",
      "186               SEMANAN       0.333333\n",
      "..                    ...            ...\n",
      "81   KEBAYORAN LAMA UTARA       0.000000\n",
      "82             KEBON BARU       0.000000\n",
      "83           KEBON BAWANG       0.000000\n",
      "84            KEBON JERUK       0.000000\n",
      "219         WIJAYA KUSUMA       0.000000\n",
      "\n",
      "[220 rows x 2 columns]\n"
     ]
    }
   ],
   "source": [
    "rata_rata_lama_genangan_kelurahan = merged_df.groupby('kelurahan')['lama_genangan'].mean().reset_index()\n",
    "rata_rata_lama_genangan_kelurahan = rata_rata_lama_genangan_kelurahan.sort_values(by='lama_genangan', ascending=False)\n",
    "\n",
    "print(rata_rata_lama_genangan_kelurahan)"
   ]
  },
  {
   "cell_type": "code",
   "execution_count": 272,
   "metadata": {},
   "outputs": [
    {
     "data": {
      "application/vnd.plotly.v1+json": {
       "config": {
        "plotlyServerURL": "https://plot.ly"
       },
       "data": [
        {
         "alignmentgroup": "True",
         "hovertemplate": "kelurahan=%{x}<br>lama_genangan=%{y}<extra></extra>",
         "legendgroup": "",
         "marker": {
          "color": "#636efa",
          "pattern": {
           "shape": ""
          }
         },
         "name": "",
         "offsetgroup": "",
         "orientation": "v",
         "showlegend": false,
         "textposition": "auto",
         "type": "bar",
         "x": [
          "TANGKI",
          "PETAMBURAN",
          "CENGKARENG TIMUR",
          "SERDANG",
          "SEMANAN",
          "DUREN TIGA",
          "BUKIT DURI",
          "BATU AMPAR",
          "CIPINANG MELAYU",
          "PALMERAH",
          "ROROTAN",
          "DURI KOSAMBI",
          "PONDOK BAMBU",
          "KAPUK",
          "RAWAJATI",
          "CAWANG",
          "PENGADEGAN",
          "PENGGILINGAN",
          "PENJARINGAN",
          "PELA MAMPANG",
          "0",
          "PETUKANGAN SELATAN",
          "PETOGOGAN",
          "PETUKANGAN UTARA",
          "PINANG RANTI",
          "PINANGSIA",
          "PISANGAN BARU",
          "PISANGAN TIMUR",
          "PLUIT",
          "PONDOK KELAPA",
          "PONDOK KOPI",
          "PONDOK LABU",
          "PONDOK PINANG",
          "PEKOJAN",
          "PEJAGALAN",
          "PEKAYON",
          "PEJATEN TIMUR",
          "MALAKA JAYA",
          "MALAKA SARI",
          "MAMPANG PRAPATAN",
          "MANGGA BESAR",
          "MANGGA DUA SELATAN",
          "MANGGARAI",
          "MANGGARAI SELATAN",
          "MARUNDA",
          "MENTENG",
          "MENTENG ATAS",
          "MENTENG DALAM",
          "MERUYA SELATAN",
          "MERUYA UTARA",
          "PADEMANGAN BARAT ",
          "PADEMANGAN TIMUR",
          "PAL MERIAM",
          "PANCORAN",
          "PASAR BARU",
          "PASAR MANGGIS",
          "PASAR MINGGU",
          "PASEBAN",
          "PEGADUNGAN",
          "PEGANGSAAN DUA",
          "PULAU HARAPAN",
          "PEJATEN BARAT",
          "PONDOK RANGGON",
          "PULAU UNTUNG JAWA",
          "PULAU HARAPAN ",
          "TEBET BARAT",
          "SUKABUMI UTARA",
          "SUKAPURA",
          "SUMUR BATU",
          "SUNTER JAYA",
          "SUSUKAN",
          "TANAH TINGGI",
          "TANJUNG BARAT",
          "TANJUNG DUREN SELATAN",
          "TANJUNG DUREN UTARA",
          "TANJUNG PRIOK",
          "TEGAL ALUR",
          "PULAU KELAPA",
          "TEGAL PARANG",
          "TENGAH",
          "TOMANG",
          "TUGU SELATAN",
          "TUGU UTARA",
          "UJUNG MENTENG",
          "ULUJAMI",
          "UTAN KAYU SELATAN",
          "UTAN KAYU UTARA",
          "WARAKAS",
          "SUKABUMI SELATAN",
          "SUKA PURA",
          "SRENGSENG SAWAH",
          "SRENGSENG",
          "PULAU PANGGANG",
          "PULAU PARI",
          "PULAU TIDUNG",
          "LUBANG BUAYA",
          "PULO",
          "PULO GADUNG",
          "PULO GEBANG",
          "PULOGADUNG",
          "RAGUNAN",
          "RAMBUTAN",
          "RAWA BADAK SELATAN",
          "RAWA BARAT",
          "RAWA BUAYA",
          "RAWA BUNGA",
          "RAWA TERATE",
          "RAWAMANGUN",
          "RAWASARI",
          "SEMPER BARAT",
          "SEMPER TIMUR",
          "SETU",
          "SLIPI",
          "MAKASAR",
          "KUNINGAN BARAT",
          "LENTENG AGUNG",
          "JATI PULO",
          "CIPETE UTARA",
          "CIPINANG",
          "CIPINANG BESAR SELATAN",
          "CIPINANG BESAR UTARA",
          "CIPINANG CEMPEDAK",
          "CIPINANG MUARA",
          "CIPULIR",
          "CIRACAS",
          "DUKUH",
          "DUREN SAWIT",
          "DURI KEPA",
          "GANDARIA SELATAN",
          "GANDARIA UTARA",
          "GEDONG",
          "GROGOL SELATAN",
          "GROGOL UTARA",
          "GUNTUR",
          "GUNUNG",
          "GUNUNG SAHARI SELATAN",
          "GUNUNG SAHARI UTARA",
          "HALIM PERDANA KUSUMA",
          "JAGAKARSA",
          "JATI",
          "CIPETE SELATAN",
          "CIPEDAK",
          "CIPAYUNG",
          "CEMPAKA BARU",
          "BALE KAMBANG",
          "BALEKAMBANG",
          "BAMBU APUS",
          "BANGKA",
          "BENDUNGAN HILIR",
          "BIDARA CINA",
          "BINTARO",
          "CAKUNG BARAT",
          "CAKUNG TIMUR",
          "CEGER",
          "CEMPAKA PUTIH BARAT",
          "CILINCING",
          "CEMPAKA PUTIH TIMUR",
          "CENGKARENG BARAT",
          "CIBUBUR",
          "CIGANJUR",
          "CIJANTUNG",
          "CIKOKO",
          "CILANDAK BARAT",
          "CILANDAK TIMUR",
          "CILANGKAP",
          "CILILITAN",
          "JATI PADANG",
          "JATINEGARA",
          "LEBAK BULUS",
          "JATINEGARA KAUM",
          "KEBON PALA",
          "KEBON SIRIH",
          "KEDAUNG KALI ANGKE",
          "KEDOYA SELATAN",
          "KEDOYA UTARA",
          "KELAPA DUA ",
          "KELAPA DUA WETAN",
          "KELAPA GADING BARAT",
          "KELAPA GADING TIMUR",
          "KEMANGGISAN",
          "KEMAYORAN",
          "KEMBANGAN SELATAN",
          "KEMBANGAN UTARA",
          "KENARI",
          "KLENDER",
          "KOTA BAMBU SELATAN",
          "KOTA BAMBU UTARA",
          "KRAMAT",
          "KRAMAT JATI",
          "KRAMAT PELA",
          "KRENDANG",
          "ANCOL",
          "KUNINGAN TIMUR",
          "KEBON MELATI",
          "KEBON MANGGIS",
          "KEBON KOSONG",
          "KAPUK MUARA",
          "JELAMBAR",
          "JELAMBAR BARU",
          "JOGLO",
          "JOHAR BARU",
          "KALIBATA",
          "KALIDERES",
          "KALISARI",
          "KAMAL",
          "KAMPUNG MELAYU",
          "KAMPUNG RAWA",
          "KARANG ANYAR",
          "KEBON KELAPA",
          "KARET",
          "KARET SEMANGGI",
          "KARET TENGSIN",
          "KAYU PUTIH",
          "KEBAGUSAN",
          "KEBAYORAN LAMA SELATAN",
          "KEBAYORAN LAMA UTARA",
          "KEBON BARU",
          "KEBON BAWANG",
          "KEBON JERUK",
          "WIJAYA KUSUMA"
         ],
         "xaxis": "x",
         "y": [
          1,
          0.75,
          0.5,
          0.5,
          0.3333333333333333,
          0.25,
          0.25,
          0.25,
          0.2222222222222222,
          0.2,
          0.2,
          0.16666666666666666,
          0.1111111111111111,
          0.09090909090909091,
          0.09090909090909091,
          0.02631578947368421,
          0,
          0,
          0,
          0,
          0,
          0,
          0,
          0,
          0,
          0,
          0,
          0,
          0,
          0,
          0,
          0,
          0,
          0,
          0,
          0,
          0,
          0,
          0,
          0,
          0,
          0,
          0,
          0,
          0,
          0,
          0,
          0,
          0,
          0,
          0,
          0,
          0,
          0,
          0,
          0,
          0,
          0,
          0,
          0,
          0,
          0,
          0,
          0,
          0,
          0,
          0,
          0,
          0,
          0,
          0,
          0,
          0,
          0,
          0,
          0,
          0,
          0,
          0,
          0,
          0,
          0,
          0,
          0,
          0,
          0,
          0,
          0,
          0,
          0,
          0,
          0,
          0,
          0,
          0,
          0,
          0,
          0,
          0,
          0,
          0,
          0,
          0,
          0,
          0,
          0,
          0,
          0,
          0,
          0,
          0,
          0,
          0,
          0,
          0,
          0,
          0,
          0,
          0,
          0,
          0,
          0,
          0,
          0,
          0,
          0,
          0,
          0,
          0,
          0,
          0,
          0,
          0,
          0,
          0,
          0,
          0,
          0,
          0,
          0,
          0,
          0,
          0,
          0,
          0,
          0,
          0,
          0,
          0,
          0,
          0,
          0,
          0,
          0,
          0,
          0,
          0,
          0,
          0,
          0,
          0,
          0,
          0,
          0,
          0,
          0,
          0,
          0,
          0,
          0,
          0,
          0,
          0,
          0,
          0,
          0,
          0,
          0,
          0,
          0,
          0,
          0,
          0,
          0,
          0,
          0,
          0,
          0,
          0,
          0,
          0,
          0,
          0,
          0,
          0,
          0,
          0,
          0,
          0,
          0,
          0,
          0,
          0,
          0,
          0,
          0,
          0,
          0,
          0,
          0,
          0,
          0,
          0,
          0,
          0,
          0,
          0,
          0,
          0,
          0
         ],
         "yaxis": "y"
        }
       ],
       "layout": {
        "barmode": "relative",
        "legend": {
         "tracegroupgap": 0
        },
        "template": {
         "data": {
          "bar": [
           {
            "error_x": {
             "color": "#f2f5fa"
            },
            "error_y": {
             "color": "#f2f5fa"
            },
            "marker": {
             "line": {
              "color": "rgb(17,17,17)",
              "width": 0.5
             },
             "pattern": {
              "fillmode": "overlay",
              "size": 10,
              "solidity": 0.2
             }
            },
            "type": "bar"
           }
          ],
          "barpolar": [
           {
            "marker": {
             "line": {
              "color": "rgb(17,17,17)",
              "width": 0.5
             },
             "pattern": {
              "fillmode": "overlay",
              "size": 10,
              "solidity": 0.2
             }
            },
            "type": "barpolar"
           }
          ],
          "carpet": [
           {
            "aaxis": {
             "endlinecolor": "#A2B1C6",
             "gridcolor": "#506784",
             "linecolor": "#506784",
             "minorgridcolor": "#506784",
             "startlinecolor": "#A2B1C6"
            },
            "baxis": {
             "endlinecolor": "#A2B1C6",
             "gridcolor": "#506784",
             "linecolor": "#506784",
             "minorgridcolor": "#506784",
             "startlinecolor": "#A2B1C6"
            },
            "type": "carpet"
           }
          ],
          "choropleth": [
           {
            "colorbar": {
             "outlinewidth": 0,
             "ticks": ""
            },
            "type": "choropleth"
           }
          ],
          "contour": [
           {
            "colorbar": {
             "outlinewidth": 0,
             "ticks": ""
            },
            "colorscale": [
             [
              0,
              "#0d0887"
             ],
             [
              0.1111111111111111,
              "#46039f"
             ],
             [
              0.2222222222222222,
              "#7201a8"
             ],
             [
              0.3333333333333333,
              "#9c179e"
             ],
             [
              0.4444444444444444,
              "#bd3786"
             ],
             [
              0.5555555555555556,
              "#d8576b"
             ],
             [
              0.6666666666666666,
              "#ed7953"
             ],
             [
              0.7777777777777778,
              "#fb9f3a"
             ],
             [
              0.8888888888888888,
              "#fdca26"
             ],
             [
              1,
              "#f0f921"
             ]
            ],
            "type": "contour"
           }
          ],
          "contourcarpet": [
           {
            "colorbar": {
             "outlinewidth": 0,
             "ticks": ""
            },
            "type": "contourcarpet"
           }
          ],
          "heatmap": [
           {
            "colorbar": {
             "outlinewidth": 0,
             "ticks": ""
            },
            "colorscale": [
             [
              0,
              "#0d0887"
             ],
             [
              0.1111111111111111,
              "#46039f"
             ],
             [
              0.2222222222222222,
              "#7201a8"
             ],
             [
              0.3333333333333333,
              "#9c179e"
             ],
             [
              0.4444444444444444,
              "#bd3786"
             ],
             [
              0.5555555555555556,
              "#d8576b"
             ],
             [
              0.6666666666666666,
              "#ed7953"
             ],
             [
              0.7777777777777778,
              "#fb9f3a"
             ],
             [
              0.8888888888888888,
              "#fdca26"
             ],
             [
              1,
              "#f0f921"
             ]
            ],
            "type": "heatmap"
           }
          ],
          "heatmapgl": [
           {
            "colorbar": {
             "outlinewidth": 0,
             "ticks": ""
            },
            "colorscale": [
             [
              0,
              "#0d0887"
             ],
             [
              0.1111111111111111,
              "#46039f"
             ],
             [
              0.2222222222222222,
              "#7201a8"
             ],
             [
              0.3333333333333333,
              "#9c179e"
             ],
             [
              0.4444444444444444,
              "#bd3786"
             ],
             [
              0.5555555555555556,
              "#d8576b"
             ],
             [
              0.6666666666666666,
              "#ed7953"
             ],
             [
              0.7777777777777778,
              "#fb9f3a"
             ],
             [
              0.8888888888888888,
              "#fdca26"
             ],
             [
              1,
              "#f0f921"
             ]
            ],
            "type": "heatmapgl"
           }
          ],
          "histogram": [
           {
            "marker": {
             "pattern": {
              "fillmode": "overlay",
              "size": 10,
              "solidity": 0.2
             }
            },
            "type": "histogram"
           }
          ],
          "histogram2d": [
           {
            "colorbar": {
             "outlinewidth": 0,
             "ticks": ""
            },
            "colorscale": [
             [
              0,
              "#0d0887"
             ],
             [
              0.1111111111111111,
              "#46039f"
             ],
             [
              0.2222222222222222,
              "#7201a8"
             ],
             [
              0.3333333333333333,
              "#9c179e"
             ],
             [
              0.4444444444444444,
              "#bd3786"
             ],
             [
              0.5555555555555556,
              "#d8576b"
             ],
             [
              0.6666666666666666,
              "#ed7953"
             ],
             [
              0.7777777777777778,
              "#fb9f3a"
             ],
             [
              0.8888888888888888,
              "#fdca26"
             ],
             [
              1,
              "#f0f921"
             ]
            ],
            "type": "histogram2d"
           }
          ],
          "histogram2dcontour": [
           {
            "colorbar": {
             "outlinewidth": 0,
             "ticks": ""
            },
            "colorscale": [
             [
              0,
              "#0d0887"
             ],
             [
              0.1111111111111111,
              "#46039f"
             ],
             [
              0.2222222222222222,
              "#7201a8"
             ],
             [
              0.3333333333333333,
              "#9c179e"
             ],
             [
              0.4444444444444444,
              "#bd3786"
             ],
             [
              0.5555555555555556,
              "#d8576b"
             ],
             [
              0.6666666666666666,
              "#ed7953"
             ],
             [
              0.7777777777777778,
              "#fb9f3a"
             ],
             [
              0.8888888888888888,
              "#fdca26"
             ],
             [
              1,
              "#f0f921"
             ]
            ],
            "type": "histogram2dcontour"
           }
          ],
          "mesh3d": [
           {
            "colorbar": {
             "outlinewidth": 0,
             "ticks": ""
            },
            "type": "mesh3d"
           }
          ],
          "parcoords": [
           {
            "line": {
             "colorbar": {
              "outlinewidth": 0,
              "ticks": ""
             }
            },
            "type": "parcoords"
           }
          ],
          "pie": [
           {
            "automargin": true,
            "type": "pie"
           }
          ],
          "scatter": [
           {
            "marker": {
             "line": {
              "color": "#283442"
             }
            },
            "type": "scatter"
           }
          ],
          "scatter3d": [
           {
            "line": {
             "colorbar": {
              "outlinewidth": 0,
              "ticks": ""
             }
            },
            "marker": {
             "colorbar": {
              "outlinewidth": 0,
              "ticks": ""
             }
            },
            "type": "scatter3d"
           }
          ],
          "scattercarpet": [
           {
            "marker": {
             "colorbar": {
              "outlinewidth": 0,
              "ticks": ""
             }
            },
            "type": "scattercarpet"
           }
          ],
          "scattergeo": [
           {
            "marker": {
             "colorbar": {
              "outlinewidth": 0,
              "ticks": ""
             }
            },
            "type": "scattergeo"
           }
          ],
          "scattergl": [
           {
            "marker": {
             "line": {
              "color": "#283442"
             }
            },
            "type": "scattergl"
           }
          ],
          "scattermapbox": [
           {
            "marker": {
             "colorbar": {
              "outlinewidth": 0,
              "ticks": ""
             }
            },
            "type": "scattermapbox"
           }
          ],
          "scatterpolar": [
           {
            "marker": {
             "colorbar": {
              "outlinewidth": 0,
              "ticks": ""
             }
            },
            "type": "scatterpolar"
           }
          ],
          "scatterpolargl": [
           {
            "marker": {
             "colorbar": {
              "outlinewidth": 0,
              "ticks": ""
             }
            },
            "type": "scatterpolargl"
           }
          ],
          "scatterternary": [
           {
            "marker": {
             "colorbar": {
              "outlinewidth": 0,
              "ticks": ""
             }
            },
            "type": "scatterternary"
           }
          ],
          "surface": [
           {
            "colorbar": {
             "outlinewidth": 0,
             "ticks": ""
            },
            "colorscale": [
             [
              0,
              "#0d0887"
             ],
             [
              0.1111111111111111,
              "#46039f"
             ],
             [
              0.2222222222222222,
              "#7201a8"
             ],
             [
              0.3333333333333333,
              "#9c179e"
             ],
             [
              0.4444444444444444,
              "#bd3786"
             ],
             [
              0.5555555555555556,
              "#d8576b"
             ],
             [
              0.6666666666666666,
              "#ed7953"
             ],
             [
              0.7777777777777778,
              "#fb9f3a"
             ],
             [
              0.8888888888888888,
              "#fdca26"
             ],
             [
              1,
              "#f0f921"
             ]
            ],
            "type": "surface"
           }
          ],
          "table": [
           {
            "cells": {
             "fill": {
              "color": "#506784"
             },
             "line": {
              "color": "rgb(17,17,17)"
             }
            },
            "header": {
             "fill": {
              "color": "#2a3f5f"
             },
             "line": {
              "color": "rgb(17,17,17)"
             }
            },
            "type": "table"
           }
          ]
         },
         "layout": {
          "annotationdefaults": {
           "arrowcolor": "#f2f5fa",
           "arrowhead": 0,
           "arrowwidth": 1
          },
          "autotypenumbers": "strict",
          "coloraxis": {
           "colorbar": {
            "outlinewidth": 0,
            "ticks": ""
           }
          },
          "colorscale": {
           "diverging": [
            [
             0,
             "#8e0152"
            ],
            [
             0.1,
             "#c51b7d"
            ],
            [
             0.2,
             "#de77ae"
            ],
            [
             0.3,
             "#f1b6da"
            ],
            [
             0.4,
             "#fde0ef"
            ],
            [
             0.5,
             "#f7f7f7"
            ],
            [
             0.6,
             "#e6f5d0"
            ],
            [
             0.7,
             "#b8e186"
            ],
            [
             0.8,
             "#7fbc41"
            ],
            [
             0.9,
             "#4d9221"
            ],
            [
             1,
             "#276419"
            ]
           ],
           "sequential": [
            [
             0,
             "#0d0887"
            ],
            [
             0.1111111111111111,
             "#46039f"
            ],
            [
             0.2222222222222222,
             "#7201a8"
            ],
            [
             0.3333333333333333,
             "#9c179e"
            ],
            [
             0.4444444444444444,
             "#bd3786"
            ],
            [
             0.5555555555555556,
             "#d8576b"
            ],
            [
             0.6666666666666666,
             "#ed7953"
            ],
            [
             0.7777777777777778,
             "#fb9f3a"
            ],
            [
             0.8888888888888888,
             "#fdca26"
            ],
            [
             1,
             "#f0f921"
            ]
           ],
           "sequentialminus": [
            [
             0,
             "#0d0887"
            ],
            [
             0.1111111111111111,
             "#46039f"
            ],
            [
             0.2222222222222222,
             "#7201a8"
            ],
            [
             0.3333333333333333,
             "#9c179e"
            ],
            [
             0.4444444444444444,
             "#bd3786"
            ],
            [
             0.5555555555555556,
             "#d8576b"
            ],
            [
             0.6666666666666666,
             "#ed7953"
            ],
            [
             0.7777777777777778,
             "#fb9f3a"
            ],
            [
             0.8888888888888888,
             "#fdca26"
            ],
            [
             1,
             "#f0f921"
            ]
           ]
          },
          "colorway": [
           "#636efa",
           "#EF553B",
           "#00cc96",
           "#ab63fa",
           "#FFA15A",
           "#19d3f3",
           "#FF6692",
           "#B6E880",
           "#FF97FF",
           "#FECB52"
          ],
          "font": {
           "color": "#f2f5fa"
          },
          "geo": {
           "bgcolor": "rgb(17,17,17)",
           "lakecolor": "rgb(17,17,17)",
           "landcolor": "rgb(17,17,17)",
           "showlakes": true,
           "showland": true,
           "subunitcolor": "#506784"
          },
          "hoverlabel": {
           "align": "left"
          },
          "hovermode": "closest",
          "mapbox": {
           "style": "dark"
          },
          "paper_bgcolor": "rgb(17,17,17)",
          "plot_bgcolor": "rgb(17,17,17)",
          "polar": {
           "angularaxis": {
            "gridcolor": "#506784",
            "linecolor": "#506784",
            "ticks": ""
           },
           "bgcolor": "rgb(17,17,17)",
           "radialaxis": {
            "gridcolor": "#506784",
            "linecolor": "#506784",
            "ticks": ""
           }
          },
          "scene": {
           "xaxis": {
            "backgroundcolor": "rgb(17,17,17)",
            "gridcolor": "#506784",
            "gridwidth": 2,
            "linecolor": "#506784",
            "showbackground": true,
            "ticks": "",
            "zerolinecolor": "#C8D4E3"
           },
           "yaxis": {
            "backgroundcolor": "rgb(17,17,17)",
            "gridcolor": "#506784",
            "gridwidth": 2,
            "linecolor": "#506784",
            "showbackground": true,
            "ticks": "",
            "zerolinecolor": "#C8D4E3"
           },
           "zaxis": {
            "backgroundcolor": "rgb(17,17,17)",
            "gridcolor": "#506784",
            "gridwidth": 2,
            "linecolor": "#506784",
            "showbackground": true,
            "ticks": "",
            "zerolinecolor": "#C8D4E3"
           }
          },
          "shapedefaults": {
           "line": {
            "color": "#f2f5fa"
           }
          },
          "sliderdefaults": {
           "bgcolor": "#C8D4E3",
           "bordercolor": "rgb(17,17,17)",
           "borderwidth": 1,
           "tickwidth": 0
          },
          "ternary": {
           "aaxis": {
            "gridcolor": "#506784",
            "linecolor": "#506784",
            "ticks": ""
           },
           "baxis": {
            "gridcolor": "#506784",
            "linecolor": "#506784",
            "ticks": ""
           },
           "bgcolor": "rgb(17,17,17)",
           "caxis": {
            "gridcolor": "#506784",
            "linecolor": "#506784",
            "ticks": ""
           }
          },
          "title": {
           "x": 0.05
          },
          "updatemenudefaults": {
           "bgcolor": "#506784",
           "borderwidth": 0
          },
          "xaxis": {
           "automargin": true,
           "gridcolor": "#283442",
           "linecolor": "#506784",
           "ticks": "",
           "title": {
            "standoff": 15
           },
           "zerolinecolor": "#283442",
           "zerolinewidth": 2
          },
          "yaxis": {
           "automargin": true,
           "gridcolor": "#283442",
           "linecolor": "#506784",
           "ticks": "",
           "title": {
            "standoff": 15
           },
           "zerolinecolor": "#283442",
           "zerolinewidth": 2
          }
         }
        },
        "title": {
         "text": "Rata-rata Lama Genangan Air berdasarkan Kelurahan"
        },
        "xaxis": {
         "anchor": "y",
         "domain": [
          0,
          1
         ],
         "title": {
          "text": "Kelurahan"
         }
        },
        "yaxis": {
         "anchor": "x",
         "domain": [
          0,
          1
         ],
         "title": {
          "text": "Rata-rata Lama Genangan (hari)"
         }
        }
       }
      }
     },
     "metadata": {},
     "output_type": "display_data"
    }
   ],
   "source": [
    "fig = px.bar(rata_rata_lama_genangan_kelurahan, x='kelurahan', y='lama_genangan', title='Rata-rata Lama Genangan Air berdasarkan Kelurahan')\n",
    "fig.update_xaxes(title_text='Kelurahan')\n",
    "fig.update_yaxes(title_text='Rata-rata Lama Genangan (hari)')\n",
    "\n",
    "fig.update_layout(template='plotly_dark')\n",
    "fig.show()"
   ]
  },
  {
   "cell_type": "code",
   "execution_count": 273,
   "metadata": {},
   "outputs": [
    {
     "name": "stdout",
     "output_type": "stream",
     "text": [
      "                   kecamatan  lama_genangan\n",
      "44               TANAH ABANG       0.333333\n",
      "42                TAMAN SARI       0.333333\n",
      "19                 KEMAYORAN       0.125000\n",
      "2                 CENGKARENG       0.076923\n",
      "5                  CILINCING       0.066667\n",
      "32                  PANCORAN       0.064516\n",
      "31                  PALMERAH       0.062500\n",
      "25                   MAKASAR       0.051282\n",
      "8                DUREN SAWIT       0.045455\n",
      "14                 KALIDERES       0.041667\n",
      "46                     TEBET       0.040000\n",
      "24               KRAMAT JATI       0.027027\n",
      "34                PASAR REBO       0.000000\n",
      "29                   MENTENG       0.000000\n",
      "30                PADEMANGAN       0.000000\n",
      "33              PASAR MINGGU       0.000000\n",
      "37               PULO GADUNG       0.000000\n",
      "35               PENJARINGAN       0.000000\n",
      "36              PESANGGRAHAN       0.000000\n",
      "27          MAMPANG PRAPATAN       0.000000\n",
      "38                PULOGADUNG       0.000000\n",
      "39               SAWAH BESAR       0.000000\n",
      "40                     SENEN       0.000000\n",
      "41                 SETIABUDI       0.000000\n",
      "43                   TAMBORA       0.000000\n",
      "45             TANJUNG PRIOK       0.000000\n",
      "28                  MATRAMAN       0.000000\n",
      "0                     CAKUNG       0.000000\n",
      "26                   MAMPANG       0.000000\n",
      "12                JATINEGARA       0.000000\n",
      "3                   CILANDAK       0.000000\n",
      "4                 CILIINCING       0.000000\n",
      "6                   CIPAYUNG       0.000000\n",
      "7                    CIRACAS       0.000000\n",
      "9                     GAMBIR       0.000000\n",
      "10         GROGOL PETAMBURAN       0.000000\n",
      "11                 JAGAKARSA       0.000000\n",
      "13                JOHAR BARU       0.000000\n",
      "1              CEMPAKA PUTIH       0.000000\n",
      "15            KEBAYORAN BARU       0.000000\n",
      "16            KEBAYORAN LAMA       0.000000\n",
      "17               KEBON JERUK       0.000000\n",
      "18             KELAPA GADING       0.000000\n",
      "20                 KEMBANGAN       0.000000\n",
      "21  KEPULAUAN SERIBU SELATAN       0.000000\n",
      "22    KEPULAUAN SERIBU UTARA       0.000000\n",
      "23                      KOJA       0.000000\n"
     ]
    }
   ],
   "source": [
    "rata_rata_lama_genangan_kecamatan = merged_df.groupby('kecamatan')['lama_genangan'].mean().reset_index()\n",
    "rata_rata_lama_genangan_kecamatan = rata_rata_lama_genangan_kecamatan.sort_values(by='lama_genangan', ascending=False)\n",
    "\n",
    "print(rata_rata_lama_genangan_kecamatan)"
   ]
  },
  {
   "cell_type": "code",
   "execution_count": 274,
   "metadata": {},
   "outputs": [
    {
     "data": {
      "application/vnd.plotly.v1+json": {
       "config": {
        "plotlyServerURL": "https://plot.ly"
       },
       "data": [
        {
         "alignmentgroup": "True",
         "hovertemplate": "kecamatan=%{x}<br>lama_genangan=%{y}<extra></extra>",
         "legendgroup": "",
         "marker": {
          "color": "#636efa",
          "pattern": {
           "shape": ""
          }
         },
         "name": "",
         "offsetgroup": "",
         "orientation": "v",
         "showlegend": false,
         "textposition": "auto",
         "type": "bar",
         "x": [
          "TANAH ABANG",
          "TAMAN SARI",
          "KEMAYORAN",
          "CENGKARENG",
          "CILINCING",
          "PANCORAN",
          "PALMERAH",
          "MAKASAR",
          "DUREN SAWIT",
          "KALIDERES",
          "TEBET",
          "KRAMAT JATI",
          "PASAR REBO",
          "MENTENG",
          "PADEMANGAN",
          "PASAR MINGGU",
          "PULO GADUNG",
          "PENJARINGAN",
          "PESANGGRAHAN",
          "MAMPANG PRAPATAN",
          "PULOGADUNG",
          "SAWAH BESAR",
          "SENEN",
          "SETIABUDI",
          "TAMBORA",
          "TANJUNG PRIOK",
          "MATRAMAN",
          "CAKUNG",
          "MAMPANG",
          "JATINEGARA",
          "CILANDAK",
          "CILIINCING",
          "CIPAYUNG",
          "CIRACAS",
          "GAMBIR",
          "GROGOL PETAMBURAN",
          "JAGAKARSA",
          "JOHAR BARU",
          "CEMPAKA PUTIH",
          "KEBAYORAN BARU",
          "KEBAYORAN LAMA",
          "KEBON JERUK",
          "KELAPA GADING",
          "KEMBANGAN",
          "KEPULAUAN SERIBU SELATAN",
          "KEPULAUAN SERIBU UTARA",
          "KOJA"
         ],
         "xaxis": "x",
         "y": [
          0.3333333333333333,
          0.3333333333333333,
          0.125,
          0.07692307692307693,
          0.06666666666666667,
          0.06451612903225806,
          0.0625,
          0.05128205128205128,
          0.045454545454545456,
          0.041666666666666664,
          0.04,
          0.02702702702702703,
          0,
          0,
          0,
          0,
          0,
          0,
          0,
          0,
          0,
          0,
          0,
          0,
          0,
          0,
          0,
          0,
          0,
          0,
          0,
          0,
          0,
          0,
          0,
          0,
          0,
          0,
          0,
          0,
          0,
          0,
          0,
          0,
          0,
          0,
          0
         ],
         "yaxis": "y"
        }
       ],
       "layout": {
        "barmode": "relative",
        "legend": {
         "tracegroupgap": 0
        },
        "template": {
         "data": {
          "bar": [
           {
            "error_x": {
             "color": "#f2f5fa"
            },
            "error_y": {
             "color": "#f2f5fa"
            },
            "marker": {
             "line": {
              "color": "rgb(17,17,17)",
              "width": 0.5
             },
             "pattern": {
              "fillmode": "overlay",
              "size": 10,
              "solidity": 0.2
             }
            },
            "type": "bar"
           }
          ],
          "barpolar": [
           {
            "marker": {
             "line": {
              "color": "rgb(17,17,17)",
              "width": 0.5
             },
             "pattern": {
              "fillmode": "overlay",
              "size": 10,
              "solidity": 0.2
             }
            },
            "type": "barpolar"
           }
          ],
          "carpet": [
           {
            "aaxis": {
             "endlinecolor": "#A2B1C6",
             "gridcolor": "#506784",
             "linecolor": "#506784",
             "minorgridcolor": "#506784",
             "startlinecolor": "#A2B1C6"
            },
            "baxis": {
             "endlinecolor": "#A2B1C6",
             "gridcolor": "#506784",
             "linecolor": "#506784",
             "minorgridcolor": "#506784",
             "startlinecolor": "#A2B1C6"
            },
            "type": "carpet"
           }
          ],
          "choropleth": [
           {
            "colorbar": {
             "outlinewidth": 0,
             "ticks": ""
            },
            "type": "choropleth"
           }
          ],
          "contour": [
           {
            "colorbar": {
             "outlinewidth": 0,
             "ticks": ""
            },
            "colorscale": [
             [
              0,
              "#0d0887"
             ],
             [
              0.1111111111111111,
              "#46039f"
             ],
             [
              0.2222222222222222,
              "#7201a8"
             ],
             [
              0.3333333333333333,
              "#9c179e"
             ],
             [
              0.4444444444444444,
              "#bd3786"
             ],
             [
              0.5555555555555556,
              "#d8576b"
             ],
             [
              0.6666666666666666,
              "#ed7953"
             ],
             [
              0.7777777777777778,
              "#fb9f3a"
             ],
             [
              0.8888888888888888,
              "#fdca26"
             ],
             [
              1,
              "#f0f921"
             ]
            ],
            "type": "contour"
           }
          ],
          "contourcarpet": [
           {
            "colorbar": {
             "outlinewidth": 0,
             "ticks": ""
            },
            "type": "contourcarpet"
           }
          ],
          "heatmap": [
           {
            "colorbar": {
             "outlinewidth": 0,
             "ticks": ""
            },
            "colorscale": [
             [
              0,
              "#0d0887"
             ],
             [
              0.1111111111111111,
              "#46039f"
             ],
             [
              0.2222222222222222,
              "#7201a8"
             ],
             [
              0.3333333333333333,
              "#9c179e"
             ],
             [
              0.4444444444444444,
              "#bd3786"
             ],
             [
              0.5555555555555556,
              "#d8576b"
             ],
             [
              0.6666666666666666,
              "#ed7953"
             ],
             [
              0.7777777777777778,
              "#fb9f3a"
             ],
             [
              0.8888888888888888,
              "#fdca26"
             ],
             [
              1,
              "#f0f921"
             ]
            ],
            "type": "heatmap"
           }
          ],
          "heatmapgl": [
           {
            "colorbar": {
             "outlinewidth": 0,
             "ticks": ""
            },
            "colorscale": [
             [
              0,
              "#0d0887"
             ],
             [
              0.1111111111111111,
              "#46039f"
             ],
             [
              0.2222222222222222,
              "#7201a8"
             ],
             [
              0.3333333333333333,
              "#9c179e"
             ],
             [
              0.4444444444444444,
              "#bd3786"
             ],
             [
              0.5555555555555556,
              "#d8576b"
             ],
             [
              0.6666666666666666,
              "#ed7953"
             ],
             [
              0.7777777777777778,
              "#fb9f3a"
             ],
             [
              0.8888888888888888,
              "#fdca26"
             ],
             [
              1,
              "#f0f921"
             ]
            ],
            "type": "heatmapgl"
           }
          ],
          "histogram": [
           {
            "marker": {
             "pattern": {
              "fillmode": "overlay",
              "size": 10,
              "solidity": 0.2
             }
            },
            "type": "histogram"
           }
          ],
          "histogram2d": [
           {
            "colorbar": {
             "outlinewidth": 0,
             "ticks": ""
            },
            "colorscale": [
             [
              0,
              "#0d0887"
             ],
             [
              0.1111111111111111,
              "#46039f"
             ],
             [
              0.2222222222222222,
              "#7201a8"
             ],
             [
              0.3333333333333333,
              "#9c179e"
             ],
             [
              0.4444444444444444,
              "#bd3786"
             ],
             [
              0.5555555555555556,
              "#d8576b"
             ],
             [
              0.6666666666666666,
              "#ed7953"
             ],
             [
              0.7777777777777778,
              "#fb9f3a"
             ],
             [
              0.8888888888888888,
              "#fdca26"
             ],
             [
              1,
              "#f0f921"
             ]
            ],
            "type": "histogram2d"
           }
          ],
          "histogram2dcontour": [
           {
            "colorbar": {
             "outlinewidth": 0,
             "ticks": ""
            },
            "colorscale": [
             [
              0,
              "#0d0887"
             ],
             [
              0.1111111111111111,
              "#46039f"
             ],
             [
              0.2222222222222222,
              "#7201a8"
             ],
             [
              0.3333333333333333,
              "#9c179e"
             ],
             [
              0.4444444444444444,
              "#bd3786"
             ],
             [
              0.5555555555555556,
              "#d8576b"
             ],
             [
              0.6666666666666666,
              "#ed7953"
             ],
             [
              0.7777777777777778,
              "#fb9f3a"
             ],
             [
              0.8888888888888888,
              "#fdca26"
             ],
             [
              1,
              "#f0f921"
             ]
            ],
            "type": "histogram2dcontour"
           }
          ],
          "mesh3d": [
           {
            "colorbar": {
             "outlinewidth": 0,
             "ticks": ""
            },
            "type": "mesh3d"
           }
          ],
          "parcoords": [
           {
            "line": {
             "colorbar": {
              "outlinewidth": 0,
              "ticks": ""
             }
            },
            "type": "parcoords"
           }
          ],
          "pie": [
           {
            "automargin": true,
            "type": "pie"
           }
          ],
          "scatter": [
           {
            "marker": {
             "line": {
              "color": "#283442"
             }
            },
            "type": "scatter"
           }
          ],
          "scatter3d": [
           {
            "line": {
             "colorbar": {
              "outlinewidth": 0,
              "ticks": ""
             }
            },
            "marker": {
             "colorbar": {
              "outlinewidth": 0,
              "ticks": ""
             }
            },
            "type": "scatter3d"
           }
          ],
          "scattercarpet": [
           {
            "marker": {
             "colorbar": {
              "outlinewidth": 0,
              "ticks": ""
             }
            },
            "type": "scattercarpet"
           }
          ],
          "scattergeo": [
           {
            "marker": {
             "colorbar": {
              "outlinewidth": 0,
              "ticks": ""
             }
            },
            "type": "scattergeo"
           }
          ],
          "scattergl": [
           {
            "marker": {
             "line": {
              "color": "#283442"
             }
            },
            "type": "scattergl"
           }
          ],
          "scattermapbox": [
           {
            "marker": {
             "colorbar": {
              "outlinewidth": 0,
              "ticks": ""
             }
            },
            "type": "scattermapbox"
           }
          ],
          "scatterpolar": [
           {
            "marker": {
             "colorbar": {
              "outlinewidth": 0,
              "ticks": ""
             }
            },
            "type": "scatterpolar"
           }
          ],
          "scatterpolargl": [
           {
            "marker": {
             "colorbar": {
              "outlinewidth": 0,
              "ticks": ""
             }
            },
            "type": "scatterpolargl"
           }
          ],
          "scatterternary": [
           {
            "marker": {
             "colorbar": {
              "outlinewidth": 0,
              "ticks": ""
             }
            },
            "type": "scatterternary"
           }
          ],
          "surface": [
           {
            "colorbar": {
             "outlinewidth": 0,
             "ticks": ""
            },
            "colorscale": [
             [
              0,
              "#0d0887"
             ],
             [
              0.1111111111111111,
              "#46039f"
             ],
             [
              0.2222222222222222,
              "#7201a8"
             ],
             [
              0.3333333333333333,
              "#9c179e"
             ],
             [
              0.4444444444444444,
              "#bd3786"
             ],
             [
              0.5555555555555556,
              "#d8576b"
             ],
             [
              0.6666666666666666,
              "#ed7953"
             ],
             [
              0.7777777777777778,
              "#fb9f3a"
             ],
             [
              0.8888888888888888,
              "#fdca26"
             ],
             [
              1,
              "#f0f921"
             ]
            ],
            "type": "surface"
           }
          ],
          "table": [
           {
            "cells": {
             "fill": {
              "color": "#506784"
             },
             "line": {
              "color": "rgb(17,17,17)"
             }
            },
            "header": {
             "fill": {
              "color": "#2a3f5f"
             },
             "line": {
              "color": "rgb(17,17,17)"
             }
            },
            "type": "table"
           }
          ]
         },
         "layout": {
          "annotationdefaults": {
           "arrowcolor": "#f2f5fa",
           "arrowhead": 0,
           "arrowwidth": 1
          },
          "autotypenumbers": "strict",
          "coloraxis": {
           "colorbar": {
            "outlinewidth": 0,
            "ticks": ""
           }
          },
          "colorscale": {
           "diverging": [
            [
             0,
             "#8e0152"
            ],
            [
             0.1,
             "#c51b7d"
            ],
            [
             0.2,
             "#de77ae"
            ],
            [
             0.3,
             "#f1b6da"
            ],
            [
             0.4,
             "#fde0ef"
            ],
            [
             0.5,
             "#f7f7f7"
            ],
            [
             0.6,
             "#e6f5d0"
            ],
            [
             0.7,
             "#b8e186"
            ],
            [
             0.8,
             "#7fbc41"
            ],
            [
             0.9,
             "#4d9221"
            ],
            [
             1,
             "#276419"
            ]
           ],
           "sequential": [
            [
             0,
             "#0d0887"
            ],
            [
             0.1111111111111111,
             "#46039f"
            ],
            [
             0.2222222222222222,
             "#7201a8"
            ],
            [
             0.3333333333333333,
             "#9c179e"
            ],
            [
             0.4444444444444444,
             "#bd3786"
            ],
            [
             0.5555555555555556,
             "#d8576b"
            ],
            [
             0.6666666666666666,
             "#ed7953"
            ],
            [
             0.7777777777777778,
             "#fb9f3a"
            ],
            [
             0.8888888888888888,
             "#fdca26"
            ],
            [
             1,
             "#f0f921"
            ]
           ],
           "sequentialminus": [
            [
             0,
             "#0d0887"
            ],
            [
             0.1111111111111111,
             "#46039f"
            ],
            [
             0.2222222222222222,
             "#7201a8"
            ],
            [
             0.3333333333333333,
             "#9c179e"
            ],
            [
             0.4444444444444444,
             "#bd3786"
            ],
            [
             0.5555555555555556,
             "#d8576b"
            ],
            [
             0.6666666666666666,
             "#ed7953"
            ],
            [
             0.7777777777777778,
             "#fb9f3a"
            ],
            [
             0.8888888888888888,
             "#fdca26"
            ],
            [
             1,
             "#f0f921"
            ]
           ]
          },
          "colorway": [
           "#636efa",
           "#EF553B",
           "#00cc96",
           "#ab63fa",
           "#FFA15A",
           "#19d3f3",
           "#FF6692",
           "#B6E880",
           "#FF97FF",
           "#FECB52"
          ],
          "font": {
           "color": "#f2f5fa"
          },
          "geo": {
           "bgcolor": "rgb(17,17,17)",
           "lakecolor": "rgb(17,17,17)",
           "landcolor": "rgb(17,17,17)",
           "showlakes": true,
           "showland": true,
           "subunitcolor": "#506784"
          },
          "hoverlabel": {
           "align": "left"
          },
          "hovermode": "closest",
          "mapbox": {
           "style": "dark"
          },
          "paper_bgcolor": "rgb(17,17,17)",
          "plot_bgcolor": "rgb(17,17,17)",
          "polar": {
           "angularaxis": {
            "gridcolor": "#506784",
            "linecolor": "#506784",
            "ticks": ""
           },
           "bgcolor": "rgb(17,17,17)",
           "radialaxis": {
            "gridcolor": "#506784",
            "linecolor": "#506784",
            "ticks": ""
           }
          },
          "scene": {
           "xaxis": {
            "backgroundcolor": "rgb(17,17,17)",
            "gridcolor": "#506784",
            "gridwidth": 2,
            "linecolor": "#506784",
            "showbackground": true,
            "ticks": "",
            "zerolinecolor": "#C8D4E3"
           },
           "yaxis": {
            "backgroundcolor": "rgb(17,17,17)",
            "gridcolor": "#506784",
            "gridwidth": 2,
            "linecolor": "#506784",
            "showbackground": true,
            "ticks": "",
            "zerolinecolor": "#C8D4E3"
           },
           "zaxis": {
            "backgroundcolor": "rgb(17,17,17)",
            "gridcolor": "#506784",
            "gridwidth": 2,
            "linecolor": "#506784",
            "showbackground": true,
            "ticks": "",
            "zerolinecolor": "#C8D4E3"
           }
          },
          "shapedefaults": {
           "line": {
            "color": "#f2f5fa"
           }
          },
          "sliderdefaults": {
           "bgcolor": "#C8D4E3",
           "bordercolor": "rgb(17,17,17)",
           "borderwidth": 1,
           "tickwidth": 0
          },
          "ternary": {
           "aaxis": {
            "gridcolor": "#506784",
            "linecolor": "#506784",
            "ticks": ""
           },
           "baxis": {
            "gridcolor": "#506784",
            "linecolor": "#506784",
            "ticks": ""
           },
           "bgcolor": "rgb(17,17,17)",
           "caxis": {
            "gridcolor": "#506784",
            "linecolor": "#506784",
            "ticks": ""
           }
          },
          "title": {
           "x": 0.05
          },
          "updatemenudefaults": {
           "bgcolor": "#506784",
           "borderwidth": 0
          },
          "xaxis": {
           "automargin": true,
           "gridcolor": "#283442",
           "linecolor": "#506784",
           "ticks": "",
           "title": {
            "standoff": 15
           },
           "zerolinecolor": "#283442",
           "zerolinewidth": 2
          },
          "yaxis": {
           "automargin": true,
           "gridcolor": "#283442",
           "linecolor": "#506784",
           "ticks": "",
           "title": {
            "standoff": 15
           },
           "zerolinecolor": "#283442",
           "zerolinewidth": 2
          }
         }
        },
        "title": {
         "text": "Rata-rata Lama Genangan Air berdasarkan Kelurahan"
        },
        "xaxis": {
         "anchor": "y",
         "domain": [
          0,
          1
         ],
         "title": {
          "text": "Kecamatan"
         }
        },
        "yaxis": {
         "anchor": "x",
         "domain": [
          0,
          1
         ],
         "title": {
          "text": "Rata-rata Lama Genangan (hari)"
         }
        }
       }
      }
     },
     "metadata": {},
     "output_type": "display_data"
    }
   ],
   "source": [
    "fig = px.bar(rata_rata_lama_genangan_kecamatan, x='kecamatan', y='lama_genangan', title='Rata-rata Lama Genangan Air berdasarkan Kelurahan')\n",
    "fig.update_xaxes(title_text='Kecamatan')\n",
    "fig.update_yaxes(title_text='Rata-rata Lama Genangan (hari)')\n",
    "fig.update_layout(template='plotly_dark')"
   ]
  },
  {
   "attachments": {},
   "cell_type": "markdown",
   "metadata": {},
   "source": [
    "**Berapa banyak tempat pengungsian yang tersedia untuk masyarakat terdampak?**"
   ]
  },
  {
   "cell_type": "code",
   "execution_count": 275,
   "metadata": {},
   "outputs": [
    {
     "name": "stdout",
     "output_type": "stream",
     "text": [
      "Total tempat pengungsian yang tersedia untuk masyarakat terdampak: 12\n"
     ]
    }
   ],
   "source": [
    "total_tempat_pengungsian = merged_df['jumlah_tempat_pengungsian'].sum()\n",
    "\n",
    "print(\"Total tempat pengungsian yang tersedia untuk masyarakat terdampak:\", total_tempat_pengungsian)"
   ]
  },
  {
   "cell_type": "code",
   "execution_count": 276,
   "metadata": {},
   "outputs": [
    {
     "name": "stdout",
     "output_type": "stream",
     "text": [
      "                  kelurahan  jumlah_tempat_pengungsian\n",
      "21                 CIGANJUR                          3\n",
      "176                RAMBUTAN                          3\n",
      "25           CILANDAK TIMUR                          2\n",
      "8               BIDARA CINA                          1\n",
      "162           PONDOK PINANG                          1\n",
      "..                      ...                        ...\n",
      "78               KAYU PUTIH                          0\n",
      "79                KEBAGUSAN                          0\n",
      "80   KEBAYORAN LAMA SELATAN                          0\n",
      "81     KEBAYORAN LAMA UTARA                          0\n",
      "219           WIJAYA KUSUMA                          0\n",
      "\n",
      "[220 rows x 2 columns]\n"
     ]
    }
   ],
   "source": [
    "tempat_pengungsian_per_kelurahan = merged_df.groupby('kelurahan')['jumlah_tempat_pengungsian'].sum().reset_index()\n",
    "tempat_pengungsian_per_kelurahan = tempat_pengungsian_per_kelurahan.sort_values(by='jumlah_tempat_pengungsian', ascending=False)\n",
    "\n",
    "print(tempat_pengungsian_per_kelurahan)"
   ]
  },
  {
   "cell_type": "code",
   "execution_count": 277,
   "metadata": {},
   "outputs": [
    {
     "data": {
      "application/vnd.plotly.v1+json": {
       "config": {
        "plotlyServerURL": "https://plot.ly"
       },
       "data": [
        {
         "alignmentgroup": "True",
         "hovertemplate": "Kelurahan=%{x}<br>Jumlah Tempat Pengungsian=%{y}<extra></extra>",
         "legendgroup": "",
         "marker": {
          "color": "#636efa",
          "pattern": {
           "shape": ""
          }
         },
         "name": "",
         "offsetgroup": "",
         "orientation": "v",
         "showlegend": false,
         "textposition": "auto",
         "type": "bar",
         "x": [
          "CIGANJUR",
          "RAMBUTAN",
          "CILANDAK TIMUR",
          "BIDARA CINA",
          "PONDOK PINANG",
          "PEJATEN TIMUR",
          "KEDOYA SELATAN",
          "PENGADEGAN",
          "PENJARINGAN",
          "PENGGILINGAN",
          "0",
          "PELA MAMPANG",
          "PETOGOGAN",
          "PEKOJAN",
          "PEKAYON",
          "PEJATEN BARAT",
          "PETAMBURAN",
          "PETUKANGAN UTARA",
          "PETUKANGAN SELATAN",
          "PEGANGSAAN DUA",
          "PINANG RANTI",
          "PINANGSIA",
          "PISANGAN BARU",
          "PISANGAN TIMUR",
          "PLUIT",
          "PONDOK BAMBU",
          "PONDOK KELAPA",
          "PONDOK KOPI",
          "PONDOK LABU",
          "PONDOK RANGGON",
          "PEJAGALAN",
          "PASEBAN",
          "PEGADUNGAN",
          "PULAU HARAPAN ",
          "LUBANG BUAYA",
          "MAKASAR",
          "MALAKA JAYA",
          "MALAKA SARI",
          "MAMPANG PRAPATAN",
          "MANGGA BESAR",
          "MANGGA DUA SELATAN",
          "MANGGARAI",
          "MANGGARAI SELATAN",
          "MARUNDA",
          "MENTENG",
          "MENTENG ATAS",
          "MENTENG DALAM",
          "MERUYA SELATAN",
          "MERUYA UTARA",
          "PADEMANGAN BARAT ",
          "PADEMANGAN TIMUR",
          "PAL MERIAM",
          "PALMERAH",
          "PANCORAN",
          "PASAR BARU",
          "PASAR MANGGIS",
          "PASAR MINGGU",
          "PULAU HARAPAN",
          "PULAU PANGGANG",
          "PULAU KELAPA",
          "SUKA PURA",
          "SUKABUMI UTARA",
          "SUKAPURA",
          "SUMUR BATU",
          "SUNTER JAYA",
          "SUSUKAN",
          "TANAH TINGGI",
          "TANGKI",
          "TANJUNG BARAT",
          "TANJUNG DUREN SELATAN",
          "TANJUNG DUREN UTARA",
          "TANJUNG PRIOK",
          "TEBET BARAT",
          "TEGAL ALUR",
          "TEGAL PARANG",
          "TENGAH",
          "TOMANG",
          "TUGU SELATAN",
          "TUGU UTARA",
          "UJUNG MENTENG",
          "ULUJAMI",
          "UTAN KAYU SELATAN",
          "UTAN KAYU UTARA",
          "WARAKAS",
          "SUKABUMI SELATAN",
          "SRENGSENG SAWAH",
          "LEBAK BULUS",
          "SRENGSENG",
          "PULAU PARI",
          "PULAU TIDUNG",
          "PULAU UNTUNG JAWA",
          "PULO",
          "PULO GADUNG",
          "PULO GEBANG",
          "PULOGADUNG",
          "RAGUNAN",
          "RAWA BADAK SELATAN",
          "RAWA BARAT",
          "RAWA BUAYA",
          "RAWA BUNGA",
          "RAWA TERATE",
          "RAWAJATI",
          "RAWAMANGUN",
          "RAWASARI",
          "ROROTAN",
          "SEMANAN",
          "SEMPER BARAT",
          "SEMPER TIMUR",
          "SERDANG",
          "SETU",
          "SLIPI",
          "LENTENG AGUNG",
          "KUNINGAN BARAT",
          "KUNINGAN TIMUR",
          "CIPEDAK",
          "CIPETE UTARA",
          "CIPINANG",
          "CIPINANG BESAR SELATAN",
          "CIPINANG BESAR UTARA",
          "CIPINANG CEMPEDAK",
          "CIPINANG MELAYU",
          "CIPINANG MUARA",
          "CIPULIR",
          "CIRACAS",
          "DUKUH",
          "DUREN SAWIT",
          "DUREN TIGA",
          "DURI KEPA",
          "DURI KOSAMBI",
          "GANDARIA SELATAN",
          "GANDARIA UTARA",
          "GEDONG",
          "GROGOL SELATAN",
          "GROGOL UTARA",
          "GUNTUR",
          "GUNUNG",
          "GUNUNG SAHARI SELATAN",
          "GUNUNG SAHARI UTARA",
          "CIPETE SELATAN",
          "CIPAYUNG",
          "JAGAKARSA",
          "CILINCING",
          "BALE KAMBANG",
          "BALEKAMBANG",
          "BAMBU APUS",
          "BANGKA",
          "BATU AMPAR",
          "BENDUNGAN HILIR",
          "BINTARO",
          "BUKIT DURI",
          "CAKUNG BARAT",
          "CAKUNG TIMUR",
          "CAWANG",
          "CEGER",
          "CEMPAKA BARU",
          "CEMPAKA PUTIH BARAT",
          "CEMPAKA PUTIH TIMUR",
          "CENGKARENG BARAT",
          "CENGKARENG TIMUR",
          "CIBUBUR",
          "CIJANTUNG",
          "CIKOKO",
          "CILANDAK BARAT",
          "CILANGKAP",
          "CILILITAN",
          "HALIM PERDANA KUSUMA",
          "JATI",
          "ANCOL",
          "KEBON JERUK",
          "KEBON KOSONG",
          "KEBON MANGGIS",
          "KEBON MELATI",
          "KEBON PALA",
          "KEBON SIRIH",
          "KEDAUNG KALI ANGKE",
          "KEDOYA UTARA",
          "KELAPA DUA ",
          "KELAPA DUA WETAN",
          "KELAPA GADING BARAT",
          "KELAPA GADING TIMUR",
          "KEMANGGISAN",
          "KEMAYORAN",
          "KEMBANGAN SELATAN",
          "KEMBANGAN UTARA",
          "KENARI",
          "KLENDER",
          "KOTA BAMBU SELATAN",
          "KOTA BAMBU UTARA",
          "KRAMAT",
          "KRAMAT JATI",
          "KRAMAT PELA",
          "KRENDANG",
          "KEBON KELAPA",
          "KEBON BAWANG",
          "JATI PADANG",
          "KEBON BARU",
          "JATI PULO",
          "JATINEGARA",
          "JATINEGARA KAUM",
          "JELAMBAR",
          "JELAMBAR BARU",
          "JOGLO",
          "JOHAR BARU",
          "KALIBATA",
          "KALIDERES",
          "KALISARI",
          "KAMAL",
          "KAMPUNG MELAYU",
          "KAMPUNG RAWA",
          "KAPUK",
          "KAPUK MUARA",
          "KARANG ANYAR",
          "KARET",
          "KARET SEMANGGI",
          "KARET TENGSIN",
          "KAYU PUTIH",
          "KEBAGUSAN",
          "KEBAYORAN LAMA SELATAN",
          "KEBAYORAN LAMA UTARA",
          "WIJAYA KUSUMA"
         ],
         "xaxis": "x",
         "y": [
          3,
          3,
          2,
          1,
          1,
          1,
          1,
          0,
          0,
          0,
          0,
          0,
          0,
          0,
          0,
          0,
          0,
          0,
          0,
          0,
          0,
          0,
          0,
          0,
          0,
          0,
          0,
          0,
          0,
          0,
          0,
          0,
          0,
          0,
          0,
          0,
          0,
          0,
          0,
          0,
          0,
          0,
          0,
          0,
          0,
          0,
          0,
          0,
          0,
          0,
          0,
          0,
          0,
          0,
          0,
          0,
          0,
          0,
          0,
          0,
          0,
          0,
          0,
          0,
          0,
          0,
          0,
          0,
          0,
          0,
          0,
          0,
          0,
          0,
          0,
          0,
          0,
          0,
          0,
          0,
          0,
          0,
          0,
          0,
          0,
          0,
          0,
          0,
          0,
          0,
          0,
          0,
          0,
          0,
          0,
          0,
          0,
          0,
          0,
          0,
          0,
          0,
          0,
          0,
          0,
          0,
          0,
          0,
          0,
          0,
          0,
          0,
          0,
          0,
          0,
          0,
          0,
          0,
          0,
          0,
          0,
          0,
          0,
          0,
          0,
          0,
          0,
          0,
          0,
          0,
          0,
          0,
          0,
          0,
          0,
          0,
          0,
          0,
          0,
          0,
          0,
          0,
          0,
          0,
          0,
          0,
          0,
          0,
          0,
          0,
          0,
          0,
          0,
          0,
          0,
          0,
          0,
          0,
          0,
          0,
          0,
          0,
          0,
          0,
          0,
          0,
          0,
          0,
          0,
          0,
          0,
          0,
          0,
          0,
          0,
          0,
          0,
          0,
          0,
          0,
          0,
          0,
          0,
          0,
          0,
          0,
          0,
          0,
          0,
          0,
          0,
          0,
          0,
          0,
          0,
          0,
          0,
          0,
          0,
          0,
          0,
          0,
          0,
          0,
          0,
          0,
          0,
          0,
          0,
          0,
          0,
          0,
          0,
          0,
          0,
          0,
          0,
          0,
          0,
          0
         ],
         "yaxis": "y"
        }
       ],
       "layout": {
        "barmode": "relative",
        "legend": {
         "tracegroupgap": 0
        },
        "template": {
         "data": {
          "bar": [
           {
            "error_x": {
             "color": "#f2f5fa"
            },
            "error_y": {
             "color": "#f2f5fa"
            },
            "marker": {
             "line": {
              "color": "rgb(17,17,17)",
              "width": 0.5
             },
             "pattern": {
              "fillmode": "overlay",
              "size": 10,
              "solidity": 0.2
             }
            },
            "type": "bar"
           }
          ],
          "barpolar": [
           {
            "marker": {
             "line": {
              "color": "rgb(17,17,17)",
              "width": 0.5
             },
             "pattern": {
              "fillmode": "overlay",
              "size": 10,
              "solidity": 0.2
             }
            },
            "type": "barpolar"
           }
          ],
          "carpet": [
           {
            "aaxis": {
             "endlinecolor": "#A2B1C6",
             "gridcolor": "#506784",
             "linecolor": "#506784",
             "minorgridcolor": "#506784",
             "startlinecolor": "#A2B1C6"
            },
            "baxis": {
             "endlinecolor": "#A2B1C6",
             "gridcolor": "#506784",
             "linecolor": "#506784",
             "minorgridcolor": "#506784",
             "startlinecolor": "#A2B1C6"
            },
            "type": "carpet"
           }
          ],
          "choropleth": [
           {
            "colorbar": {
             "outlinewidth": 0,
             "ticks": ""
            },
            "type": "choropleth"
           }
          ],
          "contour": [
           {
            "colorbar": {
             "outlinewidth": 0,
             "ticks": ""
            },
            "colorscale": [
             [
              0,
              "#0d0887"
             ],
             [
              0.1111111111111111,
              "#46039f"
             ],
             [
              0.2222222222222222,
              "#7201a8"
             ],
             [
              0.3333333333333333,
              "#9c179e"
             ],
             [
              0.4444444444444444,
              "#bd3786"
             ],
             [
              0.5555555555555556,
              "#d8576b"
             ],
             [
              0.6666666666666666,
              "#ed7953"
             ],
             [
              0.7777777777777778,
              "#fb9f3a"
             ],
             [
              0.8888888888888888,
              "#fdca26"
             ],
             [
              1,
              "#f0f921"
             ]
            ],
            "type": "contour"
           }
          ],
          "contourcarpet": [
           {
            "colorbar": {
             "outlinewidth": 0,
             "ticks": ""
            },
            "type": "contourcarpet"
           }
          ],
          "heatmap": [
           {
            "colorbar": {
             "outlinewidth": 0,
             "ticks": ""
            },
            "colorscale": [
             [
              0,
              "#0d0887"
             ],
             [
              0.1111111111111111,
              "#46039f"
             ],
             [
              0.2222222222222222,
              "#7201a8"
             ],
             [
              0.3333333333333333,
              "#9c179e"
             ],
             [
              0.4444444444444444,
              "#bd3786"
             ],
             [
              0.5555555555555556,
              "#d8576b"
             ],
             [
              0.6666666666666666,
              "#ed7953"
             ],
             [
              0.7777777777777778,
              "#fb9f3a"
             ],
             [
              0.8888888888888888,
              "#fdca26"
             ],
             [
              1,
              "#f0f921"
             ]
            ],
            "type": "heatmap"
           }
          ],
          "heatmapgl": [
           {
            "colorbar": {
             "outlinewidth": 0,
             "ticks": ""
            },
            "colorscale": [
             [
              0,
              "#0d0887"
             ],
             [
              0.1111111111111111,
              "#46039f"
             ],
             [
              0.2222222222222222,
              "#7201a8"
             ],
             [
              0.3333333333333333,
              "#9c179e"
             ],
             [
              0.4444444444444444,
              "#bd3786"
             ],
             [
              0.5555555555555556,
              "#d8576b"
             ],
             [
              0.6666666666666666,
              "#ed7953"
             ],
             [
              0.7777777777777778,
              "#fb9f3a"
             ],
             [
              0.8888888888888888,
              "#fdca26"
             ],
             [
              1,
              "#f0f921"
             ]
            ],
            "type": "heatmapgl"
           }
          ],
          "histogram": [
           {
            "marker": {
             "pattern": {
              "fillmode": "overlay",
              "size": 10,
              "solidity": 0.2
             }
            },
            "type": "histogram"
           }
          ],
          "histogram2d": [
           {
            "colorbar": {
             "outlinewidth": 0,
             "ticks": ""
            },
            "colorscale": [
             [
              0,
              "#0d0887"
             ],
             [
              0.1111111111111111,
              "#46039f"
             ],
             [
              0.2222222222222222,
              "#7201a8"
             ],
             [
              0.3333333333333333,
              "#9c179e"
             ],
             [
              0.4444444444444444,
              "#bd3786"
             ],
             [
              0.5555555555555556,
              "#d8576b"
             ],
             [
              0.6666666666666666,
              "#ed7953"
             ],
             [
              0.7777777777777778,
              "#fb9f3a"
             ],
             [
              0.8888888888888888,
              "#fdca26"
             ],
             [
              1,
              "#f0f921"
             ]
            ],
            "type": "histogram2d"
           }
          ],
          "histogram2dcontour": [
           {
            "colorbar": {
             "outlinewidth": 0,
             "ticks": ""
            },
            "colorscale": [
             [
              0,
              "#0d0887"
             ],
             [
              0.1111111111111111,
              "#46039f"
             ],
             [
              0.2222222222222222,
              "#7201a8"
             ],
             [
              0.3333333333333333,
              "#9c179e"
             ],
             [
              0.4444444444444444,
              "#bd3786"
             ],
             [
              0.5555555555555556,
              "#d8576b"
             ],
             [
              0.6666666666666666,
              "#ed7953"
             ],
             [
              0.7777777777777778,
              "#fb9f3a"
             ],
             [
              0.8888888888888888,
              "#fdca26"
             ],
             [
              1,
              "#f0f921"
             ]
            ],
            "type": "histogram2dcontour"
           }
          ],
          "mesh3d": [
           {
            "colorbar": {
             "outlinewidth": 0,
             "ticks": ""
            },
            "type": "mesh3d"
           }
          ],
          "parcoords": [
           {
            "line": {
             "colorbar": {
              "outlinewidth": 0,
              "ticks": ""
             }
            },
            "type": "parcoords"
           }
          ],
          "pie": [
           {
            "automargin": true,
            "type": "pie"
           }
          ],
          "scatter": [
           {
            "marker": {
             "line": {
              "color": "#283442"
             }
            },
            "type": "scatter"
           }
          ],
          "scatter3d": [
           {
            "line": {
             "colorbar": {
              "outlinewidth": 0,
              "ticks": ""
             }
            },
            "marker": {
             "colorbar": {
              "outlinewidth": 0,
              "ticks": ""
             }
            },
            "type": "scatter3d"
           }
          ],
          "scattercarpet": [
           {
            "marker": {
             "colorbar": {
              "outlinewidth": 0,
              "ticks": ""
             }
            },
            "type": "scattercarpet"
           }
          ],
          "scattergeo": [
           {
            "marker": {
             "colorbar": {
              "outlinewidth": 0,
              "ticks": ""
             }
            },
            "type": "scattergeo"
           }
          ],
          "scattergl": [
           {
            "marker": {
             "line": {
              "color": "#283442"
             }
            },
            "type": "scattergl"
           }
          ],
          "scattermapbox": [
           {
            "marker": {
             "colorbar": {
              "outlinewidth": 0,
              "ticks": ""
             }
            },
            "type": "scattermapbox"
           }
          ],
          "scatterpolar": [
           {
            "marker": {
             "colorbar": {
              "outlinewidth": 0,
              "ticks": ""
             }
            },
            "type": "scatterpolar"
           }
          ],
          "scatterpolargl": [
           {
            "marker": {
             "colorbar": {
              "outlinewidth": 0,
              "ticks": ""
             }
            },
            "type": "scatterpolargl"
           }
          ],
          "scatterternary": [
           {
            "marker": {
             "colorbar": {
              "outlinewidth": 0,
              "ticks": ""
             }
            },
            "type": "scatterternary"
           }
          ],
          "surface": [
           {
            "colorbar": {
             "outlinewidth": 0,
             "ticks": ""
            },
            "colorscale": [
             [
              0,
              "#0d0887"
             ],
             [
              0.1111111111111111,
              "#46039f"
             ],
             [
              0.2222222222222222,
              "#7201a8"
             ],
             [
              0.3333333333333333,
              "#9c179e"
             ],
             [
              0.4444444444444444,
              "#bd3786"
             ],
             [
              0.5555555555555556,
              "#d8576b"
             ],
             [
              0.6666666666666666,
              "#ed7953"
             ],
             [
              0.7777777777777778,
              "#fb9f3a"
             ],
             [
              0.8888888888888888,
              "#fdca26"
             ],
             [
              1,
              "#f0f921"
             ]
            ],
            "type": "surface"
           }
          ],
          "table": [
           {
            "cells": {
             "fill": {
              "color": "#506784"
             },
             "line": {
              "color": "rgb(17,17,17)"
             }
            },
            "header": {
             "fill": {
              "color": "#2a3f5f"
             },
             "line": {
              "color": "rgb(17,17,17)"
             }
            },
            "type": "table"
           }
          ]
         },
         "layout": {
          "annotationdefaults": {
           "arrowcolor": "#f2f5fa",
           "arrowhead": 0,
           "arrowwidth": 1
          },
          "autotypenumbers": "strict",
          "coloraxis": {
           "colorbar": {
            "outlinewidth": 0,
            "ticks": ""
           }
          },
          "colorscale": {
           "diverging": [
            [
             0,
             "#8e0152"
            ],
            [
             0.1,
             "#c51b7d"
            ],
            [
             0.2,
             "#de77ae"
            ],
            [
             0.3,
             "#f1b6da"
            ],
            [
             0.4,
             "#fde0ef"
            ],
            [
             0.5,
             "#f7f7f7"
            ],
            [
             0.6,
             "#e6f5d0"
            ],
            [
             0.7,
             "#b8e186"
            ],
            [
             0.8,
             "#7fbc41"
            ],
            [
             0.9,
             "#4d9221"
            ],
            [
             1,
             "#276419"
            ]
           ],
           "sequential": [
            [
             0,
             "#0d0887"
            ],
            [
             0.1111111111111111,
             "#46039f"
            ],
            [
             0.2222222222222222,
             "#7201a8"
            ],
            [
             0.3333333333333333,
             "#9c179e"
            ],
            [
             0.4444444444444444,
             "#bd3786"
            ],
            [
             0.5555555555555556,
             "#d8576b"
            ],
            [
             0.6666666666666666,
             "#ed7953"
            ],
            [
             0.7777777777777778,
             "#fb9f3a"
            ],
            [
             0.8888888888888888,
             "#fdca26"
            ],
            [
             1,
             "#f0f921"
            ]
           ],
           "sequentialminus": [
            [
             0,
             "#0d0887"
            ],
            [
             0.1111111111111111,
             "#46039f"
            ],
            [
             0.2222222222222222,
             "#7201a8"
            ],
            [
             0.3333333333333333,
             "#9c179e"
            ],
            [
             0.4444444444444444,
             "#bd3786"
            ],
            [
             0.5555555555555556,
             "#d8576b"
            ],
            [
             0.6666666666666666,
             "#ed7953"
            ],
            [
             0.7777777777777778,
             "#fb9f3a"
            ],
            [
             0.8888888888888888,
             "#fdca26"
            ],
            [
             1,
             "#f0f921"
            ]
           ]
          },
          "colorway": [
           "#636efa",
           "#EF553B",
           "#00cc96",
           "#ab63fa",
           "#FFA15A",
           "#19d3f3",
           "#FF6692",
           "#B6E880",
           "#FF97FF",
           "#FECB52"
          ],
          "font": {
           "color": "#f2f5fa"
          },
          "geo": {
           "bgcolor": "rgb(17,17,17)",
           "lakecolor": "rgb(17,17,17)",
           "landcolor": "rgb(17,17,17)",
           "showlakes": true,
           "showland": true,
           "subunitcolor": "#506784"
          },
          "hoverlabel": {
           "align": "left"
          },
          "hovermode": "closest",
          "mapbox": {
           "style": "dark"
          },
          "paper_bgcolor": "rgb(17,17,17)",
          "plot_bgcolor": "rgb(17,17,17)",
          "polar": {
           "angularaxis": {
            "gridcolor": "#506784",
            "linecolor": "#506784",
            "ticks": ""
           },
           "bgcolor": "rgb(17,17,17)",
           "radialaxis": {
            "gridcolor": "#506784",
            "linecolor": "#506784",
            "ticks": ""
           }
          },
          "scene": {
           "xaxis": {
            "backgroundcolor": "rgb(17,17,17)",
            "gridcolor": "#506784",
            "gridwidth": 2,
            "linecolor": "#506784",
            "showbackground": true,
            "ticks": "",
            "zerolinecolor": "#C8D4E3"
           },
           "yaxis": {
            "backgroundcolor": "rgb(17,17,17)",
            "gridcolor": "#506784",
            "gridwidth": 2,
            "linecolor": "#506784",
            "showbackground": true,
            "ticks": "",
            "zerolinecolor": "#C8D4E3"
           },
           "zaxis": {
            "backgroundcolor": "rgb(17,17,17)",
            "gridcolor": "#506784",
            "gridwidth": 2,
            "linecolor": "#506784",
            "showbackground": true,
            "ticks": "",
            "zerolinecolor": "#C8D4E3"
           }
          },
          "shapedefaults": {
           "line": {
            "color": "#f2f5fa"
           }
          },
          "sliderdefaults": {
           "bgcolor": "#C8D4E3",
           "bordercolor": "rgb(17,17,17)",
           "borderwidth": 1,
           "tickwidth": 0
          },
          "ternary": {
           "aaxis": {
            "gridcolor": "#506784",
            "linecolor": "#506784",
            "ticks": ""
           },
           "baxis": {
            "gridcolor": "#506784",
            "linecolor": "#506784",
            "ticks": ""
           },
           "bgcolor": "rgb(17,17,17)",
           "caxis": {
            "gridcolor": "#506784",
            "linecolor": "#506784",
            "ticks": ""
           }
          },
          "title": {
           "x": 0.05
          },
          "updatemenudefaults": {
           "bgcolor": "#506784",
           "borderwidth": 0
          },
          "xaxis": {
           "automargin": true,
           "gridcolor": "#283442",
           "linecolor": "#506784",
           "ticks": "",
           "title": {
            "standoff": 15
           },
           "zerolinecolor": "#283442",
           "zerolinewidth": 2
          },
          "yaxis": {
           "automargin": true,
           "gridcolor": "#283442",
           "linecolor": "#506784",
           "ticks": "",
           "title": {
            "standoff": 15
           },
           "zerolinecolor": "#283442",
           "zerolinewidth": 2
          }
         }
        },
        "title": {
         "text": "Jumlah Tempat Pengungsian per Kelurahan"
        },
        "xaxis": {
         "anchor": "y",
         "domain": [
          0,
          1
         ],
         "title": {
          "text": "Kelurahan"
         }
        },
        "yaxis": {
         "anchor": "x",
         "domain": [
          0,
          1
         ],
         "title": {
          "text": "Jumlah Tempat Pengungsian"
         }
        }
       }
      }
     },
     "metadata": {},
     "output_type": "display_data"
    }
   ],
   "source": [
    "fig = px.bar(tempat_pengungsian_per_kelurahan, x='kelurahan', y='jumlah_tempat_pengungsian', title='Jumlah Tempat Pengungsian per Kelurahan',\n",
    "             labels={'kelurahan': 'Kelurahan', 'jumlah_tempat_pengungsian': 'Jumlah Tempat Pengungsian'})\n",
    "\n",
    "fig.update_layout(template='plotly_dark')\n",
    "fig.show()"
   ]
  },
  {
   "attachments": {},
   "cell_type": "markdown",
   "metadata": {},
   "source": [
    "**Apa jumlah luka ringan dan pengungsi tertinggi yang terkait dengan kejadian ini?**"
   ]
  },
  {
   "cell_type": "code",
   "execution_count": 278,
   "metadata": {},
   "outputs": [
    {
     "name": "stdout",
     "output_type": "stream",
     "text": [
      "Jumlah luka ringan terkait dengan kejadian banjir: 90254\n",
      "Jumlah pengungsi tertinggi terkait dengan kejadian banjir: 271\n"
     ]
    }
   ],
   "source": [
    "# Jumlah luka ringan dan pengungsi tertinggi\n",
    "total_luka_ringan = merged_df['jumlah_luka_ringan'].sum()\n",
    "total_pengungsi_tertinggi = merged_df['jumlah_pengungsi_tertinggi'].max()\n",
    "\n",
    "print(\"Jumlah luka ringan terkait dengan kejadian banjir:\", total_luka_ringan)\n",
    "print(\"Jumlah pengungsi tertinggi terkait dengan kejadian banjir:\", total_pengungsi_tertinggi)"
   ]
  },
  {
   "attachments": {},
   "cell_type": "markdown",
   "metadata": {},
   "source": [
    "**Kesimpulan:**\n",
    "\n",
    "1. Jumlah luka ringan terkait dengan kejadian banjir adalah sebanyak 90.254 kasus. Ini menunjukkan bahwa banjir tersebut memiliki dampak signifikan terhadap kesehatan penduduk, dengan banyak orang mengalami luka ringan sebagai akibat dari banjir.\n",
    "\n",
    "2. Jumlah pengungsi tertinggi terkait dengan kejadian banjir adalah sebanyak 271 orang. Ini menunjukkan bahwa banjir tersebut juga menyebabkan banyak orang harus mengungsi dari tempat tinggal mereka karena genangan air yang tinggi.\n",
    "\n",
    "Kesimpulannya, banjir ini memiliki dampak serius baik dari segi kesehatan maupun pemindahan penduduk, dan tindakan darurat mungkin diperlukan untuk membantu mereka yang terkena dampak banjir ini."
   ]
  },
  {
   "attachments": {},
   "cell_type": "markdown",
   "metadata": {},
   "source": [
    "# REGRESI"
   ]
  },
  {
   "cell_type": "code",
   "execution_count": 280,
   "metadata": {},
   "outputs": [
    {
     "name": "stdout",
     "output_type": "stream",
     "text": [
      "Mean Squared Error: 1043579.1221216298\n",
      "R-squared: 0.032108401616201876\n"
     ]
    },
    {
     "data": {
      "application/vnd.plotly.v1+json": {
       "config": {
        "plotlyServerURL": "https://plot.ly"
       },
       "data": [
        {
         "hovertemplate": "ketinggian_air_num=%{x}<br>jumlah_terdampak_jiwa=%{y}<extra></extra>",
         "legendgroup": "",
         "marker": {
          "color": "#636efa",
          "symbol": "circle"
         },
         "mode": "markers",
         "name": "",
         "orientation": "v",
         "showlegend": false,
         "type": "scatter",
         "x": [
          20,
          40,
          20,
          40,
          50.5,
          110.5,
          50,
          22.5,
          20,
          80,
          40,
          80,
          80,
          20,
          20,
          40,
          35,
          30,
          80,
          20,
          42.5,
          20,
          50.5,
          40,
          110.5,
          50.5,
          50.5,
          50.5,
          50.5,
          80,
          50.5,
          50.5,
          50.5,
          40,
          40,
          115.5,
          90.5,
          50.5,
          80,
          65.5,
          75,
          65,
          60,
          90.5,
          75.5,
          60,
          80,
          50.5,
          110.5,
          20,
          90.5,
          90.5,
          40,
          50.5,
          50.5,
          125.5,
          20,
          50.5,
          50.5,
          50.5,
          50.5,
          65,
          20,
          20,
          20,
          110.5,
          110.5,
          110.5,
          90,
          110.5,
          40,
          90,
          50.5,
          40,
          110.5,
          50.5,
          90.5,
          90.5,
          110.5,
          90.5,
          80,
          90.5,
          110.5,
          115.5,
          20,
          135.5,
          40,
          20,
          123,
          50.5,
          120,
          115.5,
          70,
          110.5,
          110.5,
          135.5,
          70,
          50.5,
          110.5,
          50.5,
          90.5,
          110.5,
          135.5,
          57.5,
          90.5,
          40,
          20,
          105,
          50.5,
          20,
          90.5,
          50.5,
          90.5,
          110.5,
          110.5,
          40,
          80,
          115.5,
          45,
          80,
          110.5,
          90.5,
          120.5,
          20,
          115.5,
          110.5,
          80,
          180,
          50.5,
          90.5,
          90.5,
          135.5,
          135.5,
          90.5,
          80,
          90.5,
          115,
          110.5,
          50.5,
          90.5,
          50.5,
          110.5,
          50.5,
          50.5,
          50.5,
          20,
          125,
          50.5,
          50.5,
          110.5,
          40,
          20,
          30,
          60,
          30,
          35,
          20,
          30,
          30,
          25,
          20,
          30,
          30,
          35,
          60,
          65,
          42.5,
          30,
          20,
          55,
          35,
          25,
          30,
          25,
          20,
          20,
          20,
          20,
          20,
          27.5,
          35,
          45,
          45,
          37.5,
          20,
          37.5,
          32.5,
          40,
          45,
          17.5,
          20,
          17.5,
          57.5,
          25,
          22.5,
          55,
          25,
          32.5,
          30,
          55,
          25,
          20,
          30,
          30,
          12.5,
          40,
          20,
          40,
          10,
          10,
          32.5,
          35,
          25,
          20,
          32.5,
          35,
          45,
          20,
          40,
          55,
          17.5,
          25,
          25,
          30,
          25,
          35,
          35,
          40,
          65,
          30,
          20,
          55,
          15,
          15,
          22.5,
          15,
          15,
          100,
          20,
          35,
          20,
          20,
          120,
          20,
          17.5,
          100,
          200,
          30,
          35,
          22.5,
          75,
          37.5,
          15,
          20,
          20,
          40,
          45,
          40,
          25,
          20,
          45,
          25,
          55,
          35,
          70,
          55,
          52.5,
          30,
          140,
          35,
          50,
          35,
          22.5,
          35,
          30,
          27.5,
          55,
          22.5,
          35,
          35,
          45,
          60,
          45,
          55,
          35,
          30,
          50,
          55,
          15,
          45,
          80,
          40,
          50,
          60,
          35,
          80,
          55,
          17.5,
          20,
          57.5,
          35,
          85,
          90,
          60,
          40,
          35,
          35,
          35,
          35,
          17.5,
          40,
          35,
          55,
          75,
          55,
          30,
          40,
          30,
          10,
          30,
          20,
          20,
          30,
          17.5,
          15,
          17.5,
          10,
          20,
          85,
          77.5,
          90,
          25,
          60,
          32.5,
          80,
          60,
          62.5,
          35,
          70,
          15,
          30,
          30,
          40,
          70,
          35,
          27.5,
          67.5,
          80,
          62.5,
          52.5,
          70,
          20,
          50,
          25,
          35,
          60,
          35,
          60,
          70,
          55,
          12.5,
          15,
          25,
          20,
          50,
          25,
          15,
          20,
          35,
          17.5,
          50,
          50,
          40,
          45,
          30,
          20,
          42.5,
          20,
          35,
          30,
          22.5,
          40,
          20,
          50,
          35,
          60,
          50,
          55,
          35,
          15,
          15,
          15,
          30,
          50,
          40,
          22.5,
          75,
          15,
          30,
          15,
          15,
          30,
          10,
          30,
          20,
          17.5,
          20,
          65,
          55,
          30,
          20,
          20,
          35,
          25,
          10,
          35,
          60,
          55,
          40,
          35,
          100,
          40,
          50,
          50,
          50,
          50,
          40,
          105,
          95,
          70,
          10,
          110,
          110,
          20,
          20,
          55,
          65,
          35,
          32.5,
          7.5,
          25,
          40,
          17.5,
          30,
          7.5,
          40,
          30,
          27.5,
          40,
          25,
          27.5,
          12.5,
          20,
          40,
          10,
          20,
          15,
          17.5,
          20,
          25,
          30,
          20,
          50,
          40,
          20,
          12.5,
          20,
          35,
          10,
          15,
          25,
          22.5,
          35,
          55,
          17.5,
          125,
          30,
          60,
          45,
          20,
          25,
          30,
          100,
          30,
          15,
          37.5,
          40,
          30,
          30,
          55,
          30,
          20,
          40,
          42.5,
          15,
          20,
          30,
          30,
          15,
          35,
          45,
          45,
          45,
          45,
          20,
          20,
          15,
          25,
          20,
          45,
          60,
          55,
          35,
          60,
          100,
          70,
          10,
          50,
          40,
          40,
          35,
          30,
          20,
          50,
          70,
          30,
          30,
          50,
          40,
          30,
          30,
          90,
          20,
          40,
          12.5,
          10,
          25,
          20,
          50,
          15,
          15,
          50,
          90,
          90,
          50,
          20,
          40,
          50,
          20,
          35,
          35,
          30,
          30,
          25,
          15,
          20,
          20,
          25,
          20,
          10,
          15,
          20,
          20,
          20,
          7.5,
          7.5,
          55,
          20,
          50,
          25,
          50,
          22.5,
          20,
          20,
          75,
          45,
          55,
          30,
          20,
          20,
          25,
          25,
          65,
          20,
          20,
          55,
          100,
          100,
          70,
          70,
          70,
          55,
          47.5,
          85,
          30,
          30,
          20,
          15,
          15,
          20,
          120,
          120,
          25,
          60,
          40,
          30,
          45,
          30,
          55,
          20,
          40,
          30,
          30,
          40,
          20,
          50,
          40,
          20,
          20,
          30,
          30,
          55,
          55,
          40,
          40,
          55,
          40,
          40,
          20,
          20,
          30,
          30,
          25,
          20,
          20,
          25,
          25,
          45,
          72.5,
          67.5,
          67.5,
          65,
          65,
          50,
          10,
          10,
          20,
          40,
          10,
          40,
          45,
          80,
          20,
          40,
          30,
          90,
          40,
          40,
          40,
          45,
          45,
          55,
          55,
          55,
          55,
          55,
          80,
          80,
          80,
          80,
          80,
          20,
          35,
          35,
          35,
          35,
          45,
          30,
          30,
          30,
          45,
          30,
          30,
          20,
          20,
          45,
          20,
          30,
          30,
          45,
          45,
          45,
          45,
          10,
          35,
          45,
          35,
          35,
          45,
          80,
          70,
          80,
          90,
          70,
          45,
          70,
          70,
          50,
          70,
          35,
          20,
          45,
          70,
          45,
          60,
          60,
          20,
          25,
          25,
          45,
          45,
          45,
          45,
          50,
          50,
          50,
          10,
          10,
          10,
          10,
          10,
          10,
          10,
          40,
          35,
          40,
          30,
          30,
          50,
          15,
          15,
          40,
          20,
          75,
          75,
          50,
          50,
          75,
          35,
          30,
          40,
          30,
          40,
          25,
          40,
          60,
          50,
          40,
          70,
          70,
          40,
          40,
          40,
          35,
          30,
          22.5,
          27.5,
          60,
          100,
          30,
          30,
          55,
          55,
          45,
          25,
          25,
          25,
          20,
          20,
          30,
          30,
          30,
          20,
          20,
          30,
          30,
          10,
          20,
          30,
          40,
          80,
          80,
          10,
          80,
          30,
          50,
          50,
          30,
          10,
          15,
          15,
          20,
          15,
          22.5,
          25,
          10,
          20,
          35,
          10,
          12.5,
          12.5,
          12.5,
          15,
          15,
          15,
          20,
          20,
          10,
          35,
          35,
          45,
          45,
          10,
          10,
          10,
          10,
          20,
          15,
          25,
          20,
          20,
          35,
          30,
          20,
          30,
          20,
          20,
          20,
          30,
          30,
          20,
          20,
          20,
          40,
          20,
          15,
          20,
          50,
          20,
          30,
          30,
          60,
          40,
          15,
          15,
          15,
          7.5,
          7.5,
          15,
          20,
          20,
          7.5,
          20,
          40,
          15,
          15,
          15,
          15,
          15,
          15,
          20,
          17.5,
          17.5,
          15,
          15,
          15,
          15,
          20,
          50,
          30,
          30,
          20,
          20,
          25,
          30,
          40,
          10,
          30,
          30,
          15,
          45,
          45,
          45,
          45,
          20,
          25,
          25,
          25,
          30,
          20,
          20,
          30,
          17.5,
          25,
          30,
          30,
          30,
          30,
          35,
          35,
          35,
          20,
          60,
          60,
          15,
          15,
          12.5,
          7.5,
          12.5,
          12.5,
          15,
          5
         ],
         "xaxis": "x",
         "y": [
          140,
          0,
          0,
          625,
          195,
          2078,
          0,
          1121,
          0,
          150,
          574,
          120,
          278,
          0,
          100,
          210,
          0,
          0,
          1168,
          0,
          0,
          0,
          2220,
          362,
          1230,
          4461,
          2804,
          2133,
          60,
          85,
          24,
          208,
          147,
          0,
          0,
          2112,
          1208,
          130,
          36,
          1238,
          0,
          0,
          0,
          0,
          710,
          961,
          0,
          0,
          15,
          0,
          0,
          0,
          0,
          0,
          0,
          300,
          65,
          91,
          134,
          235,
          0,
          150,
          372,
          507,
          175,
          40,
          52,
          0,
          16,
          99,
          231,
          675,
          250,
          0,
          55,
          700,
          962,
          1041,
          816,
          797,
          1099,
          1058,
          147,
          3615,
          335,
          1540,
          405,
          345,
          440,
          781,
          185,
          0,
          0,
          596,
          150,
          321,
          0,
          25,
          325,
          269,
          256,
          0,
          228,
          1750,
          850,
          658,
          0,
          195,
          70,
          150,
          48,
          80,
          190,
          0,
          47,
          20,
          335,
          65,
          1868,
          470,
          220,
          274,
          465,
          220,
          3577,
          279,
          932,
          2556,
          4560,
          177,
          24,
          1500,
          58,
          1119,
          0,
          346,
          2806,
          300,
          209,
          2220,
          120,
          949,
          1200,
          0,
          207,
          0,
          100,
          2700,
          84,
          2310,
          0,
          0,
          0,
          0,
          0,
          0,
          0,
          0,
          0,
          0,
          0,
          0,
          0,
          0,
          0,
          0,
          0,
          0,
          0,
          0,
          0,
          0,
          0,
          0,
          0,
          0,
          0,
          0,
          0,
          0,
          271,
          182,
          192,
          0,
          0,
          0,
          250,
          0,
          0,
          0,
          0,
          0,
          1150,
          648,
          200,
          566,
          0,
          417,
          0,
          0,
          0,
          0,
          0,
          0,
          0,
          0,
          0,
          0,
          0,
          0,
          0,
          0,
          0,
          0,
          0,
          0,
          0,
          0,
          0,
          0,
          0,
          0,
          0,
          85,
          0,
          0,
          0,
          0,
          0,
          0,
          0,
          0,
          0,
          0,
          0,
          0,
          0,
          0,
          0,
          0,
          0,
          0,
          0,
          0,
          0,
          121,
          282,
          0,
          0,
          0,
          329,
          0,
          0,
          0,
          0,
          0,
          0,
          0,
          0,
          0,
          15,
          0,
          0,
          420,
          0,
          98,
          630,
          0,
          2564,
          0,
          0,
          0,
          0,
          0,
          0,
          0,
          0,
          0,
          2286,
          0,
          0,
          0,
          130,
          2132,
          0,
          0,
          0,
          3904,
          0,
          708,
          2185,
          0,
          0,
          244,
          0,
          0,
          0,
          0,
          0,
          13450,
          0,
          0,
          745,
          0,
          1157,
          0,
          0,
          0,
          0,
          0,
          0,
          0,
          8103,
          0,
          0,
          0,
          0,
          0,
          0,
          0,
          0,
          0,
          0,
          0,
          0,
          0,
          0,
          0,
          517,
          0,
          0,
          0,
          0,
          0,
          0,
          0,
          0,
          0,
          0,
          0,
          0,
          0,
          0,
          0,
          0,
          456,
          1068,
          4838,
          0,
          43,
          0,
          0,
          10,
          0,
          207,
          100,
          0,
          0,
          0,
          1598,
          0,
          850,
          0,
          0,
          0,
          0,
          0,
          0,
          65,
          0,
          0,
          0,
          0,
          0,
          0,
          0,
          0,
          0,
          0,
          0,
          0,
          0,
          0,
          0,
          0,
          10,
          0,
          0,
          0,
          0,
          0,
          0,
          0,
          0,
          817,
          0,
          153,
          0,
          0,
          0,
          0,
          476,
          1380,
          0,
          0,
          0,
          0,
          0,
          65,
          0,
          0,
          0,
          0,
          0,
          0,
          0,
          77,
          0,
          0,
          0,
          456,
          0,
          0,
          0,
          0,
          0,
          0,
          1370,
          1214,
          0,
          0,
          0,
          0,
          0,
          0,
          0,
          120,
          0,
          0,
          0,
          0,
          200,
          0,
          0,
          0,
          0,
          0,
          0,
          0,
          0,
          0,
          0,
          0,
          0,
          0,
          0,
          0,
          0,
          0,
          0,
          0,
          0,
          0,
          0,
          0,
          0,
          0,
          0,
          0,
          0,
          0,
          0,
          0,
          0,
          0,
          0,
          0,
          15,
          0,
          0,
          0,
          0,
          0,
          0,
          0,
          0,
          23,
          66,
          0,
          110,
          158,
          0,
          121,
          807,
          0,
          0,
          0,
          0,
          0,
          0,
          0,
          0,
          0,
          0,
          0,
          0,
          0,
          0,
          0,
          0,
          0,
          0,
          0,
          0,
          0,
          0,
          0,
          0,
          0,
          0,
          0,
          0,
          0,
          0,
          0,
          0,
          0,
          0,
          0,
          0,
          0,
          0,
          0,
          0,
          0,
          0,
          0,
          0,
          0,
          0,
          0,
          0,
          0,
          0,
          0,
          0,
          0,
          0,
          0,
          0,
          0,
          0,
          0,
          0,
          0,
          0,
          0,
          0,
          0,
          0,
          0,
          0,
          0,
          0,
          0,
          0,
          0,
          0,
          0,
          0,
          0,
          0,
          0,
          0,
          0,
          0,
          0,
          0,
          0,
          0,
          0,
          0,
          0,
          0,
          0,
          0,
          0,
          0,
          0,
          0,
          0,
          0,
          0,
          0,
          0,
          0,
          0,
          0,
          0,
          0,
          1200,
          0,
          0,
          0,
          0,
          0,
          0,
          0,
          0,
          0,
          0,
          0,
          0,
          0,
          0,
          0,
          0,
          0,
          0,
          0,
          0,
          0,
          0,
          0,
          0,
          0,
          0,
          0,
          0,
          0,
          0,
          0,
          0,
          0,
          0,
          0,
          0,
          0,
          0,
          0,
          0,
          0,
          0,
          0,
          0,
          0,
          0,
          0,
          0,
          0,
          0,
          225,
          0,
          0,
          0,
          0,
          0,
          0,
          0,
          0,
          0,
          20,
          28,
          24,
          31,
          23,
          51,
          66,
          16,
          118,
          80,
          18,
          48,
          23,
          28,
          31,
          53,
          33,
          28,
          27,
          27,
          38,
          21,
          28,
          15,
          36,
          21,
          31,
          22,
          46,
          54,
          58,
          51,
          0,
          7,
          9,
          28,
          24,
          20,
          21,
          24,
          16,
          45,
          24,
          21,
          24,
          22,
          12,
          38,
          21,
          16,
          17,
          30,
          18,
          13,
          7,
          0,
          5,
          0,
          0,
          0,
          0,
          0,
          41,
          10,
          0,
          70,
          46,
          59,
          70,
          40,
          0,
          0,
          0,
          0,
          0,
          0,
          0,
          0,
          0,
          0,
          0,
          0,
          0,
          0,
          0,
          0,
          0,
          413,
          385,
          86,
          225,
          120,
          120,
          90,
          150,
          150,
          178,
          117,
          162,
          30,
          35,
          150,
          120,
          160,
          97,
          45,
          0,
          0,
          0,
          0,
          0,
          0,
          0,
          0,
          0,
          0,
          0,
          0,
          0,
          0,
          0,
          0,
          0,
          0,
          0,
          0,
          0,
          0,
          0,
          0,
          0,
          0,
          0,
          0,
          0,
          0,
          0,
          0,
          0,
          0,
          0,
          0,
          0,
          0,
          0,
          0,
          0,
          0,
          0,
          0,
          0,
          0,
          0,
          0,
          0,
          0,
          0,
          0,
          0,
          0,
          0,
          0,
          0,
          0,
          0,
          0,
          0,
          0,
          0,
          0,
          0,
          0,
          0,
          0,
          0,
          0,
          0,
          0,
          0,
          0,
          0,
          0,
          0,
          0,
          0,
          0,
          0,
          0,
          0,
          0,
          0,
          0,
          0,
          0,
          0,
          0,
          0,
          0,
          0,
          0,
          0,
          0,
          0,
          0,
          0,
          0,
          0,
          0,
          0,
          0,
          0,
          0,
          0,
          0,
          0,
          0,
          0,
          0,
          0,
          0,
          0,
          0,
          0,
          0,
          70,
          80,
          0,
          90,
          0,
          51,
          66,
          118,
          80,
          48,
          23,
          28,
          31,
          53,
          21,
          19,
          36,
          12,
          22,
          46,
          54,
          58,
          51,
          0,
          0,
          0,
          10,
          0,
          0,
          0,
          0,
          0,
          0,
          0,
          0,
          0,
          0
         ],
         "yaxis": "y"
        },
        {
         "hovertemplate": "x=%{x}<br>y=%{y}<extra></extra>",
         "legendgroup": "",
         "line": {
          "color": "#636efa",
          "dash": "solid"
         },
         "marker": {
          "symbol": "circle"
         },
         "mode": "lines",
         "name": "",
         "orientation": "v",
         "showlegend": false,
         "type": "scatter",
         "x": [
          30,
          20,
          50,
          55,
          90,
          40,
          42.5,
          55,
          10,
          50.5,
          57.5,
          17.5,
          55,
          30,
          80,
          40,
          20,
          15,
          65.5,
          30,
          55,
          80,
          15,
          70,
          20,
          60,
          20,
          50,
          20,
          7.5,
          20,
          105,
          20,
          110.5,
          7.5,
          40,
          110.5,
          40,
          110.5,
          30,
          45,
          60,
          20,
          17.5,
          65,
          70,
          20,
          40,
          90.5,
          10,
          60,
          95,
          20,
          30,
          30,
          40,
          30,
          10,
          50.5,
          15,
          35,
          20,
          30,
          50,
          10,
          30,
          20,
          60,
          25,
          12.5,
          30,
          75.5,
          10,
          55,
          10,
          60,
          110.5,
          20,
          35,
          45,
          85,
          25,
          10,
          12.5,
          20,
          15,
          20,
          45,
          50.5,
          115,
          22.5,
          80,
          12.5,
          110.5,
          80,
          35,
          40,
          55,
          50,
          35,
          30,
          40,
          52.5,
          90,
          35,
          90.5,
          15,
          7.5,
          90.5,
          32.5,
          20,
          20,
          20,
          35,
          30,
          20,
          40,
          35,
          45,
          40,
          35,
          25,
          40,
          55,
          30,
          45,
          25,
          40,
          55,
          45,
          70,
          25,
          110.5,
          30,
          40,
          20,
          55,
          50,
          25,
          15,
          110.5,
          20,
          25,
          40,
          30,
          15,
          30,
          15,
          20,
          80,
          50,
          35,
          50,
          12.5,
          17.5,
          35,
          40,
          50.5,
          15,
          50,
          50,
          50,
          20,
          90.5,
          30,
          20,
          110.5,
          35,
          32.5,
          70,
          30,
          50,
          20,
          35,
          110.5,
          50.5,
          12.5,
          30,
          20,
          20,
          50.5,
          35,
          35,
          10,
          20,
          17.5,
          15,
          50.5,
          20,
          40,
          67.5,
          20,
          25,
          30,
          55,
          45,
          90,
          85,
          80,
          125.5,
          15,
          20,
          55,
          55,
          25,
          60,
          90.5,
          20,
          15,
          50,
          60,
          35,
          12.5,
          35,
          30,
          45,
          20,
          27.5,
          35,
          50,
          20,
          40,
          60,
          40,
          20,
          50.5,
          40,
          57.5,
          20,
          25,
          45,
          30,
          22.5,
          75,
          35,
          25,
          40,
          110.5,
          55,
          20,
          25,
          22.5,
          40,
          40,
          15,
          12.5,
          25,
          20,
          50,
          25,
          50,
          12.5,
          30,
          30,
          15,
          80,
          35,
          25,
          10,
          40,
          50,
          45,
          12.5,
          80,
          35,
          25,
          90.5,
          50.5,
          20,
          30,
          30,
          27.5,
          100,
          90.5,
          30,
          20,
          20
         ],
         "xaxis": "x",
         "y": [
          63.61125258421026,
          6.133488893771499,
          178.56677996508768,
          207.30566181030707,
          408.4778347268427,
          121.08901627464897,
          135.45845719725867,
          207.30566181030707,
          -51.344274796667236,
          181.44066814960968,
          221.67510273291674,
          -8.235952028838184,
          207.30566181030707,
          63.61125258421026,
          351.0000710364039,
          121.08901627464897,
          6.133488893771499,
          -22.60539295144786,
          267.6573136852677,
          63.61125258421026,
          207.30566181030707,
          351.0000710364039,
          -22.60539295144786,
          293.52230734596515,
          6.133488893771499,
          236.04454365552647,
          6.133488893771499,
          178.56677996508768,
          6.133488893771499,
          -65.71371571927692,
          6.133488893771499,
          494.69448026250075,
          6.133488893771499,
          526.307250292242,
          -65.71371571927692,
          121.08901627464897,
          526.307250292242,
          121.08901627464897,
          526.307250292242,
          63.61125258421026,
          149.82789811986837,
          236.04454365552647,
          6.133488893771499,
          -8.235952028838184,
          264.78342550074575,
          293.52230734596515,
          6.133488893771499,
          121.08901627464897,
          411.3517229113646,
          -51.344274796667236,
          236.04454365552647,
          437.21671657206196,
          6.133488893771499,
          63.61125258421026,
          63.61125258421026,
          121.08901627464897,
          63.61125258421026,
          -51.344274796667236,
          181.44066814960968,
          -22.60539295144786,
          92.3501344294296,
          6.133488893771499,
          63.61125258421026,
          178.56677996508768,
          -51.344274796667236,
          63.61125258421026,
          6.133488893771499,
          236.04454365552647,
          34.87237073899087,
          -36.97483387405756,
          63.61125258421026,
          325.1350773757065,
          -51.344274796667236,
          207.30566181030707,
          -51.344274796667236,
          236.04454365552647,
          526.307250292242,
          6.133488893771499,
          92.3501344294296,
          149.82789811986837,
          379.7389528816233,
          34.87237073899087,
          -51.344274796667236,
          -36.97483387405756,
          6.133488893771499,
          -22.60539295144786,
          6.133488893771499,
          149.82789811986837,
          181.44066814960968,
          552.1722439529395,
          20.502929816381197,
          351.0000710364039,
          -36.97483387405756,
          526.307250292242,
          351.0000710364039,
          92.3501344294296,
          121.08901627464897,
          207.30566181030707,
          178.56677996508768,
          92.3501344294296,
          63.61125258421026,
          121.08901627464897,
          192.9362208876974,
          408.4778347268427,
          92.3501344294296,
          411.3517229113646,
          -22.60539295144786,
          -65.71371571927692,
          411.3517229113646,
          77.98069350681993,
          6.133488893771499,
          6.133488893771499,
          6.133488893771499,
          92.3501344294296,
          63.61125258421026,
          6.133488893771499,
          121.08901627464897,
          92.3501344294296,
          149.82789811986837,
          121.08901627464897,
          92.3501344294296,
          34.87237073899087,
          121.08901627464897,
          207.30566181030707,
          63.61125258421026,
          149.82789811986837,
          34.87237073899087,
          121.08901627464897,
          207.30566181030707,
          149.82789811986837,
          293.52230734596515,
          34.87237073899087,
          526.307250292242,
          63.61125258421026,
          121.08901627464897,
          6.133488893771499,
          207.30566181030707,
          178.56677996508768,
          34.87237073899087,
          -22.60539295144786,
          526.307250292242,
          6.133488893771499,
          34.87237073899087,
          121.08901627464897,
          63.61125258421026,
          -22.60539295144786,
          63.61125258421026,
          -22.60539295144786,
          6.133488893771499,
          351.0000710364039,
          178.56677996508768,
          92.3501344294296,
          178.56677996508768,
          -36.97483387405756,
          -8.235952028838184,
          92.3501344294296,
          121.08901627464897,
          181.44066814960968,
          -22.60539295144786,
          178.56677996508768,
          178.56677996508768,
          178.56677996508768,
          6.133488893771499,
          411.3517229113646,
          63.61125258421026,
          6.133488893771499,
          526.307250292242,
          92.3501344294296,
          77.98069350681993,
          293.52230734596515,
          63.61125258421026,
          178.56677996508768,
          6.133488893771499,
          92.3501344294296,
          526.307250292242,
          181.44066814960968,
          -36.97483387405756,
          63.61125258421026,
          6.133488893771499,
          6.133488893771499,
          181.44066814960968,
          92.3501344294296,
          92.3501344294296,
          -51.344274796667236,
          6.133488893771499,
          -8.235952028838184,
          -22.60539295144786,
          181.44066814960968,
          6.133488893771499,
          121.08901627464897,
          279.1528664233555,
          6.133488893771499,
          34.87237073899087,
          63.61125258421026,
          207.30566181030707,
          149.82789811986837,
          408.4778347268427,
          379.7389528816233,
          351.0000710364039,
          612.5238958279002,
          -22.60539295144786,
          6.133488893771499,
          207.30566181030707,
          207.30566181030707,
          34.87237073899087,
          236.04454365552647,
          411.3517229113646,
          6.133488893771499,
          -22.60539295144786,
          178.56677996508768,
          236.04454365552647,
          92.3501344294296,
          -36.97483387405756,
          92.3501344294296,
          63.61125258421026,
          149.82789811986837,
          6.133488893771499,
          49.241811661600565,
          92.3501344294296,
          178.56677996508768,
          6.133488893771499,
          121.08901627464897,
          236.04454365552647,
          121.08901627464897,
          6.133488893771499,
          181.44066814960968,
          121.08901627464897,
          221.67510273291674,
          6.133488893771499,
          34.87237073899087,
          149.82789811986837,
          63.61125258421026,
          20.502929816381197,
          322.26118919118454,
          92.3501344294296,
          34.87237073899087,
          121.08901627464897,
          526.307250292242,
          207.30566181030707,
          6.133488893771499,
          34.87237073899087,
          20.502929816381197,
          121.08901627464897,
          121.08901627464897,
          -22.60539295144786,
          -36.97483387405756,
          34.87237073899087,
          6.133488893771499,
          178.56677996508768,
          34.87237073899087,
          178.56677996508768,
          -36.97483387405756,
          63.61125258421026,
          63.61125258421026,
          -22.60539295144786,
          351.0000710364039,
          92.3501344294296,
          34.87237073899087,
          -51.344274796667236,
          121.08901627464897,
          178.56677996508768,
          149.82789811986837,
          -36.97483387405756,
          351.0000710364039,
          92.3501344294296,
          34.87237073899087,
          411.3517229113646,
          181.44066814960968,
          6.133488893771499,
          63.61125258421026,
          63.61125258421026,
          49.241811661600565,
          465.9555984172813,
          411.3517229113646,
          63.61125258421026,
          6.133488893771499,
          6.133488893771499
         ],
         "yaxis": "y"
        }
       ],
       "layout": {
        "legend": {
         "tracegroupgap": 0
        },
        "template": {
         "data": {
          "bar": [
           {
            "error_x": {
             "color": "#f2f5fa"
            },
            "error_y": {
             "color": "#f2f5fa"
            },
            "marker": {
             "line": {
              "color": "rgb(17,17,17)",
              "width": 0.5
             },
             "pattern": {
              "fillmode": "overlay",
              "size": 10,
              "solidity": 0.2
             }
            },
            "type": "bar"
           }
          ],
          "barpolar": [
           {
            "marker": {
             "line": {
              "color": "rgb(17,17,17)",
              "width": 0.5
             },
             "pattern": {
              "fillmode": "overlay",
              "size": 10,
              "solidity": 0.2
             }
            },
            "type": "barpolar"
           }
          ],
          "carpet": [
           {
            "aaxis": {
             "endlinecolor": "#A2B1C6",
             "gridcolor": "#506784",
             "linecolor": "#506784",
             "minorgridcolor": "#506784",
             "startlinecolor": "#A2B1C6"
            },
            "baxis": {
             "endlinecolor": "#A2B1C6",
             "gridcolor": "#506784",
             "linecolor": "#506784",
             "minorgridcolor": "#506784",
             "startlinecolor": "#A2B1C6"
            },
            "type": "carpet"
           }
          ],
          "choropleth": [
           {
            "colorbar": {
             "outlinewidth": 0,
             "ticks": ""
            },
            "type": "choropleth"
           }
          ],
          "contour": [
           {
            "colorbar": {
             "outlinewidth": 0,
             "ticks": ""
            },
            "colorscale": [
             [
              0,
              "#0d0887"
             ],
             [
              0.1111111111111111,
              "#46039f"
             ],
             [
              0.2222222222222222,
              "#7201a8"
             ],
             [
              0.3333333333333333,
              "#9c179e"
             ],
             [
              0.4444444444444444,
              "#bd3786"
             ],
             [
              0.5555555555555556,
              "#d8576b"
             ],
             [
              0.6666666666666666,
              "#ed7953"
             ],
             [
              0.7777777777777778,
              "#fb9f3a"
             ],
             [
              0.8888888888888888,
              "#fdca26"
             ],
             [
              1,
              "#f0f921"
             ]
            ],
            "type": "contour"
           }
          ],
          "contourcarpet": [
           {
            "colorbar": {
             "outlinewidth": 0,
             "ticks": ""
            },
            "type": "contourcarpet"
           }
          ],
          "heatmap": [
           {
            "colorbar": {
             "outlinewidth": 0,
             "ticks": ""
            },
            "colorscale": [
             [
              0,
              "#0d0887"
             ],
             [
              0.1111111111111111,
              "#46039f"
             ],
             [
              0.2222222222222222,
              "#7201a8"
             ],
             [
              0.3333333333333333,
              "#9c179e"
             ],
             [
              0.4444444444444444,
              "#bd3786"
             ],
             [
              0.5555555555555556,
              "#d8576b"
             ],
             [
              0.6666666666666666,
              "#ed7953"
             ],
             [
              0.7777777777777778,
              "#fb9f3a"
             ],
             [
              0.8888888888888888,
              "#fdca26"
             ],
             [
              1,
              "#f0f921"
             ]
            ],
            "type": "heatmap"
           }
          ],
          "heatmapgl": [
           {
            "colorbar": {
             "outlinewidth": 0,
             "ticks": ""
            },
            "colorscale": [
             [
              0,
              "#0d0887"
             ],
             [
              0.1111111111111111,
              "#46039f"
             ],
             [
              0.2222222222222222,
              "#7201a8"
             ],
             [
              0.3333333333333333,
              "#9c179e"
             ],
             [
              0.4444444444444444,
              "#bd3786"
             ],
             [
              0.5555555555555556,
              "#d8576b"
             ],
             [
              0.6666666666666666,
              "#ed7953"
             ],
             [
              0.7777777777777778,
              "#fb9f3a"
             ],
             [
              0.8888888888888888,
              "#fdca26"
             ],
             [
              1,
              "#f0f921"
             ]
            ],
            "type": "heatmapgl"
           }
          ],
          "histogram": [
           {
            "marker": {
             "pattern": {
              "fillmode": "overlay",
              "size": 10,
              "solidity": 0.2
             }
            },
            "type": "histogram"
           }
          ],
          "histogram2d": [
           {
            "colorbar": {
             "outlinewidth": 0,
             "ticks": ""
            },
            "colorscale": [
             [
              0,
              "#0d0887"
             ],
             [
              0.1111111111111111,
              "#46039f"
             ],
             [
              0.2222222222222222,
              "#7201a8"
             ],
             [
              0.3333333333333333,
              "#9c179e"
             ],
             [
              0.4444444444444444,
              "#bd3786"
             ],
             [
              0.5555555555555556,
              "#d8576b"
             ],
             [
              0.6666666666666666,
              "#ed7953"
             ],
             [
              0.7777777777777778,
              "#fb9f3a"
             ],
             [
              0.8888888888888888,
              "#fdca26"
             ],
             [
              1,
              "#f0f921"
             ]
            ],
            "type": "histogram2d"
           }
          ],
          "histogram2dcontour": [
           {
            "colorbar": {
             "outlinewidth": 0,
             "ticks": ""
            },
            "colorscale": [
             [
              0,
              "#0d0887"
             ],
             [
              0.1111111111111111,
              "#46039f"
             ],
             [
              0.2222222222222222,
              "#7201a8"
             ],
             [
              0.3333333333333333,
              "#9c179e"
             ],
             [
              0.4444444444444444,
              "#bd3786"
             ],
             [
              0.5555555555555556,
              "#d8576b"
             ],
             [
              0.6666666666666666,
              "#ed7953"
             ],
             [
              0.7777777777777778,
              "#fb9f3a"
             ],
             [
              0.8888888888888888,
              "#fdca26"
             ],
             [
              1,
              "#f0f921"
             ]
            ],
            "type": "histogram2dcontour"
           }
          ],
          "mesh3d": [
           {
            "colorbar": {
             "outlinewidth": 0,
             "ticks": ""
            },
            "type": "mesh3d"
           }
          ],
          "parcoords": [
           {
            "line": {
             "colorbar": {
              "outlinewidth": 0,
              "ticks": ""
             }
            },
            "type": "parcoords"
           }
          ],
          "pie": [
           {
            "automargin": true,
            "type": "pie"
           }
          ],
          "scatter": [
           {
            "marker": {
             "line": {
              "color": "#283442"
             }
            },
            "type": "scatter"
           }
          ],
          "scatter3d": [
           {
            "line": {
             "colorbar": {
              "outlinewidth": 0,
              "ticks": ""
             }
            },
            "marker": {
             "colorbar": {
              "outlinewidth": 0,
              "ticks": ""
             }
            },
            "type": "scatter3d"
           }
          ],
          "scattercarpet": [
           {
            "marker": {
             "colorbar": {
              "outlinewidth": 0,
              "ticks": ""
             }
            },
            "type": "scattercarpet"
           }
          ],
          "scattergeo": [
           {
            "marker": {
             "colorbar": {
              "outlinewidth": 0,
              "ticks": ""
             }
            },
            "type": "scattergeo"
           }
          ],
          "scattergl": [
           {
            "marker": {
             "line": {
              "color": "#283442"
             }
            },
            "type": "scattergl"
           }
          ],
          "scattermapbox": [
           {
            "marker": {
             "colorbar": {
              "outlinewidth": 0,
              "ticks": ""
             }
            },
            "type": "scattermapbox"
           }
          ],
          "scatterpolar": [
           {
            "marker": {
             "colorbar": {
              "outlinewidth": 0,
              "ticks": ""
             }
            },
            "type": "scatterpolar"
           }
          ],
          "scatterpolargl": [
           {
            "marker": {
             "colorbar": {
              "outlinewidth": 0,
              "ticks": ""
             }
            },
            "type": "scatterpolargl"
           }
          ],
          "scatterternary": [
           {
            "marker": {
             "colorbar": {
              "outlinewidth": 0,
              "ticks": ""
             }
            },
            "type": "scatterternary"
           }
          ],
          "surface": [
           {
            "colorbar": {
             "outlinewidth": 0,
             "ticks": ""
            },
            "colorscale": [
             [
              0,
              "#0d0887"
             ],
             [
              0.1111111111111111,
              "#46039f"
             ],
             [
              0.2222222222222222,
              "#7201a8"
             ],
             [
              0.3333333333333333,
              "#9c179e"
             ],
             [
              0.4444444444444444,
              "#bd3786"
             ],
             [
              0.5555555555555556,
              "#d8576b"
             ],
             [
              0.6666666666666666,
              "#ed7953"
             ],
             [
              0.7777777777777778,
              "#fb9f3a"
             ],
             [
              0.8888888888888888,
              "#fdca26"
             ],
             [
              1,
              "#f0f921"
             ]
            ],
            "type": "surface"
           }
          ],
          "table": [
           {
            "cells": {
             "fill": {
              "color": "#506784"
             },
             "line": {
              "color": "rgb(17,17,17)"
             }
            },
            "header": {
             "fill": {
              "color": "#2a3f5f"
             },
             "line": {
              "color": "rgb(17,17,17)"
             }
            },
            "type": "table"
           }
          ]
         },
         "layout": {
          "annotationdefaults": {
           "arrowcolor": "#f2f5fa",
           "arrowhead": 0,
           "arrowwidth": 1
          },
          "autotypenumbers": "strict",
          "coloraxis": {
           "colorbar": {
            "outlinewidth": 0,
            "ticks": ""
           }
          },
          "colorscale": {
           "diverging": [
            [
             0,
             "#8e0152"
            ],
            [
             0.1,
             "#c51b7d"
            ],
            [
             0.2,
             "#de77ae"
            ],
            [
             0.3,
             "#f1b6da"
            ],
            [
             0.4,
             "#fde0ef"
            ],
            [
             0.5,
             "#f7f7f7"
            ],
            [
             0.6,
             "#e6f5d0"
            ],
            [
             0.7,
             "#b8e186"
            ],
            [
             0.8,
             "#7fbc41"
            ],
            [
             0.9,
             "#4d9221"
            ],
            [
             1,
             "#276419"
            ]
           ],
           "sequential": [
            [
             0,
             "#0d0887"
            ],
            [
             0.1111111111111111,
             "#46039f"
            ],
            [
             0.2222222222222222,
             "#7201a8"
            ],
            [
             0.3333333333333333,
             "#9c179e"
            ],
            [
             0.4444444444444444,
             "#bd3786"
            ],
            [
             0.5555555555555556,
             "#d8576b"
            ],
            [
             0.6666666666666666,
             "#ed7953"
            ],
            [
             0.7777777777777778,
             "#fb9f3a"
            ],
            [
             0.8888888888888888,
             "#fdca26"
            ],
            [
             1,
             "#f0f921"
            ]
           ],
           "sequentialminus": [
            [
             0,
             "#0d0887"
            ],
            [
             0.1111111111111111,
             "#46039f"
            ],
            [
             0.2222222222222222,
             "#7201a8"
            ],
            [
             0.3333333333333333,
             "#9c179e"
            ],
            [
             0.4444444444444444,
             "#bd3786"
            ],
            [
             0.5555555555555556,
             "#d8576b"
            ],
            [
             0.6666666666666666,
             "#ed7953"
            ],
            [
             0.7777777777777778,
             "#fb9f3a"
            ],
            [
             0.8888888888888888,
             "#fdca26"
            ],
            [
             1,
             "#f0f921"
            ]
           ]
          },
          "colorway": [
           "#636efa",
           "#EF553B",
           "#00cc96",
           "#ab63fa",
           "#FFA15A",
           "#19d3f3",
           "#FF6692",
           "#B6E880",
           "#FF97FF",
           "#FECB52"
          ],
          "font": {
           "color": "#f2f5fa"
          },
          "geo": {
           "bgcolor": "rgb(17,17,17)",
           "lakecolor": "rgb(17,17,17)",
           "landcolor": "rgb(17,17,17)",
           "showlakes": true,
           "showland": true,
           "subunitcolor": "#506784"
          },
          "hoverlabel": {
           "align": "left"
          },
          "hovermode": "closest",
          "mapbox": {
           "style": "dark"
          },
          "paper_bgcolor": "rgb(17,17,17)",
          "plot_bgcolor": "rgb(17,17,17)",
          "polar": {
           "angularaxis": {
            "gridcolor": "#506784",
            "linecolor": "#506784",
            "ticks": ""
           },
           "bgcolor": "rgb(17,17,17)",
           "radialaxis": {
            "gridcolor": "#506784",
            "linecolor": "#506784",
            "ticks": ""
           }
          },
          "scene": {
           "xaxis": {
            "backgroundcolor": "rgb(17,17,17)",
            "gridcolor": "#506784",
            "gridwidth": 2,
            "linecolor": "#506784",
            "showbackground": true,
            "ticks": "",
            "zerolinecolor": "#C8D4E3"
           },
           "yaxis": {
            "backgroundcolor": "rgb(17,17,17)",
            "gridcolor": "#506784",
            "gridwidth": 2,
            "linecolor": "#506784",
            "showbackground": true,
            "ticks": "",
            "zerolinecolor": "#C8D4E3"
           },
           "zaxis": {
            "backgroundcolor": "rgb(17,17,17)",
            "gridcolor": "#506784",
            "gridwidth": 2,
            "linecolor": "#506784",
            "showbackground": true,
            "ticks": "",
            "zerolinecolor": "#C8D4E3"
           }
          },
          "shapedefaults": {
           "line": {
            "color": "#f2f5fa"
           }
          },
          "sliderdefaults": {
           "bgcolor": "#C8D4E3",
           "bordercolor": "rgb(17,17,17)",
           "borderwidth": 1,
           "tickwidth": 0
          },
          "ternary": {
           "aaxis": {
            "gridcolor": "#506784",
            "linecolor": "#506784",
            "ticks": ""
           },
           "baxis": {
            "gridcolor": "#506784",
            "linecolor": "#506784",
            "ticks": ""
           },
           "bgcolor": "rgb(17,17,17)",
           "caxis": {
            "gridcolor": "#506784",
            "linecolor": "#506784",
            "ticks": ""
           }
          },
          "title": {
           "x": 0.05
          },
          "updatemenudefaults": {
           "bgcolor": "#506784",
           "borderwidth": 0
          },
          "xaxis": {
           "automargin": true,
           "gridcolor": "#283442",
           "linecolor": "#506784",
           "ticks": "",
           "title": {
            "standoff": 15
           },
           "zerolinecolor": "#283442",
           "zerolinewidth": 2
          },
          "yaxis": {
           "automargin": true,
           "gridcolor": "#283442",
           "linecolor": "#506784",
           "ticks": "",
           "title": {
            "standoff": 15
           },
           "zerolinecolor": "#283442",
           "zerolinewidth": 2
          }
         }
        },
        "title": {
         "text": "Regresi Linear dengan MinMaxScaler"
        },
        "xaxis": {
         "anchor": "y",
         "domain": [
          0,
          1
         ],
         "title": {
          "text": "ketinggian_air_num"
         }
        },
        "yaxis": {
         "anchor": "x",
         "domain": [
          0,
          1
         ],
         "title": {
          "text": "jumlah_terdampak_jiwa"
         }
        }
       }
      }
     },
     "metadata": {},
     "output_type": "display_data"
    }
   ],
   "source": [
    "X = merged_df[['ketinggian_air_num']]\n",
    "y = merged_df['jumlah_terdampak_jiwa']\n",
    "\n",
    "\n",
    "X_train, X_test, y_train, y_test = train_test_split(X, y, test_size=0.3, random_state=42)\n",
    "\n",
    "# Scale\n",
    "scaler = MinMaxScaler()\n",
    "X_train_scaled = scaler.fit_transform(X_train)\n",
    "X_test_scaled = scaler.transform(X_test)\n",
    "\n",
    "# Membuat dan melatih model regresi linear\n",
    "model = LinearRegression()\n",
    "model.fit(X_train_scaled, y_train)\n",
    "\n",
    "# prediksi\n",
    "y_pred = model.predict(X_test_scaled)\n",
    "\n",
    "# Evaluasi model\n",
    "mse = mean_squared_error(y_test, y_pred)\n",
    "r2 = r2_score(y_test, y_pred)\n",
    "\n",
    "print(\"Mean Squared Error:\", mse)\n",
    "print(\"R-squared:\", r2)\n",
    "\n",
    "fig = px.scatter(merged_df, x='ketinggian_air_num', y='jumlah_terdampak_jiwa', title='Regresi Linear dengan MinMaxScaler')\n",
    "fig.add_trace(px.line(x=X_test.squeeze(), y=y_pred).data[0])\n",
    "fig.update_layout(template='plotly_dark')\n",
    "fig.show()"
   ]
  },
  {
   "attachments": {},
   "cell_type": "markdown",
   "metadata": {},
   "source": [
    "////////////////////////////////"
   ]
  },
  {
   "cell_type": "code",
   "execution_count": 281,
   "metadata": {},
   "outputs": [
    {
     "data": {
      "application/vnd.plotly.v1+json": {
       "config": {
        "plotlyServerURL": "https://plot.ly"
       },
       "data": [
        {
         "hovertemplate": "ketinggian_air_num=%{x}<br>jumlah_terdampak_jiwa=%{y}<extra></extra>",
         "legendgroup": "",
         "marker": {
          "color": "#636efa",
          "symbol": "circle"
         },
         "mode": "markers",
         "name": "",
         "orientation": "v",
         "showlegend": false,
         "type": "scatter",
         "x": [
          20,
          40,
          20,
          40,
          50.5,
          110.5,
          50,
          22.5,
          20,
          80,
          40,
          80,
          80,
          20,
          20,
          40,
          35,
          30,
          80,
          20,
          42.5,
          20,
          50.5,
          40,
          110.5,
          50.5,
          50.5,
          50.5,
          50.5,
          80,
          50.5,
          50.5,
          50.5,
          40,
          40,
          115.5,
          90.5,
          50.5,
          80,
          65.5,
          75,
          65,
          60,
          90.5,
          75.5,
          60,
          80,
          50.5,
          110.5,
          20,
          90.5,
          90.5,
          40,
          50.5,
          50.5,
          125.5,
          20,
          50.5,
          50.5,
          50.5,
          50.5,
          65,
          20,
          20,
          20,
          110.5,
          110.5,
          110.5,
          90,
          110.5,
          40,
          90,
          50.5,
          40,
          110.5,
          50.5,
          90.5,
          90.5,
          110.5,
          90.5,
          80,
          90.5,
          110.5,
          115.5,
          20,
          135.5,
          40,
          20,
          123,
          50.5,
          120,
          115.5,
          70,
          110.5,
          110.5,
          135.5,
          70,
          50.5,
          110.5,
          50.5,
          90.5,
          110.5,
          135.5,
          57.5,
          90.5,
          40,
          20,
          105,
          50.5,
          20,
          90.5,
          50.5,
          90.5,
          110.5,
          110.5,
          40,
          80,
          115.5,
          45,
          80,
          110.5,
          90.5,
          120.5,
          20,
          115.5,
          110.5,
          80,
          180,
          50.5,
          90.5,
          90.5,
          135.5,
          135.5,
          90.5,
          80,
          90.5,
          115,
          110.5,
          50.5,
          90.5,
          50.5,
          110.5,
          50.5,
          50.5,
          50.5,
          20,
          125,
          50.5,
          50.5,
          110.5,
          40,
          20,
          30,
          60,
          30,
          35,
          20,
          30,
          30,
          25,
          20,
          30,
          30,
          35,
          60,
          65,
          42.5,
          30,
          20,
          55,
          35,
          25,
          30,
          25,
          20,
          20,
          20,
          20,
          20,
          27.5,
          35,
          45,
          45,
          37.5,
          20,
          37.5,
          32.5,
          40,
          45,
          17.5,
          20,
          17.5,
          57.5,
          25,
          22.5,
          55,
          25,
          32.5,
          30,
          55,
          25,
          20,
          30,
          30,
          12.5,
          40,
          20,
          40,
          10,
          10,
          32.5,
          35,
          25,
          20,
          32.5,
          35,
          45,
          20,
          40,
          55,
          17.5,
          25,
          25,
          30,
          25,
          35,
          35,
          40,
          65,
          30,
          20,
          55,
          15,
          15,
          22.5,
          15,
          15,
          100,
          20,
          35,
          20,
          20,
          120,
          20,
          17.5,
          100,
          200,
          30,
          35,
          22.5,
          75,
          37.5,
          15,
          20,
          20,
          40,
          45,
          40,
          25,
          20,
          45,
          25,
          55,
          35,
          70,
          55,
          52.5,
          30,
          140,
          35,
          50,
          35,
          22.5,
          35,
          30,
          27.5,
          55,
          22.5,
          35,
          35,
          45,
          60,
          45,
          55,
          35,
          30,
          50,
          55,
          15,
          45,
          80,
          40,
          50,
          60,
          35,
          80,
          55,
          17.5,
          20,
          57.5,
          35,
          85,
          90,
          60,
          40,
          35,
          35,
          35,
          35,
          17.5,
          40,
          35,
          55,
          75,
          55,
          30,
          40,
          30,
          10,
          30,
          20,
          20,
          30,
          17.5,
          15,
          17.5,
          10,
          20,
          85,
          77.5,
          90,
          25,
          60,
          32.5,
          80,
          60,
          62.5,
          35,
          70,
          15,
          30,
          30,
          40,
          70,
          35,
          27.5,
          67.5,
          80,
          62.5,
          52.5,
          70,
          20,
          50,
          25,
          35,
          60,
          35,
          60,
          70,
          55,
          12.5,
          15,
          25,
          20,
          50,
          25,
          15,
          20,
          35,
          17.5,
          50,
          50,
          40,
          45,
          30,
          20,
          42.5,
          20,
          35,
          30,
          22.5,
          40,
          20,
          50,
          35,
          60,
          50,
          55,
          35,
          15,
          15,
          15,
          30,
          50,
          40,
          22.5,
          75,
          15,
          30,
          15,
          15,
          30,
          10,
          30,
          20,
          17.5,
          20,
          65,
          55,
          30,
          20,
          20,
          35,
          25,
          10,
          35,
          60,
          55,
          40,
          35,
          100,
          40,
          50,
          50,
          50,
          50,
          40,
          105,
          95,
          70,
          10,
          110,
          110,
          20,
          20,
          55,
          65,
          35,
          32.5,
          7.5,
          25,
          40,
          17.5,
          30,
          7.5,
          40,
          30,
          27.5,
          40,
          25,
          27.5,
          12.5,
          20,
          40,
          10,
          20,
          15,
          17.5,
          20,
          25,
          30,
          20,
          50,
          40,
          20,
          12.5,
          20,
          35,
          10,
          15,
          25,
          22.5,
          35,
          55,
          17.5,
          125,
          30,
          60,
          45,
          20,
          25,
          30,
          100,
          30,
          15,
          37.5,
          40,
          30,
          30,
          55,
          30,
          20,
          40,
          42.5,
          15,
          20,
          30,
          30,
          15,
          35,
          45,
          45,
          45,
          45,
          20,
          20,
          15,
          25,
          20,
          45,
          60,
          55,
          35,
          60,
          100,
          70,
          10,
          50,
          40,
          40,
          35,
          30,
          20,
          50,
          70,
          30,
          30,
          50,
          40,
          30,
          30,
          90,
          20,
          40,
          12.5,
          10,
          25,
          20,
          50,
          15,
          15,
          50,
          90,
          90,
          50,
          20,
          40,
          50,
          20,
          35,
          35,
          30,
          30,
          25,
          15,
          20,
          20,
          25,
          20,
          10,
          15,
          20,
          20,
          20,
          7.5,
          7.5,
          55,
          20,
          50,
          25,
          50,
          22.5,
          20,
          20,
          75,
          45,
          55,
          30,
          20,
          20,
          25,
          25,
          65,
          20,
          20,
          55,
          100,
          100,
          70,
          70,
          70,
          55,
          47.5,
          85,
          30,
          30,
          20,
          15,
          15,
          20,
          120,
          120,
          25,
          60,
          40,
          30,
          45,
          30,
          55,
          20,
          40,
          30,
          30,
          40,
          20,
          50,
          40,
          20,
          20,
          30,
          30,
          55,
          55,
          40,
          40,
          55,
          40,
          40,
          20,
          20,
          30,
          30,
          25,
          20,
          20,
          25,
          25,
          45,
          72.5,
          67.5,
          67.5,
          65,
          65,
          50,
          10,
          10,
          20,
          40,
          10,
          40,
          45,
          80,
          20,
          40,
          30,
          90,
          40,
          40,
          40,
          45,
          45,
          55,
          55,
          55,
          55,
          55,
          80,
          80,
          80,
          80,
          80,
          20,
          35,
          35,
          35,
          35,
          45,
          30,
          30,
          30,
          45,
          30,
          30,
          20,
          20,
          45,
          20,
          30,
          30,
          45,
          45,
          45,
          45,
          10,
          35,
          45,
          35,
          35,
          45,
          80,
          70,
          80,
          90,
          70,
          45,
          70,
          70,
          50,
          70,
          35,
          20,
          45,
          70,
          45,
          60,
          60,
          20,
          25,
          25,
          45,
          45,
          45,
          45,
          50,
          50,
          50,
          10,
          10,
          10,
          10,
          10,
          10,
          10,
          40,
          35,
          40,
          30,
          30,
          50,
          15,
          15,
          40,
          20,
          75,
          75,
          50,
          50,
          75,
          35,
          30,
          40,
          30,
          40,
          25,
          40,
          60,
          50,
          40,
          70,
          70,
          40,
          40,
          40,
          35,
          30,
          22.5,
          27.5,
          60,
          100,
          30,
          30,
          55,
          55,
          45,
          25,
          25,
          25,
          20,
          20,
          30,
          30,
          30,
          20,
          20,
          30,
          30,
          10,
          20,
          30,
          40,
          80,
          80,
          10,
          80,
          30,
          50,
          50,
          30,
          10,
          15,
          15,
          20,
          15,
          22.5,
          25,
          10,
          20,
          35,
          10,
          12.5,
          12.5,
          12.5,
          15,
          15,
          15,
          20,
          20,
          10,
          35,
          35,
          45,
          45,
          10,
          10,
          10,
          10,
          20,
          15,
          25,
          20,
          20,
          35,
          30,
          20,
          30,
          20,
          20,
          20,
          30,
          30,
          20,
          20,
          20,
          40,
          20,
          15,
          20,
          50,
          20,
          30,
          30,
          60,
          40,
          15,
          15,
          15,
          7.5,
          7.5,
          15,
          20,
          20,
          7.5,
          20,
          40,
          15,
          15,
          15,
          15,
          15,
          15,
          20,
          17.5,
          17.5,
          15,
          15,
          15,
          15,
          20,
          50,
          30,
          30,
          20,
          20,
          25,
          30,
          40,
          10,
          30,
          30,
          15,
          45,
          45,
          45,
          45,
          20,
          25,
          25,
          25,
          30,
          20,
          20,
          30,
          17.5,
          25,
          30,
          30,
          30,
          30,
          35,
          35,
          35,
          20,
          60,
          60,
          15,
          15,
          12.5,
          7.5,
          12.5,
          12.5,
          15,
          5
         ],
         "xaxis": "x",
         "y": [
          140,
          0,
          0,
          625,
          195,
          2078,
          0,
          1121,
          0,
          150,
          574,
          120,
          278,
          0,
          100,
          210,
          0,
          0,
          1168,
          0,
          0,
          0,
          2220,
          362,
          1230,
          4461,
          2804,
          2133,
          60,
          85,
          24,
          208,
          147,
          0,
          0,
          2112,
          1208,
          130,
          36,
          1238,
          0,
          0,
          0,
          0,
          710,
          961,
          0,
          0,
          15,
          0,
          0,
          0,
          0,
          0,
          0,
          300,
          65,
          91,
          134,
          235,
          0,
          150,
          372,
          507,
          175,
          40,
          52,
          0,
          16,
          99,
          231,
          675,
          250,
          0,
          55,
          700,
          962,
          1041,
          816,
          797,
          1099,
          1058,
          147,
          3615,
          335,
          1540,
          405,
          345,
          440,
          781,
          185,
          0,
          0,
          596,
          150,
          321,
          0,
          25,
          325,
          269,
          256,
          0,
          228,
          1750,
          850,
          658,
          0,
          195,
          70,
          150,
          48,
          80,
          190,
          0,
          47,
          20,
          335,
          65,
          1868,
          470,
          220,
          274,
          465,
          220,
          3577,
          279,
          932,
          2556,
          4560,
          177,
          24,
          1500,
          58,
          1119,
          0,
          346,
          2806,
          300,
          209,
          2220,
          120,
          949,
          1200,
          0,
          207,
          0,
          100,
          2700,
          84,
          2310,
          0,
          0,
          0,
          0,
          0,
          0,
          0,
          0,
          0,
          0,
          0,
          0,
          0,
          0,
          0,
          0,
          0,
          0,
          0,
          0,
          0,
          0,
          0,
          0,
          0,
          0,
          0,
          0,
          0,
          0,
          271,
          182,
          192,
          0,
          0,
          0,
          250,
          0,
          0,
          0,
          0,
          0,
          1150,
          648,
          200,
          566,
          0,
          417,
          0,
          0,
          0,
          0,
          0,
          0,
          0,
          0,
          0,
          0,
          0,
          0,
          0,
          0,
          0,
          0,
          0,
          0,
          0,
          0,
          0,
          0,
          0,
          0,
          0,
          85,
          0,
          0,
          0,
          0,
          0,
          0,
          0,
          0,
          0,
          0,
          0,
          0,
          0,
          0,
          0,
          0,
          0,
          0,
          0,
          0,
          0,
          121,
          282,
          0,
          0,
          0,
          329,
          0,
          0,
          0,
          0,
          0,
          0,
          0,
          0,
          0,
          15,
          0,
          0,
          420,
          0,
          98,
          630,
          0,
          2564,
          0,
          0,
          0,
          0,
          0,
          0,
          0,
          0,
          0,
          2286,
          0,
          0,
          0,
          130,
          2132,
          0,
          0,
          0,
          3904,
          0,
          708,
          2185,
          0,
          0,
          244,
          0,
          0,
          0,
          0,
          0,
          13450,
          0,
          0,
          745,
          0,
          1157,
          0,
          0,
          0,
          0,
          0,
          0,
          0,
          8103,
          0,
          0,
          0,
          0,
          0,
          0,
          0,
          0,
          0,
          0,
          0,
          0,
          0,
          0,
          0,
          517,
          0,
          0,
          0,
          0,
          0,
          0,
          0,
          0,
          0,
          0,
          0,
          0,
          0,
          0,
          0,
          0,
          456,
          1068,
          4838,
          0,
          43,
          0,
          0,
          10,
          0,
          207,
          100,
          0,
          0,
          0,
          1598,
          0,
          850,
          0,
          0,
          0,
          0,
          0,
          0,
          65,
          0,
          0,
          0,
          0,
          0,
          0,
          0,
          0,
          0,
          0,
          0,
          0,
          0,
          0,
          0,
          0,
          10,
          0,
          0,
          0,
          0,
          0,
          0,
          0,
          0,
          817,
          0,
          153,
          0,
          0,
          0,
          0,
          476,
          1380,
          0,
          0,
          0,
          0,
          0,
          65,
          0,
          0,
          0,
          0,
          0,
          0,
          0,
          77,
          0,
          0,
          0,
          456,
          0,
          0,
          0,
          0,
          0,
          0,
          1370,
          1214,
          0,
          0,
          0,
          0,
          0,
          0,
          0,
          120,
          0,
          0,
          0,
          0,
          200,
          0,
          0,
          0,
          0,
          0,
          0,
          0,
          0,
          0,
          0,
          0,
          0,
          0,
          0,
          0,
          0,
          0,
          0,
          0,
          0,
          0,
          0,
          0,
          0,
          0,
          0,
          0,
          0,
          0,
          0,
          0,
          0,
          0,
          0,
          0,
          15,
          0,
          0,
          0,
          0,
          0,
          0,
          0,
          0,
          23,
          66,
          0,
          110,
          158,
          0,
          121,
          807,
          0,
          0,
          0,
          0,
          0,
          0,
          0,
          0,
          0,
          0,
          0,
          0,
          0,
          0,
          0,
          0,
          0,
          0,
          0,
          0,
          0,
          0,
          0,
          0,
          0,
          0,
          0,
          0,
          0,
          0,
          0,
          0,
          0,
          0,
          0,
          0,
          0,
          0,
          0,
          0,
          0,
          0,
          0,
          0,
          0,
          0,
          0,
          0,
          0,
          0,
          0,
          0,
          0,
          0,
          0,
          0,
          0,
          0,
          0,
          0,
          0,
          0,
          0,
          0,
          0,
          0,
          0,
          0,
          0,
          0,
          0,
          0,
          0,
          0,
          0,
          0,
          0,
          0,
          0,
          0,
          0,
          0,
          0,
          0,
          0,
          0,
          0,
          0,
          0,
          0,
          0,
          0,
          0,
          0,
          0,
          0,
          0,
          0,
          0,
          0,
          0,
          0,
          0,
          0,
          0,
          0,
          1200,
          0,
          0,
          0,
          0,
          0,
          0,
          0,
          0,
          0,
          0,
          0,
          0,
          0,
          0,
          0,
          0,
          0,
          0,
          0,
          0,
          0,
          0,
          0,
          0,
          0,
          0,
          0,
          0,
          0,
          0,
          0,
          0,
          0,
          0,
          0,
          0,
          0,
          0,
          0,
          0,
          0,
          0,
          0,
          0,
          0,
          0,
          0,
          0,
          0,
          0,
          225,
          0,
          0,
          0,
          0,
          0,
          0,
          0,
          0,
          0,
          20,
          28,
          24,
          31,
          23,
          51,
          66,
          16,
          118,
          80,
          18,
          48,
          23,
          28,
          31,
          53,
          33,
          28,
          27,
          27,
          38,
          21,
          28,
          15,
          36,
          21,
          31,
          22,
          46,
          54,
          58,
          51,
          0,
          7,
          9,
          28,
          24,
          20,
          21,
          24,
          16,
          45,
          24,
          21,
          24,
          22,
          12,
          38,
          21,
          16,
          17,
          30,
          18,
          13,
          7,
          0,
          5,
          0,
          0,
          0,
          0,
          0,
          41,
          10,
          0,
          70,
          46,
          59,
          70,
          40,
          0,
          0,
          0,
          0,
          0,
          0,
          0,
          0,
          0,
          0,
          0,
          0,
          0,
          0,
          0,
          0,
          0,
          413,
          385,
          86,
          225,
          120,
          120,
          90,
          150,
          150,
          178,
          117,
          162,
          30,
          35,
          150,
          120,
          160,
          97,
          45,
          0,
          0,
          0,
          0,
          0,
          0,
          0,
          0,
          0,
          0,
          0,
          0,
          0,
          0,
          0,
          0,
          0,
          0,
          0,
          0,
          0,
          0,
          0,
          0,
          0,
          0,
          0,
          0,
          0,
          0,
          0,
          0,
          0,
          0,
          0,
          0,
          0,
          0,
          0,
          0,
          0,
          0,
          0,
          0,
          0,
          0,
          0,
          0,
          0,
          0,
          0,
          0,
          0,
          0,
          0,
          0,
          0,
          0,
          0,
          0,
          0,
          0,
          0,
          0,
          0,
          0,
          0,
          0,
          0,
          0,
          0,
          0,
          0,
          0,
          0,
          0,
          0,
          0,
          0,
          0,
          0,
          0,
          0,
          0,
          0,
          0,
          0,
          0,
          0,
          0,
          0,
          0,
          0,
          0,
          0,
          0,
          0,
          0,
          0,
          0,
          0,
          0,
          0,
          0,
          0,
          0,
          0,
          0,
          0,
          0,
          0,
          0,
          0,
          0,
          0,
          0,
          0,
          0,
          70,
          80,
          0,
          90,
          0,
          51,
          66,
          118,
          80,
          48,
          23,
          28,
          31,
          53,
          21,
          19,
          36,
          12,
          22,
          46,
          54,
          58,
          51,
          0,
          0,
          0,
          10,
          0,
          0,
          0,
          0,
          0,
          0,
          0,
          0,
          0,
          0
         ],
         "yaxis": "y"
        },
        {
         "mode": "lines",
         "name": "Regresi Linear",
         "type": "scatter",
         "x": [
          20,
          40,
          20,
          40,
          50.5,
          110.5,
          50,
          22.5,
          20,
          80,
          40,
          80,
          80,
          20,
          20,
          40,
          35,
          30,
          80,
          20,
          42.5,
          20,
          50.5,
          40,
          110.5,
          50.5,
          50.5,
          50.5,
          50.5,
          80,
          50.5,
          50.5,
          50.5,
          40,
          40,
          115.5,
          90.5,
          50.5,
          80,
          65.5,
          75,
          65,
          60,
          90.5,
          75.5,
          60,
          80,
          50.5,
          110.5,
          20,
          90.5,
          90.5,
          40,
          50.5,
          50.5,
          125.5,
          20,
          50.5,
          50.5,
          50.5,
          50.5,
          65,
          20,
          20,
          20,
          110.5,
          110.5,
          110.5,
          90,
          110.5,
          40,
          90,
          50.5,
          40,
          110.5,
          50.5,
          90.5,
          90.5,
          110.5,
          90.5,
          80,
          90.5,
          110.5,
          115.5,
          20,
          135.5,
          40,
          20,
          123,
          50.5,
          120,
          115.5,
          70,
          110.5,
          110.5,
          135.5,
          70,
          50.5,
          110.5,
          50.5,
          90.5,
          110.5,
          135.5,
          57.5,
          90.5,
          40,
          20,
          105,
          50.5,
          20,
          90.5,
          50.5,
          90.5,
          110.5,
          110.5,
          40,
          80,
          115.5,
          45,
          80,
          110.5,
          90.5,
          120.5,
          20,
          115.5,
          110.5,
          80,
          180,
          50.5,
          90.5,
          90.5,
          135.5,
          135.5,
          90.5,
          80,
          90.5,
          115,
          110.5,
          50.5,
          90.5,
          50.5,
          110.5,
          50.5,
          50.5,
          50.5,
          20,
          125,
          50.5,
          50.5,
          110.5,
          40,
          20,
          30,
          60,
          30,
          35,
          20,
          30,
          30,
          25,
          20,
          30,
          30,
          35,
          60,
          65,
          42.5,
          30,
          20,
          55,
          35,
          25,
          30,
          25,
          20,
          20,
          20,
          20,
          20,
          27.5,
          35,
          45,
          45,
          37.5,
          20,
          37.5,
          32.5,
          40,
          45,
          17.5,
          20,
          17.5,
          57.5,
          25,
          22.5,
          55,
          25,
          32.5,
          30,
          55,
          25,
          20,
          30,
          30,
          12.5,
          40,
          20,
          40,
          10,
          10,
          32.5,
          35,
          25,
          20,
          32.5,
          35,
          45,
          20,
          40,
          55,
          17.5,
          25,
          25,
          30,
          25,
          35,
          35,
          40,
          65,
          30,
          20,
          55,
          15,
          15,
          22.5,
          15,
          15,
          100,
          20,
          35,
          20,
          20,
          120,
          20,
          17.5,
          100,
          200,
          30,
          35,
          22.5,
          75,
          37.5,
          15,
          20,
          20,
          40,
          45,
          40,
          25,
          20,
          45,
          25,
          55,
          35,
          70,
          55,
          52.5,
          30,
          140,
          35,
          50,
          35,
          22.5,
          35,
          30,
          27.5,
          55,
          22.5,
          35,
          35,
          45,
          60,
          45,
          55,
          35,
          30,
          50,
          55,
          15,
          45,
          80,
          40,
          50,
          60,
          35,
          80,
          55,
          17.5,
          20,
          57.5,
          35,
          85,
          90,
          60,
          40,
          35,
          35,
          35,
          35,
          17.5,
          40,
          35,
          55,
          75,
          55,
          30,
          40,
          30,
          10,
          30,
          20,
          20,
          30,
          17.5,
          15,
          17.5,
          10,
          20,
          85,
          77.5,
          90,
          25,
          60,
          32.5,
          80,
          60,
          62.5,
          35,
          70,
          15,
          30,
          30,
          40,
          70,
          35,
          27.5,
          67.5,
          80,
          62.5,
          52.5,
          70,
          20,
          50,
          25,
          35,
          60,
          35,
          60,
          70,
          55,
          12.5,
          15,
          25,
          20,
          50,
          25,
          15,
          20,
          35,
          17.5,
          50,
          50,
          40,
          45,
          30,
          20,
          42.5,
          20,
          35,
          30,
          22.5,
          40,
          20,
          50,
          35,
          60,
          50,
          55,
          35,
          15,
          15,
          15,
          30,
          50,
          40,
          22.5,
          75,
          15,
          30,
          15,
          15,
          30,
          10,
          30,
          20,
          17.5,
          20,
          65,
          55,
          30,
          20,
          20,
          35,
          25,
          10,
          35,
          60,
          55,
          40,
          35,
          100,
          40,
          50,
          50,
          50,
          50,
          40,
          105,
          95,
          70,
          10,
          110,
          110,
          20,
          20,
          55,
          65,
          35,
          32.5,
          7.5,
          25,
          40,
          17.5,
          30,
          7.5,
          40,
          30,
          27.5,
          40,
          25,
          27.5,
          12.5,
          20,
          40,
          10,
          20,
          15,
          17.5,
          20,
          25,
          30,
          20,
          50,
          40,
          20,
          12.5,
          20,
          35,
          10,
          15,
          25,
          22.5,
          35,
          55,
          17.5,
          125,
          30,
          60,
          45,
          20,
          25,
          30,
          100,
          30,
          15,
          37.5,
          40,
          30,
          30,
          55,
          30,
          20,
          40,
          42.5,
          15,
          20,
          30,
          30,
          15,
          35,
          45,
          45,
          45,
          45,
          20,
          20,
          15,
          25,
          20,
          45,
          60,
          55,
          35,
          60,
          100,
          70,
          10,
          50,
          40,
          40,
          35,
          30,
          20,
          50,
          70,
          30,
          30,
          50,
          40,
          30,
          30,
          90,
          20,
          40,
          12.5,
          10,
          25,
          20,
          50,
          15,
          15,
          50,
          90,
          90,
          50,
          20,
          40,
          50,
          20,
          35,
          35,
          30,
          30,
          25,
          15,
          20,
          20,
          25,
          20,
          10,
          15,
          20,
          20,
          20,
          7.5,
          7.5,
          55,
          20,
          50,
          25,
          50,
          22.5,
          20,
          20,
          75,
          45,
          55,
          30,
          20,
          20,
          25,
          25,
          65,
          20,
          20,
          55,
          100,
          100,
          70,
          70,
          70,
          55,
          47.5,
          85,
          30,
          30,
          20,
          15,
          15,
          20,
          120,
          120,
          25,
          60,
          40,
          30,
          45,
          30,
          55,
          20,
          40,
          30,
          30,
          40,
          20,
          50,
          40,
          20,
          20,
          30,
          30,
          55,
          55,
          40,
          40,
          55,
          40,
          40,
          20,
          20,
          30,
          30,
          25,
          20,
          20,
          25,
          25,
          45,
          72.5,
          67.5,
          67.5,
          65,
          65,
          50,
          10,
          10,
          20,
          40,
          10,
          40,
          45,
          80,
          20,
          40,
          30,
          90,
          40,
          40,
          40,
          45,
          45,
          55,
          55,
          55,
          55,
          55,
          80,
          80,
          80,
          80,
          80,
          20,
          35,
          35,
          35,
          35,
          45,
          30,
          30,
          30,
          45,
          30,
          30,
          20,
          20,
          45,
          20,
          30,
          30,
          45,
          45,
          45,
          45,
          10,
          35,
          45,
          35,
          35,
          45,
          80,
          70,
          80,
          90,
          70,
          45,
          70,
          70,
          50,
          70,
          35,
          20,
          45,
          70,
          45,
          60,
          60,
          20,
          25,
          25,
          45,
          45,
          45,
          45,
          50,
          50,
          50,
          10,
          10,
          10,
          10,
          10,
          10,
          10,
          40,
          35,
          40,
          30,
          30,
          50,
          15,
          15,
          40,
          20,
          75,
          75,
          50,
          50,
          75,
          35,
          30,
          40,
          30,
          40,
          25,
          40,
          60,
          50,
          40,
          70,
          70,
          40,
          40,
          40,
          35,
          30,
          22.5,
          27.5,
          60,
          100,
          30,
          30,
          55,
          55,
          45,
          25,
          25,
          25,
          20,
          20,
          30,
          30,
          30,
          20,
          20,
          30,
          30,
          10,
          20,
          30,
          40,
          80,
          80,
          10,
          80,
          30,
          50,
          50,
          30,
          10,
          15,
          15,
          20,
          15,
          22.5,
          25,
          10,
          20,
          35,
          10,
          12.5,
          12.5,
          12.5,
          15,
          15,
          15,
          20,
          20,
          10,
          35,
          35,
          45,
          45,
          10,
          10,
          10,
          10,
          20,
          15,
          25,
          20,
          20,
          35,
          30,
          20,
          30,
          20,
          20,
          20,
          30,
          30,
          20,
          20,
          20,
          40,
          20,
          15,
          20,
          50,
          20,
          30,
          30,
          60,
          40,
          15,
          15,
          15,
          7.5,
          7.5,
          15,
          20,
          20,
          7.5,
          20,
          40,
          15,
          15,
          15,
          15,
          15,
          15,
          20,
          17.5,
          17.5,
          15,
          15,
          15,
          15,
          20,
          50,
          30,
          30,
          20,
          20,
          25,
          30,
          40,
          10,
          30,
          30,
          15,
          45,
          45,
          45,
          45,
          20,
          25,
          25,
          25,
          30,
          20,
          20,
          30,
          17.5,
          25,
          30,
          30,
          30,
          30,
          35,
          35,
          35,
          20,
          60,
          60,
          15,
          15,
          12.5,
          7.5,
          12.5,
          12.5,
          15,
          5
         ],
         "y": [
          20.594076083267367,
          150.68899565861838,
          20.594076083267367,
          150.68899565861838,
          218.98882843567762,
          609.2735871617307,
          215.7364554462939,
          36.855941030186244,
          20.594076083267367,
          410.87883480932044,
          150.68899565861838,
          410.87883480932044,
          410.87883480932044,
          20.594076083267367,
          20.594076083267367,
          150.68899565861838,
          118.16526576478063,
          85.64153587094287,
          410.87883480932044,
          20.594076083267367,
          166.95086060553726,
          20.594076083267367,
          218.98882843567762,
          150.68899565861838,
          609.2735871617307,
          218.98882843567762,
          218.98882843567762,
          218.98882843567762,
          218.98882843567762,
          410.87883480932044,
          218.98882843567762,
          218.98882843567762,
          218.98882843567762,
          150.68899565861838,
          150.68899565861838,
          641.7973170555684,
          479.1786675863797,
          218.98882843567762,
          410.87883480932044,
          316.5600181171909,
          378.3551049154827,
          313.3076451278072,
          280.7839152339694,
          479.1786675863797,
          381.6074779048664,
          280.7839152339694,
          410.87883480932044,
          218.98882843567762,
          609.2735871617307,
          20.594076083267367,
          479.1786675863797,
          479.1786675863797,
          150.68899565861838,
          218.98882843567762,
          218.98882843567762,
          706.844776843244,
          20.594076083267367,
          218.98882843567762,
          218.98882843567762,
          218.98882843567762,
          218.98882843567762,
          313.3076451278072,
          20.594076083267367,
          20.594076083267367,
          20.594076083267367,
          609.2735871617307,
          609.2735871617307,
          609.2735871617307,
          475.92629459699594,
          609.2735871617307,
          150.68899565861838,
          475.92629459699594,
          218.98882843567762,
          150.68899565861838,
          609.2735871617307,
          218.98882843567762,
          479.1786675863797,
          479.1786675863797,
          609.2735871617307,
          479.1786675863797,
          410.87883480932044,
          479.1786675863797,
          609.2735871617307,
          641.7973170555684,
          20.594076083267367,
          771.8922366309195,
          150.68899565861838,
          20.594076083267367,
          690.5829118963251,
          218.98882843567762,
          671.0686739600225,
          641.7973170555684,
          345.83137502164493,
          609.2735871617307,
          609.2735871617307,
          771.8922366309195,
          345.83137502164493,
          218.98882843567762,
          609.2735871617307,
          218.98882843567762,
          479.1786675863797,
          609.2735871617307,
          771.8922366309195,
          264.52205028705055,
          479.1786675863797,
          150.68899565861838,
          20.594076083267367,
          573.4974842785092,
          218.98882843567762,
          20.594076083267367,
          479.1786675863797,
          218.98882843567762,
          479.1786675863797,
          609.2735871617307,
          609.2735871617307,
          150.68899565861838,
          410.87883480932044,
          641.7973170555684,
          183.21272555245613,
          410.87883480932044,
          609.2735871617307,
          479.1786675863797,
          674.3210469494062,
          20.594076083267367,
          641.7973170555684,
          609.2735871617307,
          410.87883480932044,
          1061.3534326860754,
          218.98882843567762,
          479.1786675863797,
          479.1786675863797,
          771.8922366309195,
          771.8922366309195,
          479.1786675863797,
          410.87883480932044,
          479.1786675863797,
          638.5449440661847,
          609.2735871617307,
          218.98882843567762,
          479.1786675863797,
          218.98882843567762,
          609.2735871617307,
          218.98882843567762,
          218.98882843567762,
          218.98882843567762,
          20.594076083267367,
          703.5924038538602,
          218.98882843567762,
          218.98882843567762,
          609.2735871617307,
          150.68899565861838,
          20.594076083267367,
          85.64153587094287,
          280.7839152339694,
          85.64153587094287,
          118.16526576478063,
          20.594076083267367,
          85.64153587094287,
          85.64153587094287,
          53.11780597710512,
          20.594076083267367,
          85.64153587094287,
          85.64153587094287,
          118.16526576478063,
          280.7839152339694,
          313.3076451278072,
          166.95086060553726,
          85.64153587094287,
          20.594076083267367,
          248.26018534013164,
          118.16526576478063,
          53.11780597710512,
          85.64153587094287,
          53.11780597710512,
          20.594076083267367,
          20.594076083267367,
          20.594076083267367,
          20.594076083267367,
          20.594076083267367,
          69.379670924024,
          118.16526576478063,
          183.21272555245613,
          183.21272555245613,
          134.4271307116995,
          20.594076083267367,
          134.4271307116995,
          101.90340081786175,
          150.68899565861838,
          183.21272555245613,
          4.332211136348491,
          20.594076083267367,
          4.332211136348491,
          264.52205028705055,
          53.11780597710512,
          36.855941030186244,
          248.26018534013164,
          53.11780597710512,
          101.90340081786175,
          85.64153587094287,
          248.26018534013164,
          53.11780597710512,
          20.594076083267367,
          85.64153587094287,
          85.64153587094287,
          -28.191518757489263,
          150.68899565861838,
          20.594076083267367,
          150.68899565861838,
          -44.45338370440814,
          -44.45338370440814,
          101.90340081786175,
          118.16526576478063,
          53.11780597710512,
          20.594076083267367,
          101.90340081786175,
          118.16526576478063,
          183.21272555245613,
          20.594076083267367,
          150.68899565861838,
          248.26018534013164,
          4.332211136348491,
          53.11780597710512,
          53.11780597710512,
          85.64153587094287,
          53.11780597710512,
          118.16526576478063,
          118.16526576478063,
          150.68899565861838,
          313.3076451278072,
          85.64153587094287,
          20.594076083267367,
          248.26018534013164,
          -11.929653810570386,
          -11.929653810570386,
          36.855941030186244,
          -11.929653810570386,
          -11.929653810570386,
          540.9737543846715,
          20.594076083267367,
          118.16526576478063,
          20.594076083267367,
          20.594076083267367,
          671.0686739600225,
          20.594076083267367,
          4.332211136348491,
          540.9737543846715,
          1191.4483522614264,
          85.64153587094287,
          118.16526576478063,
          36.855941030186244,
          378.3551049154827,
          134.4271307116995,
          -11.929653810570386,
          20.594076083267367,
          20.594076083267367,
          150.68899565861838,
          183.21272555245613,
          150.68899565861838,
          53.11780597710512,
          20.594076083267367,
          183.21272555245613,
          53.11780597710512,
          248.26018534013164,
          118.16526576478063,
          345.83137502164493,
          248.26018534013164,
          231.99832039321277,
          85.64153587094287,
          801.1635935353735,
          118.16526576478063,
          215.7364554462939,
          118.16526576478063,
          36.855941030186244,
          118.16526576478063,
          85.64153587094287,
          69.379670924024,
          248.26018534013164,
          36.855941030186244,
          118.16526576478063,
          118.16526576478063,
          183.21272555245613,
          280.7839152339694,
          183.21272555245613,
          248.26018534013164,
          118.16526576478063,
          85.64153587094287,
          215.7364554462939,
          248.26018534013164,
          -11.929653810570386,
          183.21272555245613,
          410.87883480932044,
          150.68899565861838,
          215.7364554462939,
          280.7839152339694,
          118.16526576478063,
          410.87883480932044,
          248.26018534013164,
          4.332211136348491,
          20.594076083267367,
          264.52205028705055,
          118.16526576478063,
          443.4025647031582,
          475.92629459699594,
          280.7839152339694,
          150.68899565861838,
          118.16526576478063,
          118.16526576478063,
          118.16526576478063,
          118.16526576478063,
          4.332211136348491,
          150.68899565861838,
          118.16526576478063,
          248.26018534013164,
          378.3551049154827,
          248.26018534013164,
          85.64153587094287,
          150.68899565861838,
          85.64153587094287,
          -44.45338370440814,
          85.64153587094287,
          20.594076083267367,
          20.594076083267367,
          85.64153587094287,
          4.332211136348491,
          -11.929653810570386,
          4.332211136348491,
          -44.45338370440814,
          20.594076083267367,
          443.4025647031582,
          394.61696986240156,
          475.92629459699594,
          53.11780597710512,
          280.7839152339694,
          101.90340081786175,
          410.87883480932044,
          280.7839152339694,
          297.0457801808883,
          118.16526576478063,
          345.83137502164493,
          -11.929653810570386,
          85.64153587094287,
          85.64153587094287,
          150.68899565861838,
          345.83137502164493,
          118.16526576478063,
          69.379670924024,
          329.56951007472605,
          410.87883480932044,
          297.0457801808883,
          231.99832039321277,
          345.83137502164493,
          20.594076083267367,
          215.7364554462939,
          53.11780597710512,
          118.16526576478063,
          280.7839152339694,
          118.16526576478063,
          280.7839152339694,
          345.83137502164493,
          248.26018534013164,
          -28.191518757489263,
          -11.929653810570386,
          53.11780597710512,
          20.594076083267367,
          215.7364554462939,
          53.11780597710512,
          -11.929653810570386,
          20.594076083267367,
          118.16526576478063,
          4.332211136348491,
          215.7364554462939,
          215.7364554462939,
          150.68899565861838,
          183.21272555245613,
          85.64153587094287,
          20.594076083267367,
          166.95086060553726,
          20.594076083267367,
          118.16526576478063,
          85.64153587094287,
          36.855941030186244,
          150.68899565861838,
          20.594076083267367,
          215.7364554462939,
          118.16526576478063,
          280.7839152339694,
          215.7364554462939,
          248.26018534013164,
          118.16526576478063,
          -11.929653810570386,
          -11.929653810570386,
          -11.929653810570386,
          85.64153587094287,
          215.7364554462939,
          150.68899565861838,
          36.855941030186244,
          378.3551049154827,
          -11.929653810570386,
          85.64153587094287,
          -11.929653810570386,
          -11.929653810570386,
          85.64153587094287,
          -44.45338370440814,
          85.64153587094287,
          20.594076083267367,
          4.332211136348491,
          20.594076083267367,
          313.3076451278072,
          248.26018534013164,
          85.64153587094287,
          20.594076083267367,
          20.594076083267367,
          118.16526576478063,
          53.11780597710512,
          -44.45338370440814,
          118.16526576478063,
          280.7839152339694,
          248.26018534013164,
          150.68899565861838,
          118.16526576478063,
          540.9737543846715,
          150.68899565861838,
          215.7364554462939,
          215.7364554462939,
          215.7364554462939,
          215.7364554462939,
          150.68899565861838,
          573.4974842785092,
          508.4500244908337,
          345.83137502164493,
          -44.45338370440814,
          606.021214172347,
          606.021214172347,
          20.594076083267367,
          20.594076083267367,
          248.26018534013164,
          313.3076451278072,
          118.16526576478063,
          101.90340081786175,
          -60.715248651327016,
          53.11780597710512,
          150.68899565861838,
          4.332211136348491,
          85.64153587094287,
          -60.715248651327016,
          150.68899565861838,
          85.64153587094287,
          69.379670924024,
          150.68899565861838,
          53.11780597710512,
          69.379670924024,
          -28.191518757489263,
          20.594076083267367,
          150.68899565861838,
          -44.45338370440814,
          20.594076083267367,
          -11.929653810570386,
          4.332211136348491,
          20.594076083267367,
          53.11780597710512,
          85.64153587094287,
          20.594076083267367,
          215.7364554462939,
          150.68899565861838,
          20.594076083267367,
          -28.191518757489263,
          20.594076083267367,
          118.16526576478063,
          -44.45338370440814,
          -11.929653810570386,
          53.11780597710512,
          36.855941030186244,
          118.16526576478063,
          248.26018534013164,
          4.332211136348491,
          703.5924038538602,
          85.64153587094287,
          280.7839152339694,
          183.21272555245613,
          20.594076083267367,
          53.11780597710512,
          85.64153587094287,
          540.9737543846715,
          85.64153587094287,
          -11.929653810570386,
          134.4271307116995,
          150.68899565861838,
          85.64153587094287,
          85.64153587094287,
          248.26018534013164,
          85.64153587094287,
          20.594076083267367,
          150.68899565861838,
          166.95086060553726,
          -11.929653810570386,
          20.594076083267367,
          85.64153587094287,
          85.64153587094287,
          -11.929653810570386,
          118.16526576478063,
          183.21272555245613,
          183.21272555245613,
          183.21272555245613,
          183.21272555245613,
          20.594076083267367,
          20.594076083267367,
          -11.929653810570386,
          53.11780597710512,
          20.594076083267367,
          183.21272555245613,
          280.7839152339694,
          248.26018534013164,
          118.16526576478063,
          280.7839152339694,
          540.9737543846715,
          345.83137502164493,
          -44.45338370440814,
          215.7364554462939,
          150.68899565861838,
          150.68899565861838,
          118.16526576478063,
          85.64153587094287,
          20.594076083267367,
          215.7364554462939,
          345.83137502164493,
          85.64153587094287,
          85.64153587094287,
          215.7364554462939,
          150.68899565861838,
          85.64153587094287,
          85.64153587094287,
          475.92629459699594,
          20.594076083267367,
          150.68899565861838,
          -28.191518757489263,
          -44.45338370440814,
          53.11780597710512,
          20.594076083267367,
          215.7364554462939,
          -11.929653810570386,
          -11.929653810570386,
          215.7364554462939,
          475.92629459699594,
          475.92629459699594,
          215.7364554462939,
          20.594076083267367,
          150.68899565861838,
          215.7364554462939,
          20.594076083267367,
          118.16526576478063,
          118.16526576478063,
          85.64153587094287,
          85.64153587094287,
          53.11780597710512,
          -11.929653810570386,
          20.594076083267367,
          20.594076083267367,
          53.11780597710512,
          20.594076083267367,
          -44.45338370440814,
          -11.929653810570386,
          20.594076083267367,
          20.594076083267367,
          20.594076083267367,
          -60.715248651327016,
          -60.715248651327016,
          248.26018534013164,
          20.594076083267367,
          215.7364554462939,
          53.11780597710512,
          215.7364554462939,
          36.855941030186244,
          20.594076083267367,
          20.594076083267367,
          378.3551049154827,
          183.21272555245613,
          248.26018534013164,
          85.64153587094287,
          20.594076083267367,
          20.594076083267367,
          53.11780597710512,
          53.11780597710512,
          313.3076451278072,
          20.594076083267367,
          20.594076083267367,
          248.26018534013164,
          540.9737543846715,
          540.9737543846715,
          345.83137502164493,
          345.83137502164493,
          345.83137502164493,
          248.26018534013164,
          199.474590499375,
          443.4025647031582,
          85.64153587094287,
          85.64153587094287,
          20.594076083267367,
          -11.929653810570386,
          -11.929653810570386,
          20.594076083267367,
          671.0686739600225,
          671.0686739600225,
          53.11780597710512,
          280.7839152339694,
          150.68899565861838,
          85.64153587094287,
          183.21272555245613,
          85.64153587094287,
          248.26018534013164,
          20.594076083267367,
          150.68899565861838,
          85.64153587094287,
          85.64153587094287,
          150.68899565861838,
          20.594076083267367,
          215.7364554462939,
          150.68899565861838,
          20.594076083267367,
          20.594076083267367,
          85.64153587094287,
          85.64153587094287,
          248.26018534013164,
          248.26018534013164,
          150.68899565861838,
          150.68899565861838,
          248.26018534013164,
          150.68899565861838,
          150.68899565861838,
          20.594076083267367,
          20.594076083267367,
          85.64153587094287,
          85.64153587094287,
          53.11780597710512,
          20.594076083267367,
          20.594076083267367,
          53.11780597710512,
          53.11780597710512,
          183.21272555245613,
          362.0932399685638,
          329.56951007472605,
          329.56951007472605,
          313.3076451278072,
          313.3076451278072,
          215.7364554462939,
          -44.45338370440814,
          -44.45338370440814,
          20.594076083267367,
          150.68899565861838,
          -44.45338370440814,
          150.68899565861838,
          183.21272555245613,
          410.87883480932044,
          20.594076083267367,
          150.68899565861838,
          85.64153587094287,
          475.92629459699594,
          150.68899565861838,
          150.68899565861838,
          150.68899565861838,
          183.21272555245613,
          183.21272555245613,
          248.26018534013164,
          248.26018534013164,
          248.26018534013164,
          248.26018534013164,
          248.26018534013164,
          410.87883480932044,
          410.87883480932044,
          410.87883480932044,
          410.87883480932044,
          410.87883480932044,
          20.594076083267367,
          118.16526576478063,
          118.16526576478063,
          118.16526576478063,
          118.16526576478063,
          183.21272555245613,
          85.64153587094287,
          85.64153587094287,
          85.64153587094287,
          183.21272555245613,
          85.64153587094287,
          85.64153587094287,
          20.594076083267367,
          20.594076083267367,
          183.21272555245613,
          20.594076083267367,
          85.64153587094287,
          85.64153587094287,
          183.21272555245613,
          183.21272555245613,
          183.21272555245613,
          183.21272555245613,
          -44.45338370440814,
          118.16526576478063,
          183.21272555245613,
          118.16526576478063,
          118.16526576478063,
          183.21272555245613,
          410.87883480932044,
          345.83137502164493,
          410.87883480932044,
          475.92629459699594,
          345.83137502164493,
          183.21272555245613,
          345.83137502164493,
          345.83137502164493,
          215.7364554462939,
          345.83137502164493,
          118.16526576478063,
          20.594076083267367,
          183.21272555245613,
          345.83137502164493,
          183.21272555245613,
          280.7839152339694,
          280.7839152339694,
          20.594076083267367,
          53.11780597710512,
          53.11780597710512,
          183.21272555245613,
          183.21272555245613,
          183.21272555245613,
          183.21272555245613,
          215.7364554462939,
          215.7364554462939,
          215.7364554462939,
          -44.45338370440814,
          -44.45338370440814,
          -44.45338370440814,
          -44.45338370440814,
          -44.45338370440814,
          -44.45338370440814,
          -44.45338370440814,
          150.68899565861838,
          118.16526576478063,
          150.68899565861838,
          85.64153587094287,
          85.64153587094287,
          215.7364554462939,
          -11.929653810570386,
          -11.929653810570386,
          150.68899565861838,
          20.594076083267367,
          378.3551049154827,
          378.3551049154827,
          215.7364554462939,
          215.7364554462939,
          378.3551049154827,
          118.16526576478063,
          85.64153587094287,
          150.68899565861838,
          85.64153587094287,
          150.68899565861838,
          53.11780597710512,
          150.68899565861838,
          280.7839152339694,
          215.7364554462939,
          150.68899565861838,
          345.83137502164493,
          345.83137502164493,
          150.68899565861838,
          150.68899565861838,
          150.68899565861838,
          118.16526576478063,
          85.64153587094287,
          36.855941030186244,
          69.379670924024,
          280.7839152339694,
          540.9737543846715,
          85.64153587094287,
          85.64153587094287,
          248.26018534013164,
          248.26018534013164,
          183.21272555245613,
          53.11780597710512,
          53.11780597710512,
          53.11780597710512,
          20.594076083267367,
          20.594076083267367,
          85.64153587094287,
          85.64153587094287,
          85.64153587094287,
          20.594076083267367,
          20.594076083267367,
          85.64153587094287,
          85.64153587094287,
          -44.45338370440814,
          20.594076083267367,
          85.64153587094287,
          150.68899565861838,
          410.87883480932044,
          410.87883480932044,
          -44.45338370440814,
          410.87883480932044,
          85.64153587094287,
          215.7364554462939,
          215.7364554462939,
          85.64153587094287,
          -44.45338370440814,
          -11.929653810570386,
          -11.929653810570386,
          20.594076083267367,
          -11.929653810570386,
          36.855941030186244,
          53.11780597710512,
          -44.45338370440814,
          20.594076083267367,
          118.16526576478063,
          -44.45338370440814,
          -28.191518757489263,
          -28.191518757489263,
          -28.191518757489263,
          -11.929653810570386,
          -11.929653810570386,
          -11.929653810570386,
          20.594076083267367,
          20.594076083267367,
          -44.45338370440814,
          118.16526576478063,
          118.16526576478063,
          183.21272555245613,
          183.21272555245613,
          -44.45338370440814,
          -44.45338370440814,
          -44.45338370440814,
          -44.45338370440814,
          20.594076083267367,
          -11.929653810570386,
          53.11780597710512,
          20.594076083267367,
          20.594076083267367,
          118.16526576478063,
          85.64153587094287,
          20.594076083267367,
          85.64153587094287,
          20.594076083267367,
          20.594076083267367,
          20.594076083267367,
          85.64153587094287,
          85.64153587094287,
          20.594076083267367,
          20.594076083267367,
          20.594076083267367,
          150.68899565861838,
          20.594076083267367,
          -11.929653810570386,
          20.594076083267367,
          215.7364554462939,
          20.594076083267367,
          85.64153587094287,
          85.64153587094287,
          280.7839152339694,
          150.68899565861838,
          -11.929653810570386,
          -11.929653810570386,
          -11.929653810570386,
          -60.715248651327016,
          -60.715248651327016,
          -11.929653810570386,
          20.594076083267367,
          20.594076083267367,
          -60.715248651327016,
          20.594076083267367,
          150.68899565861838,
          -11.929653810570386,
          -11.929653810570386,
          -11.929653810570386,
          -11.929653810570386,
          -11.929653810570386,
          -11.929653810570386,
          20.594076083267367,
          4.332211136348491,
          4.332211136348491,
          -11.929653810570386,
          -11.929653810570386,
          -11.929653810570386,
          -11.929653810570386,
          20.594076083267367,
          215.7364554462939,
          85.64153587094287,
          85.64153587094287,
          20.594076083267367,
          20.594076083267367,
          53.11780597710512,
          85.64153587094287,
          150.68899565861838,
          -44.45338370440814,
          85.64153587094287,
          85.64153587094287,
          -11.929653810570386,
          183.21272555245613,
          183.21272555245613,
          183.21272555245613,
          183.21272555245613,
          20.594076083267367,
          53.11780597710512,
          53.11780597710512,
          53.11780597710512,
          85.64153587094287,
          20.594076083267367,
          20.594076083267367,
          85.64153587094287,
          4.332211136348491,
          53.11780597710512,
          85.64153587094287,
          85.64153587094287,
          85.64153587094287,
          85.64153587094287,
          118.16526576478063,
          118.16526576478063,
          118.16526576478063,
          20.594076083267367,
          280.7839152339694,
          280.7839152339694,
          -11.929653810570386,
          -11.929653810570386,
          -28.191518757489263,
          -60.715248651327016,
          -28.191518757489263,
          -28.191518757489263,
          -11.929653810570386,
          -76.9771135982459
         ]
        }
       ],
       "layout": {
        "legend": {
         "tracegroupgap": 0
        },
        "template": {
         "data": {
          "bar": [
           {
            "error_x": {
             "color": "#f2f5fa"
            },
            "error_y": {
             "color": "#f2f5fa"
            },
            "marker": {
             "line": {
              "color": "rgb(17,17,17)",
              "width": 0.5
             },
             "pattern": {
              "fillmode": "overlay",
              "size": 10,
              "solidity": 0.2
             }
            },
            "type": "bar"
           }
          ],
          "barpolar": [
           {
            "marker": {
             "line": {
              "color": "rgb(17,17,17)",
              "width": 0.5
             },
             "pattern": {
              "fillmode": "overlay",
              "size": 10,
              "solidity": 0.2
             }
            },
            "type": "barpolar"
           }
          ],
          "carpet": [
           {
            "aaxis": {
             "endlinecolor": "#A2B1C6",
             "gridcolor": "#506784",
             "linecolor": "#506784",
             "minorgridcolor": "#506784",
             "startlinecolor": "#A2B1C6"
            },
            "baxis": {
             "endlinecolor": "#A2B1C6",
             "gridcolor": "#506784",
             "linecolor": "#506784",
             "minorgridcolor": "#506784",
             "startlinecolor": "#A2B1C6"
            },
            "type": "carpet"
           }
          ],
          "choropleth": [
           {
            "colorbar": {
             "outlinewidth": 0,
             "ticks": ""
            },
            "type": "choropleth"
           }
          ],
          "contour": [
           {
            "colorbar": {
             "outlinewidth": 0,
             "ticks": ""
            },
            "colorscale": [
             [
              0,
              "#0d0887"
             ],
             [
              0.1111111111111111,
              "#46039f"
             ],
             [
              0.2222222222222222,
              "#7201a8"
             ],
             [
              0.3333333333333333,
              "#9c179e"
             ],
             [
              0.4444444444444444,
              "#bd3786"
             ],
             [
              0.5555555555555556,
              "#d8576b"
             ],
             [
              0.6666666666666666,
              "#ed7953"
             ],
             [
              0.7777777777777778,
              "#fb9f3a"
             ],
             [
              0.8888888888888888,
              "#fdca26"
             ],
             [
              1,
              "#f0f921"
             ]
            ],
            "type": "contour"
           }
          ],
          "contourcarpet": [
           {
            "colorbar": {
             "outlinewidth": 0,
             "ticks": ""
            },
            "type": "contourcarpet"
           }
          ],
          "heatmap": [
           {
            "colorbar": {
             "outlinewidth": 0,
             "ticks": ""
            },
            "colorscale": [
             [
              0,
              "#0d0887"
             ],
             [
              0.1111111111111111,
              "#46039f"
             ],
             [
              0.2222222222222222,
              "#7201a8"
             ],
             [
              0.3333333333333333,
              "#9c179e"
             ],
             [
              0.4444444444444444,
              "#bd3786"
             ],
             [
              0.5555555555555556,
              "#d8576b"
             ],
             [
              0.6666666666666666,
              "#ed7953"
             ],
             [
              0.7777777777777778,
              "#fb9f3a"
             ],
             [
              0.8888888888888888,
              "#fdca26"
             ],
             [
              1,
              "#f0f921"
             ]
            ],
            "type": "heatmap"
           }
          ],
          "heatmapgl": [
           {
            "colorbar": {
             "outlinewidth": 0,
             "ticks": ""
            },
            "colorscale": [
             [
              0,
              "#0d0887"
             ],
             [
              0.1111111111111111,
              "#46039f"
             ],
             [
              0.2222222222222222,
              "#7201a8"
             ],
             [
              0.3333333333333333,
              "#9c179e"
             ],
             [
              0.4444444444444444,
              "#bd3786"
             ],
             [
              0.5555555555555556,
              "#d8576b"
             ],
             [
              0.6666666666666666,
              "#ed7953"
             ],
             [
              0.7777777777777778,
              "#fb9f3a"
             ],
             [
              0.8888888888888888,
              "#fdca26"
             ],
             [
              1,
              "#f0f921"
             ]
            ],
            "type": "heatmapgl"
           }
          ],
          "histogram": [
           {
            "marker": {
             "pattern": {
              "fillmode": "overlay",
              "size": 10,
              "solidity": 0.2
             }
            },
            "type": "histogram"
           }
          ],
          "histogram2d": [
           {
            "colorbar": {
             "outlinewidth": 0,
             "ticks": ""
            },
            "colorscale": [
             [
              0,
              "#0d0887"
             ],
             [
              0.1111111111111111,
              "#46039f"
             ],
             [
              0.2222222222222222,
              "#7201a8"
             ],
             [
              0.3333333333333333,
              "#9c179e"
             ],
             [
              0.4444444444444444,
              "#bd3786"
             ],
             [
              0.5555555555555556,
              "#d8576b"
             ],
             [
              0.6666666666666666,
              "#ed7953"
             ],
             [
              0.7777777777777778,
              "#fb9f3a"
             ],
             [
              0.8888888888888888,
              "#fdca26"
             ],
             [
              1,
              "#f0f921"
             ]
            ],
            "type": "histogram2d"
           }
          ],
          "histogram2dcontour": [
           {
            "colorbar": {
             "outlinewidth": 0,
             "ticks": ""
            },
            "colorscale": [
             [
              0,
              "#0d0887"
             ],
             [
              0.1111111111111111,
              "#46039f"
             ],
             [
              0.2222222222222222,
              "#7201a8"
             ],
             [
              0.3333333333333333,
              "#9c179e"
             ],
             [
              0.4444444444444444,
              "#bd3786"
             ],
             [
              0.5555555555555556,
              "#d8576b"
             ],
             [
              0.6666666666666666,
              "#ed7953"
             ],
             [
              0.7777777777777778,
              "#fb9f3a"
             ],
             [
              0.8888888888888888,
              "#fdca26"
             ],
             [
              1,
              "#f0f921"
             ]
            ],
            "type": "histogram2dcontour"
           }
          ],
          "mesh3d": [
           {
            "colorbar": {
             "outlinewidth": 0,
             "ticks": ""
            },
            "type": "mesh3d"
           }
          ],
          "parcoords": [
           {
            "line": {
             "colorbar": {
              "outlinewidth": 0,
              "ticks": ""
             }
            },
            "type": "parcoords"
           }
          ],
          "pie": [
           {
            "automargin": true,
            "type": "pie"
           }
          ],
          "scatter": [
           {
            "marker": {
             "line": {
              "color": "#283442"
             }
            },
            "type": "scatter"
           }
          ],
          "scatter3d": [
           {
            "line": {
             "colorbar": {
              "outlinewidth": 0,
              "ticks": ""
             }
            },
            "marker": {
             "colorbar": {
              "outlinewidth": 0,
              "ticks": ""
             }
            },
            "type": "scatter3d"
           }
          ],
          "scattercarpet": [
           {
            "marker": {
             "colorbar": {
              "outlinewidth": 0,
              "ticks": ""
             }
            },
            "type": "scattercarpet"
           }
          ],
          "scattergeo": [
           {
            "marker": {
             "colorbar": {
              "outlinewidth": 0,
              "ticks": ""
             }
            },
            "type": "scattergeo"
           }
          ],
          "scattergl": [
           {
            "marker": {
             "line": {
              "color": "#283442"
             }
            },
            "type": "scattergl"
           }
          ],
          "scattermapbox": [
           {
            "marker": {
             "colorbar": {
              "outlinewidth": 0,
              "ticks": ""
             }
            },
            "type": "scattermapbox"
           }
          ],
          "scatterpolar": [
           {
            "marker": {
             "colorbar": {
              "outlinewidth": 0,
              "ticks": ""
             }
            },
            "type": "scatterpolar"
           }
          ],
          "scatterpolargl": [
           {
            "marker": {
             "colorbar": {
              "outlinewidth": 0,
              "ticks": ""
             }
            },
            "type": "scatterpolargl"
           }
          ],
          "scatterternary": [
           {
            "marker": {
             "colorbar": {
              "outlinewidth": 0,
              "ticks": ""
             }
            },
            "type": "scatterternary"
           }
          ],
          "surface": [
           {
            "colorbar": {
             "outlinewidth": 0,
             "ticks": ""
            },
            "colorscale": [
             [
              0,
              "#0d0887"
             ],
             [
              0.1111111111111111,
              "#46039f"
             ],
             [
              0.2222222222222222,
              "#7201a8"
             ],
             [
              0.3333333333333333,
              "#9c179e"
             ],
             [
              0.4444444444444444,
              "#bd3786"
             ],
             [
              0.5555555555555556,
              "#d8576b"
             ],
             [
              0.6666666666666666,
              "#ed7953"
             ],
             [
              0.7777777777777778,
              "#fb9f3a"
             ],
             [
              0.8888888888888888,
              "#fdca26"
             ],
             [
              1,
              "#f0f921"
             ]
            ],
            "type": "surface"
           }
          ],
          "table": [
           {
            "cells": {
             "fill": {
              "color": "#506784"
             },
             "line": {
              "color": "rgb(17,17,17)"
             }
            },
            "header": {
             "fill": {
              "color": "#2a3f5f"
             },
             "line": {
              "color": "rgb(17,17,17)"
             }
            },
            "type": "table"
           }
          ]
         },
         "layout": {
          "annotationdefaults": {
           "arrowcolor": "#f2f5fa",
           "arrowhead": 0,
           "arrowwidth": 1
          },
          "autotypenumbers": "strict",
          "coloraxis": {
           "colorbar": {
            "outlinewidth": 0,
            "ticks": ""
           }
          },
          "colorscale": {
           "diverging": [
            [
             0,
             "#8e0152"
            ],
            [
             0.1,
             "#c51b7d"
            ],
            [
             0.2,
             "#de77ae"
            ],
            [
             0.3,
             "#f1b6da"
            ],
            [
             0.4,
             "#fde0ef"
            ],
            [
             0.5,
             "#f7f7f7"
            ],
            [
             0.6,
             "#e6f5d0"
            ],
            [
             0.7,
             "#b8e186"
            ],
            [
             0.8,
             "#7fbc41"
            ],
            [
             0.9,
             "#4d9221"
            ],
            [
             1,
             "#276419"
            ]
           ],
           "sequential": [
            [
             0,
             "#0d0887"
            ],
            [
             0.1111111111111111,
             "#46039f"
            ],
            [
             0.2222222222222222,
             "#7201a8"
            ],
            [
             0.3333333333333333,
             "#9c179e"
            ],
            [
             0.4444444444444444,
             "#bd3786"
            ],
            [
             0.5555555555555556,
             "#d8576b"
            ],
            [
             0.6666666666666666,
             "#ed7953"
            ],
            [
             0.7777777777777778,
             "#fb9f3a"
            ],
            [
             0.8888888888888888,
             "#fdca26"
            ],
            [
             1,
             "#f0f921"
            ]
           ],
           "sequentialminus": [
            [
             0,
             "#0d0887"
            ],
            [
             0.1111111111111111,
             "#46039f"
            ],
            [
             0.2222222222222222,
             "#7201a8"
            ],
            [
             0.3333333333333333,
             "#9c179e"
            ],
            [
             0.4444444444444444,
             "#bd3786"
            ],
            [
             0.5555555555555556,
             "#d8576b"
            ],
            [
             0.6666666666666666,
             "#ed7953"
            ],
            [
             0.7777777777777778,
             "#fb9f3a"
            ],
            [
             0.8888888888888888,
             "#fdca26"
            ],
            [
             1,
             "#f0f921"
            ]
           ]
          },
          "colorway": [
           "#636efa",
           "#EF553B",
           "#00cc96",
           "#ab63fa",
           "#FFA15A",
           "#19d3f3",
           "#FF6692",
           "#B6E880",
           "#FF97FF",
           "#FECB52"
          ],
          "font": {
           "color": "#f2f5fa"
          },
          "geo": {
           "bgcolor": "rgb(17,17,17)",
           "lakecolor": "rgb(17,17,17)",
           "landcolor": "rgb(17,17,17)",
           "showlakes": true,
           "showland": true,
           "subunitcolor": "#506784"
          },
          "hoverlabel": {
           "align": "left"
          },
          "hovermode": "closest",
          "mapbox": {
           "style": "dark"
          },
          "paper_bgcolor": "rgb(17,17,17)",
          "plot_bgcolor": "rgb(17,17,17)",
          "polar": {
           "angularaxis": {
            "gridcolor": "#506784",
            "linecolor": "#506784",
            "ticks": ""
           },
           "bgcolor": "rgb(17,17,17)",
           "radialaxis": {
            "gridcolor": "#506784",
            "linecolor": "#506784",
            "ticks": ""
           }
          },
          "scene": {
           "xaxis": {
            "backgroundcolor": "rgb(17,17,17)",
            "gridcolor": "#506784",
            "gridwidth": 2,
            "linecolor": "#506784",
            "showbackground": true,
            "ticks": "",
            "zerolinecolor": "#C8D4E3"
           },
           "yaxis": {
            "backgroundcolor": "rgb(17,17,17)",
            "gridcolor": "#506784",
            "gridwidth": 2,
            "linecolor": "#506784",
            "showbackground": true,
            "ticks": "",
            "zerolinecolor": "#C8D4E3"
           },
           "zaxis": {
            "backgroundcolor": "rgb(17,17,17)",
            "gridcolor": "#506784",
            "gridwidth": 2,
            "linecolor": "#506784",
            "showbackground": true,
            "ticks": "",
            "zerolinecolor": "#C8D4E3"
           }
          },
          "shapedefaults": {
           "line": {
            "color": "#f2f5fa"
           }
          },
          "sliderdefaults": {
           "bgcolor": "#C8D4E3",
           "bordercolor": "rgb(17,17,17)",
           "borderwidth": 1,
           "tickwidth": 0
          },
          "ternary": {
           "aaxis": {
            "gridcolor": "#506784",
            "linecolor": "#506784",
            "ticks": ""
           },
           "baxis": {
            "gridcolor": "#506784",
            "linecolor": "#506784",
            "ticks": ""
           },
           "bgcolor": "rgb(17,17,17)",
           "caxis": {
            "gridcolor": "#506784",
            "linecolor": "#506784",
            "ticks": ""
           }
          },
          "title": {
           "x": 0.05
          },
          "updatemenudefaults": {
           "bgcolor": "#506784",
           "borderwidth": 0
          },
          "xaxis": {
           "automargin": true,
           "gridcolor": "#283442",
           "linecolor": "#506784",
           "ticks": "",
           "title": {
            "standoff": 15
           },
           "zerolinecolor": "#283442",
           "zerolinewidth": 2
          },
          "yaxis": {
           "automargin": true,
           "gridcolor": "#283442",
           "linecolor": "#506784",
           "ticks": "",
           "title": {
            "standoff": 15
           },
           "zerolinecolor": "#283442",
           "zerolinewidth": 2
          }
         }
        },
        "title": {
         "text": "Grafik Regresi Linear"
        },
        "xaxis": {
         "anchor": "y",
         "domain": [
          0,
          1
         ],
         "title": {
          "text": "ketinggian_air_num"
         }
        },
        "yaxis": {
         "anchor": "x",
         "domain": [
          0,
          1
         ],
         "title": {
          "text": "jumlah_terdampak_jiwa"
         }
        }
       }
      }
     },
     "metadata": {},
     "output_type": "display_data"
    },
    {
     "name": "stdout",
     "output_type": "stream",
     "text": [
      "R-squared: 0.06460867540823212\n",
      "Koefisien Regresi: 6.50474597876755\n"
     ]
    }
   ],
   "source": [
    "X = merged_df[['ketinggian_air_num']]\n",
    "y = merged_df['jumlah_terdampak_jiwa']\n",
    "\n",
    "# Inisialisasi model regresi linear\n",
    "model = LinearRegression()\n",
    "\n",
    "# Latih model\n",
    "model.fit(X, y)\n",
    "\n",
    "# Prediksi nilai y berdasarkan model\n",
    "y_pred = model.predict(X)\n",
    "\n",
    "# Buat plot regresi menggunakan Plotly\n",
    "fig = px.scatter(merged_df, x='ketinggian_air_num', y='jumlah_terdampak_jiwa', title='Grafik Regresi Linear')\n",
    "\n",
    "# Tambahkan garis regresi linear ke plot\n",
    "fig.add_trace(go.Scatter(x=merged_df['ketinggian_air_num'], y=y_pred, mode='lines', name='Regresi Linear'))\n",
    "\n",
    "# Tampilkan plot\n",
    "fig.update_layout(template='plotly_dark')\n",
    "fig.show()\n",
    "\n",
    "# ---------------------\n",
    "r_squared = r2_score(y, y_pred)\n",
    "print(\"R-squared:\", r_squared)\n",
    "\n",
    "# Cetak koefisien regresi\n",
    "print(\"Koefisien Regresi:\", model.coef_[0])"
   ]
  },
  {
   "attachments": {},
   "cell_type": "markdown",
   "metadata": {},
   "source": [
    "Model belum cukup baik dalam menjelaskan hubungan antara variabel yang digunakan dalam analisis."
   ]
  },
  {
   "attachments": {},
   "cell_type": "markdown",
   "metadata": {},
   "source": [
    "# CLUSTERING"
   ]
  },
  {
   "cell_type": "code",
   "execution_count": 282,
   "metadata": {},
   "outputs": [
    {
     "data": {
      "application/vnd.plotly.v1+json": {
       "config": {
        "plotlyServerURL": "https://plot.ly"
       },
       "data": [
        {
         "hovertemplate": "ketinggian_air_num=%{x}<br>jumlah_terdampak_jiwa=%{y}<br>cluster=%{marker.color}<extra></extra>",
         "legendgroup": "",
         "marker": {
          "color": [
           0,
           0,
           0,
           0,
           0,
           1,
           0,
           0,
           0,
           0,
           0,
           0,
           0,
           0,
           0,
           0,
           0,
           0,
           0,
           0,
           0,
           0,
           1,
           0,
           0,
           1,
           1,
           1,
           0,
           0,
           0,
           0,
           0,
           0,
           0,
           1,
           0,
           0,
           0,
           0,
           0,
           0,
           0,
           0,
           0,
           0,
           0,
           0,
           0,
           0,
           0,
           0,
           0,
           0,
           0,
           0,
           0,
           0,
           0,
           0,
           0,
           0,
           0,
           0,
           0,
           0,
           0,
           0,
           0,
           0,
           0,
           0,
           0,
           0,
           0,
           0,
           0,
           0,
           0,
           0,
           0,
           0,
           0,
           1,
           0,
           1,
           0,
           0,
           0,
           0,
           0,
           0,
           0,
           0,
           0,
           0,
           0,
           0,
           0,
           0,
           0,
           0,
           0,
           1,
           0,
           0,
           0,
           0,
           0,
           0,
           0,
           0,
           0,
           0,
           0,
           0,
           0,
           0,
           1,
           0,
           0,
           0,
           0,
           0,
           1,
           0,
           0,
           1,
           1,
           0,
           0,
           1,
           0,
           0,
           0,
           0,
           1,
           0,
           0,
           1,
           0,
           0,
           0,
           0,
           0,
           0,
           0,
           1,
           0,
           1,
           0,
           0,
           0,
           0,
           0,
           0,
           0,
           0,
           0,
           0,
           0,
           0,
           0,
           0,
           0,
           0,
           0,
           0,
           0,
           0,
           0,
           0,
           0,
           0,
           0,
           0,
           0,
           0,
           0,
           0,
           0,
           0,
           0,
           0,
           0,
           0,
           0,
           0,
           0,
           0,
           0,
           0,
           0,
           0,
           0,
           0,
           0,
           0,
           0,
           0,
           0,
           0,
           0,
           0,
           0,
           0,
           0,
           0,
           0,
           0,
           0,
           0,
           0,
           0,
           0,
           0,
           0,
           0,
           0,
           0,
           0,
           0,
           0,
           0,
           0,
           0,
           0,
           0,
           0,
           0,
           0,
           0,
           0,
           0,
           0,
           0,
           0,
           0,
           0,
           0,
           0,
           0,
           0,
           0,
           0,
           0,
           0,
           0,
           0,
           0,
           0,
           0,
           0,
           0,
           0,
           0,
           0,
           0,
           0,
           0,
           0,
           0,
           0,
           0,
           0,
           0,
           0,
           0,
           1,
           0,
           0,
           0,
           0,
           0,
           0,
           0,
           0,
           0,
           1,
           0,
           0,
           0,
           0,
           1,
           0,
           0,
           0,
           1,
           0,
           0,
           1,
           0,
           0,
           0,
           0,
           0,
           0,
           0,
           0,
           2,
           0,
           0,
           0,
           0,
           0,
           0,
           0,
           0,
           0,
           0,
           0,
           0,
           2,
           0,
           0,
           0,
           0,
           0,
           0,
           0,
           0,
           0,
           0,
           0,
           0,
           0,
           0,
           0,
           0,
           0,
           0,
           0,
           0,
           0,
           0,
           0,
           0,
           0,
           0,
           0,
           0,
           0,
           0,
           0,
           0,
           0,
           0,
           1,
           0,
           0,
           0,
           0,
           0,
           0,
           0,
           0,
           0,
           0,
           0,
           1,
           0,
           0,
           0,
           0,
           0,
           0,
           0,
           0,
           0,
           0,
           0,
           0,
           0,
           0,
           0,
           0,
           0,
           0,
           0,
           0,
           0,
           0,
           0,
           0,
           0,
           0,
           0,
           0,
           0,
           0,
           0,
           0,
           0,
           0,
           0,
           0,
           0,
           0,
           0,
           0,
           0,
           0,
           1,
           0,
           0,
           0,
           0,
           0,
           0,
           0,
           0,
           0,
           0,
           0,
           0,
           0,
           0,
           0,
           0,
           0,
           0,
           0,
           0,
           0,
           0,
           0,
           0,
           1,
           0,
           0,
           0,
           0,
           0,
           0,
           0,
           0,
           0,
           0,
           0,
           0,
           0,
           0,
           0,
           0,
           0,
           0,
           0,
           0,
           0,
           0,
           0,
           0,
           0,
           0,
           0,
           0,
           0,
           0,
           0,
           0,
           0,
           0,
           0,
           0,
           0,
           0,
           0,
           0,
           0,
           0,
           0,
           0,
           0,
           0,
           0,
           0,
           0,
           0,
           0,
           0,
           0,
           0,
           0,
           0,
           0,
           0,
           0,
           0,
           0,
           0,
           0,
           0,
           0,
           0,
           0,
           0,
           0,
           0,
           0,
           0,
           0,
           0,
           0,
           0,
           0,
           0,
           0,
           0,
           0,
           0,
           0,
           0,
           0,
           0,
           0,
           0,
           0,
           0,
           0,
           0,
           0,
           0,
           0,
           0,
           0,
           0,
           0,
           0,
           0,
           0,
           0,
           0,
           0,
           0,
           0,
           0,
           0,
           0,
           0,
           0,
           0,
           0,
           0,
           0,
           0,
           0,
           0,
           0,
           0,
           0,
           0,
           0,
           0,
           0,
           0,
           0,
           0,
           0,
           0,
           0,
           0,
           0,
           0,
           0,
           0,
           0,
           0,
           0,
           0,
           0,
           0,
           0,
           0,
           0,
           0,
           0,
           0,
           0,
           0,
           0,
           0,
           0,
           0,
           0,
           0,
           0,
           0,
           0,
           0,
           0,
           0,
           0,
           0,
           0,
           0,
           0,
           0,
           0,
           0,
           0,
           0,
           0,
           0,
           0,
           0,
           0,
           0,
           0,
           0,
           0,
           0,
           0,
           0,
           0,
           0,
           0,
           0,
           0,
           0,
           0,
           0,
           0,
           0,
           0,
           0,
           0,
           0,
           0,
           0,
           0,
           0,
           0,
           0,
           0,
           0,
           0,
           0,
           0,
           0,
           0,
           0,
           0,
           0,
           0,
           0,
           0,
           0,
           0,
           0,
           0,
           0,
           0,
           0,
           0,
           0,
           0,
           0,
           0,
           0,
           0,
           0,
           0,
           0,
           0,
           0,
           0,
           0,
           0,
           0,
           0,
           0,
           0,
           0,
           0,
           0,
           0,
           0,
           0,
           0,
           0,
           0,
           0,
           0,
           0,
           0,
           0,
           0,
           0,
           0,
           0,
           0,
           0,
           0,
           0,
           0,
           0,
           0,
           0,
           0,
           0,
           0,
           0,
           0,
           0,
           0,
           0,
           0,
           0,
           0,
           0,
           0,
           0,
           0,
           0,
           0,
           0,
           0,
           0,
           0,
           0,
           0,
           0,
           0,
           0,
           0,
           0,
           0,
           0,
           0,
           0,
           0,
           0,
           0,
           0,
           0,
           0,
           0,
           0,
           0,
           0,
           0,
           0,
           0,
           0,
           0,
           0,
           0,
           0,
           0,
           0,
           0,
           0,
           0,
           0,
           0,
           0,
           0,
           0,
           0,
           0,
           0,
           0,
           0,
           0,
           0,
           0,
           0,
           0,
           0,
           0,
           0,
           0,
           0,
           0,
           0,
           0,
           0,
           0,
           0,
           0,
           0,
           0,
           0,
           0,
           0,
           0,
           0,
           0,
           0,
           0,
           0,
           0,
           0,
           0,
           0,
           0,
           0,
           0,
           0,
           0,
           0,
           0,
           0,
           0,
           0,
           0,
           0,
           0,
           0,
           0,
           0,
           0,
           0,
           0,
           0,
           0,
           0,
           0,
           0,
           0,
           0,
           0,
           0,
           0,
           0,
           0,
           0,
           0,
           0,
           0,
           0,
           0,
           0,
           0,
           0,
           0,
           0,
           0,
           0,
           0,
           0,
           0,
           0,
           0,
           0,
           0,
           0,
           0,
           0,
           0,
           0,
           0,
           0,
           0,
           0,
           0,
           0,
           0,
           0,
           0,
           0,
           0,
           0,
           0,
           0,
           0,
           0,
           0,
           0,
           0,
           0,
           0,
           0,
           0,
           0,
           0,
           0,
           0,
           0,
           0,
           0,
           0,
           0,
           0,
           0,
           0,
           0,
           0,
           0,
           0,
           0,
           0,
           0,
           0,
           0,
           0,
           0,
           0,
           0,
           0,
           0,
           0,
           0,
           0,
           0,
           0,
           0,
           0,
           0,
           0,
           0,
           0,
           0,
           0,
           0,
           0,
           0,
           0,
           0,
           0,
           0,
           0
          ],
          "coloraxis": "coloraxis",
          "symbol": "circle"
         },
         "mode": "markers",
         "name": "",
         "orientation": "v",
         "showlegend": false,
         "type": "scatter",
         "x": [
          20,
          40,
          20,
          40,
          50.5,
          110.5,
          50,
          22.5,
          20,
          80,
          40,
          80,
          80,
          20,
          20,
          40,
          35,
          30,
          80,
          20,
          42.5,
          20,
          50.5,
          40,
          110.5,
          50.5,
          50.5,
          50.5,
          50.5,
          80,
          50.5,
          50.5,
          50.5,
          40,
          40,
          115.5,
          90.5,
          50.5,
          80,
          65.5,
          75,
          65,
          60,
          90.5,
          75.5,
          60,
          80,
          50.5,
          110.5,
          20,
          90.5,
          90.5,
          40,
          50.5,
          50.5,
          125.5,
          20,
          50.5,
          50.5,
          50.5,
          50.5,
          65,
          20,
          20,
          20,
          110.5,
          110.5,
          110.5,
          90,
          110.5,
          40,
          90,
          50.5,
          40,
          110.5,
          50.5,
          90.5,
          90.5,
          110.5,
          90.5,
          80,
          90.5,
          110.5,
          115.5,
          20,
          135.5,
          40,
          20,
          123,
          50.5,
          120,
          115.5,
          70,
          110.5,
          110.5,
          135.5,
          70,
          50.5,
          110.5,
          50.5,
          90.5,
          110.5,
          135.5,
          57.5,
          90.5,
          40,
          20,
          105,
          50.5,
          20,
          90.5,
          50.5,
          90.5,
          110.5,
          110.5,
          40,
          80,
          115.5,
          45,
          80,
          110.5,
          90.5,
          120.5,
          20,
          115.5,
          110.5,
          80,
          180,
          50.5,
          90.5,
          90.5,
          135.5,
          135.5,
          90.5,
          80,
          90.5,
          115,
          110.5,
          50.5,
          90.5,
          50.5,
          110.5,
          50.5,
          50.5,
          50.5,
          20,
          125,
          50.5,
          50.5,
          110.5,
          40,
          20,
          30,
          60,
          30,
          35,
          20,
          30,
          30,
          25,
          20,
          30,
          30,
          35,
          60,
          65,
          42.5,
          30,
          20,
          55,
          35,
          25,
          30,
          25,
          20,
          20,
          20,
          20,
          20,
          27.5,
          35,
          45,
          45,
          37.5,
          20,
          37.5,
          32.5,
          40,
          45,
          17.5,
          20,
          17.5,
          57.5,
          25,
          22.5,
          55,
          25,
          32.5,
          30,
          55,
          25,
          20,
          30,
          30,
          12.5,
          40,
          20,
          40,
          10,
          10,
          32.5,
          35,
          25,
          20,
          32.5,
          35,
          45,
          20,
          40,
          55,
          17.5,
          25,
          25,
          30,
          25,
          35,
          35,
          40,
          65,
          30,
          20,
          55,
          15,
          15,
          22.5,
          15,
          15,
          100,
          20,
          35,
          20,
          20,
          120,
          20,
          17.5,
          100,
          200,
          30,
          35,
          22.5,
          75,
          37.5,
          15,
          20,
          20,
          40,
          45,
          40,
          25,
          20,
          45,
          25,
          55,
          35,
          70,
          55,
          52.5,
          30,
          140,
          35,
          50,
          35,
          22.5,
          35,
          30,
          27.5,
          55,
          22.5,
          35,
          35,
          45,
          60,
          45,
          55,
          35,
          30,
          50,
          55,
          15,
          45,
          80,
          40,
          50,
          60,
          35,
          80,
          55,
          17.5,
          20,
          57.5,
          35,
          85,
          90,
          60,
          40,
          35,
          35,
          35,
          35,
          17.5,
          40,
          35,
          55,
          75,
          55,
          30,
          40,
          30,
          10,
          30,
          20,
          20,
          30,
          17.5,
          15,
          17.5,
          10,
          20,
          85,
          77.5,
          90,
          25,
          60,
          32.5,
          80,
          60,
          62.5,
          35,
          70,
          15,
          30,
          30,
          40,
          70,
          35,
          27.5,
          67.5,
          80,
          62.5,
          52.5,
          70,
          20,
          50,
          25,
          35,
          60,
          35,
          60,
          70,
          55,
          12.5,
          15,
          25,
          20,
          50,
          25,
          15,
          20,
          35,
          17.5,
          50,
          50,
          40,
          45,
          30,
          20,
          42.5,
          20,
          35,
          30,
          22.5,
          40,
          20,
          50,
          35,
          60,
          50,
          55,
          35,
          15,
          15,
          15,
          30,
          50,
          40,
          22.5,
          75,
          15,
          30,
          15,
          15,
          30,
          10,
          30,
          20,
          17.5,
          20,
          65,
          55,
          30,
          20,
          20,
          35,
          25,
          10,
          35,
          60,
          55,
          40,
          35,
          100,
          40,
          50,
          50,
          50,
          50,
          40,
          105,
          95,
          70,
          10,
          110,
          110,
          20,
          20,
          55,
          65,
          35,
          32.5,
          7.5,
          25,
          40,
          17.5,
          30,
          7.5,
          40,
          30,
          27.5,
          40,
          25,
          27.5,
          12.5,
          20,
          40,
          10,
          20,
          15,
          17.5,
          20,
          25,
          30,
          20,
          50,
          40,
          20,
          12.5,
          20,
          35,
          10,
          15,
          25,
          22.5,
          35,
          55,
          17.5,
          125,
          30,
          60,
          45,
          20,
          25,
          30,
          100,
          30,
          15,
          37.5,
          40,
          30,
          30,
          55,
          30,
          20,
          40,
          42.5,
          15,
          20,
          30,
          30,
          15,
          35,
          45,
          45,
          45,
          45,
          20,
          20,
          15,
          25,
          20,
          45,
          60,
          55,
          35,
          60,
          100,
          70,
          10,
          50,
          40,
          40,
          35,
          30,
          20,
          50,
          70,
          30,
          30,
          50,
          40,
          30,
          30,
          90,
          20,
          40,
          12.5,
          10,
          25,
          20,
          50,
          15,
          15,
          50,
          90,
          90,
          50,
          20,
          40,
          50,
          20,
          35,
          35,
          30,
          30,
          25,
          15,
          20,
          20,
          25,
          20,
          10,
          15,
          20,
          20,
          20,
          7.5,
          7.5,
          55,
          20,
          50,
          25,
          50,
          22.5,
          20,
          20,
          75,
          45,
          55,
          30,
          20,
          20,
          25,
          25,
          65,
          20,
          20,
          55,
          100,
          100,
          70,
          70,
          70,
          55,
          47.5,
          85,
          30,
          30,
          20,
          15,
          15,
          20,
          120,
          120,
          25,
          60,
          40,
          30,
          45,
          30,
          55,
          20,
          40,
          30,
          30,
          40,
          20,
          50,
          40,
          20,
          20,
          30,
          30,
          55,
          55,
          40,
          40,
          55,
          40,
          40,
          20,
          20,
          30,
          30,
          25,
          20,
          20,
          25,
          25,
          45,
          72.5,
          67.5,
          67.5,
          65,
          65,
          50,
          10,
          10,
          20,
          40,
          10,
          40,
          45,
          80,
          20,
          40,
          30,
          90,
          40,
          40,
          40,
          45,
          45,
          55,
          55,
          55,
          55,
          55,
          80,
          80,
          80,
          80,
          80,
          20,
          35,
          35,
          35,
          35,
          45,
          30,
          30,
          30,
          45,
          30,
          30,
          20,
          20,
          45,
          20,
          30,
          30,
          45,
          45,
          45,
          45,
          10,
          35,
          45,
          35,
          35,
          45,
          80,
          70,
          80,
          90,
          70,
          45,
          70,
          70,
          50,
          70,
          35,
          20,
          45,
          70,
          45,
          60,
          60,
          20,
          25,
          25,
          45,
          45,
          45,
          45,
          50,
          50,
          50,
          10,
          10,
          10,
          10,
          10,
          10,
          10,
          40,
          35,
          40,
          30,
          30,
          50,
          15,
          15,
          40,
          20,
          75,
          75,
          50,
          50,
          75,
          35,
          30,
          40,
          30,
          40,
          25,
          40,
          60,
          50,
          40,
          70,
          70,
          40,
          40,
          40,
          35,
          30,
          22.5,
          27.5,
          60,
          100,
          30,
          30,
          55,
          55,
          45,
          25,
          25,
          25,
          20,
          20,
          30,
          30,
          30,
          20,
          20,
          30,
          30,
          10,
          20,
          30,
          40,
          80,
          80,
          10,
          80,
          30,
          50,
          50,
          30,
          10,
          15,
          15,
          20,
          15,
          22.5,
          25,
          10,
          20,
          35,
          10,
          12.5,
          12.5,
          12.5,
          15,
          15,
          15,
          20,
          20,
          10,
          35,
          35,
          45,
          45,
          10,
          10,
          10,
          10,
          20,
          15,
          25,
          20,
          20,
          35,
          30,
          20,
          30,
          20,
          20,
          20,
          30,
          30,
          20,
          20,
          20,
          40,
          20,
          15,
          20,
          50,
          20,
          30,
          30,
          60,
          40,
          15,
          15,
          15,
          7.5,
          7.5,
          15,
          20,
          20,
          7.5,
          20,
          40,
          15,
          15,
          15,
          15,
          15,
          15,
          20,
          17.5,
          17.5,
          15,
          15,
          15,
          15,
          20,
          50,
          30,
          30,
          20,
          20,
          25,
          30,
          40,
          10,
          30,
          30,
          15,
          45,
          45,
          45,
          45,
          20,
          25,
          25,
          25,
          30,
          20,
          20,
          30,
          17.5,
          25,
          30,
          30,
          30,
          30,
          35,
          35,
          35,
          20,
          60,
          60,
          15,
          15,
          12.5,
          7.5,
          12.5,
          12.5,
          15,
          5
         ],
         "xaxis": "x",
         "y": [
          140,
          0,
          0,
          625,
          195,
          2078,
          0,
          1121,
          0,
          150,
          574,
          120,
          278,
          0,
          100,
          210,
          0,
          0,
          1168,
          0,
          0,
          0,
          2220,
          362,
          1230,
          4461,
          2804,
          2133,
          60,
          85,
          24,
          208,
          147,
          0,
          0,
          2112,
          1208,
          130,
          36,
          1238,
          0,
          0,
          0,
          0,
          710,
          961,
          0,
          0,
          15,
          0,
          0,
          0,
          0,
          0,
          0,
          300,
          65,
          91,
          134,
          235,
          0,
          150,
          372,
          507,
          175,
          40,
          52,
          0,
          16,
          99,
          231,
          675,
          250,
          0,
          55,
          700,
          962,
          1041,
          816,
          797,
          1099,
          1058,
          147,
          3615,
          335,
          1540,
          405,
          345,
          440,
          781,
          185,
          0,
          0,
          596,
          150,
          321,
          0,
          25,
          325,
          269,
          256,
          0,
          228,
          1750,
          850,
          658,
          0,
          195,
          70,
          150,
          48,
          80,
          190,
          0,
          47,
          20,
          335,
          65,
          1868,
          470,
          220,
          274,
          465,
          220,
          3577,
          279,
          932,
          2556,
          4560,
          177,
          24,
          1500,
          58,
          1119,
          0,
          346,
          2806,
          300,
          209,
          2220,
          120,
          949,
          1200,
          0,
          207,
          0,
          100,
          2700,
          84,
          2310,
          0,
          0,
          0,
          0,
          0,
          0,
          0,
          0,
          0,
          0,
          0,
          0,
          0,
          0,
          0,
          0,
          0,
          0,
          0,
          0,
          0,
          0,
          0,
          0,
          0,
          0,
          0,
          0,
          0,
          0,
          271,
          182,
          192,
          0,
          0,
          0,
          250,
          0,
          0,
          0,
          0,
          0,
          1150,
          648,
          200,
          566,
          0,
          417,
          0,
          0,
          0,
          0,
          0,
          0,
          0,
          0,
          0,
          0,
          0,
          0,
          0,
          0,
          0,
          0,
          0,
          0,
          0,
          0,
          0,
          0,
          0,
          0,
          0,
          85,
          0,
          0,
          0,
          0,
          0,
          0,
          0,
          0,
          0,
          0,
          0,
          0,
          0,
          0,
          0,
          0,
          0,
          0,
          0,
          0,
          0,
          121,
          282,
          0,
          0,
          0,
          329,
          0,
          0,
          0,
          0,
          0,
          0,
          0,
          0,
          0,
          15,
          0,
          0,
          420,
          0,
          98,
          630,
          0,
          2564,
          0,
          0,
          0,
          0,
          0,
          0,
          0,
          0,
          0,
          2286,
          0,
          0,
          0,
          130,
          2132,
          0,
          0,
          0,
          3904,
          0,
          708,
          2185,
          0,
          0,
          244,
          0,
          0,
          0,
          0,
          0,
          13450,
          0,
          0,
          745,
          0,
          1157,
          0,
          0,
          0,
          0,
          0,
          0,
          0,
          8103,
          0,
          0,
          0,
          0,
          0,
          0,
          0,
          0,
          0,
          0,
          0,
          0,
          0,
          0,
          0,
          517,
          0,
          0,
          0,
          0,
          0,
          0,
          0,
          0,
          0,
          0,
          0,
          0,
          0,
          0,
          0,
          0,
          456,
          1068,
          4838,
          0,
          43,
          0,
          0,
          10,
          0,
          207,
          100,
          0,
          0,
          0,
          1598,
          0,
          850,
          0,
          0,
          0,
          0,
          0,
          0,
          65,
          0,
          0,
          0,
          0,
          0,
          0,
          0,
          0,
          0,
          0,
          0,
          0,
          0,
          0,
          0,
          0,
          10,
          0,
          0,
          0,
          0,
          0,
          0,
          0,
          0,
          817,
          0,
          153,
          0,
          0,
          0,
          0,
          476,
          1380,
          0,
          0,
          0,
          0,
          0,
          65,
          0,
          0,
          0,
          0,
          0,
          0,
          0,
          77,
          0,
          0,
          0,
          456,
          0,
          0,
          0,
          0,
          0,
          0,
          1370,
          1214,
          0,
          0,
          0,
          0,
          0,
          0,
          0,
          120,
          0,
          0,
          0,
          0,
          200,
          0,
          0,
          0,
          0,
          0,
          0,
          0,
          0,
          0,
          0,
          0,
          0,
          0,
          0,
          0,
          0,
          0,
          0,
          0,
          0,
          0,
          0,
          0,
          0,
          0,
          0,
          0,
          0,
          0,
          0,
          0,
          0,
          0,
          0,
          0,
          15,
          0,
          0,
          0,
          0,
          0,
          0,
          0,
          0,
          23,
          66,
          0,
          110,
          158,
          0,
          121,
          807,
          0,
          0,
          0,
          0,
          0,
          0,
          0,
          0,
          0,
          0,
          0,
          0,
          0,
          0,
          0,
          0,
          0,
          0,
          0,
          0,
          0,
          0,
          0,
          0,
          0,
          0,
          0,
          0,
          0,
          0,
          0,
          0,
          0,
          0,
          0,
          0,
          0,
          0,
          0,
          0,
          0,
          0,
          0,
          0,
          0,
          0,
          0,
          0,
          0,
          0,
          0,
          0,
          0,
          0,
          0,
          0,
          0,
          0,
          0,
          0,
          0,
          0,
          0,
          0,
          0,
          0,
          0,
          0,
          0,
          0,
          0,
          0,
          0,
          0,
          0,
          0,
          0,
          0,
          0,
          0,
          0,
          0,
          0,
          0,
          0,
          0,
          0,
          0,
          0,
          0,
          0,
          0,
          0,
          0,
          0,
          0,
          0,
          0,
          0,
          0,
          0,
          0,
          0,
          0,
          0,
          0,
          1200,
          0,
          0,
          0,
          0,
          0,
          0,
          0,
          0,
          0,
          0,
          0,
          0,
          0,
          0,
          0,
          0,
          0,
          0,
          0,
          0,
          0,
          0,
          0,
          0,
          0,
          0,
          0,
          0,
          0,
          0,
          0,
          0,
          0,
          0,
          0,
          0,
          0,
          0,
          0,
          0,
          0,
          0,
          0,
          0,
          0,
          0,
          0,
          0,
          0,
          0,
          225,
          0,
          0,
          0,
          0,
          0,
          0,
          0,
          0,
          0,
          20,
          28,
          24,
          31,
          23,
          51,
          66,
          16,
          118,
          80,
          18,
          48,
          23,
          28,
          31,
          53,
          33,
          28,
          27,
          27,
          38,
          21,
          28,
          15,
          36,
          21,
          31,
          22,
          46,
          54,
          58,
          51,
          0,
          7,
          9,
          28,
          24,
          20,
          21,
          24,
          16,
          45,
          24,
          21,
          24,
          22,
          12,
          38,
          21,
          16,
          17,
          30,
          18,
          13,
          7,
          0,
          5,
          0,
          0,
          0,
          0,
          0,
          41,
          10,
          0,
          70,
          46,
          59,
          70,
          40,
          0,
          0,
          0,
          0,
          0,
          0,
          0,
          0,
          0,
          0,
          0,
          0,
          0,
          0,
          0,
          0,
          0,
          413,
          385,
          86,
          225,
          120,
          120,
          90,
          150,
          150,
          178,
          117,
          162,
          30,
          35,
          150,
          120,
          160,
          97,
          45,
          0,
          0,
          0,
          0,
          0,
          0,
          0,
          0,
          0,
          0,
          0,
          0,
          0,
          0,
          0,
          0,
          0,
          0,
          0,
          0,
          0,
          0,
          0,
          0,
          0,
          0,
          0,
          0,
          0,
          0,
          0,
          0,
          0,
          0,
          0,
          0,
          0,
          0,
          0,
          0,
          0,
          0,
          0,
          0,
          0,
          0,
          0,
          0,
          0,
          0,
          0,
          0,
          0,
          0,
          0,
          0,
          0,
          0,
          0,
          0,
          0,
          0,
          0,
          0,
          0,
          0,
          0,
          0,
          0,
          0,
          0,
          0,
          0,
          0,
          0,
          0,
          0,
          0,
          0,
          0,
          0,
          0,
          0,
          0,
          0,
          0,
          0,
          0,
          0,
          0,
          0,
          0,
          0,
          0,
          0,
          0,
          0,
          0,
          0,
          0,
          0,
          0,
          0,
          0,
          0,
          0,
          0,
          0,
          0,
          0,
          0,
          0,
          0,
          0,
          0,
          0,
          0,
          0,
          70,
          80,
          0,
          90,
          0,
          51,
          66,
          118,
          80,
          48,
          23,
          28,
          31,
          53,
          21,
          19,
          36,
          12,
          22,
          46,
          54,
          58,
          51,
          0,
          0,
          0,
          10,
          0,
          0,
          0,
          0,
          0,
          0,
          0,
          0,
          0,
          0
         ],
         "yaxis": "y"
        }
       ],
       "layout": {
        "coloraxis": {
         "colorbar": {
          "title": {
           "text": "cluster"
          }
         },
         "colorscale": [
          [
           0,
           "#0d0887"
          ],
          [
           0.1111111111111111,
           "#46039f"
          ],
          [
           0.2222222222222222,
           "#7201a8"
          ],
          [
           0.3333333333333333,
           "#9c179e"
          ],
          [
           0.4444444444444444,
           "#bd3786"
          ],
          [
           0.5555555555555556,
           "#d8576b"
          ],
          [
           0.6666666666666666,
           "#ed7953"
          ],
          [
           0.7777777777777778,
           "#fb9f3a"
          ],
          [
           0.8888888888888888,
           "#fdca26"
          ],
          [
           1,
           "#f0f921"
          ]
         ]
        },
        "legend": {
         "tracegroupgap": 0
        },
        "template": {
         "data": {
          "bar": [
           {
            "error_x": {
             "color": "#f2f5fa"
            },
            "error_y": {
             "color": "#f2f5fa"
            },
            "marker": {
             "line": {
              "color": "rgb(17,17,17)",
              "width": 0.5
             },
             "pattern": {
              "fillmode": "overlay",
              "size": 10,
              "solidity": 0.2
             }
            },
            "type": "bar"
           }
          ],
          "barpolar": [
           {
            "marker": {
             "line": {
              "color": "rgb(17,17,17)",
              "width": 0.5
             },
             "pattern": {
              "fillmode": "overlay",
              "size": 10,
              "solidity": 0.2
             }
            },
            "type": "barpolar"
           }
          ],
          "carpet": [
           {
            "aaxis": {
             "endlinecolor": "#A2B1C6",
             "gridcolor": "#506784",
             "linecolor": "#506784",
             "minorgridcolor": "#506784",
             "startlinecolor": "#A2B1C6"
            },
            "baxis": {
             "endlinecolor": "#A2B1C6",
             "gridcolor": "#506784",
             "linecolor": "#506784",
             "minorgridcolor": "#506784",
             "startlinecolor": "#A2B1C6"
            },
            "type": "carpet"
           }
          ],
          "choropleth": [
           {
            "colorbar": {
             "outlinewidth": 0,
             "ticks": ""
            },
            "type": "choropleth"
           }
          ],
          "contour": [
           {
            "colorbar": {
             "outlinewidth": 0,
             "ticks": ""
            },
            "colorscale": [
             [
              0,
              "#0d0887"
             ],
             [
              0.1111111111111111,
              "#46039f"
             ],
             [
              0.2222222222222222,
              "#7201a8"
             ],
             [
              0.3333333333333333,
              "#9c179e"
             ],
             [
              0.4444444444444444,
              "#bd3786"
             ],
             [
              0.5555555555555556,
              "#d8576b"
             ],
             [
              0.6666666666666666,
              "#ed7953"
             ],
             [
              0.7777777777777778,
              "#fb9f3a"
             ],
             [
              0.8888888888888888,
              "#fdca26"
             ],
             [
              1,
              "#f0f921"
             ]
            ],
            "type": "contour"
           }
          ],
          "contourcarpet": [
           {
            "colorbar": {
             "outlinewidth": 0,
             "ticks": ""
            },
            "type": "contourcarpet"
           }
          ],
          "heatmap": [
           {
            "colorbar": {
             "outlinewidth": 0,
             "ticks": ""
            },
            "colorscale": [
             [
              0,
              "#0d0887"
             ],
             [
              0.1111111111111111,
              "#46039f"
             ],
             [
              0.2222222222222222,
              "#7201a8"
             ],
             [
              0.3333333333333333,
              "#9c179e"
             ],
             [
              0.4444444444444444,
              "#bd3786"
             ],
             [
              0.5555555555555556,
              "#d8576b"
             ],
             [
              0.6666666666666666,
              "#ed7953"
             ],
             [
              0.7777777777777778,
              "#fb9f3a"
             ],
             [
              0.8888888888888888,
              "#fdca26"
             ],
             [
              1,
              "#f0f921"
             ]
            ],
            "type": "heatmap"
           }
          ],
          "heatmapgl": [
           {
            "colorbar": {
             "outlinewidth": 0,
             "ticks": ""
            },
            "colorscale": [
             [
              0,
              "#0d0887"
             ],
             [
              0.1111111111111111,
              "#46039f"
             ],
             [
              0.2222222222222222,
              "#7201a8"
             ],
             [
              0.3333333333333333,
              "#9c179e"
             ],
             [
              0.4444444444444444,
              "#bd3786"
             ],
             [
              0.5555555555555556,
              "#d8576b"
             ],
             [
              0.6666666666666666,
              "#ed7953"
             ],
             [
              0.7777777777777778,
              "#fb9f3a"
             ],
             [
              0.8888888888888888,
              "#fdca26"
             ],
             [
              1,
              "#f0f921"
             ]
            ],
            "type": "heatmapgl"
           }
          ],
          "histogram": [
           {
            "marker": {
             "pattern": {
              "fillmode": "overlay",
              "size": 10,
              "solidity": 0.2
             }
            },
            "type": "histogram"
           }
          ],
          "histogram2d": [
           {
            "colorbar": {
             "outlinewidth": 0,
             "ticks": ""
            },
            "colorscale": [
             [
              0,
              "#0d0887"
             ],
             [
              0.1111111111111111,
              "#46039f"
             ],
             [
              0.2222222222222222,
              "#7201a8"
             ],
             [
              0.3333333333333333,
              "#9c179e"
             ],
             [
              0.4444444444444444,
              "#bd3786"
             ],
             [
              0.5555555555555556,
              "#d8576b"
             ],
             [
              0.6666666666666666,
              "#ed7953"
             ],
             [
              0.7777777777777778,
              "#fb9f3a"
             ],
             [
              0.8888888888888888,
              "#fdca26"
             ],
             [
              1,
              "#f0f921"
             ]
            ],
            "type": "histogram2d"
           }
          ],
          "histogram2dcontour": [
           {
            "colorbar": {
             "outlinewidth": 0,
             "ticks": ""
            },
            "colorscale": [
             [
              0,
              "#0d0887"
             ],
             [
              0.1111111111111111,
              "#46039f"
             ],
             [
              0.2222222222222222,
              "#7201a8"
             ],
             [
              0.3333333333333333,
              "#9c179e"
             ],
             [
              0.4444444444444444,
              "#bd3786"
             ],
             [
              0.5555555555555556,
              "#d8576b"
             ],
             [
              0.6666666666666666,
              "#ed7953"
             ],
             [
              0.7777777777777778,
              "#fb9f3a"
             ],
             [
              0.8888888888888888,
              "#fdca26"
             ],
             [
              1,
              "#f0f921"
             ]
            ],
            "type": "histogram2dcontour"
           }
          ],
          "mesh3d": [
           {
            "colorbar": {
             "outlinewidth": 0,
             "ticks": ""
            },
            "type": "mesh3d"
           }
          ],
          "parcoords": [
           {
            "line": {
             "colorbar": {
              "outlinewidth": 0,
              "ticks": ""
             }
            },
            "type": "parcoords"
           }
          ],
          "pie": [
           {
            "automargin": true,
            "type": "pie"
           }
          ],
          "scatter": [
           {
            "marker": {
             "line": {
              "color": "#283442"
             }
            },
            "type": "scatter"
           }
          ],
          "scatter3d": [
           {
            "line": {
             "colorbar": {
              "outlinewidth": 0,
              "ticks": ""
             }
            },
            "marker": {
             "colorbar": {
              "outlinewidth": 0,
              "ticks": ""
             }
            },
            "type": "scatter3d"
           }
          ],
          "scattercarpet": [
           {
            "marker": {
             "colorbar": {
              "outlinewidth": 0,
              "ticks": ""
             }
            },
            "type": "scattercarpet"
           }
          ],
          "scattergeo": [
           {
            "marker": {
             "colorbar": {
              "outlinewidth": 0,
              "ticks": ""
             }
            },
            "type": "scattergeo"
           }
          ],
          "scattergl": [
           {
            "marker": {
             "line": {
              "color": "#283442"
             }
            },
            "type": "scattergl"
           }
          ],
          "scattermapbox": [
           {
            "marker": {
             "colorbar": {
              "outlinewidth": 0,
              "ticks": ""
             }
            },
            "type": "scattermapbox"
           }
          ],
          "scatterpolar": [
           {
            "marker": {
             "colorbar": {
              "outlinewidth": 0,
              "ticks": ""
             }
            },
            "type": "scatterpolar"
           }
          ],
          "scatterpolargl": [
           {
            "marker": {
             "colorbar": {
              "outlinewidth": 0,
              "ticks": ""
             }
            },
            "type": "scatterpolargl"
           }
          ],
          "scatterternary": [
           {
            "marker": {
             "colorbar": {
              "outlinewidth": 0,
              "ticks": ""
             }
            },
            "type": "scatterternary"
           }
          ],
          "surface": [
           {
            "colorbar": {
             "outlinewidth": 0,
             "ticks": ""
            },
            "colorscale": [
             [
              0,
              "#0d0887"
             ],
             [
              0.1111111111111111,
              "#46039f"
             ],
             [
              0.2222222222222222,
              "#7201a8"
             ],
             [
              0.3333333333333333,
              "#9c179e"
             ],
             [
              0.4444444444444444,
              "#bd3786"
             ],
             [
              0.5555555555555556,
              "#d8576b"
             ],
             [
              0.6666666666666666,
              "#ed7953"
             ],
             [
              0.7777777777777778,
              "#fb9f3a"
             ],
             [
              0.8888888888888888,
              "#fdca26"
             ],
             [
              1,
              "#f0f921"
             ]
            ],
            "type": "surface"
           }
          ],
          "table": [
           {
            "cells": {
             "fill": {
              "color": "#506784"
             },
             "line": {
              "color": "rgb(17,17,17)"
             }
            },
            "header": {
             "fill": {
              "color": "#2a3f5f"
             },
             "line": {
              "color": "rgb(17,17,17)"
             }
            },
            "type": "table"
           }
          ]
         },
         "layout": {
          "annotationdefaults": {
           "arrowcolor": "#f2f5fa",
           "arrowhead": 0,
           "arrowwidth": 1
          },
          "autotypenumbers": "strict",
          "coloraxis": {
           "colorbar": {
            "outlinewidth": 0,
            "ticks": ""
           }
          },
          "colorscale": {
           "diverging": [
            [
             0,
             "#8e0152"
            ],
            [
             0.1,
             "#c51b7d"
            ],
            [
             0.2,
             "#de77ae"
            ],
            [
             0.3,
             "#f1b6da"
            ],
            [
             0.4,
             "#fde0ef"
            ],
            [
             0.5,
             "#f7f7f7"
            ],
            [
             0.6,
             "#e6f5d0"
            ],
            [
             0.7,
             "#b8e186"
            ],
            [
             0.8,
             "#7fbc41"
            ],
            [
             0.9,
             "#4d9221"
            ],
            [
             1,
             "#276419"
            ]
           ],
           "sequential": [
            [
             0,
             "#0d0887"
            ],
            [
             0.1111111111111111,
             "#46039f"
            ],
            [
             0.2222222222222222,
             "#7201a8"
            ],
            [
             0.3333333333333333,
             "#9c179e"
            ],
            [
             0.4444444444444444,
             "#bd3786"
            ],
            [
             0.5555555555555556,
             "#d8576b"
            ],
            [
             0.6666666666666666,
             "#ed7953"
            ],
            [
             0.7777777777777778,
             "#fb9f3a"
            ],
            [
             0.8888888888888888,
             "#fdca26"
            ],
            [
             1,
             "#f0f921"
            ]
           ],
           "sequentialminus": [
            [
             0,
             "#0d0887"
            ],
            [
             0.1111111111111111,
             "#46039f"
            ],
            [
             0.2222222222222222,
             "#7201a8"
            ],
            [
             0.3333333333333333,
             "#9c179e"
            ],
            [
             0.4444444444444444,
             "#bd3786"
            ],
            [
             0.5555555555555556,
             "#d8576b"
            ],
            [
             0.6666666666666666,
             "#ed7953"
            ],
            [
             0.7777777777777778,
             "#fb9f3a"
            ],
            [
             0.8888888888888888,
             "#fdca26"
            ],
            [
             1,
             "#f0f921"
            ]
           ]
          },
          "colorway": [
           "#636efa",
           "#EF553B",
           "#00cc96",
           "#ab63fa",
           "#FFA15A",
           "#19d3f3",
           "#FF6692",
           "#B6E880",
           "#FF97FF",
           "#FECB52"
          ],
          "font": {
           "color": "#f2f5fa"
          },
          "geo": {
           "bgcolor": "rgb(17,17,17)",
           "lakecolor": "rgb(17,17,17)",
           "landcolor": "rgb(17,17,17)",
           "showlakes": true,
           "showland": true,
           "subunitcolor": "#506784"
          },
          "hoverlabel": {
           "align": "left"
          },
          "hovermode": "closest",
          "mapbox": {
           "style": "dark"
          },
          "paper_bgcolor": "rgb(17,17,17)",
          "plot_bgcolor": "rgb(17,17,17)",
          "polar": {
           "angularaxis": {
            "gridcolor": "#506784",
            "linecolor": "#506784",
            "ticks": ""
           },
           "bgcolor": "rgb(17,17,17)",
           "radialaxis": {
            "gridcolor": "#506784",
            "linecolor": "#506784",
            "ticks": ""
           }
          },
          "scene": {
           "xaxis": {
            "backgroundcolor": "rgb(17,17,17)",
            "gridcolor": "#506784",
            "gridwidth": 2,
            "linecolor": "#506784",
            "showbackground": true,
            "ticks": "",
            "zerolinecolor": "#C8D4E3"
           },
           "yaxis": {
            "backgroundcolor": "rgb(17,17,17)",
            "gridcolor": "#506784",
            "gridwidth": 2,
            "linecolor": "#506784",
            "showbackground": true,
            "ticks": "",
            "zerolinecolor": "#C8D4E3"
           },
           "zaxis": {
            "backgroundcolor": "rgb(17,17,17)",
            "gridcolor": "#506784",
            "gridwidth": 2,
            "linecolor": "#506784",
            "showbackground": true,
            "ticks": "",
            "zerolinecolor": "#C8D4E3"
           }
          },
          "shapedefaults": {
           "line": {
            "color": "#f2f5fa"
           }
          },
          "sliderdefaults": {
           "bgcolor": "#C8D4E3",
           "bordercolor": "rgb(17,17,17)",
           "borderwidth": 1,
           "tickwidth": 0
          },
          "ternary": {
           "aaxis": {
            "gridcolor": "#506784",
            "linecolor": "#506784",
            "ticks": ""
           },
           "baxis": {
            "gridcolor": "#506784",
            "linecolor": "#506784",
            "ticks": ""
           },
           "bgcolor": "rgb(17,17,17)",
           "caxis": {
            "gridcolor": "#506784",
            "linecolor": "#506784",
            "ticks": ""
           }
          },
          "title": {
           "x": 0.05
          },
          "updatemenudefaults": {
           "bgcolor": "#506784",
           "borderwidth": 0
          },
          "xaxis": {
           "automargin": true,
           "gridcolor": "#283442",
           "linecolor": "#506784",
           "ticks": "",
           "title": {
            "standoff": 15
           },
           "zerolinecolor": "#283442",
           "zerolinewidth": 2
          },
          "yaxis": {
           "automargin": true,
           "gridcolor": "#283442",
           "linecolor": "#506784",
           "ticks": "",
           "title": {
            "standoff": 15
           },
           "zerolinecolor": "#283442",
           "zerolinewidth": 2
          }
         }
        },
        "title": {
         "text": "Clustering"
        },
        "xaxis": {
         "anchor": "y",
         "domain": [
          0,
          1
         ],
         "title": {
          "text": "ketinggian_air_num"
         }
        },
        "yaxis": {
         "anchor": "x",
         "domain": [
          0,
          1
         ],
         "title": {
          "text": "jumlah_terdampak_jiwa"
         }
        }
       }
      }
     },
     "metadata": {},
     "output_type": "display_data"
    },
    {
     "name": "stdout",
     "output_type": "stream",
     "text": [
      "     kota_administrasi  cluster\n",
      "0        Jakarta Pusat        0\n",
      "1        Jakarta Pusat        0\n",
      "2        Jakarta Pusat        0\n",
      "3        Jakarta Pusat        0\n",
      "4        Jakarta Pusat        0\n",
      "...                ...      ...\n",
      "1000  Kepulauan Seribu        0\n",
      "1001  Kepulauan Seribu        0\n",
      "1002  Kepulauan Seribu        0\n",
      "1003  Kepulauan Seribu        0\n",
      "1004  Kepulauan Seribu        0\n",
      "\n",
      "[922 rows x 2 columns]\n"
     ]
    }
   ],
   "source": [
    "features = ['ketinggian_air_num', 'jumlah_terdampak_jiwa', 'lama_genangan']\n",
    "X = merged_df[features]\n",
    "\n",
    "# jumlah klaster\n",
    "n_clusters = 3\n",
    "\n",
    "# Membuat model K-Means\n",
    "kmeans = KMeans(n_clusters=n_clusters, random_state=42, n_init=10)\n",
    "\n",
    "# # Standarisasi data\n",
    "# scaler = StandardScaler()\n",
    "# scaled_data = scaler.fit_transform(data)\n",
    "\n",
    "# Melakukan klastering\n",
    "clusters = kmeans.fit_predict(X)\n",
    "\n",
    "merged_df['cluster'] = clusters\n",
    "\n",
    "fig = px.scatter(merged_df, x='ketinggian_air_num', y='jumlah_terdampak_jiwa', color='cluster',\n",
    "                 title='Clustering')\n",
    "\n",
    "\n",
    "fig.update_layout(template='plotly_dark')\n",
    "fig.show()\n",
    "\n",
    "print(merged_df[['kota_administrasi', 'cluster']])\n"
   ]
  },
  {
   "cell_type": "code",
   "execution_count": null,
   "metadata": {},
   "outputs": [],
   "source": [
    "fig = px.scatter(merged_df, x='ketinggian_air_num', y='lama_genangan', color='cluster',\n",
    "                 title='Clustering')\n",
    "\n",
    "\n",
    "fig.update_layout(template='plotly_dark')\n",
    "fig.show()"
   ]
  },
  {
   "cell_type": "code",
   "execution_count": 283,
   "metadata": {},
   "outputs": [
    {
     "data": {
      "application/vnd.plotly.v1+json": {
       "config": {
        "plotlyServerURL": "https://plot.ly"
       },
       "data": [
        {
         "hovertemplate": "ketinggian_air_num=%{x}<br>jumlah_terdampak_kk=%{y}<br>cluster=%{marker.color}<extra></extra>",
         "legendgroup": "",
         "marker": {
          "color": [
           0,
           0,
           0,
           0,
           0,
           2,
           0,
           0,
           0,
           0,
           0,
           0,
           0,
           0,
           0,
           0,
           0,
           0,
           0,
           0,
           0,
           0,
           2,
           0,
           0,
           2,
           2,
           2,
           0,
           0,
           0,
           0,
           0,
           0,
           0,
           2,
           0,
           0,
           0,
           0,
           0,
           0,
           0,
           0,
           0,
           0,
           0,
           0,
           0,
           0,
           0,
           0,
           0,
           0,
           0,
           0,
           0,
           0,
           0,
           0,
           0,
           0,
           0,
           0,
           0,
           0,
           0,
           0,
           0,
           0,
           0,
           0,
           0,
           0,
           0,
           0,
           0,
           0,
           0,
           0,
           0,
           0,
           0,
           2,
           0,
           2,
           0,
           0,
           0,
           0,
           0,
           0,
           0,
           0,
           0,
           0,
           0,
           0,
           0,
           0,
           0,
           0,
           0,
           2,
           0,
           0,
           0,
           0,
           0,
           0,
           0,
           0,
           0,
           0,
           0,
           0,
           0,
           0,
           2,
           0,
           0,
           0,
           0,
           0,
           2,
           0,
           2,
           2,
           2,
           0,
           0,
           2,
           0,
           0,
           0,
           0,
           2,
           0,
           0,
           2,
           0,
           0,
           0,
           0,
           0,
           0,
           0,
           2,
           0,
           2,
           0,
           0,
           0,
           0,
           0,
           0,
           0,
           0,
           0,
           0,
           0,
           0,
           0,
           0,
           0,
           0,
           0,
           0,
           0,
           0,
           0,
           0,
           0,
           0,
           0,
           0,
           0,
           0,
           0,
           0,
           0,
           0,
           0,
           0,
           0,
           0,
           0,
           0,
           0,
           0,
           0,
           0,
           0,
           0,
           0,
           0,
           0,
           0,
           0,
           0,
           0,
           0,
           0,
           0,
           0,
           0,
           0,
           0,
           0,
           0,
           0,
           0,
           0,
           0,
           0,
           0,
           0,
           0,
           0,
           0,
           0,
           0,
           0,
           0,
           0,
           0,
           0,
           0,
           0,
           0,
           0,
           0,
           0,
           0,
           0,
           0,
           0,
           0,
           0,
           0,
           0,
           0,
           0,
           0,
           0,
           0,
           0,
           0,
           0,
           0,
           0,
           0,
           0,
           0,
           0,
           0,
           0,
           0,
           0,
           0,
           0,
           0,
           0,
           0,
           0,
           0,
           0,
           0,
           2,
           0,
           0,
           0,
           0,
           0,
           0,
           0,
           0,
           0,
           2,
           0,
           0,
           0,
           0,
           2,
           0,
           0,
           0,
           2,
           0,
           0,
           2,
           0,
           0,
           0,
           0,
           0,
           0,
           0,
           0,
           1,
           0,
           0,
           0,
           0,
           0,
           0,
           0,
           0,
           0,
           0,
           0,
           0,
           1,
           0,
           0,
           0,
           0,
           0,
           0,
           0,
           0,
           0,
           0,
           0,
           0,
           0,
           0,
           0,
           0,
           0,
           0,
           0,
           0,
           0,
           0,
           0,
           0,
           0,
           0,
           0,
           0,
           0,
           0,
           0,
           0,
           0,
           0,
           2,
           0,
           0,
           0,
           0,
           0,
           0,
           0,
           0,
           0,
           0,
           0,
           2,
           0,
           0,
           0,
           0,
           0,
           0,
           0,
           0,
           0,
           0,
           0,
           0,
           0,
           0,
           0,
           0,
           0,
           0,
           0,
           0,
           0,
           0,
           0,
           0,
           0,
           0,
           0,
           0,
           0,
           0,
           0,
           0,
           0,
           0,
           0,
           0,
           0,
           0,
           0,
           0,
           0,
           0,
           2,
           0,
           0,
           0,
           0,
           0,
           0,
           0,
           0,
           0,
           0,
           0,
           0,
           0,
           0,
           0,
           0,
           0,
           0,
           0,
           0,
           0,
           0,
           0,
           0,
           0,
           2,
           0,
           0,
           0,
           0,
           0,
           0,
           0,
           0,
           0,
           0,
           0,
           0,
           0,
           0,
           0,
           0,
           0,
           0,
           0,
           0,
           0,
           0,
           0,
           0,
           0,
           0,
           0,
           0,
           0,
           0,
           0,
           0,
           0,
           0,
           0,
           0,
           0,
           0,
           0,
           0,
           0,
           0,
           0,
           0,
           0,
           0,
           0,
           0,
           0,
           0,
           0,
           0,
           0,
           0,
           0,
           0,
           0,
           0,
           0,
           0,
           0,
           0,
           0,
           0,
           0,
           0,
           0,
           0,
           0,
           0,
           0,
           0,
           0,
           0,
           0,
           0,
           0,
           0,
           0,
           0,
           0,
           0,
           0,
           0,
           0,
           0,
           0,
           0,
           0,
           0,
           0,
           0,
           0,
           0,
           0,
           0,
           0,
           0,
           0,
           0,
           0,
           0,
           0,
           0,
           0,
           0,
           0,
           0,
           0,
           0,
           0,
           0,
           0,
           0,
           0,
           0,
           0,
           0,
           0,
           0,
           0,
           0,
           0,
           0,
           0,
           0,
           0,
           0,
           0,
           0,
           0,
           0,
           0,
           0,
           0,
           0,
           0,
           0,
           0,
           0,
           0,
           0,
           0,
           0,
           0,
           0,
           0,
           0,
           0,
           0,
           0,
           0,
           0,
           0,
           0,
           0,
           0,
           0,
           0,
           0,
           0,
           0,
           0,
           0,
           0,
           0,
           0,
           0,
           0,
           0,
           0,
           0,
           0,
           0,
           0,
           0,
           0,
           0,
           0,
           0,
           0,
           0,
           0,
           0,
           0,
           0,
           0,
           0,
           0,
           0,
           0,
           0,
           0,
           0,
           0,
           0,
           0,
           0,
           0,
           0,
           0,
           0,
           0,
           0,
           0,
           0,
           0,
           0,
           0,
           0,
           0,
           0,
           0,
           0,
           0,
           0,
           0,
           0,
           0,
           0,
           0,
           0,
           0,
           0,
           0,
           0,
           0,
           0,
           0,
           0,
           0,
           0,
           0,
           0,
           0,
           0,
           0,
           0,
           0,
           0,
           0,
           0,
           0,
           0,
           0,
           0,
           0,
           0,
           0,
           0,
           0,
           0,
           0,
           0,
           0,
           0,
           0,
           0,
           0,
           0,
           0,
           0,
           0,
           0,
           0,
           0,
           0,
           0,
           0,
           0,
           0,
           0,
           0,
           0,
           0,
           0,
           0,
           0,
           0,
           0,
           0,
           0,
           0,
           0,
           0,
           0,
           0,
           0,
           0,
           0,
           0,
           0,
           0,
           0,
           0,
           0,
           0,
           0,
           0,
           0,
           0,
           0,
           0,
           0,
           0,
           0,
           0,
           0,
           0,
           0,
           0,
           0,
           0,
           0,
           0,
           0,
           0,
           0,
           0,
           0,
           0,
           0,
           0,
           0,
           0,
           0,
           0,
           0,
           0,
           0,
           0,
           0,
           0,
           0,
           0,
           0,
           0,
           0,
           0,
           0,
           0,
           0,
           0,
           0,
           0,
           0,
           0,
           0,
           0,
           0,
           0,
           0,
           0,
           0,
           0,
           0,
           0,
           0,
           0,
           0,
           0,
           0,
           0,
           0,
           0,
           0,
           0,
           0,
           0,
           0,
           0,
           0,
           0,
           0,
           0,
           0,
           0,
           0,
           0,
           0,
           0,
           0,
           0,
           0,
           0,
           0,
           0,
           0,
           0,
           0,
           0,
           0,
           0,
           0,
           0,
           0,
           0,
           0,
           0,
           0,
           0,
           0,
           0,
           0,
           0,
           0,
           0,
           0,
           0,
           0,
           0,
           0,
           0,
           0,
           0,
           0,
           0,
           0,
           0,
           0,
           0,
           0,
           0,
           0,
           0,
           0,
           0,
           0,
           0,
           0,
           0,
           0,
           0,
           0,
           0,
           0,
           0,
           0,
           0,
           0,
           0,
           0,
           0,
           0,
           0,
           0,
           0,
           0,
           0,
           0,
           0,
           0,
           0,
           0,
           0,
           0,
           0,
           0,
           0,
           0,
           0,
           0,
           0,
           0,
           0,
           0,
           0,
           0,
           0,
           0,
           0,
           0,
           0,
           0,
           0,
           0,
           0,
           0,
           0,
           0,
           0,
           0,
           0,
           0,
           0,
           0,
           0,
           0,
           0,
           0,
           0,
           0,
           0
          ],
          "coloraxis": "coloraxis",
          "symbol": "circle"
         },
         "mode": "markers",
         "name": "",
         "orientation": "v",
         "showlegend": false,
         "type": "scatter",
         "x": [
          20,
          40,
          20,
          40,
          50.5,
          110.5,
          50,
          22.5,
          20,
          80,
          40,
          80,
          80,
          20,
          20,
          40,
          35,
          30,
          80,
          20,
          42.5,
          20,
          50.5,
          40,
          110.5,
          50.5,
          50.5,
          50.5,
          50.5,
          80,
          50.5,
          50.5,
          50.5,
          40,
          40,
          115.5,
          90.5,
          50.5,
          80,
          65.5,
          75,
          65,
          60,
          90.5,
          75.5,
          60,
          80,
          50.5,
          110.5,
          20,
          90.5,
          90.5,
          40,
          50.5,
          50.5,
          125.5,
          20,
          50.5,
          50.5,
          50.5,
          50.5,
          65,
          20,
          20,
          20,
          110.5,
          110.5,
          110.5,
          90,
          110.5,
          40,
          90,
          50.5,
          40,
          110.5,
          50.5,
          90.5,
          90.5,
          110.5,
          90.5,
          80,
          90.5,
          110.5,
          115.5,
          20,
          135.5,
          40,
          20,
          123,
          50.5,
          120,
          115.5,
          70,
          110.5,
          110.5,
          135.5,
          70,
          50.5,
          110.5,
          50.5,
          90.5,
          110.5,
          135.5,
          57.5,
          90.5,
          40,
          20,
          105,
          50.5,
          20,
          90.5,
          50.5,
          90.5,
          110.5,
          110.5,
          40,
          80,
          115.5,
          45,
          80,
          110.5,
          90.5,
          120.5,
          20,
          115.5,
          110.5,
          80,
          180,
          50.5,
          90.5,
          90.5,
          135.5,
          135.5,
          90.5,
          80,
          90.5,
          115,
          110.5,
          50.5,
          90.5,
          50.5,
          110.5,
          50.5,
          50.5,
          50.5,
          20,
          125,
          50.5,
          50.5,
          110.5,
          40,
          20,
          30,
          60,
          30,
          35,
          20,
          30,
          30,
          25,
          20,
          30,
          30,
          35,
          60,
          65,
          42.5,
          30,
          20,
          55,
          35,
          25,
          30,
          25,
          20,
          20,
          20,
          20,
          20,
          27.5,
          35,
          45,
          45,
          37.5,
          20,
          37.5,
          32.5,
          40,
          45,
          17.5,
          20,
          17.5,
          57.5,
          25,
          22.5,
          55,
          25,
          32.5,
          30,
          55,
          25,
          20,
          30,
          30,
          12.5,
          40,
          20,
          40,
          10,
          10,
          32.5,
          35,
          25,
          20,
          32.5,
          35,
          45,
          20,
          40,
          55,
          17.5,
          25,
          25,
          30,
          25,
          35,
          35,
          40,
          65,
          30,
          20,
          55,
          15,
          15,
          22.5,
          15,
          15,
          100,
          20,
          35,
          20,
          20,
          120,
          20,
          17.5,
          100,
          200,
          30,
          35,
          22.5,
          75,
          37.5,
          15,
          20,
          20,
          40,
          45,
          40,
          25,
          20,
          45,
          25,
          55,
          35,
          70,
          55,
          52.5,
          30,
          140,
          35,
          50,
          35,
          22.5,
          35,
          30,
          27.5,
          55,
          22.5,
          35,
          35,
          45,
          60,
          45,
          55,
          35,
          30,
          50,
          55,
          15,
          45,
          80,
          40,
          50,
          60,
          35,
          80,
          55,
          17.5,
          20,
          57.5,
          35,
          85,
          90,
          60,
          40,
          35,
          35,
          35,
          35,
          17.5,
          40,
          35,
          55,
          75,
          55,
          30,
          40,
          30,
          10,
          30,
          20,
          20,
          30,
          17.5,
          15,
          17.5,
          10,
          20,
          85,
          77.5,
          90,
          25,
          60,
          32.5,
          80,
          60,
          62.5,
          35,
          70,
          15,
          30,
          30,
          40,
          70,
          35,
          27.5,
          67.5,
          80,
          62.5,
          52.5,
          70,
          20,
          50,
          25,
          35,
          60,
          35,
          60,
          70,
          55,
          12.5,
          15,
          25,
          20,
          50,
          25,
          15,
          20,
          35,
          17.5,
          50,
          50,
          40,
          45,
          30,
          20,
          42.5,
          20,
          35,
          30,
          22.5,
          40,
          20,
          50,
          35,
          60,
          50,
          55,
          35,
          15,
          15,
          15,
          30,
          50,
          40,
          22.5,
          75,
          15,
          30,
          15,
          15,
          30,
          10,
          30,
          20,
          17.5,
          20,
          65,
          55,
          30,
          20,
          20,
          35,
          25,
          10,
          35,
          60,
          55,
          40,
          35,
          100,
          40,
          50,
          50,
          50,
          50,
          40,
          105,
          95,
          70,
          10,
          110,
          110,
          20,
          20,
          55,
          65,
          35,
          32.5,
          7.5,
          25,
          40,
          17.5,
          30,
          7.5,
          40,
          30,
          27.5,
          40,
          25,
          27.5,
          12.5,
          20,
          40,
          10,
          20,
          15,
          17.5,
          20,
          25,
          30,
          20,
          50,
          40,
          20,
          12.5,
          20,
          35,
          10,
          15,
          25,
          22.5,
          35,
          55,
          17.5,
          125,
          30,
          60,
          45,
          20,
          25,
          30,
          100,
          30,
          15,
          37.5,
          40,
          30,
          30,
          55,
          30,
          20,
          40,
          42.5,
          15,
          20,
          30,
          30,
          15,
          35,
          45,
          45,
          45,
          45,
          20,
          20,
          15,
          25,
          20,
          45,
          60,
          55,
          35,
          60,
          100,
          70,
          10,
          50,
          40,
          40,
          35,
          30,
          20,
          50,
          70,
          30,
          30,
          50,
          40,
          30,
          30,
          90,
          20,
          40,
          12.5,
          10,
          25,
          20,
          50,
          15,
          15,
          50,
          90,
          90,
          50,
          20,
          40,
          50,
          20,
          35,
          35,
          30,
          30,
          25,
          15,
          20,
          20,
          25,
          20,
          10,
          15,
          20,
          20,
          20,
          7.5,
          7.5,
          55,
          20,
          50,
          25,
          50,
          22.5,
          20,
          20,
          75,
          45,
          55,
          30,
          20,
          20,
          25,
          25,
          65,
          20,
          20,
          55,
          100,
          100,
          70,
          70,
          70,
          55,
          47.5,
          85,
          30,
          30,
          20,
          15,
          15,
          20,
          120,
          120,
          25,
          60,
          40,
          30,
          45,
          30,
          55,
          20,
          40,
          30,
          30,
          40,
          20,
          50,
          40,
          20,
          20,
          30,
          30,
          55,
          55,
          40,
          40,
          55,
          40,
          40,
          20,
          20,
          30,
          30,
          25,
          20,
          20,
          25,
          25,
          45,
          72.5,
          67.5,
          67.5,
          65,
          65,
          50,
          10,
          10,
          20,
          40,
          10,
          40,
          45,
          80,
          20,
          40,
          30,
          90,
          40,
          40,
          40,
          45,
          45,
          55,
          55,
          55,
          55,
          55,
          80,
          80,
          80,
          80,
          80,
          20,
          35,
          35,
          35,
          35,
          45,
          30,
          30,
          30,
          45,
          30,
          30,
          20,
          20,
          45,
          20,
          30,
          30,
          45,
          45,
          45,
          45,
          10,
          35,
          45,
          35,
          35,
          45,
          80,
          70,
          80,
          90,
          70,
          45,
          70,
          70,
          50,
          70,
          35,
          20,
          45,
          70,
          45,
          60,
          60,
          20,
          25,
          25,
          45,
          45,
          45,
          45,
          50,
          50,
          50,
          10,
          10,
          10,
          10,
          10,
          10,
          10,
          40,
          35,
          40,
          30,
          30,
          50,
          15,
          15,
          40,
          20,
          75,
          75,
          50,
          50,
          75,
          35,
          30,
          40,
          30,
          40,
          25,
          40,
          60,
          50,
          40,
          70,
          70,
          40,
          40,
          40,
          35,
          30,
          22.5,
          27.5,
          60,
          100,
          30,
          30,
          55,
          55,
          45,
          25,
          25,
          25,
          20,
          20,
          30,
          30,
          30,
          20,
          20,
          30,
          30,
          10,
          20,
          30,
          40,
          80,
          80,
          10,
          80,
          30,
          50,
          50,
          30,
          10,
          15,
          15,
          20,
          15,
          22.5,
          25,
          10,
          20,
          35,
          10,
          12.5,
          12.5,
          12.5,
          15,
          15,
          15,
          20,
          20,
          10,
          35,
          35,
          45,
          45,
          10,
          10,
          10,
          10,
          20,
          15,
          25,
          20,
          20,
          35,
          30,
          20,
          30,
          20,
          20,
          20,
          30,
          30,
          20,
          20,
          20,
          40,
          20,
          15,
          20,
          50,
          20,
          30,
          30,
          60,
          40,
          15,
          15,
          15,
          7.5,
          7.5,
          15,
          20,
          20,
          7.5,
          20,
          40,
          15,
          15,
          15,
          15,
          15,
          15,
          20,
          17.5,
          17.5,
          15,
          15,
          15,
          15,
          20,
          50,
          30,
          30,
          20,
          20,
          25,
          30,
          40,
          10,
          30,
          30,
          15,
          45,
          45,
          45,
          45,
          20,
          25,
          25,
          25,
          30,
          20,
          20,
          30,
          17.5,
          25,
          30,
          30,
          30,
          30,
          35,
          35,
          35,
          20,
          60,
          60,
          15,
          15,
          12.5,
          7.5,
          12.5,
          12.5,
          15,
          5
         ],
         "xaxis": "x",
         "y": [
          35,
          0,
          0,
          155,
          52,
          535,
          0,
          280,
          0,
          36,
          143,
          30,
          70,
          0,
          25,
          52,
          0,
          0,
          292,
          0,
          0,
          0,
          550,
          90,
          307,
          1115,
          701,
          533,
          15,
          21,
          6,
          52,
          37,
          0,
          0,
          528,
          302,
          60,
          9,
          309,
          0,
          0,
          0,
          0,
          177,
          240,
          0,
          0,
          4,
          0,
          0,
          0,
          0,
          0,
          0,
          75,
          16,
          23,
          33,
          87,
          0,
          37,
          91,
          122,
          43,
          10,
          13,
          0,
          4,
          24,
          57,
          170,
          62,
          0,
          24,
          175,
          240,
          260,
          50,
          200,
          274,
          264,
          36,
          885,
          83,
          385,
          101,
          86,
          110,
          198,
          46,
          0,
          0,
          149,
          38,
          80,
          0,
          6,
          82,
          67,
          67,
          0,
          71,
          437,
          212,
          160,
          0,
          48,
          23,
          38,
          12,
          20,
          64,
          0,
          25,
          5,
          105,
          15,
          467,
          118,
          55,
          69,
          116,
          90,
          1124,
          50,
          536,
          802,
          1140,
          57,
          6,
          375,
          15,
          325,
          0,
          87,
          745,
          75,
          53,
          556,
          31,
          309,
          300,
          0,
          103,
          0,
          25,
          1099,
          21,
          577,
          0,
          0,
          0,
          0,
          0,
          0,
          0,
          0,
          0,
          0,
          0,
          0,
          0,
          0,
          0,
          0,
          0,
          0,
          0,
          0,
          0,
          0,
          0,
          0,
          0,
          0,
          0,
          0,
          0,
          0,
          65,
          44,
          22,
          0,
          0,
          0,
          50,
          0,
          0,
          0,
          0,
          0,
          338,
          172,
          50,
          175,
          0,
          230,
          0,
          0,
          0,
          0,
          0,
          0,
          0,
          0,
          0,
          0,
          0,
          0,
          0,
          0,
          0,
          0,
          0,
          0,
          0,
          0,
          0,
          0,
          0,
          0,
          0,
          21,
          0,
          0,
          0,
          0,
          0,
          0,
          0,
          0,
          0,
          0,
          0,
          0,
          0,
          0,
          0,
          0,
          0,
          0,
          0,
          0,
          0,
          32,
          109,
          0,
          0,
          0,
          132,
          0,
          0,
          0,
          0,
          0,
          0,
          0,
          0,
          0,
          4,
          0,
          0,
          105,
          0,
          24,
          275,
          0,
          641,
          0,
          0,
          0,
          0,
          0,
          0,
          0,
          0,
          0,
          774,
          0,
          0,
          0,
          50,
          386,
          0,
          0,
          0,
          1185,
          0,
          191,
          392,
          0,
          0,
          60,
          0,
          0,
          0,
          0,
          0,
          3762,
          0,
          0,
          178,
          0,
          323,
          0,
          0,
          0,
          0,
          0,
          0,
          0,
          2761,
          0,
          0,
          0,
          0,
          0,
          0,
          0,
          0,
          0,
          0,
          0,
          0,
          0,
          0,
          0,
          170,
          0,
          0,
          0,
          0,
          0,
          0,
          0,
          0,
          0,
          0,
          0,
          0,
          0,
          0,
          0,
          0,
          118,
          326,
          1711,
          0,
          10,
          0,
          0,
          4,
          0,
          114,
          40,
          0,
          0,
          0,
          364,
          0,
          200,
          0,
          0,
          0,
          0,
          0,
          0,
          20,
          0,
          0,
          0,
          0,
          0,
          0,
          0,
          0,
          0,
          0,
          0,
          0,
          0,
          0,
          0,
          0,
          3,
          0,
          0,
          0,
          0,
          0,
          0,
          0,
          0,
          248,
          0,
          49,
          0,
          0,
          0,
          0,
          172,
          545,
          0,
          0,
          0,
          0,
          0,
          22,
          0,
          0,
          0,
          0,
          0,
          0,
          0,
          25,
          0,
          0,
          0,
          141,
          0,
          0,
          0,
          0,
          0,
          0,
          333,
          392,
          0,
          0,
          0,
          0,
          0,
          0,
          0,
          30,
          0,
          0,
          0,
          0,
          50,
          0,
          0,
          0,
          0,
          0,
          0,
          0,
          0,
          0,
          0,
          0,
          0,
          0,
          0,
          0,
          0,
          0,
          0,
          0,
          0,
          0,
          0,
          0,
          0,
          0,
          0,
          0,
          0,
          0,
          0,
          0,
          0,
          0,
          0,
          0,
          5,
          0,
          0,
          0,
          0,
          0,
          0,
          0,
          0,
          6,
          19,
          0,
          37,
          58,
          0,
          41,
          248,
          0,
          0,
          0,
          0,
          0,
          0,
          0,
          0,
          0,
          0,
          0,
          0,
          0,
          0,
          0,
          0,
          0,
          0,
          0,
          0,
          0,
          0,
          0,
          0,
          0,
          0,
          0,
          0,
          0,
          0,
          0,
          0,
          0,
          0,
          0,
          0,
          0,
          0,
          0,
          0,
          0,
          0,
          0,
          0,
          0,
          0,
          0,
          0,
          0,
          0,
          0,
          0,
          0,
          0,
          0,
          0,
          0,
          0,
          0,
          0,
          0,
          0,
          0,
          0,
          0,
          0,
          0,
          0,
          0,
          0,
          0,
          0,
          0,
          0,
          0,
          0,
          0,
          0,
          0,
          0,
          0,
          0,
          0,
          0,
          0,
          0,
          0,
          0,
          0,
          0,
          0,
          0,
          0,
          0,
          0,
          0,
          0,
          0,
          0,
          0,
          0,
          0,
          0,
          0,
          0,
          0,
          300,
          0,
          0,
          0,
          0,
          0,
          0,
          0,
          0,
          0,
          0,
          0,
          0,
          0,
          0,
          0,
          0,
          0,
          0,
          0,
          0,
          0,
          0,
          0,
          0,
          0,
          0,
          0,
          0,
          0,
          0,
          0,
          0,
          0,
          0,
          0,
          0,
          0,
          0,
          0,
          0,
          0,
          0,
          0,
          0,
          0,
          0,
          0,
          0,
          0,
          0,
          45,
          0,
          0,
          0,
          0,
          0,
          0,
          0,
          0,
          0,
          5,
          8,
          9,
          9,
          7,
          17,
          19,
          5,
          39,
          25,
          6,
          12,
          7,
          8,
          9,
          15,
          10,
          9,
          6,
          9,
          12,
          8,
          9,
          5,
          12,
          6,
          9,
          7,
          14,
          16,
          17,
          15,
          0,
          2,
          3,
          7,
          7,
          5,
          7,
          5,
          4,
          15,
          6,
          7,
          8,
          7,
          3,
          12,
          5,
          5,
          5,
          10,
          6,
          5,
          3,
          0,
          2,
          0,
          0,
          0,
          0,
          0,
          14,
          3,
          0,
          31,
          12,
          24,
          30,
          16,
          0,
          0,
          0,
          0,
          0,
          0,
          0,
          0,
          0,
          0,
          0,
          0,
          0,
          0,
          0,
          0,
          0,
          128,
          77,
          23,
          45,
          35,
          35,
          25,
          50,
          50,
          60,
          98,
          38,
          7,
          12,
          65,
          60,
          80,
          56,
          11,
          0,
          0,
          0,
          0,
          0,
          0,
          0,
          0,
          0,
          0,
          0,
          0,
          0,
          0,
          0,
          0,
          0,
          0,
          0,
          0,
          0,
          0,
          0,
          0,
          0,
          0,
          0,
          0,
          0,
          0,
          0,
          0,
          0,
          0,
          0,
          0,
          0,
          0,
          0,
          0,
          0,
          0,
          0,
          0,
          0,
          0,
          0,
          0,
          0,
          0,
          0,
          0,
          0,
          0,
          0,
          0,
          0,
          0,
          0,
          0,
          0,
          0,
          0,
          0,
          0,
          0,
          0,
          0,
          0,
          0,
          0,
          0,
          0,
          0,
          0,
          0,
          0,
          0,
          0,
          0,
          0,
          0,
          0,
          0,
          0,
          0,
          0,
          0,
          0,
          0,
          0,
          0,
          0,
          0,
          0,
          0,
          0,
          0,
          0,
          0,
          0,
          0,
          0,
          0,
          0,
          0,
          0,
          0,
          0,
          0,
          0,
          0,
          0,
          0,
          0,
          0,
          0,
          0,
          25,
          20,
          0,
          30,
          0,
          17,
          19,
          39,
          25,
          12,
          7,
          8,
          9,
          15,
          7,
          6,
          12,
          3,
          7,
          14,
          16,
          17,
          15,
          0,
          0,
          0,
          2,
          0,
          0,
          0,
          0,
          0,
          0,
          0,
          0,
          0,
          0
         ],
         "yaxis": "y"
        }
       ],
       "layout": {
        "coloraxis": {
         "colorbar": {
          "title": {
           "text": "cluster"
          }
         },
         "colorscale": [
          [
           0,
           "#0d0887"
          ],
          [
           0.1111111111111111,
           "#46039f"
          ],
          [
           0.2222222222222222,
           "#7201a8"
          ],
          [
           0.3333333333333333,
           "#9c179e"
          ],
          [
           0.4444444444444444,
           "#bd3786"
          ],
          [
           0.5555555555555556,
           "#d8576b"
          ],
          [
           0.6666666666666666,
           "#ed7953"
          ],
          [
           0.7777777777777778,
           "#fb9f3a"
          ],
          [
           0.8888888888888888,
           "#fdca26"
          ],
          [
           1,
           "#f0f921"
          ]
         ]
        },
        "legend": {
         "tracegroupgap": 0
        },
        "template": {
         "data": {
          "bar": [
           {
            "error_x": {
             "color": "#f2f5fa"
            },
            "error_y": {
             "color": "#f2f5fa"
            },
            "marker": {
             "line": {
              "color": "rgb(17,17,17)",
              "width": 0.5
             },
             "pattern": {
              "fillmode": "overlay",
              "size": 10,
              "solidity": 0.2
             }
            },
            "type": "bar"
           }
          ],
          "barpolar": [
           {
            "marker": {
             "line": {
              "color": "rgb(17,17,17)",
              "width": 0.5
             },
             "pattern": {
              "fillmode": "overlay",
              "size": 10,
              "solidity": 0.2
             }
            },
            "type": "barpolar"
           }
          ],
          "carpet": [
           {
            "aaxis": {
             "endlinecolor": "#A2B1C6",
             "gridcolor": "#506784",
             "linecolor": "#506784",
             "minorgridcolor": "#506784",
             "startlinecolor": "#A2B1C6"
            },
            "baxis": {
             "endlinecolor": "#A2B1C6",
             "gridcolor": "#506784",
             "linecolor": "#506784",
             "minorgridcolor": "#506784",
             "startlinecolor": "#A2B1C6"
            },
            "type": "carpet"
           }
          ],
          "choropleth": [
           {
            "colorbar": {
             "outlinewidth": 0,
             "ticks": ""
            },
            "type": "choropleth"
           }
          ],
          "contour": [
           {
            "colorbar": {
             "outlinewidth": 0,
             "ticks": ""
            },
            "colorscale": [
             [
              0,
              "#0d0887"
             ],
             [
              0.1111111111111111,
              "#46039f"
             ],
             [
              0.2222222222222222,
              "#7201a8"
             ],
             [
              0.3333333333333333,
              "#9c179e"
             ],
             [
              0.4444444444444444,
              "#bd3786"
             ],
             [
              0.5555555555555556,
              "#d8576b"
             ],
             [
              0.6666666666666666,
              "#ed7953"
             ],
             [
              0.7777777777777778,
              "#fb9f3a"
             ],
             [
              0.8888888888888888,
              "#fdca26"
             ],
             [
              1,
              "#f0f921"
             ]
            ],
            "type": "contour"
           }
          ],
          "contourcarpet": [
           {
            "colorbar": {
             "outlinewidth": 0,
             "ticks": ""
            },
            "type": "contourcarpet"
           }
          ],
          "heatmap": [
           {
            "colorbar": {
             "outlinewidth": 0,
             "ticks": ""
            },
            "colorscale": [
             [
              0,
              "#0d0887"
             ],
             [
              0.1111111111111111,
              "#46039f"
             ],
             [
              0.2222222222222222,
              "#7201a8"
             ],
             [
              0.3333333333333333,
              "#9c179e"
             ],
             [
              0.4444444444444444,
              "#bd3786"
             ],
             [
              0.5555555555555556,
              "#d8576b"
             ],
             [
              0.6666666666666666,
              "#ed7953"
             ],
             [
              0.7777777777777778,
              "#fb9f3a"
             ],
             [
              0.8888888888888888,
              "#fdca26"
             ],
             [
              1,
              "#f0f921"
             ]
            ],
            "type": "heatmap"
           }
          ],
          "heatmapgl": [
           {
            "colorbar": {
             "outlinewidth": 0,
             "ticks": ""
            },
            "colorscale": [
             [
              0,
              "#0d0887"
             ],
             [
              0.1111111111111111,
              "#46039f"
             ],
             [
              0.2222222222222222,
              "#7201a8"
             ],
             [
              0.3333333333333333,
              "#9c179e"
             ],
             [
              0.4444444444444444,
              "#bd3786"
             ],
             [
              0.5555555555555556,
              "#d8576b"
             ],
             [
              0.6666666666666666,
              "#ed7953"
             ],
             [
              0.7777777777777778,
              "#fb9f3a"
             ],
             [
              0.8888888888888888,
              "#fdca26"
             ],
             [
              1,
              "#f0f921"
             ]
            ],
            "type": "heatmapgl"
           }
          ],
          "histogram": [
           {
            "marker": {
             "pattern": {
              "fillmode": "overlay",
              "size": 10,
              "solidity": 0.2
             }
            },
            "type": "histogram"
           }
          ],
          "histogram2d": [
           {
            "colorbar": {
             "outlinewidth": 0,
             "ticks": ""
            },
            "colorscale": [
             [
              0,
              "#0d0887"
             ],
             [
              0.1111111111111111,
              "#46039f"
             ],
             [
              0.2222222222222222,
              "#7201a8"
             ],
             [
              0.3333333333333333,
              "#9c179e"
             ],
             [
              0.4444444444444444,
              "#bd3786"
             ],
             [
              0.5555555555555556,
              "#d8576b"
             ],
             [
              0.6666666666666666,
              "#ed7953"
             ],
             [
              0.7777777777777778,
              "#fb9f3a"
             ],
             [
              0.8888888888888888,
              "#fdca26"
             ],
             [
              1,
              "#f0f921"
             ]
            ],
            "type": "histogram2d"
           }
          ],
          "histogram2dcontour": [
           {
            "colorbar": {
             "outlinewidth": 0,
             "ticks": ""
            },
            "colorscale": [
             [
              0,
              "#0d0887"
             ],
             [
              0.1111111111111111,
              "#46039f"
             ],
             [
              0.2222222222222222,
              "#7201a8"
             ],
             [
              0.3333333333333333,
              "#9c179e"
             ],
             [
              0.4444444444444444,
              "#bd3786"
             ],
             [
              0.5555555555555556,
              "#d8576b"
             ],
             [
              0.6666666666666666,
              "#ed7953"
             ],
             [
              0.7777777777777778,
              "#fb9f3a"
             ],
             [
              0.8888888888888888,
              "#fdca26"
             ],
             [
              1,
              "#f0f921"
             ]
            ],
            "type": "histogram2dcontour"
           }
          ],
          "mesh3d": [
           {
            "colorbar": {
             "outlinewidth": 0,
             "ticks": ""
            },
            "type": "mesh3d"
           }
          ],
          "parcoords": [
           {
            "line": {
             "colorbar": {
              "outlinewidth": 0,
              "ticks": ""
             }
            },
            "type": "parcoords"
           }
          ],
          "pie": [
           {
            "automargin": true,
            "type": "pie"
           }
          ],
          "scatter": [
           {
            "marker": {
             "line": {
              "color": "#283442"
             }
            },
            "type": "scatter"
           }
          ],
          "scatter3d": [
           {
            "line": {
             "colorbar": {
              "outlinewidth": 0,
              "ticks": ""
             }
            },
            "marker": {
             "colorbar": {
              "outlinewidth": 0,
              "ticks": ""
             }
            },
            "type": "scatter3d"
           }
          ],
          "scattercarpet": [
           {
            "marker": {
             "colorbar": {
              "outlinewidth": 0,
              "ticks": ""
             }
            },
            "type": "scattercarpet"
           }
          ],
          "scattergeo": [
           {
            "marker": {
             "colorbar": {
              "outlinewidth": 0,
              "ticks": ""
             }
            },
            "type": "scattergeo"
           }
          ],
          "scattergl": [
           {
            "marker": {
             "line": {
              "color": "#283442"
             }
            },
            "type": "scattergl"
           }
          ],
          "scattermapbox": [
           {
            "marker": {
             "colorbar": {
              "outlinewidth": 0,
              "ticks": ""
             }
            },
            "type": "scattermapbox"
           }
          ],
          "scatterpolar": [
           {
            "marker": {
             "colorbar": {
              "outlinewidth": 0,
              "ticks": ""
             }
            },
            "type": "scatterpolar"
           }
          ],
          "scatterpolargl": [
           {
            "marker": {
             "colorbar": {
              "outlinewidth": 0,
              "ticks": ""
             }
            },
            "type": "scatterpolargl"
           }
          ],
          "scatterternary": [
           {
            "marker": {
             "colorbar": {
              "outlinewidth": 0,
              "ticks": ""
             }
            },
            "type": "scatterternary"
           }
          ],
          "surface": [
           {
            "colorbar": {
             "outlinewidth": 0,
             "ticks": ""
            },
            "colorscale": [
             [
              0,
              "#0d0887"
             ],
             [
              0.1111111111111111,
              "#46039f"
             ],
             [
              0.2222222222222222,
              "#7201a8"
             ],
             [
              0.3333333333333333,
              "#9c179e"
             ],
             [
              0.4444444444444444,
              "#bd3786"
             ],
             [
              0.5555555555555556,
              "#d8576b"
             ],
             [
              0.6666666666666666,
              "#ed7953"
             ],
             [
              0.7777777777777778,
              "#fb9f3a"
             ],
             [
              0.8888888888888888,
              "#fdca26"
             ],
             [
              1,
              "#f0f921"
             ]
            ],
            "type": "surface"
           }
          ],
          "table": [
           {
            "cells": {
             "fill": {
              "color": "#506784"
             },
             "line": {
              "color": "rgb(17,17,17)"
             }
            },
            "header": {
             "fill": {
              "color": "#2a3f5f"
             },
             "line": {
              "color": "rgb(17,17,17)"
             }
            },
            "type": "table"
           }
          ]
         },
         "layout": {
          "annotationdefaults": {
           "arrowcolor": "#f2f5fa",
           "arrowhead": 0,
           "arrowwidth": 1
          },
          "autotypenumbers": "strict",
          "coloraxis": {
           "colorbar": {
            "outlinewidth": 0,
            "ticks": ""
           }
          },
          "colorscale": {
           "diverging": [
            [
             0,
             "#8e0152"
            ],
            [
             0.1,
             "#c51b7d"
            ],
            [
             0.2,
             "#de77ae"
            ],
            [
             0.3,
             "#f1b6da"
            ],
            [
             0.4,
             "#fde0ef"
            ],
            [
             0.5,
             "#f7f7f7"
            ],
            [
             0.6,
             "#e6f5d0"
            ],
            [
             0.7,
             "#b8e186"
            ],
            [
             0.8,
             "#7fbc41"
            ],
            [
             0.9,
             "#4d9221"
            ],
            [
             1,
             "#276419"
            ]
           ],
           "sequential": [
            [
             0,
             "#0d0887"
            ],
            [
             0.1111111111111111,
             "#46039f"
            ],
            [
             0.2222222222222222,
             "#7201a8"
            ],
            [
             0.3333333333333333,
             "#9c179e"
            ],
            [
             0.4444444444444444,
             "#bd3786"
            ],
            [
             0.5555555555555556,
             "#d8576b"
            ],
            [
             0.6666666666666666,
             "#ed7953"
            ],
            [
             0.7777777777777778,
             "#fb9f3a"
            ],
            [
             0.8888888888888888,
             "#fdca26"
            ],
            [
             1,
             "#f0f921"
            ]
           ],
           "sequentialminus": [
            [
             0,
             "#0d0887"
            ],
            [
             0.1111111111111111,
             "#46039f"
            ],
            [
             0.2222222222222222,
             "#7201a8"
            ],
            [
             0.3333333333333333,
             "#9c179e"
            ],
            [
             0.4444444444444444,
             "#bd3786"
            ],
            [
             0.5555555555555556,
             "#d8576b"
            ],
            [
             0.6666666666666666,
             "#ed7953"
            ],
            [
             0.7777777777777778,
             "#fb9f3a"
            ],
            [
             0.8888888888888888,
             "#fdca26"
            ],
            [
             1,
             "#f0f921"
            ]
           ]
          },
          "colorway": [
           "#636efa",
           "#EF553B",
           "#00cc96",
           "#ab63fa",
           "#FFA15A",
           "#19d3f3",
           "#FF6692",
           "#B6E880",
           "#FF97FF",
           "#FECB52"
          ],
          "font": {
           "color": "#f2f5fa"
          },
          "geo": {
           "bgcolor": "rgb(17,17,17)",
           "lakecolor": "rgb(17,17,17)",
           "landcolor": "rgb(17,17,17)",
           "showlakes": true,
           "showland": true,
           "subunitcolor": "#506784"
          },
          "hoverlabel": {
           "align": "left"
          },
          "hovermode": "closest",
          "mapbox": {
           "style": "dark"
          },
          "paper_bgcolor": "rgb(17,17,17)",
          "plot_bgcolor": "rgb(17,17,17)",
          "polar": {
           "angularaxis": {
            "gridcolor": "#506784",
            "linecolor": "#506784",
            "ticks": ""
           },
           "bgcolor": "rgb(17,17,17)",
           "radialaxis": {
            "gridcolor": "#506784",
            "linecolor": "#506784",
            "ticks": ""
           }
          },
          "scene": {
           "xaxis": {
            "backgroundcolor": "rgb(17,17,17)",
            "gridcolor": "#506784",
            "gridwidth": 2,
            "linecolor": "#506784",
            "showbackground": true,
            "ticks": "",
            "zerolinecolor": "#C8D4E3"
           },
           "yaxis": {
            "backgroundcolor": "rgb(17,17,17)",
            "gridcolor": "#506784",
            "gridwidth": 2,
            "linecolor": "#506784",
            "showbackground": true,
            "ticks": "",
            "zerolinecolor": "#C8D4E3"
           },
           "zaxis": {
            "backgroundcolor": "rgb(17,17,17)",
            "gridcolor": "#506784",
            "gridwidth": 2,
            "linecolor": "#506784",
            "showbackground": true,
            "ticks": "",
            "zerolinecolor": "#C8D4E3"
           }
          },
          "shapedefaults": {
           "line": {
            "color": "#f2f5fa"
           }
          },
          "sliderdefaults": {
           "bgcolor": "#C8D4E3",
           "bordercolor": "rgb(17,17,17)",
           "borderwidth": 1,
           "tickwidth": 0
          },
          "ternary": {
           "aaxis": {
            "gridcolor": "#506784",
            "linecolor": "#506784",
            "ticks": ""
           },
           "baxis": {
            "gridcolor": "#506784",
            "linecolor": "#506784",
            "ticks": ""
           },
           "bgcolor": "rgb(17,17,17)",
           "caxis": {
            "gridcolor": "#506784",
            "linecolor": "#506784",
            "ticks": ""
           }
          },
          "title": {
           "x": 0.05
          },
          "updatemenudefaults": {
           "bgcolor": "#506784",
           "borderwidth": 0
          },
          "xaxis": {
           "automargin": true,
           "gridcolor": "#283442",
           "linecolor": "#506784",
           "ticks": "",
           "title": {
            "standoff": 15
           },
           "zerolinecolor": "#283442",
           "zerolinewidth": 2
          },
          "yaxis": {
           "automargin": true,
           "gridcolor": "#283442",
           "linecolor": "#506784",
           "ticks": "",
           "title": {
            "standoff": 15
           },
           "zerolinecolor": "#283442",
           "zerolinewidth": 2
          }
         }
        },
        "title": {
         "text": "Kluster"
        },
        "xaxis": {
         "anchor": "y",
         "domain": [
          0,
          1
         ],
         "title": {
          "text": "ketinggian_air_num"
         }
        },
        "yaxis": {
         "anchor": "x",
         "domain": [
          0,
          1
         ],
         "title": {
          "text": "jumlah_terdampak_kk"
         }
        }
       }
      }
     },
     "metadata": {},
     "output_type": "display_data"
    }
   ],
   "source": [
    "# Pilih fitur yang akan digunakan untuk klustering\n",
    "features = ['ketinggian_air_num', 'jumlah_terdampak_kk', 'lama_genangan']\n",
    "\n",
    "# Normalisasi data jika diperlukan\n",
    "# data[features] = (data[features] - data[features].mean()) / data[features].std()\n",
    "\n",
    "kmeans = KMeans(n_clusters=3, random_state=42, n_init=10)\n",
    "merged_df['cluster'] = kmeans.fit_predict(merged_df[features])\n",
    "\n",
    "# Buat scatter plot \n",
    "fig = px.scatter(merged_df, x='ketinggian_air_num', y='jumlah_terdampak_kk', color='cluster', \n",
    "                 title='Kluster')\n",
    "\n",
    "fig.update_layout(template='plotly_dark')\n",
    "\n",
    "fig.show()"
   ]
  },
  {
   "cell_type": "code",
   "execution_count": 284,
   "metadata": {},
   "outputs": [
    {
     "data": {
      "text/html": [
       "<div>\n",
       "<style scoped>\n",
       "    .dataframe tbody tr th:only-of-type {\n",
       "        vertical-align: middle;\n",
       "    }\n",
       "\n",
       "    .dataframe tbody tr th {\n",
       "        vertical-align: top;\n",
       "    }\n",
       "\n",
       "    .dataframe thead th {\n",
       "        text-align: right;\n",
       "    }\n",
       "</style>\n",
       "<table border=\"1\" class=\"dataframe\">\n",
       "  <thead>\n",
       "    <tr style=\"text-align: right;\">\n",
       "      <th></th>\n",
       "      <th>kota_administrasi</th>\n",
       "      <th>cluster</th>\n",
       "    </tr>\n",
       "  </thead>\n",
       "  <tbody>\n",
       "    <tr>\n",
       "      <th>0</th>\n",
       "      <td>Jakarta Pusat</td>\n",
       "      <td>0</td>\n",
       "    </tr>\n",
       "    <tr>\n",
       "      <th>1</th>\n",
       "      <td>Jakarta Pusat</td>\n",
       "      <td>0</td>\n",
       "    </tr>\n",
       "    <tr>\n",
       "      <th>2</th>\n",
       "      <td>Jakarta Pusat</td>\n",
       "      <td>0</td>\n",
       "    </tr>\n",
       "    <tr>\n",
       "      <th>3</th>\n",
       "      <td>Jakarta Pusat</td>\n",
       "      <td>0</td>\n",
       "    </tr>\n",
       "    <tr>\n",
       "      <th>4</th>\n",
       "      <td>Jakarta Pusat</td>\n",
       "      <td>0</td>\n",
       "    </tr>\n",
       "    <tr>\n",
       "      <th>...</th>\n",
       "      <td>...</td>\n",
       "      <td>...</td>\n",
       "    </tr>\n",
       "    <tr>\n",
       "      <th>1000</th>\n",
       "      <td>Kepulauan Seribu</td>\n",
       "      <td>0</td>\n",
       "    </tr>\n",
       "    <tr>\n",
       "      <th>1001</th>\n",
       "      <td>Kepulauan Seribu</td>\n",
       "      <td>0</td>\n",
       "    </tr>\n",
       "    <tr>\n",
       "      <th>1002</th>\n",
       "      <td>Kepulauan Seribu</td>\n",
       "      <td>0</td>\n",
       "    </tr>\n",
       "    <tr>\n",
       "      <th>1003</th>\n",
       "      <td>Kepulauan Seribu</td>\n",
       "      <td>0</td>\n",
       "    </tr>\n",
       "    <tr>\n",
       "      <th>1004</th>\n",
       "      <td>Kepulauan Seribu</td>\n",
       "      <td>0</td>\n",
       "    </tr>\n",
       "  </tbody>\n",
       "</table>\n",
       "<p>922 rows × 2 columns</p>\n",
       "</div>"
      ],
      "text/plain": [
       "     kota_administrasi  cluster\n",
       "0        Jakarta Pusat        0\n",
       "1        Jakarta Pusat        0\n",
       "2        Jakarta Pusat        0\n",
       "3        Jakarta Pusat        0\n",
       "4        Jakarta Pusat        0\n",
       "...                ...      ...\n",
       "1000  Kepulauan Seribu        0\n",
       "1001  Kepulauan Seribu        0\n",
       "1002  Kepulauan Seribu        0\n",
       "1003  Kepulauan Seribu        0\n",
       "1004  Kepulauan Seribu        0\n",
       "\n",
       "[922 rows x 2 columns]"
      ]
     },
     "execution_count": 284,
     "metadata": {},
     "output_type": "execute_result"
    }
   ],
   "source": [
    "merged_df[['kota_administrasi', 'cluster']]"
   ]
  },
  {
   "attachments": {},
   "cell_type": "markdown",
   "metadata": {},
   "source": [
    "**Clustering Kota Administrasi**"
   ]
  },
  {
   "cell_type": "code",
   "execution_count": 285,
   "metadata": {},
   "outputs": [
    {
     "data": {
      "text/html": [
       "<div>\n",
       "<style scoped>\n",
       "    .dataframe tbody tr th:only-of-type {\n",
       "        vertical-align: middle;\n",
       "    }\n",
       "\n",
       "    .dataframe tbody tr th {\n",
       "        vertical-align: top;\n",
       "    }\n",
       "\n",
       "    .dataframe thead th {\n",
       "        text-align: right;\n",
       "    }\n",
       "</style>\n",
       "<table border=\"1\" class=\"dataframe\">\n",
       "  <thead>\n",
       "    <tr style=\"text-align: right;\">\n",
       "      <th></th>\n",
       "      <th>ketinggian_air_num</th>\n",
       "      <th>jumlah_terdampak_jiwa</th>\n",
       "      <th>lama_genangan</th>\n",
       "    </tr>\n",
       "    <tr>\n",
       "      <th>kota_administrasi</th>\n",
       "      <th></th>\n",
       "      <th></th>\n",
       "      <th></th>\n",
       "    </tr>\n",
       "  </thead>\n",
       "  <tbody>\n",
       "    <tr>\n",
       "      <th>Jakarta Barat</th>\n",
       "      <td>37.000000</td>\n",
       "      <td>113.458101</td>\n",
       "      <td>0.033520</td>\n",
       "    </tr>\n",
       "    <tr>\n",
       "      <th>Jakarta Pusat</th>\n",
       "      <td>34.081081</td>\n",
       "      <td>82.108108</td>\n",
       "      <td>0.108108</td>\n",
       "    </tr>\n",
       "    <tr>\n",
       "      <th>Jakarta Selatan</th>\n",
       "      <td>46.118705</td>\n",
       "      <td>92.136691</td>\n",
       "      <td>0.010791</td>\n",
       "    </tr>\n",
       "    <tr>\n",
       "      <th>Jakarta Timur</th>\n",
       "      <td>45.540816</td>\n",
       "      <td>275.180758</td>\n",
       "      <td>0.014577</td>\n",
       "    </tr>\n",
       "    <tr>\n",
       "      <th>Jakarta Utara</th>\n",
       "      <td>30.445205</td>\n",
       "      <td>108.452055</td>\n",
       "      <td>0.013699</td>\n",
       "    </tr>\n",
       "    <tr>\n",
       "      <th>Kepulauan Seribu</th>\n",
       "      <td>18.958333</td>\n",
       "      <td>0.000000</td>\n",
       "      <td>0.000000</td>\n",
       "    </tr>\n",
       "  </tbody>\n",
       "</table>\n",
       "</div>"
      ],
      "text/plain": [
       "                   ketinggian_air_num  jumlah_terdampak_jiwa  lama_genangan\n",
       "kota_administrasi                                                          \n",
       "Jakarta Barat               37.000000             113.458101       0.033520\n",
       "Jakarta Pusat               34.081081              82.108108       0.108108\n",
       "Jakarta Selatan             46.118705              92.136691       0.010791\n",
       "Jakarta Timur               45.540816             275.180758       0.014577\n",
       "Jakarta Utara               30.445205             108.452055       0.013699\n",
       "Kepulauan Seribu            18.958333               0.000000       0.000000"
      ]
     },
     "execution_count": 285,
     "metadata": {},
     "output_type": "execute_result"
    }
   ],
   "source": [
    "kota_cluster = merged_df.groupby('kota_administrasi')[['ketinggian_air_num', 'jumlah_terdampak_jiwa', 'lama_genangan']].mean()\n",
    "kota_cluster"
   ]
  },
  {
   "cell_type": "code",
   "execution_count": 286,
   "metadata": {},
   "outputs": [
    {
     "data": {
      "application/vnd.plotly.v1+json": {
       "config": {
        "plotlyServerURL": "https://plot.ly"
       },
       "data": [
        {
         "hovertemplate": "ketinggian_air_num=%{x}<br>jumlah_terdampak_jiwa=%{y}<br>cluster=%{marker.color}<extra></extra>",
         "legendgroup": "",
         "marker": {
          "color": [
           1,
           1,
           1,
           0,
           1,
           2
          ],
          "coloraxis": "coloraxis",
          "symbol": "circle"
         },
         "mode": "markers",
         "name": "",
         "orientation": "v",
         "showlegend": false,
         "type": "scatter",
         "x": [
          37,
          34.08108108108108,
          46.118705035971225,
          45.54081632653061,
          30.445205479452056,
          18.958333333333332
         ],
         "xaxis": "x",
         "y": [
          113.45810055865921,
          82.10810810810811,
          92.13669064748201,
          275.18075801749274,
          108.45205479452055,
          0
         ],
         "yaxis": "y"
        }
       ],
       "layout": {
        "coloraxis": {
         "colorbar": {
          "title": {
           "text": "cluster"
          }
         },
         "colorscale": [
          [
           0,
           "#0d0887"
          ],
          [
           0.1111111111111111,
           "#46039f"
          ],
          [
           0.2222222222222222,
           "#7201a8"
          ],
          [
           0.3333333333333333,
           "#9c179e"
          ],
          [
           0.4444444444444444,
           "#bd3786"
          ],
          [
           0.5555555555555556,
           "#d8576b"
          ],
          [
           0.6666666666666666,
           "#ed7953"
          ],
          [
           0.7777777777777778,
           "#fb9f3a"
          ],
          [
           0.8888888888888888,
           "#fdca26"
          ],
          [
           1,
           "#f0f921"
          ]
         ]
        },
        "legend": {
         "tracegroupgap": 0
        },
        "template": {
         "data": {
          "bar": [
           {
            "error_x": {
             "color": "#f2f5fa"
            },
            "error_y": {
             "color": "#f2f5fa"
            },
            "marker": {
             "line": {
              "color": "rgb(17,17,17)",
              "width": 0.5
             },
             "pattern": {
              "fillmode": "overlay",
              "size": 10,
              "solidity": 0.2
             }
            },
            "type": "bar"
           }
          ],
          "barpolar": [
           {
            "marker": {
             "line": {
              "color": "rgb(17,17,17)",
              "width": 0.5
             },
             "pattern": {
              "fillmode": "overlay",
              "size": 10,
              "solidity": 0.2
             }
            },
            "type": "barpolar"
           }
          ],
          "carpet": [
           {
            "aaxis": {
             "endlinecolor": "#A2B1C6",
             "gridcolor": "#506784",
             "linecolor": "#506784",
             "minorgridcolor": "#506784",
             "startlinecolor": "#A2B1C6"
            },
            "baxis": {
             "endlinecolor": "#A2B1C6",
             "gridcolor": "#506784",
             "linecolor": "#506784",
             "minorgridcolor": "#506784",
             "startlinecolor": "#A2B1C6"
            },
            "type": "carpet"
           }
          ],
          "choropleth": [
           {
            "colorbar": {
             "outlinewidth": 0,
             "ticks": ""
            },
            "type": "choropleth"
           }
          ],
          "contour": [
           {
            "colorbar": {
             "outlinewidth": 0,
             "ticks": ""
            },
            "colorscale": [
             [
              0,
              "#0d0887"
             ],
             [
              0.1111111111111111,
              "#46039f"
             ],
             [
              0.2222222222222222,
              "#7201a8"
             ],
             [
              0.3333333333333333,
              "#9c179e"
             ],
             [
              0.4444444444444444,
              "#bd3786"
             ],
             [
              0.5555555555555556,
              "#d8576b"
             ],
             [
              0.6666666666666666,
              "#ed7953"
             ],
             [
              0.7777777777777778,
              "#fb9f3a"
             ],
             [
              0.8888888888888888,
              "#fdca26"
             ],
             [
              1,
              "#f0f921"
             ]
            ],
            "type": "contour"
           }
          ],
          "contourcarpet": [
           {
            "colorbar": {
             "outlinewidth": 0,
             "ticks": ""
            },
            "type": "contourcarpet"
           }
          ],
          "heatmap": [
           {
            "colorbar": {
             "outlinewidth": 0,
             "ticks": ""
            },
            "colorscale": [
             [
              0,
              "#0d0887"
             ],
             [
              0.1111111111111111,
              "#46039f"
             ],
             [
              0.2222222222222222,
              "#7201a8"
             ],
             [
              0.3333333333333333,
              "#9c179e"
             ],
             [
              0.4444444444444444,
              "#bd3786"
             ],
             [
              0.5555555555555556,
              "#d8576b"
             ],
             [
              0.6666666666666666,
              "#ed7953"
             ],
             [
              0.7777777777777778,
              "#fb9f3a"
             ],
             [
              0.8888888888888888,
              "#fdca26"
             ],
             [
              1,
              "#f0f921"
             ]
            ],
            "type": "heatmap"
           }
          ],
          "heatmapgl": [
           {
            "colorbar": {
             "outlinewidth": 0,
             "ticks": ""
            },
            "colorscale": [
             [
              0,
              "#0d0887"
             ],
             [
              0.1111111111111111,
              "#46039f"
             ],
             [
              0.2222222222222222,
              "#7201a8"
             ],
             [
              0.3333333333333333,
              "#9c179e"
             ],
             [
              0.4444444444444444,
              "#bd3786"
             ],
             [
              0.5555555555555556,
              "#d8576b"
             ],
             [
              0.6666666666666666,
              "#ed7953"
             ],
             [
              0.7777777777777778,
              "#fb9f3a"
             ],
             [
              0.8888888888888888,
              "#fdca26"
             ],
             [
              1,
              "#f0f921"
             ]
            ],
            "type": "heatmapgl"
           }
          ],
          "histogram": [
           {
            "marker": {
             "pattern": {
              "fillmode": "overlay",
              "size": 10,
              "solidity": 0.2
             }
            },
            "type": "histogram"
           }
          ],
          "histogram2d": [
           {
            "colorbar": {
             "outlinewidth": 0,
             "ticks": ""
            },
            "colorscale": [
             [
              0,
              "#0d0887"
             ],
             [
              0.1111111111111111,
              "#46039f"
             ],
             [
              0.2222222222222222,
              "#7201a8"
             ],
             [
              0.3333333333333333,
              "#9c179e"
             ],
             [
              0.4444444444444444,
              "#bd3786"
             ],
             [
              0.5555555555555556,
              "#d8576b"
             ],
             [
              0.6666666666666666,
              "#ed7953"
             ],
             [
              0.7777777777777778,
              "#fb9f3a"
             ],
             [
              0.8888888888888888,
              "#fdca26"
             ],
             [
              1,
              "#f0f921"
             ]
            ],
            "type": "histogram2d"
           }
          ],
          "histogram2dcontour": [
           {
            "colorbar": {
             "outlinewidth": 0,
             "ticks": ""
            },
            "colorscale": [
             [
              0,
              "#0d0887"
             ],
             [
              0.1111111111111111,
              "#46039f"
             ],
             [
              0.2222222222222222,
              "#7201a8"
             ],
             [
              0.3333333333333333,
              "#9c179e"
             ],
             [
              0.4444444444444444,
              "#bd3786"
             ],
             [
              0.5555555555555556,
              "#d8576b"
             ],
             [
              0.6666666666666666,
              "#ed7953"
             ],
             [
              0.7777777777777778,
              "#fb9f3a"
             ],
             [
              0.8888888888888888,
              "#fdca26"
             ],
             [
              1,
              "#f0f921"
             ]
            ],
            "type": "histogram2dcontour"
           }
          ],
          "mesh3d": [
           {
            "colorbar": {
             "outlinewidth": 0,
             "ticks": ""
            },
            "type": "mesh3d"
           }
          ],
          "parcoords": [
           {
            "line": {
             "colorbar": {
              "outlinewidth": 0,
              "ticks": ""
             }
            },
            "type": "parcoords"
           }
          ],
          "pie": [
           {
            "automargin": true,
            "type": "pie"
           }
          ],
          "scatter": [
           {
            "marker": {
             "line": {
              "color": "#283442"
             }
            },
            "type": "scatter"
           }
          ],
          "scatter3d": [
           {
            "line": {
             "colorbar": {
              "outlinewidth": 0,
              "ticks": ""
             }
            },
            "marker": {
             "colorbar": {
              "outlinewidth": 0,
              "ticks": ""
             }
            },
            "type": "scatter3d"
           }
          ],
          "scattercarpet": [
           {
            "marker": {
             "colorbar": {
              "outlinewidth": 0,
              "ticks": ""
             }
            },
            "type": "scattercarpet"
           }
          ],
          "scattergeo": [
           {
            "marker": {
             "colorbar": {
              "outlinewidth": 0,
              "ticks": ""
             }
            },
            "type": "scattergeo"
           }
          ],
          "scattergl": [
           {
            "marker": {
             "line": {
              "color": "#283442"
             }
            },
            "type": "scattergl"
           }
          ],
          "scattermapbox": [
           {
            "marker": {
             "colorbar": {
              "outlinewidth": 0,
              "ticks": ""
             }
            },
            "type": "scattermapbox"
           }
          ],
          "scatterpolar": [
           {
            "marker": {
             "colorbar": {
              "outlinewidth": 0,
              "ticks": ""
             }
            },
            "type": "scatterpolar"
           }
          ],
          "scatterpolargl": [
           {
            "marker": {
             "colorbar": {
              "outlinewidth": 0,
              "ticks": ""
             }
            },
            "type": "scatterpolargl"
           }
          ],
          "scatterternary": [
           {
            "marker": {
             "colorbar": {
              "outlinewidth": 0,
              "ticks": ""
             }
            },
            "type": "scatterternary"
           }
          ],
          "surface": [
           {
            "colorbar": {
             "outlinewidth": 0,
             "ticks": ""
            },
            "colorscale": [
             [
              0,
              "#0d0887"
             ],
             [
              0.1111111111111111,
              "#46039f"
             ],
             [
              0.2222222222222222,
              "#7201a8"
             ],
             [
              0.3333333333333333,
              "#9c179e"
             ],
             [
              0.4444444444444444,
              "#bd3786"
             ],
             [
              0.5555555555555556,
              "#d8576b"
             ],
             [
              0.6666666666666666,
              "#ed7953"
             ],
             [
              0.7777777777777778,
              "#fb9f3a"
             ],
             [
              0.8888888888888888,
              "#fdca26"
             ],
             [
              1,
              "#f0f921"
             ]
            ],
            "type": "surface"
           }
          ],
          "table": [
           {
            "cells": {
             "fill": {
              "color": "#506784"
             },
             "line": {
              "color": "rgb(17,17,17)"
             }
            },
            "header": {
             "fill": {
              "color": "#2a3f5f"
             },
             "line": {
              "color": "rgb(17,17,17)"
             }
            },
            "type": "table"
           }
          ]
         },
         "layout": {
          "annotationdefaults": {
           "arrowcolor": "#f2f5fa",
           "arrowhead": 0,
           "arrowwidth": 1
          },
          "autotypenumbers": "strict",
          "coloraxis": {
           "colorbar": {
            "outlinewidth": 0,
            "ticks": ""
           }
          },
          "colorscale": {
           "diverging": [
            [
             0,
             "#8e0152"
            ],
            [
             0.1,
             "#c51b7d"
            ],
            [
             0.2,
             "#de77ae"
            ],
            [
             0.3,
             "#f1b6da"
            ],
            [
             0.4,
             "#fde0ef"
            ],
            [
             0.5,
             "#f7f7f7"
            ],
            [
             0.6,
             "#e6f5d0"
            ],
            [
             0.7,
             "#b8e186"
            ],
            [
             0.8,
             "#7fbc41"
            ],
            [
             0.9,
             "#4d9221"
            ],
            [
             1,
             "#276419"
            ]
           ],
           "sequential": [
            [
             0,
             "#0d0887"
            ],
            [
             0.1111111111111111,
             "#46039f"
            ],
            [
             0.2222222222222222,
             "#7201a8"
            ],
            [
             0.3333333333333333,
             "#9c179e"
            ],
            [
             0.4444444444444444,
             "#bd3786"
            ],
            [
             0.5555555555555556,
             "#d8576b"
            ],
            [
             0.6666666666666666,
             "#ed7953"
            ],
            [
             0.7777777777777778,
             "#fb9f3a"
            ],
            [
             0.8888888888888888,
             "#fdca26"
            ],
            [
             1,
             "#f0f921"
            ]
           ],
           "sequentialminus": [
            [
             0,
             "#0d0887"
            ],
            [
             0.1111111111111111,
             "#46039f"
            ],
            [
             0.2222222222222222,
             "#7201a8"
            ],
            [
             0.3333333333333333,
             "#9c179e"
            ],
            [
             0.4444444444444444,
             "#bd3786"
            ],
            [
             0.5555555555555556,
             "#d8576b"
            ],
            [
             0.6666666666666666,
             "#ed7953"
            ],
            [
             0.7777777777777778,
             "#fb9f3a"
            ],
            [
             0.8888888888888888,
             "#fdca26"
            ],
            [
             1,
             "#f0f921"
            ]
           ]
          },
          "colorway": [
           "#636efa",
           "#EF553B",
           "#00cc96",
           "#ab63fa",
           "#FFA15A",
           "#19d3f3",
           "#FF6692",
           "#B6E880",
           "#FF97FF",
           "#FECB52"
          ],
          "font": {
           "color": "#f2f5fa"
          },
          "geo": {
           "bgcolor": "rgb(17,17,17)",
           "lakecolor": "rgb(17,17,17)",
           "landcolor": "rgb(17,17,17)",
           "showlakes": true,
           "showland": true,
           "subunitcolor": "#506784"
          },
          "hoverlabel": {
           "align": "left"
          },
          "hovermode": "closest",
          "mapbox": {
           "style": "dark"
          },
          "paper_bgcolor": "rgb(17,17,17)",
          "plot_bgcolor": "rgb(17,17,17)",
          "polar": {
           "angularaxis": {
            "gridcolor": "#506784",
            "linecolor": "#506784",
            "ticks": ""
           },
           "bgcolor": "rgb(17,17,17)",
           "radialaxis": {
            "gridcolor": "#506784",
            "linecolor": "#506784",
            "ticks": ""
           }
          },
          "scene": {
           "xaxis": {
            "backgroundcolor": "rgb(17,17,17)",
            "gridcolor": "#506784",
            "gridwidth": 2,
            "linecolor": "#506784",
            "showbackground": true,
            "ticks": "",
            "zerolinecolor": "#C8D4E3"
           },
           "yaxis": {
            "backgroundcolor": "rgb(17,17,17)",
            "gridcolor": "#506784",
            "gridwidth": 2,
            "linecolor": "#506784",
            "showbackground": true,
            "ticks": "",
            "zerolinecolor": "#C8D4E3"
           },
           "zaxis": {
            "backgroundcolor": "rgb(17,17,17)",
            "gridcolor": "#506784",
            "gridwidth": 2,
            "linecolor": "#506784",
            "showbackground": true,
            "ticks": "",
            "zerolinecolor": "#C8D4E3"
           }
          },
          "shapedefaults": {
           "line": {
            "color": "#f2f5fa"
           }
          },
          "sliderdefaults": {
           "bgcolor": "#C8D4E3",
           "bordercolor": "rgb(17,17,17)",
           "borderwidth": 1,
           "tickwidth": 0
          },
          "ternary": {
           "aaxis": {
            "gridcolor": "#506784",
            "linecolor": "#506784",
            "ticks": ""
           },
           "baxis": {
            "gridcolor": "#506784",
            "linecolor": "#506784",
            "ticks": ""
           },
           "bgcolor": "rgb(17,17,17)",
           "caxis": {
            "gridcolor": "#506784",
            "linecolor": "#506784",
            "ticks": ""
           }
          },
          "title": {
           "x": 0.05
          },
          "updatemenudefaults": {
           "bgcolor": "#506784",
           "borderwidth": 0
          },
          "xaxis": {
           "automargin": true,
           "gridcolor": "#283442",
           "linecolor": "#506784",
           "ticks": "",
           "title": {
            "standoff": 15
           },
           "zerolinecolor": "#283442",
           "zerolinewidth": 2
          },
          "yaxis": {
           "automargin": true,
           "gridcolor": "#283442",
           "linecolor": "#506784",
           "ticks": "",
           "title": {
            "standoff": 15
           },
           "zerolinecolor": "#283442",
           "zerolinewidth": 2
          }
         }
        },
        "title": {
         "text": "Kluster Kota Administrasi"
        },
        "xaxis": {
         "anchor": "y",
         "domain": [
          0,
          1
         ],
         "title": {
          "text": "ketinggian_air_num"
         }
        },
        "yaxis": {
         "anchor": "x",
         "domain": [
          0,
          1
         ],
         "title": {
          "text": "jumlah_terdampak_jiwa"
         }
        }
       }
      }
     },
     "metadata": {},
     "output_type": "display_data"
    }
   ],
   "source": [
    "features = ['ketinggian_air_num', 'jumlah_terdampak_jiwa', 'lama_genangan']\n",
    "X = kota_cluster[features]\n",
    "\n",
    "# Normalisasi data \n",
    "# kota_cluster[features] = (kota_cluster[features] - kota_cluster[features].mean()) / kota_cluster[features].std()\n",
    "\n",
    "# scaler = MinMaxScaler()\n",
    "# X_scaled = scaler.fit_transform(X)\n",
    "\n",
    "\n",
    "# # Menentukan jumlah kluster yang optimal menggunakan metode Elbow\n",
    "# inertia = []\n",
    "# for i in range(1, len(kota_cluster_scaler) + 1):  # Use the number of samples as the upper limit\n",
    "#     kmeans = KMeans(n_clusters=i, random_state=42, n_init=10)\n",
    "#     kmeans.fit(X_scaled)\n",
    "#     inertia.append(kmeans.inertia_)\n",
    "\n",
    "# # Plot grafik Elbow\n",
    "# plt.figure(figsize=(8, 6))\n",
    "# plt.plot(range(1, len(kota_cluster_scaler) + 1), inertia, marker='o', linestyle='--')\n",
    "# plt.title('Metode Elbow untuk Menentukan Jumlah Kluster')\n",
    "# plt.xlabel('Jumlah Kluster')\n",
    "# plt.ylabel('Inertia')\n",
    "# plt.grid()\n",
    "# plt.show()\n",
    "\n",
    "\n",
    "# jumlah kluster\n",
    "kmeans = KMeans(n_clusters=3, random_state=42, n_init=10)\n",
    "kota_cluster['cluster'] = kmeans.fit_predict(X)\n",
    "\n",
    "# Buat scatter plot\n",
    "fig = px.scatter(kota_cluster, x='ketinggian_air_num', y='jumlah_terdampak_jiwa', color='cluster', \n",
    "                 title='Kluster Kota Administrasi')\n",
    "\n",
    "fig.update_layout(template='plotly_dark')\n",
    "\n",
    "fig.show()"
   ]
  },
  {
   "cell_type": "code",
   "execution_count": 287,
   "metadata": {},
   "outputs": [
    {
     "data": {
      "text/html": [
       "<div>\n",
       "<style scoped>\n",
       "    .dataframe tbody tr th:only-of-type {\n",
       "        vertical-align: middle;\n",
       "    }\n",
       "\n",
       "    .dataframe tbody tr th {\n",
       "        vertical-align: top;\n",
       "    }\n",
       "\n",
       "    .dataframe thead th {\n",
       "        text-align: right;\n",
       "    }\n",
       "</style>\n",
       "<table border=\"1\" class=\"dataframe\">\n",
       "  <thead>\n",
       "    <tr style=\"text-align: right;\">\n",
       "      <th></th>\n",
       "      <th>ketinggian_air_num</th>\n",
       "      <th>jumlah_terdampak_jiwa</th>\n",
       "      <th>lama_genangan</th>\n",
       "      <th>cluster</th>\n",
       "    </tr>\n",
       "    <tr>\n",
       "      <th>kota_administrasi</th>\n",
       "      <th></th>\n",
       "      <th></th>\n",
       "      <th></th>\n",
       "      <th></th>\n",
       "    </tr>\n",
       "  </thead>\n",
       "  <tbody>\n",
       "    <tr>\n",
       "      <th>Jakarta Barat</th>\n",
       "      <td>37.000000</td>\n",
       "      <td>113.458101</td>\n",
       "      <td>0.033520</td>\n",
       "      <td>1</td>\n",
       "    </tr>\n",
       "    <tr>\n",
       "      <th>Jakarta Pusat</th>\n",
       "      <td>34.081081</td>\n",
       "      <td>82.108108</td>\n",
       "      <td>0.108108</td>\n",
       "      <td>1</td>\n",
       "    </tr>\n",
       "    <tr>\n",
       "      <th>Jakarta Selatan</th>\n",
       "      <td>46.118705</td>\n",
       "      <td>92.136691</td>\n",
       "      <td>0.010791</td>\n",
       "      <td>1</td>\n",
       "    </tr>\n",
       "    <tr>\n",
       "      <th>Jakarta Timur</th>\n",
       "      <td>45.540816</td>\n",
       "      <td>275.180758</td>\n",
       "      <td>0.014577</td>\n",
       "      <td>0</td>\n",
       "    </tr>\n",
       "    <tr>\n",
       "      <th>Jakarta Utara</th>\n",
       "      <td>30.445205</td>\n",
       "      <td>108.452055</td>\n",
       "      <td>0.013699</td>\n",
       "      <td>1</td>\n",
       "    </tr>\n",
       "    <tr>\n",
       "      <th>Kepulauan Seribu</th>\n",
       "      <td>18.958333</td>\n",
       "      <td>0.000000</td>\n",
       "      <td>0.000000</td>\n",
       "      <td>2</td>\n",
       "    </tr>\n",
       "  </tbody>\n",
       "</table>\n",
       "</div>"
      ],
      "text/plain": [
       "                   ketinggian_air_num  jumlah_terdampak_jiwa  lama_genangan  \\\n",
       "kota_administrasi                                                             \n",
       "Jakarta Barat               37.000000             113.458101       0.033520   \n",
       "Jakarta Pusat               34.081081              82.108108       0.108108   \n",
       "Jakarta Selatan             46.118705              92.136691       0.010791   \n",
       "Jakarta Timur               45.540816             275.180758       0.014577   \n",
       "Jakarta Utara               30.445205             108.452055       0.013699   \n",
       "Kepulauan Seribu            18.958333               0.000000       0.000000   \n",
       "\n",
       "                   cluster  \n",
       "kota_administrasi           \n",
       "Jakarta Barat            1  \n",
       "Jakarta Pusat            1  \n",
       "Jakarta Selatan          1  \n",
       "Jakarta Timur            0  \n",
       "Jakarta Utara            1  \n",
       "Kepulauan Seribu         2  "
      ]
     },
     "execution_count": 287,
     "metadata": {},
     "output_type": "execute_result"
    }
   ],
   "source": [
    "kota_cluster"
   ]
  },
  {
   "cell_type": "code",
   "execution_count": 288,
   "metadata": {},
   "outputs": [],
   "source": [
    "mapping = {0: 'tinggi', 1: 'sedang', 2: 'rendah'}\n",
    "\n",
    "kota_cluster['cluster'] = kota_cluster['cluster'].replace(mapping)"
   ]
  },
  {
   "cell_type": "code",
   "execution_count": 289,
   "metadata": {},
   "outputs": [
    {
     "data": {
      "text/html": [
       "<div>\n",
       "<style scoped>\n",
       "    .dataframe tbody tr th:only-of-type {\n",
       "        vertical-align: middle;\n",
       "    }\n",
       "\n",
       "    .dataframe tbody tr th {\n",
       "        vertical-align: top;\n",
       "    }\n",
       "\n",
       "    .dataframe thead th {\n",
       "        text-align: right;\n",
       "    }\n",
       "</style>\n",
       "<table border=\"1\" class=\"dataframe\">\n",
       "  <thead>\n",
       "    <tr style=\"text-align: right;\">\n",
       "      <th></th>\n",
       "      <th>ketinggian_air_num</th>\n",
       "      <th>jumlah_terdampak_jiwa</th>\n",
       "      <th>lama_genangan</th>\n",
       "      <th>cluster</th>\n",
       "    </tr>\n",
       "    <tr>\n",
       "      <th>kota_administrasi</th>\n",
       "      <th></th>\n",
       "      <th></th>\n",
       "      <th></th>\n",
       "      <th></th>\n",
       "    </tr>\n",
       "  </thead>\n",
       "  <tbody>\n",
       "    <tr>\n",
       "      <th>Kepulauan Seribu</th>\n",
       "      <td>18.958333</td>\n",
       "      <td>0.000000</td>\n",
       "      <td>0.000000</td>\n",
       "      <td>rendah</td>\n",
       "    </tr>\n",
       "    <tr>\n",
       "      <th>Jakarta Barat</th>\n",
       "      <td>37.000000</td>\n",
       "      <td>113.458101</td>\n",
       "      <td>0.033520</td>\n",
       "      <td>sedang</td>\n",
       "    </tr>\n",
       "    <tr>\n",
       "      <th>Jakarta Pusat</th>\n",
       "      <td>34.081081</td>\n",
       "      <td>82.108108</td>\n",
       "      <td>0.108108</td>\n",
       "      <td>sedang</td>\n",
       "    </tr>\n",
       "    <tr>\n",
       "      <th>Jakarta Selatan</th>\n",
       "      <td>46.118705</td>\n",
       "      <td>92.136691</td>\n",
       "      <td>0.010791</td>\n",
       "      <td>sedang</td>\n",
       "    </tr>\n",
       "    <tr>\n",
       "      <th>Jakarta Utara</th>\n",
       "      <td>30.445205</td>\n",
       "      <td>108.452055</td>\n",
       "      <td>0.013699</td>\n",
       "      <td>sedang</td>\n",
       "    </tr>\n",
       "    <tr>\n",
       "      <th>Jakarta Timur</th>\n",
       "      <td>45.540816</td>\n",
       "      <td>275.180758</td>\n",
       "      <td>0.014577</td>\n",
       "      <td>tinggi</td>\n",
       "    </tr>\n",
       "  </tbody>\n",
       "</table>\n",
       "</div>"
      ],
      "text/plain": [
       "                   ketinggian_air_num  jumlah_terdampak_jiwa  lama_genangan  \\\n",
       "kota_administrasi                                                             \n",
       "Kepulauan Seribu            18.958333               0.000000       0.000000   \n",
       "Jakarta Barat               37.000000             113.458101       0.033520   \n",
       "Jakarta Pusat               34.081081              82.108108       0.108108   \n",
       "Jakarta Selatan             46.118705              92.136691       0.010791   \n",
       "Jakarta Utara               30.445205             108.452055       0.013699   \n",
       "Jakarta Timur               45.540816             275.180758       0.014577   \n",
       "\n",
       "                  cluster  \n",
       "kota_administrasi          \n",
       "Kepulauan Seribu   rendah  \n",
       "Jakarta Barat      sedang  \n",
       "Jakarta Pusat      sedang  \n",
       "Jakarta Selatan    sedang  \n",
       "Jakarta Utara      sedang  \n",
       "Jakarta Timur      tinggi  "
      ]
     },
     "execution_count": 289,
     "metadata": {},
     "output_type": "execute_result"
    }
   ],
   "source": [
    "kota_cluster.sort_values(by='cluster', ascending=True)"
   ]
  },
  {
   "attachments": {},
   "cell_type": "markdown",
   "metadata": {},
   "source": [
    "# INDEXING"
   ]
  },
  {
   "cell_type": "code",
   "execution_count": 290,
   "metadata": {},
   "outputs": [
    {
     "name": "stdout",
     "output_type": "stream",
     "text": [
      "Wilayah yang Paling Terdampak oleh Banjir:\n",
      "    kota_administrasi   kecamatan           kelurahan  indeks_dampak_banjir\n",
      "299     Jakarta Timur     MAKASAR     CIPINANG MELAYU                7937.0\n",
      "312     Jakarta Timur  PULOGADUNG          KAYU PUTIH                4539.0\n",
      "25      Jakarta Barat  CENGKARENG               KAPUK                4461.0\n",
      "83    Jakarta Selatan    PANCORAN            KALIBATA                3615.0\n",
      "26      Jakarta Barat  CENGKARENG  KEDAUNG KALI ANGKE                2804.0\n"
     ]
    }
   ],
   "source": [
    "# Pilih variabel yang akan digunakan untuk membuat indeks (misalnya jumlah_terdampak_jiwa, nilai_kerugian, dan jumlah_tempat_pengungsian)\n",
    "merged_df['indeks_dampak_banjir'] = (merged_df['jumlah_terdampak_jiwa'] + merged_df['jumlah_luka_ringan']) / 2\n",
    "\n",
    "wilayah_terdampak = merged_df.sort_values(by='indeks_dampak_banjir', ascending=False)\n",
    "\n",
    "# wilayah-wilayah yang paling terdampak\n",
    "print(\"Wilayah yang Paling Terdampak oleh Banjir:\")\n",
    "print(wilayah_terdampak[['kota_administrasi', 'kecamatan', 'kelurahan', 'indeks_dampak_banjir']].head())\n"
   ]
  },
  {
   "attachments": {},
   "cell_type": "markdown",
   "metadata": {},
   "source": [
    "https://www.tribunnews.com/metropolitan/2020/01/01/titik-banjir-terbanyak-di-jakarta-timur-warga-sebut-ini-banjir-terparah-selama-7-tahun-terakhir"
   ]
  },
  {
   "attachments": {
    "image.png": {
     "image/png": "[encoded data removed]"
    }
   },
   "cell_type": "markdown",
   "metadata": {},
   "source": [
    "![image.png](attachment:image.png)"
   ]
  }
 ],
 "metadata": {
  "kernelspec": {
   "display_name": "Python 3",
   "language": "python",
   "name": "python3"
  },
  "language_info": {
   "codemirror_mode": {
    "name": "ipython",
    "version": 3
   },
   "file_extension": ".py",
   "mimetype": "text/x-python",
   "name": "python",
   "nbconvert_exporter": "python",
   "pygments_lexer": "ipython3",
   "version": "3.10.8"
  },
  "orig_nbformat": 4
 },
 "nbformat": 4,
 "nbformat_minor": 2
}
